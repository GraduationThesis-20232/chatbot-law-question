{
 "cells": [
  {
   "cell_type": "code",
   "execution_count": 1,
   "metadata": {
    "collapsed": true,
    "ExecuteTime": {
     "start_time": "2024-06-08T02:17:14.310114Z",
     "end_time": "2024-06-08T02:17:15.681818Z"
    }
   },
   "outputs": [],
   "source": [
    "from pymongo import MongoClient\n",
    "import pandas as pd\n",
    "import numpy as np\n",
    "from text_untils import *\n",
    "import json"
   ]
  },
  {
   "cell_type": "code",
   "execution_count": 2,
   "outputs": [],
   "source": [
    "def getQuestions(database, collection):\n",
    "    client = MongoClient('mongodb://localhost:27017/')\n",
    "    db = client[database]\n",
    "    cl = db[collection]\n",
    "\n",
    "    pipeline = [\n",
    "        {\n",
    "            \"$match\": {\n",
    "                \"title\": {\"$nin\": [None, \"\"]},\n",
    "                \"quote.content\": {\"$exists\": True, \"$not\": {\"$size\": 0}}\n",
    "            }\n",
    "        }\n",
    "    ]\n",
    "    docs = list(cl.aggregate(pipeline))\n",
    "    # client.close()\n",
    "    return docs"
   ],
   "metadata": {
    "collapsed": false,
    "ExecuteTime": {
     "start_time": "2024-06-08T02:17:15.684897Z",
     "end_time": "2024-06-08T02:17:15.688424Z"
    }
   }
  },
  {
   "cell_type": "code",
   "execution_count": 3,
   "outputs": [],
   "source": [
    "documents = getQuestions('lawlaboratory', 'questions')"
   ],
   "metadata": {
    "collapsed": false,
    "ExecuteTime": {
     "start_time": "2024-06-08T02:17:15.688424Z",
     "end_time": "2024-06-08T02:17:18.983548Z"
    }
   }
  },
  {
   "cell_type": "code",
   "execution_count": 4,
   "outputs": [
    {
     "name": "stdout",
     "output_type": "stream",
     "text": [
      "<class 'pandas.core.frame.DataFrame'>\n",
      "RangeIndex: 63817 entries, 0 to 63816\n",
      "Data columns (total 8 columns):\n",
      " #   Column       Non-Null Count  Dtype \n",
      "---  ------       --------------  ----- \n",
      " 0   _id          63817 non-null  object\n",
      " 1   title        63817 non-null  object\n",
      " 2   date_answer  63817 non-null  object\n",
      " 3   field        63817 non-null  object\n",
      " 4   source_url   63817 non-null  object\n",
      " 5   reference    63817 non-null  object\n",
      " 6   quote        63817 non-null  object\n",
      " 7   conclusion   63817 non-null  object\n",
      "dtypes: object(8)\n",
      "memory usage: 3.9+ MB\n"
     ]
    }
   ],
   "source": [
    "df = pd.DataFrame(documents)\n",
    "df.info()"
   ],
   "metadata": {
    "collapsed": false,
    "ExecuteTime": {
     "start_time": "2024-06-08T02:17:19.069629Z",
     "end_time": "2024-06-08T02:17:19.154924Z"
    }
   }
  },
  {
   "cell_type": "code",
   "execution_count": 5,
   "outputs": [],
   "source": [
    "keywords = [\"Thông tư\", \"Quyết định\", \"Quy định\", \"Nghị định\"]\n",
    "\n",
    "def contains_keywords(text, keywords):\n",
    "    return any(keyword in text for keyword in keywords)"
   ],
   "metadata": {
    "collapsed": false,
    "ExecuteTime": {
     "start_time": "2024-06-08T02:17:19.152694Z",
     "end_time": "2024-06-08T02:17:19.169945Z"
    }
   }
  },
  {
   "cell_type": "code",
   "execution_count": 6,
   "outputs": [],
   "source": [
    "df = df[~df['reference'].apply(lambda x: contains_keywords(str(x), keywords))]"
   ],
   "metadata": {
    "collapsed": false,
    "ExecuteTime": {
     "start_time": "2024-06-08T02:17:19.158938Z",
     "end_time": "2024-06-08T02:17:19.272591Z"
    }
   }
  },
  {
   "cell_type": "code",
   "execution_count": 7,
   "outputs": [],
   "source": [
    "df = df[df['reference'].str.contains('Luật', case=False, na=False)]"
   ],
   "metadata": {
    "collapsed": false,
    "ExecuteTime": {
     "start_time": "2024-06-08T02:17:19.273601Z",
     "end_time": "2024-06-08T02:17:19.337484Z"
    }
   }
  },
  {
   "cell_type": "code",
   "execution_count": 8,
   "outputs": [
    {
     "name": "stdout",
     "output_type": "stream",
     "text": [
      "<class 'pandas.core.frame.DataFrame'>\n",
      "Index: 24647 entries, 0 to 63814\n",
      "Data columns (total 8 columns):\n",
      " #   Column       Non-Null Count  Dtype \n",
      "---  ------       --------------  ----- \n",
      " 0   _id          24647 non-null  object\n",
      " 1   title        24647 non-null  object\n",
      " 2   date_answer  24647 non-null  object\n",
      " 3   field        24647 non-null  object\n",
      " 4   source_url   24647 non-null  object\n",
      " 5   reference    24647 non-null  object\n",
      " 6   quote        24647 non-null  object\n",
      " 7   conclusion   24647 non-null  object\n",
      "dtypes: object(8)\n",
      "memory usage: 1.7+ MB\n"
     ]
    }
   ],
   "source": [
    "df.info()"
   ],
   "metadata": {
    "collapsed": false,
    "ExecuteTime": {
     "start_time": "2024-06-08T02:17:19.350487Z",
     "end_time": "2024-06-08T02:17:19.359611Z"
    }
   }
  },
  {
   "cell_type": "code",
   "execution_count": 9,
   "outputs": [],
   "source": [
    "df.drop(columns=['quote', 'conclusion', 'date_answer', 'field', 'source_url'], inplace=True)"
   ],
   "metadata": {
    "collapsed": false,
    "ExecuteTime": {
     "start_time": "2024-06-08T02:17:19.359611Z",
     "end_time": "2024-06-08T02:17:19.416426Z"
    }
   }
  },
  {
   "cell_type": "code",
   "execution_count": 10,
   "outputs": [
    {
     "data": {
      "text/plain": "                            _id  \\\n16605  66635665c2f544363eeb2d3c   \n10015  66635715c2f544363eed9e59   \n4307   66635725c2f544363eee1201   \n11381  66635707c2f544363eed5361   \n5359   66635714c2f544363eed8c66   \n\n                                                   title  \\\n16605  Quyền và nghĩa vụ của tổ chức đấu giá tài sản ...   \n10015  Lao động nam có được hưởng chế độ thai sản khi...   \n4307   Có được chuyển đất phi nông nghiệp không thu t...   \n11381  Nghĩa vụ của tổ chức hành nghề luật sư gồm nhữ...   \n5359   Căn cứ để xác định mức độ hoàn thành công việc...   \n\n                                               reference  \n16605  Tại Điều 24 Luật Đấu giá tài sản 2016 quyền và...  \n10015  Tại Điều 31 Luật Bảo hiểm xã hội 2014 có quy đ...  \n4307   Căn cứ theo Điều 57 Luật Đất đai 2013 quy định...  \n11381  Căn cứ quy định Điều 40 Luật Luật sư 2006 quy ...  \n5359   Căn cứ quy định khoản 1 Điều 36 Bộ luật Lao độ...  ",
      "text/html": "<div>\n<style scoped>\n    .dataframe tbody tr th:only-of-type {\n        vertical-align: middle;\n    }\n\n    .dataframe tbody tr th {\n        vertical-align: top;\n    }\n\n    .dataframe thead th {\n        text-align: right;\n    }\n</style>\n<table border=\"1\" class=\"dataframe\">\n  <thead>\n    <tr style=\"text-align: right;\">\n      <th></th>\n      <th>_id</th>\n      <th>title</th>\n      <th>reference</th>\n    </tr>\n  </thead>\n  <tbody>\n    <tr>\n      <th>16605</th>\n      <td>66635665c2f544363eeb2d3c</td>\n      <td>Quyền và nghĩa vụ của tổ chức đấu giá tài sản ...</td>\n      <td>Tại Điều 24 Luật Đấu giá tài sản 2016 quyền và...</td>\n    </tr>\n    <tr>\n      <th>10015</th>\n      <td>66635715c2f544363eed9e59</td>\n      <td>Lao động nam có được hưởng chế độ thai sản khi...</td>\n      <td>Tại Điều 31 Luật Bảo hiểm xã hội 2014 có quy đ...</td>\n    </tr>\n    <tr>\n      <th>4307</th>\n      <td>66635725c2f544363eee1201</td>\n      <td>Có được chuyển đất phi nông nghiệp không thu t...</td>\n      <td>Căn cứ theo Điều 57 Luật Đất đai 2013 quy định...</td>\n    </tr>\n    <tr>\n      <th>11381</th>\n      <td>66635707c2f544363eed5361</td>\n      <td>Nghĩa vụ của tổ chức hành nghề luật sư gồm nhữ...</td>\n      <td>Căn cứ quy định Điều 40 Luật Luật sư 2006 quy ...</td>\n    </tr>\n    <tr>\n      <th>5359</th>\n      <td>66635714c2f544363eed8c66</td>\n      <td>Căn cứ để xác định mức độ hoàn thành công việc...</td>\n      <td>Căn cứ quy định khoản 1 Điều 36 Bộ luật Lao độ...</td>\n    </tr>\n  </tbody>\n</table>\n</div>"
     },
     "execution_count": 10,
     "metadata": {},
     "output_type": "execute_result"
    }
   ],
   "source": [
    "df.reset_index(drop=True, inplace=True)\n",
    "df.sample(5)"
   ],
   "metadata": {
    "collapsed": false,
    "ExecuteTime": {
     "start_time": "2024-06-08T02:17:19.370276Z",
     "end_time": "2024-06-08T02:17:19.417428Z"
    }
   }
  },
  {
   "cell_type": "code",
   "execution_count": 11,
   "outputs": [
    {
     "data": {
      "text/plain": "                            _id  \\\n407    66635754c2f544363eef15d7   \n14743  66635676c2f544363eebb5e7   \n5517   6663568bc2f544363eebeac0   \n10300  66635777c2f544363eefe667   \n16452  66635705c2f544363eed3726   \n\n                                                   title  \\\n407    3. Người cao tuổi được hưởng chính sách bảo tr...   \n14743  Như thế nào là hiếp dâm theo quy định của Điều...   \n5517   Cơ quan nào có thẩm quyền cấp chứng chỉ hành n...   \n10300  Làm giả chứng chỉ ngoại ngữ để được ra trường ...   \n16452            Quyền của bên mua bảo hiểm như thế nào?   \n\n                                               reference article_index_arr  \\\n407    Theo Điều 17 Luật người cao tuổi 2009 quy định...              [17]   \n14743  Căn cứ tại khoản 1 Điều 141 Bộ luật Hình sự 20...          [141, 1]   \n5517   Căn cứ theo khoản 1 Điều 109 Luật Thú y 2015 q...             [109]   \n10300  Tại Khoản 126 Điều 1 Luật sửa đổi Bộ luật Hình...               [1]   \n16452  Tại khoản 1 Điều 21 Luật Kinh doanh bảo hiểm 2...              [21]   \n\n      clause_arr                                     law_name_arr  \\\n407       [None]                            [Luật người cao tuổi]   \n14743    [1, 23]  [Bộ luật Hình sự, Luật Sửa đổi Bộ luật Hình sự]   \n5517         [1]                                     [Luật Thú y]   \n10300     [None]                   [Luật sửa đổi Bộ luật Hình sự]   \n16452        [1]                       [Luật Kinh doanh bảo hiểm]   \n\n           year_arr  \n407          [2009]  \n14743  [2015, 2017]  \n5517         [2015]  \n10300        [2017]  \n16452        [2022]  ",
      "text/html": "<div>\n<style scoped>\n    .dataframe tbody tr th:only-of-type {\n        vertical-align: middle;\n    }\n\n    .dataframe tbody tr th {\n        vertical-align: top;\n    }\n\n    .dataframe thead th {\n        text-align: right;\n    }\n</style>\n<table border=\"1\" class=\"dataframe\">\n  <thead>\n    <tr style=\"text-align: right;\">\n      <th></th>\n      <th>_id</th>\n      <th>title</th>\n      <th>reference</th>\n      <th>article_index_arr</th>\n      <th>clause_arr</th>\n      <th>law_name_arr</th>\n      <th>year_arr</th>\n    </tr>\n  </thead>\n  <tbody>\n    <tr>\n      <th>407</th>\n      <td>66635754c2f544363eef15d7</td>\n      <td>3. Người cao tuổi được hưởng chính sách bảo tr...</td>\n      <td>Theo Điều 17 Luật người cao tuổi 2009 quy định...</td>\n      <td>[17]</td>\n      <td>[None]</td>\n      <td>[Luật người cao tuổi]</td>\n      <td>[2009]</td>\n    </tr>\n    <tr>\n      <th>14743</th>\n      <td>66635676c2f544363eebb5e7</td>\n      <td>Như thế nào là hiếp dâm theo quy định của Điều...</td>\n      <td>Căn cứ tại khoản 1 Điều 141 Bộ luật Hình sự 20...</td>\n      <td>[141, 1]</td>\n      <td>[1, 23]</td>\n      <td>[Bộ luật Hình sự, Luật Sửa đổi Bộ luật Hình sự]</td>\n      <td>[2015, 2017]</td>\n    </tr>\n    <tr>\n      <th>5517</th>\n      <td>6663568bc2f544363eebeac0</td>\n      <td>Cơ quan nào có thẩm quyền cấp chứng chỉ hành n...</td>\n      <td>Căn cứ theo khoản 1 Điều 109 Luật Thú y 2015 q...</td>\n      <td>[109]</td>\n      <td>[1]</td>\n      <td>[Luật Thú y]</td>\n      <td>[2015]</td>\n    </tr>\n    <tr>\n      <th>10300</th>\n      <td>66635777c2f544363eefe667</td>\n      <td>Làm giả chứng chỉ ngoại ngữ để được ra trường ...</td>\n      <td>Tại Khoản 126 Điều 1 Luật sửa đổi Bộ luật Hình...</td>\n      <td>[1]</td>\n      <td>[None]</td>\n      <td>[Luật sửa đổi Bộ luật Hình sự]</td>\n      <td>[2017]</td>\n    </tr>\n    <tr>\n      <th>16452</th>\n      <td>66635705c2f544363eed3726</td>\n      <td>Quyền của bên mua bảo hiểm như thế nào?</td>\n      <td>Tại khoản 1 Điều 21 Luật Kinh doanh bảo hiểm 2...</td>\n      <td>[21]</td>\n      <td>[1]</td>\n      <td>[Luật Kinh doanh bảo hiểm]</td>\n      <td>[2022]</td>\n    </tr>\n  </tbody>\n</table>\n</div>"
     },
     "execution_count": 11,
     "metadata": {},
     "output_type": "execute_result"
    }
   ],
   "source": [
    "import re\n",
    "\n",
    "pattern = r\"(?:khoản (\\d+)\\s)?Điều (\\d+)\\s(.+?)\\s(\\d{4})\"\n",
    "\n",
    "def extract_law_info(reference):\n",
    "    matches = re.findall(pattern, reference)\n",
    "    article_indices = []\n",
    "    clauses = []\n",
    "    law_names = []\n",
    "    years = []\n",
    "    for match in matches:\n",
    "        clause = match[0]\n",
    "        article_index = match[1]\n",
    "        law_name = match[2]\n",
    "        year = match[3]\n",
    "\n",
    "        if clause:\n",
    "            clauses.append(int(clause))\n",
    "        else:\n",
    "            clauses.append(None)\n",
    "\n",
    "        article_indices.append(int(article_index))\n",
    "        law_names.append(law_name.strip())\n",
    "        years.append(int(year))\n",
    "\n",
    "    return article_indices, clauses, law_names, years\n",
    "\n",
    "df[['article_index_arr', 'clause_arr', 'law_name_arr', 'year_arr']] = df['reference'].apply(lambda x: pd.Series(extract_law_info(str(x))))\n",
    "\n",
    "df.sample(5)"
   ],
   "metadata": {
    "collapsed": false,
    "ExecuteTime": {
     "start_time": "2024-06-08T02:17:19.392427Z",
     "end_time": "2024-06-08T02:17:22.276951Z"
    }
   }
  },
  {
   "cell_type": "code",
   "execution_count": 12,
   "outputs": [],
   "source": [
    "def check_article_index(article_index):\n",
    "    return len(article_index) != 0\n",
    "\n",
    "df = df[df['article_index_arr'].apply(check_article_index)]"
   ],
   "metadata": {
    "collapsed": false,
    "ExecuteTime": {
     "start_time": "2024-06-08T02:17:22.283952Z",
     "end_time": "2024-06-08T02:17:22.293499Z"
    }
   }
  },
  {
   "cell_type": "code",
   "execution_count": 13,
   "outputs": [
    {
     "name": "stdout",
     "output_type": "stream",
     "text": [
      "<class 'pandas.core.frame.DataFrame'>\n",
      "Index: 24073 entries, 0 to 24646\n",
      "Data columns (total 7 columns):\n",
      " #   Column             Non-Null Count  Dtype \n",
      "---  ------             --------------  ----- \n",
      " 0   _id                24073 non-null  object\n",
      " 1   title              24073 non-null  object\n",
      " 2   reference          24073 non-null  object\n",
      " 3   article_index_arr  24073 non-null  object\n",
      " 4   clause_arr         24073 non-null  object\n",
      " 5   law_name_arr       24073 non-null  object\n",
      " 6   year_arr           24073 non-null  object\n",
      "dtypes: object(7)\n",
      "memory usage: 1.5+ MB\n"
     ]
    }
   ],
   "source": [
    "df.info()"
   ],
   "metadata": {
    "collapsed": false,
    "ExecuteTime": {
     "start_time": "2024-06-08T02:17:22.294504Z",
     "end_time": "2024-06-08T02:17:22.392535Z"
    }
   }
  },
  {
   "cell_type": "code",
   "execution_count": 14,
   "outputs": [],
   "source": [
    "def process_record(row):\n",
    "    if len(row['article_index_arr']) == len(row['law_name_arr']) == len(row['year_arr']):\n",
    "        new_records = []\n",
    "        for i in range(len(row['article_index_arr'])):\n",
    "            new_record = {\n",
    "                'article_index': row['article_index_arr'][i],\n",
    "                'law_name': row['law_name_arr'][i],\n",
    "                'year': row['year_arr'][i],\n",
    "                'clause': row['clause_arr'][i] if row['clause_arr'][i] else ''\n",
    "            }\n",
    "\n",
    "            for col in row.index:\n",
    "                if col not in ['article_index_arr', 'law_name_arr', 'year_arr', 'clause_arr']:\n",
    "                    new_record[col] = row[col]\n",
    "            new_records.append(new_record)\n",
    "        return pd.DataFrame(new_records)\n",
    "    elif len(row['article_index_arr']) > 1 and len(row['year_arr']) == 1:\n",
    "        new_records = []\n",
    "        for i in range(len(row['article_index_arr'])):\n",
    "            new_record = {\n",
    "                'article_index': row['article_index_arr'][i],\n",
    "                'law_name': row['law_name_arr'][i],\n",
    "                'clause': row['clause_arr'][i] if row['clause_arr'][i] else '',\n",
    "                'year': row['year_arr'][0]\n",
    "            }\n",
    "            for col in row.index:\n",
    "                if col not in ['article_index_arr', 'law_name_arr', 'year_arr', 'clause_arr']:\n",
    "                    new_record[col] = row[col]\n",
    "            new_records.append(new_record)\n",
    "        return pd.DataFrame(new_records)\n",
    "    else:\n",
    "        return pd.DataFrame([row])\n",
    "\n",
    "df_question = pd.concat(df.apply(process_record, axis=1).tolist(), ignore_index=True)"
   ],
   "metadata": {
    "collapsed": false,
    "ExecuteTime": {
     "start_time": "2024-06-08T02:17:22.335529Z",
     "end_time": "2024-06-08T02:17:34.942534Z"
    }
   }
  },
  {
   "cell_type": "code",
   "execution_count": 15,
   "outputs": [],
   "source": [
    "df_question['law_name_lower'] = df_question['law_name'].str.lower()\n",
    "df_question = df_question[~((df_question['law_name_lower'].str.contains(\"sửa đổi\") | df_question['law_name_lower'].str.contains(\"bổ sung\")) & (df_question['clause'] == \"\"))]\n",
    "df_question.drop(columns=['law_name_lower'], inplace=True)"
   ],
   "metadata": {
    "collapsed": false,
    "ExecuteTime": {
     "start_time": "2024-06-08T02:17:34.946587Z",
     "end_time": "2024-06-08T02:17:34.997030Z"
    }
   }
  },
  {
   "cell_type": "code",
   "execution_count": 16,
   "outputs": [
    {
     "name": "stdout",
     "output_type": "stream",
     "text": [
      "Số lượng hàng có giá trị trùng lặp trong cột '_id': 2530\n"
     ]
    }
   ],
   "source": [
    "num_duplicate_rows = df_question.duplicated(subset='_id').sum()\n",
    "print(\"Số lượng hàng có giá trị trùng lặp trong cột '_id':\", num_duplicate_rows)"
   ],
   "metadata": {
    "collapsed": false,
    "ExecuteTime": {
     "start_time": "2024-06-08T02:17:34.984022Z",
     "end_time": "2024-06-08T02:17:35.030219Z"
    }
   }
  },
  {
   "cell_type": "code",
   "execution_count": 17,
   "outputs": [
    {
     "data": {
      "text/plain": "       article_index                      law_name  year clause  \\\n16256             21     Luật Khám bệnh, chữa bệnh  2023          \n7293              30                   Luật Đầu tư  2020          \n13213              8     Luật Hôn nhân và gia đình  2014          \n25205             93                 Luật Xây dựng  2014          \n23617              2  Luật Sửa đổi Bộ luật Hình sự  2017      2   \n\n                            _id  \\\n16256  6663568ac2f544363eebdf47   \n7293   66635705c2f544363eed2f88   \n13213  6663561bc2f544363eea9f0e   \n25205  66635787c2f544363ef021d9   \n23617  66635776c2f544363eefcebd   \n\n                                                   title  \\\n16256  Những ngôn ngữ nào sẽ được sử dụng trong việc ...   \n7293   Dự án đầu tư nào phải xin chấp thuận chủ trươn...   \n13213  Người cùng giới có được kết hôn với nhau có vi...   \n25205  Điều kiện cấp giấy phép xây dựng đối với nhà ở...   \n23617  Tội vi phạm quy định về quản lý chất thải nguy...   \n\n                                               reference  \n16256  Tại Điều 21 Luật Khám bệnh, chữa bệnh 2023 có ...  \n7293   Căn cứ theo Điều 30 Luật Đầu tư 2020 quy định ...  \n13213  Tại Điều 8 Luật Hôn nhân và gia đình 2014 có q...  \n25205  Căn cứ quy định Điều 93 Luật Xây dựng 2014 đượ...  \n23617  Căn cứ tại Điều 236 Bộ luật Hình sự 2015 được ...  ",
      "text/html": "<div>\n<style scoped>\n    .dataframe tbody tr th:only-of-type {\n        vertical-align: middle;\n    }\n\n    .dataframe tbody tr th {\n        vertical-align: top;\n    }\n\n    .dataframe thead th {\n        text-align: right;\n    }\n</style>\n<table border=\"1\" class=\"dataframe\">\n  <thead>\n    <tr style=\"text-align: right;\">\n      <th></th>\n      <th>article_index</th>\n      <th>law_name</th>\n      <th>year</th>\n      <th>clause</th>\n      <th>_id</th>\n      <th>title</th>\n      <th>reference</th>\n    </tr>\n  </thead>\n  <tbody>\n    <tr>\n      <th>16256</th>\n      <td>21</td>\n      <td>Luật Khám bệnh, chữa bệnh</td>\n      <td>2023</td>\n      <td></td>\n      <td>6663568ac2f544363eebdf47</td>\n      <td>Những ngôn ngữ nào sẽ được sử dụng trong việc ...</td>\n      <td>Tại Điều 21 Luật Khám bệnh, chữa bệnh 2023 có ...</td>\n    </tr>\n    <tr>\n      <th>7293</th>\n      <td>30</td>\n      <td>Luật Đầu tư</td>\n      <td>2020</td>\n      <td></td>\n      <td>66635705c2f544363eed2f88</td>\n      <td>Dự án đầu tư nào phải xin chấp thuận chủ trươn...</td>\n      <td>Căn cứ theo Điều 30 Luật Đầu tư 2020 quy định ...</td>\n    </tr>\n    <tr>\n      <th>13213</th>\n      <td>8</td>\n      <td>Luật Hôn nhân và gia đình</td>\n      <td>2014</td>\n      <td></td>\n      <td>6663561bc2f544363eea9f0e</td>\n      <td>Người cùng giới có được kết hôn với nhau có vi...</td>\n      <td>Tại Điều 8 Luật Hôn nhân và gia đình 2014 có q...</td>\n    </tr>\n    <tr>\n      <th>25205</th>\n      <td>93</td>\n      <td>Luật Xây dựng</td>\n      <td>2014</td>\n      <td></td>\n      <td>66635787c2f544363ef021d9</td>\n      <td>Điều kiện cấp giấy phép xây dựng đối với nhà ở...</td>\n      <td>Căn cứ quy định Điều 93 Luật Xây dựng 2014 đượ...</td>\n    </tr>\n    <tr>\n      <th>23617</th>\n      <td>2</td>\n      <td>Luật Sửa đổi Bộ luật Hình sự</td>\n      <td>2017</td>\n      <td>2</td>\n      <td>66635776c2f544363eefcebd</td>\n      <td>Tội vi phạm quy định về quản lý chất thải nguy...</td>\n      <td>Căn cứ tại Điều 236 Bộ luật Hình sự 2015 được ...</td>\n    </tr>\n  </tbody>\n</table>\n</div>"
     },
     "execution_count": 17,
     "metadata": {},
     "output_type": "execute_result"
    }
   ],
   "source": [
    "df_question.sample(5)"
   ],
   "metadata": {
    "collapsed": false,
    "ExecuteTime": {
     "start_time": "2024-06-08T02:17:35.017404Z",
     "end_time": "2024-06-08T02:17:35.125926Z"
    }
   }
  },
  {
   "cell_type": "code",
   "execution_count": 18,
   "outputs": [],
   "source": [
    "def getlaws(database, collection):\n",
    "    client = MongoClient('mongodb://localhost:27017/')\n",
    "\n",
    "    db = client[database]\n",
    "    collection = db[collection]\n",
    "\n",
    "    documents = collection.find({}, {'_id': 1, 'name': 1, 'identifier': 1})\n",
    "\n",
    "    # client.close()\n",
    "    return documents"
   ],
   "metadata": {
    "collapsed": false,
    "ExecuteTime": {
     "start_time": "2024-06-08T02:17:35.035239Z",
     "end_time": "2024-06-08T02:17:35.132923Z"
    }
   }
  },
  {
   "cell_type": "code",
   "execution_count": 19,
   "outputs": [],
   "source": [
    "laws = getlaws('lawlaboratory', 'laws')\n",
    "codes = getlaws('lawlaboratory', 'codes')\n",
    "constitutions = getlaws('lawlaboratory', 'constitution')"
   ],
   "metadata": {
    "collapsed": false,
    "ExecuteTime": {
     "start_time": "2024-06-08T02:17:35.041413Z",
     "end_time": "2024-06-08T02:17:35.133930Z"
    }
   }
  },
  {
   "cell_type": "code",
   "execution_count": 20,
   "outputs": [],
   "source": [
    "df_laws = pd.DataFrame(laws)\n",
    "df_codes = pd.DataFrame(codes)\n",
    "# df_constitutions = pd.DataFrame(constitutions)\n",
    "\n",
    "df_laws_combined = pd.concat([df_laws, df_codes], ignore_index=True)"
   ],
   "metadata": {
    "collapsed": false,
    "ExecuteTime": {
     "start_time": "2024-06-08T02:17:35.066312Z",
     "end_time": "2024-06-08T02:17:35.133930Z"
    }
   }
  },
  {
   "cell_type": "code",
   "execution_count": 21,
   "outputs": [
    {
     "data": {
      "text/plain": "                          _id  \\\n76   6635282f3558517825b88f0a   \n22   663528223558517825b88e9a   \n361  663529923558517825b89146   \n192  6635288f3558517825b88ff4   \n350  6635293d3558517825b89130   \n\n                                                  name    identifier  \n76   Luật sửa đổi, bổ sung một số điều của Luật Thể...  26/2018/QH14  \n22   Luật Thực hiện dân chủ ở cơ sở của Quốc hội, s...  10/2022/QH15  \n361                              Luật Nghĩa vụ quân sự   6-LCT/HĐNN7  \n192  Luật Giáo dục đại học của Quốc hội, số 08/2012...  08/2012/QH13  \n350  Luật Bầu cử Đại biểu Quốc hội số 56-L/CTN của ...      56-L/CTN  ",
      "text/html": "<div>\n<style scoped>\n    .dataframe tbody tr th:only-of-type {\n        vertical-align: middle;\n    }\n\n    .dataframe tbody tr th {\n        vertical-align: top;\n    }\n\n    .dataframe thead th {\n        text-align: right;\n    }\n</style>\n<table border=\"1\" class=\"dataframe\">\n  <thead>\n    <tr style=\"text-align: right;\">\n      <th></th>\n      <th>_id</th>\n      <th>name</th>\n      <th>identifier</th>\n    </tr>\n  </thead>\n  <tbody>\n    <tr>\n      <th>76</th>\n      <td>6635282f3558517825b88f0a</td>\n      <td>Luật sửa đổi, bổ sung một số điều của Luật Thể...</td>\n      <td>26/2018/QH14</td>\n    </tr>\n    <tr>\n      <th>22</th>\n      <td>663528223558517825b88e9a</td>\n      <td>Luật Thực hiện dân chủ ở cơ sở của Quốc hội, s...</td>\n      <td>10/2022/QH15</td>\n    </tr>\n    <tr>\n      <th>361</th>\n      <td>663529923558517825b89146</td>\n      <td>Luật Nghĩa vụ quân sự</td>\n      <td>6-LCT/HĐNN7</td>\n    </tr>\n    <tr>\n      <th>192</th>\n      <td>6635288f3558517825b88ff4</td>\n      <td>Luật Giáo dục đại học của Quốc hội, số 08/2012...</td>\n      <td>08/2012/QH13</td>\n    </tr>\n    <tr>\n      <th>350</th>\n      <td>6635293d3558517825b89130</td>\n      <td>Luật Bầu cử Đại biểu Quốc hội số 56-L/CTN của ...</td>\n      <td>56-L/CTN</td>\n    </tr>\n  </tbody>\n</table>\n</div>"
     },
     "execution_count": 21,
     "metadata": {},
     "output_type": "execute_result"
    }
   ],
   "source": [
    "df_laws_combined.sample(5)"
   ],
   "metadata": {
    "collapsed": false,
    "ExecuteTime": {
     "start_time": "2024-06-08T02:17:35.084928Z",
     "end_time": "2024-06-08T02:17:35.204934Z"
    }
   }
  },
  {
   "cell_type": "code",
   "execution_count": 22,
   "outputs": [],
   "source": [
    "def clean_law_name(name):\n",
    "    name = re.sub(r'số \\d+/\\d+/[A-Za-z\\d]+', '', name)\n",
    "    name = re.sub(r'của Quốc hội', '', name)\n",
    "    name = name.rstrip(',')\n",
    "    name = name.strip()\n",
    "    return name\n",
    "\n",
    "df_laws_combined['name'] = df_laws_combined['name'].apply(clean_law_name)"
   ],
   "metadata": {
    "collapsed": false,
    "ExecuteTime": {
     "start_time": "2024-06-08T02:17:35.089872Z",
     "end_time": "2024-06-08T02:17:35.205933Z"
    }
   }
  },
  {
   "cell_type": "code",
   "execution_count": 23,
   "outputs": [
    {
     "data": {
      "text/plain": "                          _id  \\\n310  663529003558517825b890e0   \n80   663528333558517825b88f12   \n165  6635287a3558517825b88fbe   \n217  663528a73558517825b89026   \n39   663528263558517825b88ebe   \n\n                                                  name    identifier  \n310                                     Luật Thanh tra  22/2004/QH11  \n80                                     Luật Quốc phòng  22/2018/QH14  \n165  Luật sửa đổi, bổ sung một số điều của Luật Thi...  39/2013/QH13  \n217                             Luật An toàn thực phẩm  55/2010/QH12  \n39   Luật sửa đổi, bổ sung một số điều của Luật Tổ ...  65/2020/QH14  ",
      "text/html": "<div>\n<style scoped>\n    .dataframe tbody tr th:only-of-type {\n        vertical-align: middle;\n    }\n\n    .dataframe tbody tr th {\n        vertical-align: top;\n    }\n\n    .dataframe thead th {\n        text-align: right;\n    }\n</style>\n<table border=\"1\" class=\"dataframe\">\n  <thead>\n    <tr style=\"text-align: right;\">\n      <th></th>\n      <th>_id</th>\n      <th>name</th>\n      <th>identifier</th>\n    </tr>\n  </thead>\n  <tbody>\n    <tr>\n      <th>310</th>\n      <td>663529003558517825b890e0</td>\n      <td>Luật Thanh tra</td>\n      <td>22/2004/QH11</td>\n    </tr>\n    <tr>\n      <th>80</th>\n      <td>663528333558517825b88f12</td>\n      <td>Luật Quốc phòng</td>\n      <td>22/2018/QH14</td>\n    </tr>\n    <tr>\n      <th>165</th>\n      <td>6635287a3558517825b88fbe</td>\n      <td>Luật sửa đổi, bổ sung một số điều của Luật Thi...</td>\n      <td>39/2013/QH13</td>\n    </tr>\n    <tr>\n      <th>217</th>\n      <td>663528a73558517825b89026</td>\n      <td>Luật An toàn thực phẩm</td>\n      <td>55/2010/QH12</td>\n    </tr>\n    <tr>\n      <th>39</th>\n      <td>663528263558517825b88ebe</td>\n      <td>Luật sửa đổi, bổ sung một số điều của Luật Tổ ...</td>\n      <td>65/2020/QH14</td>\n    </tr>\n  </tbody>\n</table>\n</div>"
     },
     "execution_count": 23,
     "metadata": {},
     "output_type": "execute_result"
    }
   ],
   "source": [
    "df_laws_combined['name'] = df_laws_combined['name'].apply(clean_law_name)\n",
    "df_laws_combined.sample(5)"
   ],
   "metadata": {
    "collapsed": false,
    "ExecuteTime": {
     "start_time": "2024-06-08T02:17:35.101775Z",
     "end_time": "2024-06-08T02:17:35.206923Z"
    }
   }
  },
  {
   "cell_type": "code",
   "execution_count": 24,
   "outputs": [
    {
     "data": {
      "text/plain": "                          _id                     name    identifier  year\n199  663528943558517825b89002             Luật Lưu trữ  01/2011/QH13  2011\n290  663528ea3558517825b890b8               Luật Nhà ở  56/2005/QH11  2005\n285  663528e03558517825b890ae            Luật Đấu thầu  61/2005/QH11  2005\n370  653a41cdcdee224751bca5c5         Bộ luật Hàng hải  40/2005/QH11  2005\n122  663528563558517825b88f68  Luật Kiểm toán Nhà nước  81/2015/QH13  2015",
      "text/html": "<div>\n<style scoped>\n    .dataframe tbody tr th:only-of-type {\n        vertical-align: middle;\n    }\n\n    .dataframe tbody tr th {\n        vertical-align: top;\n    }\n\n    .dataframe thead th {\n        text-align: right;\n    }\n</style>\n<table border=\"1\" class=\"dataframe\">\n  <thead>\n    <tr style=\"text-align: right;\">\n      <th></th>\n      <th>_id</th>\n      <th>name</th>\n      <th>identifier</th>\n      <th>year</th>\n    </tr>\n  </thead>\n  <tbody>\n    <tr>\n      <th>199</th>\n      <td>663528943558517825b89002</td>\n      <td>Luật Lưu trữ</td>\n      <td>01/2011/QH13</td>\n      <td>2011</td>\n    </tr>\n    <tr>\n      <th>290</th>\n      <td>663528ea3558517825b890b8</td>\n      <td>Luật Nhà ở</td>\n      <td>56/2005/QH11</td>\n      <td>2005</td>\n    </tr>\n    <tr>\n      <th>285</th>\n      <td>663528e03558517825b890ae</td>\n      <td>Luật Đấu thầu</td>\n      <td>61/2005/QH11</td>\n      <td>2005</td>\n    </tr>\n    <tr>\n      <th>370</th>\n      <td>653a41cdcdee224751bca5c5</td>\n      <td>Bộ luật Hàng hải</td>\n      <td>40/2005/QH11</td>\n      <td>2005</td>\n    </tr>\n    <tr>\n      <th>122</th>\n      <td>663528563558517825b88f68</td>\n      <td>Luật Kiểm toán Nhà nước</td>\n      <td>81/2015/QH13</td>\n      <td>2015</td>\n    </tr>\n  </tbody>\n</table>\n</div>"
     },
     "execution_count": 24,
     "metadata": {},
     "output_type": "execute_result"
    }
   ],
   "source": [
    "def extract_year(identifier):\n",
    "    year = identifier.split('/')[1]\n",
    "    return year\n",
    "\n",
    "df_laws_combined['year'] = df_laws_combined['identifier'].apply(extract_year)\n",
    "df_laws_combined.sample(5)"
   ],
   "metadata": {
    "collapsed": false,
    "ExecuteTime": {
     "start_time": "2024-06-08T02:17:35.120969Z",
     "end_time": "2024-06-08T02:17:35.206923Z"
    }
   }
  },
  {
   "cell_type": "code",
   "execution_count": 25,
   "outputs": [
    {
     "name": "stdout",
     "output_type": "stream",
     "text": [
      "CUDA is available! Using GPU for embedding.\n"
     ]
    }
   ],
   "source": [
    "import torch\n",
    "if torch.cuda.is_available():\n",
    "    device = torch.device('cuda')\n",
    "    print(\"CUDA is available! Using GPU for embedding.\")\n",
    "else:\n",
    "    device = torch.device('cpu')\n",
    "    print(\"CUDA is not available. Using CPU for embedding.\")"
   ],
   "metadata": {
    "collapsed": false,
    "ExecuteTime": {
     "start_time": "2024-06-08T02:17:35.126929Z",
     "end_time": "2024-06-08T02:17:39.608362Z"
    }
   }
  },
  {
   "cell_type": "code",
   "execution_count": 26,
   "outputs": [],
   "source": [
    "from sentence_transformers import SentenceTransformer, util\n",
    "from sklearn.metrics.pairwise import cosine_similarity\n",
    "\n",
    "model = SentenceTransformer('keepitreal/vietnamese-sbert', device=device)"
   ],
   "metadata": {
    "collapsed": false,
    "ExecuteTime": {
     "start_time": "2024-06-08T02:17:39.608362Z",
     "end_time": "2024-06-08T02:17:43.594354Z"
    }
   }
  },
  {
   "cell_type": "code",
   "execution_count": 27,
   "outputs": [],
   "source": [
    "embeddings_laws_combined = model.encode(df_laws_combined['name'].tolist())\n",
    "embeddings_df = model.encode(df_question['law_name'].tolist())"
   ],
   "metadata": {
    "collapsed": false,
    "ExecuteTime": {
     "start_time": "2024-06-08T02:17:43.596352Z",
     "end_time": "2024-06-08T02:18:28.936075Z"
    }
   }
  },
  {
   "cell_type": "code",
   "execution_count": 28,
   "outputs": [],
   "source": [
    "embeddings_laws_combined = np.asarray(embeddings_laws_combined)\n",
    "embeddings_df = np.asarray(embeddings_df)"
   ],
   "metadata": {
    "collapsed": false,
    "ExecuteTime": {
     "start_time": "2024-06-08T02:18:28.948077Z",
     "end_time": "2024-06-08T02:18:28.970075Z"
    }
   }
  },
  {
   "cell_type": "code",
   "execution_count": 29,
   "outputs": [],
   "source": [
    "similarities = util.pytorch_cos_sim(embeddings_df, embeddings_laws_combined)\n",
    "\n",
    "relevant_doc_index = similarities.argmax(dim=1)"
   ],
   "metadata": {
    "collapsed": false,
    "ExecuteTime": {
     "start_time": "2024-06-08T02:18:28.981077Z",
     "end_time": "2024-06-08T02:18:29.358094Z"
    }
   }
  },
  {
   "cell_type": "code",
   "execution_count": 30,
   "outputs": [],
   "source": [
    "relevant_law_id = df_laws_combined['identifier'].iloc[relevant_doc_index].tolist()\n",
    "\n",
    "df_question['relevant_law_id'] = relevant_law_id"
   ],
   "metadata": {
    "collapsed": false,
    "ExecuteTime": {
     "start_time": "2024-06-08T02:18:29.363089Z",
     "end_time": "2024-06-08T02:18:29.479819Z"
    }
   }
  },
  {
   "cell_type": "code",
   "execution_count": 31,
   "outputs": [
    {
     "data": {
      "text/plain": "       article_index              law_name  year clause  \\\n20453             47     Luật Quản lý thuế  2019          \n17148             89       Bộ luật Hình sự  2015          \n13648             21  Luật Bảo hiểm xã hội  2014          \n24683             17  Luật đấu giá tài sản  2016          \n18996            101       Luật Thương mại  2005          \n\n                            _id  \\\n20453  666357a3c2f544363ef06b29   \n17148  66635776c2f544363eefd9b2   \n13648  66635716c2f544363eedb223   \n24683  66635667c2f544363eeb414c   \n18996  66635765c2f544363eef762f   \n\n                                                   title  \\\n20453  Thời hạn khai bổ sung hồ sơ khai thuế có sai s...   \n17148  Pháp nhân thương mại phạm tội tàng trữ, vận ch...   \n13648  Người lao động có thể thỏa thuận với người sử ...   \n24683  Xin cấp lại Chứng chỉ hành nghề đấu giá có lâu...   \n18996  Thuế suất khi xuất hóa đơn quà tặng là vàng đã...   \n\n                                               reference relevant_law_id  \n20453  Theo Điều 47 Luật Quản lý thuế 2019 quy định v...    38/2019/QH14  \n17148  Căn cứ quy định Điều 89 Bộ luật Hình sự 2015 q...   100/2015/QH13  \n13648  Căn cứ theo Điều 21 Luật Bảo hiểm xã hội 2014 ...    58/2014/QH13  \n24683  Tại Điều 17 Luật đấu giá tài sản 2016 quy định...    01/2016/QH14  \n18996  Căn cứ Điều 101 Luật Thương mại 2005 quy định ...    36/2005/QH11  ",
      "text/html": "<div>\n<style scoped>\n    .dataframe tbody tr th:only-of-type {\n        vertical-align: middle;\n    }\n\n    .dataframe tbody tr th {\n        vertical-align: top;\n    }\n\n    .dataframe thead th {\n        text-align: right;\n    }\n</style>\n<table border=\"1\" class=\"dataframe\">\n  <thead>\n    <tr style=\"text-align: right;\">\n      <th></th>\n      <th>article_index</th>\n      <th>law_name</th>\n      <th>year</th>\n      <th>clause</th>\n      <th>_id</th>\n      <th>title</th>\n      <th>reference</th>\n      <th>relevant_law_id</th>\n    </tr>\n  </thead>\n  <tbody>\n    <tr>\n      <th>20453</th>\n      <td>47</td>\n      <td>Luật Quản lý thuế</td>\n      <td>2019</td>\n      <td></td>\n      <td>666357a3c2f544363ef06b29</td>\n      <td>Thời hạn khai bổ sung hồ sơ khai thuế có sai s...</td>\n      <td>Theo Điều 47 Luật Quản lý thuế 2019 quy định v...</td>\n      <td>38/2019/QH14</td>\n    </tr>\n    <tr>\n      <th>17148</th>\n      <td>89</td>\n      <td>Bộ luật Hình sự</td>\n      <td>2015</td>\n      <td></td>\n      <td>66635776c2f544363eefd9b2</td>\n      <td>Pháp nhân thương mại phạm tội tàng trữ, vận ch...</td>\n      <td>Căn cứ quy định Điều 89 Bộ luật Hình sự 2015 q...</td>\n      <td>100/2015/QH13</td>\n    </tr>\n    <tr>\n      <th>13648</th>\n      <td>21</td>\n      <td>Luật Bảo hiểm xã hội</td>\n      <td>2014</td>\n      <td></td>\n      <td>66635716c2f544363eedb223</td>\n      <td>Người lao động có thể thỏa thuận với người sử ...</td>\n      <td>Căn cứ theo Điều 21 Luật Bảo hiểm xã hội 2014 ...</td>\n      <td>58/2014/QH13</td>\n    </tr>\n    <tr>\n      <th>24683</th>\n      <td>17</td>\n      <td>Luật đấu giá tài sản</td>\n      <td>2016</td>\n      <td></td>\n      <td>66635667c2f544363eeb414c</td>\n      <td>Xin cấp lại Chứng chỉ hành nghề đấu giá có lâu...</td>\n      <td>Tại Điều 17 Luật đấu giá tài sản 2016 quy định...</td>\n      <td>01/2016/QH14</td>\n    </tr>\n    <tr>\n      <th>18996</th>\n      <td>101</td>\n      <td>Luật Thương mại</td>\n      <td>2005</td>\n      <td></td>\n      <td>66635765c2f544363eef762f</td>\n      <td>Thuế suất khi xuất hóa đơn quà tặng là vàng đã...</td>\n      <td>Căn cứ Điều 101 Luật Thương mại 2005 quy định ...</td>\n      <td>36/2005/QH11</td>\n    </tr>\n  </tbody>\n</table>\n</div>"
     },
     "execution_count": 31,
     "metadata": {},
     "output_type": "execute_result"
    }
   ],
   "source": [
    "df_question.sample(5)"
   ],
   "metadata": {
    "collapsed": false,
    "ExecuteTime": {
     "start_time": "2024-06-08T02:18:29.491820Z",
     "end_time": "2024-06-08T02:18:29.570776Z"
    }
   }
  },
  {
   "cell_type": "code",
   "execution_count": 32,
   "outputs": [],
   "source": [
    "df_question['extracted_year'] = df_question['relevant_law_id'].apply(extract_year)\n",
    "\n",
    "df_question['extracted_year'] = pd.to_numeric(df_question['extracted_year'], errors='coerce')\n",
    "df_question.dropna(subset=['extracted_year'], inplace=True)\n",
    "\n",
    "df_question['extracted_year'] = df_question['extracted_year'].astype('int64')\n",
    "df_question = df_question[df_question['extracted_year'] == df_question['year']]\n",
    "df_question.drop(columns=['extracted_year'], inplace=True)"
   ],
   "metadata": {
    "collapsed": false,
    "ExecuteTime": {
     "start_time": "2024-06-08T02:18:29.647785Z",
     "end_time": "2024-06-08T02:18:31.811136Z"
    }
   }
  },
  {
   "cell_type": "code",
   "execution_count": 33,
   "outputs": [
    {
     "name": "stdout",
     "output_type": "stream",
     "text": [
      "<class 'pandas.core.frame.DataFrame'>\n",
      "Index: 20655 entries, 0 to 26919\n",
      "Data columns (total 8 columns):\n",
      " #   Column           Non-Null Count  Dtype \n",
      "---  ------           --------------  ----- \n",
      " 0   article_index    20655 non-null  int64 \n",
      " 1   law_name         20655 non-null  object\n",
      " 2   year             20655 non-null  int64 \n",
      " 3   clause           20655 non-null  object\n",
      " 4   _id              20655 non-null  object\n",
      " 5   title            20655 non-null  object\n",
      " 6   reference        20655 non-null  object\n",
      " 7   relevant_law_id  20655 non-null  object\n",
      "dtypes: int64(2), object(6)\n",
      "memory usage: 1.4+ MB\n"
     ]
    }
   ],
   "source": [
    "df_question.info()"
   ],
   "metadata": {
    "collapsed": false,
    "ExecuteTime": {
     "start_time": "2024-06-08T02:18:31.812135Z",
     "end_time": "2024-06-08T02:18:31.920209Z"
    }
   }
  },
  {
   "cell_type": "code",
   "execution_count": 34,
   "outputs": [
    {
     "data": {
      "text/plain": "       article_index                     law_name  year clause  \\\n12761             17                 Luật Cảnh vệ  2017          \n20385             25   Luật Phòng, chống rửa tiền  2022          \n4417              10  Luật Bảo vệ bí mật nhà nước  2018      1   \n3838              17            Luật Doanh nghiệp  2020          \n3284              58       Luật Cán bộ, công chức  2008          \n\n                            _id  \\\n12761  66635835c2f544363ef2039a   \n20385  66635608c2f544363eea7c05   \n4417   6663583dc2f544363ef27e6a   \n3838   66635703c2f544363eed184f   \n3284   66635841c2f544363ef2bd38   \n\n                                                   title  \\\n12761    Nữ có thể tham gia vào lực lượng cảnh vệ không?   \n20385  Đối tượng nào phải báo cáo khi thực hiện các g...   \n4417   Căn cứ vào đâu để xác định độ mật của bí mật n...   \n3838       Công an có được thành lập doanh nghiệp không?   \n3284           Có mấy mức xếp loại chất lượng công chức?   \n\n                                               reference relevant_law_id  \n12761  Căn cứ theo Điều 17 Luật Cảnh vệ 2017 quy định...    13/2017/QH14  \n20385  Tại Điều 25 Luật Phòng, chống rửa tiền 2022 có...    14/2022/QH15  \n4417   Theo khoản 1 Điều 10 Luật Bảo vệ bí mật nhà nư...    29/2018/QH14  \n3838   Căn cứ theo Điều 17 Luật Doanh nghiệp 2020 có ...    59/2020/QH14  \n3284   Tại Điều 58 Luật Cán bộ, công chức 2008 được s...    22/2008/QH12  ",
      "text/html": "<div>\n<style scoped>\n    .dataframe tbody tr th:only-of-type {\n        vertical-align: middle;\n    }\n\n    .dataframe tbody tr th {\n        vertical-align: top;\n    }\n\n    .dataframe thead th {\n        text-align: right;\n    }\n</style>\n<table border=\"1\" class=\"dataframe\">\n  <thead>\n    <tr style=\"text-align: right;\">\n      <th></th>\n      <th>article_index</th>\n      <th>law_name</th>\n      <th>year</th>\n      <th>clause</th>\n      <th>_id</th>\n      <th>title</th>\n      <th>reference</th>\n      <th>relevant_law_id</th>\n    </tr>\n  </thead>\n  <tbody>\n    <tr>\n      <th>12761</th>\n      <td>17</td>\n      <td>Luật Cảnh vệ</td>\n      <td>2017</td>\n      <td></td>\n      <td>66635835c2f544363ef2039a</td>\n      <td>Nữ có thể tham gia vào lực lượng cảnh vệ không?</td>\n      <td>Căn cứ theo Điều 17 Luật Cảnh vệ 2017 quy định...</td>\n      <td>13/2017/QH14</td>\n    </tr>\n    <tr>\n      <th>20385</th>\n      <td>25</td>\n      <td>Luật Phòng, chống rửa tiền</td>\n      <td>2022</td>\n      <td></td>\n      <td>66635608c2f544363eea7c05</td>\n      <td>Đối tượng nào phải báo cáo khi thực hiện các g...</td>\n      <td>Tại Điều 25 Luật Phòng, chống rửa tiền 2022 có...</td>\n      <td>14/2022/QH15</td>\n    </tr>\n    <tr>\n      <th>4417</th>\n      <td>10</td>\n      <td>Luật Bảo vệ bí mật nhà nước</td>\n      <td>2018</td>\n      <td>1</td>\n      <td>6663583dc2f544363ef27e6a</td>\n      <td>Căn cứ vào đâu để xác định độ mật của bí mật n...</td>\n      <td>Theo khoản 1 Điều 10 Luật Bảo vệ bí mật nhà nư...</td>\n      <td>29/2018/QH14</td>\n    </tr>\n    <tr>\n      <th>3838</th>\n      <td>17</td>\n      <td>Luật Doanh nghiệp</td>\n      <td>2020</td>\n      <td></td>\n      <td>66635703c2f544363eed184f</td>\n      <td>Công an có được thành lập doanh nghiệp không?</td>\n      <td>Căn cứ theo Điều 17 Luật Doanh nghiệp 2020 có ...</td>\n      <td>59/2020/QH14</td>\n    </tr>\n    <tr>\n      <th>3284</th>\n      <td>58</td>\n      <td>Luật Cán bộ, công chức</td>\n      <td>2008</td>\n      <td></td>\n      <td>66635841c2f544363ef2bd38</td>\n      <td>Có mấy mức xếp loại chất lượng công chức?</td>\n      <td>Tại Điều 58 Luật Cán bộ, công chức 2008 được s...</td>\n      <td>22/2008/QH12</td>\n    </tr>\n  </tbody>\n</table>\n</div>"
     },
     "execution_count": 34,
     "metadata": {},
     "output_type": "execute_result"
    }
   ],
   "source": [
    "df_question.reset_index(drop=True, inplace=True)\n",
    "df_question.sample(5)"
   ],
   "metadata": {
    "collapsed": false,
    "ExecuteTime": {
     "start_time": "2024-06-08T02:18:31.918135Z",
     "end_time": "2024-06-08T02:18:31.933735Z"
    }
   }
  },
  {
   "cell_type": "code",
   "execution_count": 35,
   "outputs": [],
   "source": [
    "df_question['relevant_law_id'] = df_question['relevant_law_id'].str.lower()"
   ],
   "metadata": {
    "collapsed": false,
    "ExecuteTime": {
     "start_time": "2024-06-08T02:18:31.937736Z",
     "end_time": "2024-06-08T02:18:31.982731Z"
    }
   }
  },
  {
   "cell_type": "code",
   "execution_count": 36,
   "outputs": [],
   "source": [
    "import re\n",
    "df_question['relevant_doc'] = df_question.apply(\n",
    "    lambda row: f\"{row['relevant_law_id']}_{row['article_index']}_{row['clause']}\" if row['clause'] else f\"{row['relevant_law_id']}_{row['article_index']}\",\n",
    "    axis=1\n",
    ")\n",
    "\n",
    "df_question_final = df_question[['_id', 'title']].copy()\n",
    "df_question_final.columns = ['query_id', 'query']\n",
    "\n",
    "relevant_docs = df_question.groupby('_id')['relevant_doc'].apply(list).reset_index()\n",
    "\n",
    "df_question_final = df_question_final.merge(relevant_docs, left_on='query_id', right_on='_id', how='left').drop(columns=['_id'])\n",
    "\n",
    "df_question_final.rename(columns={'relevant_doc': 'relevant_docs'}, inplace=True)"
   ],
   "metadata": {
    "collapsed": false,
    "ExecuteTime": {
     "start_time": "2024-06-08T02:18:31.952774Z",
     "end_time": "2024-06-08T02:18:32.724452Z"
    }
   }
  },
  {
   "cell_type": "code",
   "execution_count": 37,
   "outputs": [
    {
     "data": {
      "text/plain": "                       query_id  \\\n17893  66635779c2f544363eefff16   \n7647   66635705c2f544363eed3569   \n9734   66635838c2f544363ef23205   \n15065  66635719c2f544363eeddd3c   \n10934  6663561cc2f544363eeaa3fc   \n\n                                                   query         relevant_docs  \n17893  Tội giết người trong trạng thái tinh thần bị k...  [100/2015/qh13_70_1]  \n7647   Khi nào có sự tồn tại của Ủy ban kiểm toán tro...    [59/2020/qh14_137]  \n9734   Nguyên tắc phối hợp giữa Cảnh sát biển Việt Na...     [33/2018/qh14_23]  \n15065  Thời gian đóng BHXH đã được tính hưởng BHXH mộ...      [58/2014/qh13_5]  \n10934  Người nước ngoài được nhập Quốc tịch Việt Nam ...     [24/2008/qh12_19]  ",
      "text/html": "<div>\n<style scoped>\n    .dataframe tbody tr th:only-of-type {\n        vertical-align: middle;\n    }\n\n    .dataframe tbody tr th {\n        vertical-align: top;\n    }\n\n    .dataframe thead th {\n        text-align: right;\n    }\n</style>\n<table border=\"1\" class=\"dataframe\">\n  <thead>\n    <tr style=\"text-align: right;\">\n      <th></th>\n      <th>query_id</th>\n      <th>query</th>\n      <th>relevant_docs</th>\n    </tr>\n  </thead>\n  <tbody>\n    <tr>\n      <th>17893</th>\n      <td>66635779c2f544363eefff16</td>\n      <td>Tội giết người trong trạng thái tinh thần bị k...</td>\n      <td>[100/2015/qh13_70_1]</td>\n    </tr>\n    <tr>\n      <th>7647</th>\n      <td>66635705c2f544363eed3569</td>\n      <td>Khi nào có sự tồn tại của Ủy ban kiểm toán tro...</td>\n      <td>[59/2020/qh14_137]</td>\n    </tr>\n    <tr>\n      <th>9734</th>\n      <td>66635838c2f544363ef23205</td>\n      <td>Nguyên tắc phối hợp giữa Cảnh sát biển Việt Na...</td>\n      <td>[33/2018/qh14_23]</td>\n    </tr>\n    <tr>\n      <th>15065</th>\n      <td>66635719c2f544363eeddd3c</td>\n      <td>Thời gian đóng BHXH đã được tính hưởng BHXH mộ...</td>\n      <td>[58/2014/qh13_5]</td>\n    </tr>\n    <tr>\n      <th>10934</th>\n      <td>6663561cc2f544363eeaa3fc</td>\n      <td>Người nước ngoài được nhập Quốc tịch Việt Nam ...</td>\n      <td>[24/2008/qh12_19]</td>\n    </tr>\n  </tbody>\n</table>\n</div>"
     },
     "execution_count": 37,
     "metadata": {},
     "output_type": "execute_result"
    }
   ],
   "source": [
    "df_question_final.sample(5)"
   ],
   "metadata": {
    "collapsed": false,
    "ExecuteTime": {
     "start_time": "2024-06-08T02:18:32.726441Z",
     "end_time": "2024-06-08T02:18:32.737441Z"
    }
   }
  },
  {
   "cell_type": "code",
   "execution_count": 38,
   "outputs": [
    {
     "name": "stdout",
     "output_type": "stream",
     "text": [
      "<class 'pandas.core.frame.DataFrame'>\n",
      "RangeIndex: 20655 entries, 0 to 20654\n",
      "Data columns (total 3 columns):\n",
      " #   Column         Non-Null Count  Dtype \n",
      "---  ------         --------------  ----- \n",
      " 0   query_id       20655 non-null  object\n",
      " 1   query          20655 non-null  object\n",
      " 2   relevant_docs  20655 non-null  object\n",
      "dtypes: object(3)\n",
      "memory usage: 484.2+ KB\n"
     ]
    }
   ],
   "source": [
    "df_question_final.info()"
   ],
   "metadata": {
    "collapsed": false,
    "ExecuteTime": {
     "start_time": "2024-06-08T02:18:32.737441Z",
     "end_time": "2024-06-08T02:18:32.810722Z"
    }
   }
  },
  {
   "cell_type": "code",
   "execution_count": 39,
   "outputs": [
    {
     "name": "stdout",
     "output_type": "stream",
     "text": [
      "Number records relevant_docs > 1: 4085\n"
     ]
    }
   ],
   "source": [
    "num_records_with_multiple_relevant_docs = df_question_final[df_question_final['relevant_docs'].apply(len) > 1].shape[0]\n",
    "\n",
    "print(\"Number records relevant_docs > 1:\", num_records_with_multiple_relevant_docs)"
   ],
   "metadata": {
    "collapsed": false,
    "ExecuteTime": {
     "start_time": "2024-06-08T02:18:32.759441Z",
     "end_time": "2024-06-08T02:18:32.839989Z"
    }
   }
  },
  {
   "cell_type": "code",
   "execution_count": 40,
   "outputs": [
    {
     "data": {
      "text/plain": "                       query_id  \\\n6997   66635787c2f544363ef0274c   \n11706  66635841c2f544363ef2b740   \n19639  66635719c2f544363eedda95   \n12874  66635706c2f544363eed3ae1   \n7948   6663583dc2f544363ef27b23   \n\n                                                   query        relevant_docs  \n6997   Hồ sơ phê duyệt kế hoạch lựa chọn nhà thầu đối...    [22/2023/qh15_41]  \n11706  Ngạch công chức là gì? Ngạch công chức có mấy ...   [22/2008/qh12_7_4]  \n19639       Điều kiện để được hưởng chế độ ốm đau là gì?    [58/2014/qh13_25]  \n12874  Phí bảo hiểm trong hợp đồng bảo hiểm nhân thọ ...  [08/2022/qh15_4_28]  \n7948   Khiếu nại tại tiếp dân thì bao lâu được giải q...    [42/2013/qh13_28]  ",
      "text/html": "<div>\n<style scoped>\n    .dataframe tbody tr th:only-of-type {\n        vertical-align: middle;\n    }\n\n    .dataframe tbody tr th {\n        vertical-align: top;\n    }\n\n    .dataframe thead th {\n        text-align: right;\n    }\n</style>\n<table border=\"1\" class=\"dataframe\">\n  <thead>\n    <tr style=\"text-align: right;\">\n      <th></th>\n      <th>query_id</th>\n      <th>query</th>\n      <th>relevant_docs</th>\n    </tr>\n  </thead>\n  <tbody>\n    <tr>\n      <th>6997</th>\n      <td>66635787c2f544363ef0274c</td>\n      <td>Hồ sơ phê duyệt kế hoạch lựa chọn nhà thầu đối...</td>\n      <td>[22/2023/qh15_41]</td>\n    </tr>\n    <tr>\n      <th>11706</th>\n      <td>66635841c2f544363ef2b740</td>\n      <td>Ngạch công chức là gì? Ngạch công chức có mấy ...</td>\n      <td>[22/2008/qh12_7_4]</td>\n    </tr>\n    <tr>\n      <th>19639</th>\n      <td>66635719c2f544363eedda95</td>\n      <td>Điều kiện để được hưởng chế độ ốm đau là gì?</td>\n      <td>[58/2014/qh13_25]</td>\n    </tr>\n    <tr>\n      <th>12874</th>\n      <td>66635706c2f544363eed3ae1</td>\n      <td>Phí bảo hiểm trong hợp đồng bảo hiểm nhân thọ ...</td>\n      <td>[08/2022/qh15_4_28]</td>\n    </tr>\n    <tr>\n      <th>7948</th>\n      <td>6663583dc2f544363ef27b23</td>\n      <td>Khiếu nại tại tiếp dân thì bao lâu được giải q...</td>\n      <td>[42/2013/qh13_28]</td>\n    </tr>\n  </tbody>\n</table>\n</div>"
     },
     "execution_count": 40,
     "metadata": {},
     "output_type": "execute_result"
    }
   ],
   "source": [
    "df_question_final.sample(5)"
   ],
   "metadata": {
    "collapsed": false,
    "ExecuteTime": {
     "start_time": "2024-06-08T02:18:32.772727Z",
     "end_time": "2024-06-08T02:18:32.840976Z"
    }
   }
  },
  {
   "cell_type": "code",
   "execution_count": 41,
   "outputs": [],
   "source": [
    "def clean_string(s):\n",
    "    if isinstance(s, list):\n",
    "        return [clean_string(str(item)) for item in s]\n",
    "    try:\n",
    "        return s.encode('utf-8', errors='replace').decode('utf-8')\n",
    "    except Exception as e:\n",
    "        print(f\"Error encoding string: {s}, error: {e}\")\n",
    "        return s\n",
    "\n",
    "df_question_final['query_id'] = df_question_final['query_id'].astype(str)\n",
    "\n",
    "df_question_final['relevant_docs'] = df_question_final['relevant_docs'].apply(\n",
    "    lambda x: clean_string(x) if isinstance(x, list) else x\n",
    ")\n",
    "\n",
    "for column in df_question_final.select_dtypes(include=[object]).columns:\n",
    "    df_question_final[column] = df_question_final[column].apply(clean_string)\n",
    "\n",
    "df_question_final = df_question_final.drop_duplicates(subset=['query_id'])\n",
    "# df_question_final.to_json('data/evaluate/query_set_evaluate.json', orient='records', lines=True, force_ascii=False)"
   ],
   "metadata": {
    "collapsed": false,
    "ExecuteTime": {
     "start_time": "2024-06-08T02:18:32.812751Z",
     "end_time": "2024-06-08T02:18:36.842869Z"
    }
   }
  },
  {
   "cell_type": "code",
   "execution_count": 42,
   "outputs": [],
   "source": [
    "exploded_relevant_docs = df_question_final.explode('relevant_docs')\n",
    "exploded_relevant_docs = exploded_relevant_docs.dropna(subset=['relevant_docs'])\n",
    "\n",
    "all_relevant_docs = exploded_relevant_docs['relevant_docs'].dropna().unique().tolist()"
   ],
   "metadata": {
    "collapsed": false,
    "ExecuteTime": {
     "start_time": "2024-06-08T02:18:36.845869Z",
     "end_time": "2024-06-08T02:18:36.904168Z"
    }
   }
  },
  {
   "cell_type": "code",
   "execution_count": 43,
   "outputs": [],
   "source": [
    "def extract_before_underscore(s):\n",
    "    match = re.match(r'([^_]+)_.*', s)\n",
    "    if match:\n",
    "        return match.group(1)\n",
    "    return s\n",
    "\n",
    "extracted_docs = [extract_before_underscore(doc) for doc in all_relevant_docs]"
   ],
   "metadata": {
    "collapsed": false,
    "ExecuteTime": {
     "start_time": "2024-06-08T02:18:36.879374Z",
     "end_time": "2024-06-08T02:18:36.904168Z"
    }
   }
  },
  {
   "cell_type": "code",
   "execution_count": 44,
   "outputs": [],
   "source": [
    "def getAllLaws(database_name, collection_name):\n",
    "    client = MongoClient('mongodb://localhost:27017/')\n",
    "    db = client[database_name]\n",
    "    collection = db[collection_name]\n",
    "\n",
    "    # lowercase_extracted_docs = [doc.lower() for doc in extracted_docs]\n",
    "    # collection.update_many({}, [{\"$set\": {\"identifier\": {\"$toLower\": \"$identifier\"}}}])\n",
    "    #\n",
    "    # query = {\"identifier\": {\"$in\": lowercase_extracted_docs}}\n",
    "    result = collection.find()\n",
    "\n",
    "    return list(result)"
   ],
   "metadata": {
    "collapsed": false,
    "ExecuteTime": {
     "start_time": "2024-06-08T02:18:36.895587Z",
     "end_time": "2024-06-08T02:18:36.904168Z"
    }
   }
  },
  {
   "cell_type": "code",
   "execution_count": 45,
   "outputs": [],
   "source": [
    "laws = getAllLaws(\"lawlaboratory\", \"laws\")\n",
    "codes = getAllLaws(\"lawlaboratory\", \"codes\")\n",
    "constitution = getAllLaws(\"lawlaboratory\", \"constitution\")"
   ],
   "metadata": {
    "collapsed": false,
    "ExecuteTime": {
     "start_time": "2024-06-08T02:18:36.902166Z",
     "end_time": "2024-06-08T02:18:37.779683Z"
    }
   }
  },
  {
   "cell_type": "code",
   "execution_count": 46,
   "outputs": [],
   "source": [
    "def remove_id_from_data(data):\n",
    "    return [{key: value for key, value in item.items() if key != '_id'} for item in data]"
   ],
   "metadata": {
    "collapsed": false,
    "ExecuteTime": {
     "start_time": "2024-06-08T02:18:37.782678Z",
     "end_time": "2024-06-08T02:18:37.786734Z"
    }
   }
  },
  {
   "cell_type": "code",
   "execution_count": 47,
   "outputs": [],
   "source": [
    "import jsonlines\n",
    "\n",
    "def save_to_jsonl(data, file_path):\n",
    "    with jsonlines.open(file_path, mode='w') as writer:\n",
    "        for item in data:\n",
    "            writer.write(item)"
   ],
   "metadata": {
    "collapsed": false,
    "ExecuteTime": {
     "start_time": "2024-06-08T02:18:37.790741Z",
     "end_time": "2024-06-08T02:18:37.852784Z"
    }
   }
  },
  {
   "cell_type": "code",
   "execution_count": 48,
   "outputs": [],
   "source": [
    "def find_empty_laws(all_laws):\n",
    "    empty_laws = []\n",
    "    for law in all_laws:\n",
    "        if not law.get('parts') and not law.get('chapters') and not law.get('articles'):\n",
    "            empty_laws.append(law)\n",
    "    return empty_laws\n",
    "\n",
    "empty_laws = find_empty_laws(laws + codes + constitution)"
   ],
   "metadata": {
    "collapsed": false,
    "ExecuteTime": {
     "start_time": "2024-06-08T02:18:37.857284Z",
     "end_time": "2024-06-08T02:18:37.860270Z"
    }
   }
  },
  {
   "cell_type": "code",
   "execution_count": 49,
   "outputs": [],
   "source": [
    "def delete_empty_laws(database_name, collection_name, empty_laws):\n",
    "    client = MongoClient('mongodb://localhost:27017/')\n",
    "    db = client[database_name]\n",
    "    collection = db[collection_name]\n",
    "\n",
    "    for law in empty_laws:\n",
    "        identifier = law['identifier']\n",
    "        collection.delete_one({'identifier': identifier})\n",
    "\n",
    "delete_empty_laws(\"lawlaboratory\", \"laws\", empty_laws)"
   ],
   "metadata": {
    "collapsed": false,
    "ExecuteTime": {
     "start_time": "2024-06-08T02:18:37.861276Z",
     "end_time": "2024-06-08T02:18:37.873866Z"
    }
   }
  },
  {
   "cell_type": "code",
   "execution_count": 51,
   "outputs": [],
   "source": [
    "all_laws = laws + codes + constitution\n",
    "all_laws = remove_id_from_data(all_laws)\n",
    "all_laws = [law for law in all_laws if law.get('parts') or law.get('chapters') or law.get('articles')]\n",
    "\n",
    "# save_to_jsonl(all_laws, 'data/backup/laws_merged.jsonl')"
   ],
   "metadata": {
    "collapsed": false,
    "ExecuteTime": {
     "start_time": "2024-06-08T02:21:18.243615Z",
     "end_time": "2024-06-08T02:21:18.577859Z"
    }
   }
  },
  {
   "cell_type": "code",
   "execution_count": null,
   "outputs": [],
   "source": [],
   "metadata": {
    "collapsed": false
   }
  }
 ],
 "metadata": {
  "kernelspec": {
   "display_name": "Python 3",
   "language": "python",
   "name": "python3"
  },
  "language_info": {
   "codemirror_mode": {
    "name": "ipython",
    "version": 2
   },
   "file_extension": ".py",
   "mimetype": "text/x-python",
   "name": "python",
   "nbconvert_exporter": "python",
   "pygments_lexer": "ipython2",
   "version": "2.7.6"
  }
 },
 "nbformat": 4,
 "nbformat_minor": 0
}
