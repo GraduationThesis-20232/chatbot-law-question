{
 "cells": [
  {
   "cell_type": "code",
   "execution_count": 1,
   "metadata": {
    "collapsed": true,
    "ExecuteTime": {
     "start_time": "2024-06-12T17:18:26.146160Z",
     "end_time": "2024-06-12T17:18:31.887176Z"
    }
   },
   "outputs": [],
   "source": [
    "import numpy as np\n",
    "from sentence_transformers import SentenceTransformer\n",
    "from text_untils import *\n",
    "import pickle\n",
    "import pandas as pd\n",
    "import json\n",
    "from sklearn.metrics.pairwise import cosine_similarity"
   ]
  },
  {
   "cell_type": "code",
   "execution_count": 2,
   "outputs": [],
   "source": [
    "with open('output/bm25/bm25plus.pkl', 'rb') as f:\n",
    "    bm25plus = pickle.load(f)"
   ],
   "metadata": {
    "collapsed": false,
    "ExecuteTime": {
     "start_time": "2024-06-12T17:18:31.889174Z",
     "end_time": "2024-06-12T17:18:33.534201Z"
    }
   }
  },
  {
   "cell_type": "code",
   "execution_count": 3,
   "outputs": [],
   "source": [
    "def load_docs_from_file(file_path):\n",
    "    docs = []\n",
    "    with open(file_path, 'r', encoding='utf-8') as file:\n",
    "        for line in file:\n",
    "            try:\n",
    "                doc = json.loads(line)\n",
    "                docs.append(doc)\n",
    "            except json.JSONDecodeError:\n",
    "                continue\n",
    "\n",
    "    return docs\n",
    "\n",
    "docs = load_docs_from_file('output/bm25/docs.jsonl')"
   ],
   "metadata": {
    "collapsed": false,
    "ExecuteTime": {
     "start_time": "2024-06-12T17:18:33.539197Z",
     "end_time": "2024-06-12T17:18:36.270924Z"
    }
   }
  },
  {
   "cell_type": "code",
   "execution_count": 4,
   "outputs": [
    {
     "name": "stdout",
     "output_type": "stream",
     "text": [
      "['đi', 'xe_máy', 'đội', 'mũ', 'bảo_hiểm', 'phạt', 'bao_nhiêu', 'tiền']\n"
     ]
    }
   ],
   "source": [
    "query = \"Đi xe máy không đội mũ bảo hiểm bị phạt bao nhiêu tiền?\"\n",
    "query = clean_text(query)\n",
    "query = word_segment(query)\n",
    "query = remove_stopword(normalize_text(query))\n",
    "\n",
    "query_bm25 = query.split()\n",
    "print(query_bm25)"
   ],
   "metadata": {
    "collapsed": false,
    "ExecuteTime": {
     "start_time": "2024-06-12T17:18:36.274925Z",
     "end_time": "2024-06-12T17:18:36.311291Z"
    }
   }
  },
  {
   "cell_type": "code",
   "execution_count": 5,
   "outputs": [],
   "source": [
    "top_docs = bm25plus.get_top_n(query_bm25, docs, n=100)\n",
    "bm25_scores = bm25plus.get_scores(query)\n",
    "doc_scores = np.sort(bm25_scores)[::-1][:100]"
   ],
   "metadata": {
    "collapsed": false,
    "ExecuteTime": {
     "start_time": "2024-06-12T17:18:36.303269Z",
     "end_time": "2024-06-12T17:18:40.172613Z"
    }
   }
  },
  {
   "cell_type": "code",
   "execution_count": 6,
   "outputs": [
    {
     "name": "stdout",
     "output_type": "stream",
     "text": [
      "ID: 6663569cc2f544363eec469b, Document: đi xe_máy đội mũ bảo_hiểm lái_xe phạt bao_nhiêu tiền, Score: 349.73307725695133\n",
      "ID: 6663573bc2f544363eeea8e6, Document: phạt đội mũ bảo_hiểm đi xe_máy, Score: 348.910813820627\n",
      "ID: 6663569cc2f544363eec510a, Document: xe_máy đội mũ bảo_hiểm phạt bao_nhiêu, Score: 348.32608544151094\n",
      "ID: 6663569ac2f544363eec2487, Document: trường_hợp đội mũ bảo_hiểm đi xe_máy phạt, Score: 347.38645647042216\n",
      "ID: 666356a0c2f544363eec8ace, Document: đi xe_máy đội mũ bảo_hiểm phạt thế_nào, Score: 347.0957296729322\n",
      "ID: 6663569fc2f544363eec876d, Document: trường_hợp đội mũ bảo_hiểm đi xe_máy phạt, Score: 347.0957296729322\n",
      "ID: 6663569cc2f544363eec4985, Document: phạt lỗi đi xe_máy đội mũ bảo_hiểm 2024 bao_nhiêu, Score: 347.0957296729322\n",
      "ID: 6663569ac2f544363eec2486, Document: đội mũ bảo_hiểm phạt bao_nhiêu tiền, Score: 346.54357155517465\n",
      "ID: 6663569fc2f544363eec8555, Document: đội mũ bảo_hiểm giấy_tờ xe_máy phạt bao_nhiêu, Score: 344.762855512981\n",
      "ID: 6663569dc2f544363eec6414, Document: điều_khiển xe_máy đội mũ bảo_hiểm phạt bao_nhiêu, Score: 344.762855512981\n",
      "ID: 6663569fc2f544363eec8443, Document: trẻ_em đội mũ bảo_hiểm đi xe_máy, Score: 344.762855512981\n",
      "ID: 6663569fc2f544363eec8196, Document: hai vợ_chồng đi xe_máy đội mũ bảo_hiểm tổng_mức phạt bao_nhiêu, Score: 344.762855512981\n",
      "ID: 6663569dc2f544363eec53e2, Document: phạt đối_với xe_máy đội mũ bảo_hiểm, Score: 344.762855512981\n",
      "ID: 6663569cc2f544363eec4007, Document: chở đội mũ bảo_hiểm đi xe_máy_điện phạt bao_nhiêu tiền, Score: 344.762855512981\n",
      "ID: 6663569ac2f544363eec23c3, Document: đi xe_đạp điện đội mũ bảo_hiểm phạt bao_nhiêu tiền, Score: 344.762855512981\n",
      "ID: 6663569ec2f544363eec7177, Document: xe_máy đội mũ bảo_hiểm cài quai_bị phạt bao_nhiêu, Score: 343.5930791705133\n",
      "ID: 6663569bc2f544363eec36f1, Document: 17 chạy xe_máy tốc_độ đội mũ bảo_hiểm phạt bao_nhiêu tiền, Score: 343.2439821617888\n",
      "ID: 6663569cc2f544363eec4d08, Document: đi xe_máy đường làng đội mũ bảo_hiểm, Score: 342.9121849278276\n",
      "ID: 6663569cc2f544363eec3f77, Document: xử_phạt đi xe_máy chở đội mũ bảo_hiểm, Score: 341.26931205269534\n",
      "ID: 6663569ac2f544363eec2cba, Document: đi xe_máy đường làng đội mũ bảo_hiểm, Score: 341.26931205269534\n",
      "ID: 6663569dc2f544363eec5d9b, Document: xử_phạt đội mũ bảo_hiểm tai_nạn đi xe_máy, Score: 341.26931205269534\n",
      "ID: 6663569cc2f544363eec46ab, Document: trường_hợp xe_máy đội mũ bảo_hiểm, Score: 341.26931205269534\n",
      "ID: 6663569ac2f544363eec2333, Document: xe_máy bắt_buộc đội mũ bảo_hiểm, Score: 341.26931205269534\n",
      "ID: 6663569bc2f544363eec3bf5, Document: trẻ 15 điều_khiển xe_máy đội mũ bảo_hiểm phạt tiền, Score: 341.26931205269534\n",
      "ID: 66635739c2f544363eee8963, Document: phạt đội mũ bảo_hiểm, Score: 341.26931205269534\n",
      "ID: 66635738c2f544363eee8062, Document: điều_khiển xe_máy đội mũ bảo_hiểm cài quai_bị phạt bao_nhiêu, Score: 341.26931205269534\n",
      "ID: 6663569fc2f544363eec74bf, Document: đội mũ bảo_hiểm trẻ_em phạt bao_nhiêu, Score: 341.26931205269534\n",
      "ID: 6663569ac2f544363eec286c, Document: đội mũ bảo_hiểm trẻ_em phạt bao_nhiêu, Score: 341.26931205269534\n",
      "ID: 6663573bc2f544363eeeaab0, Document: đi xe_máy đội mũ bảo_hiểm buộc lập biên_bản, Score: 341.26931205269534\n",
      "ID: 6663569ac2f544363eec1fc4, Document: đội mũ bảo_hiểm_rởm phạt bao_nhiêu tiền, Score: 341.26931205269534\n",
      "ID: 6663569bc2f544363eec3553, Document: đi xe_máy đội mũ bảo_hiểm xử_phạt bao_nhiêu 01 08 2016, Score: 341.26931205269534\n",
      "ID: 6663569ac2f544363eec24b8, Document: đi xe_đạp điện đội mũ bảo_hiểm phạt, Score: 340.8211162105984\n",
      "ID: 6663569ac2f544363eec1fdb, Document: lỗi đội mũ bảo_hiểm đi xe hè phạt bao_nhiêu, Score: 340.27473747698014\n",
      "ID: 6663573ac2f544363eeea0b6, Document: nộp phạt tại_chỗ chạy xe_máy đội mũ bảo_hiểm, Score: 339.6227237497198\n",
      "ID: 6663569ac2f544363eec2c6e, Document: chở trẻ_em 06 đội mũ bảo_hiểm phạt bao_nhiêu tiền, Score: 338.28663832273185\n",
      "ID: 6663569bc2f544363eec306d, Document: xe_đạp điện đội mũ bảo_hiểm phạt tiền, Score: 338.28663832273185\n",
      "ID: 666356a0c2f544363eec8acf, Document: đi xe_đạp đội mũ bảo_hiểm_phạt bao_nhiêu tiền, Score: 338.28663832273185\n",
      "ID: 6663569fc2f544363eec8322, Document: đi xe_máy bảo_hiểm phạt bao_nhiêu tiền, Score: 338.28663832273185\n",
      "ID: 6663569fc2f544363eec83f1, Document: đội mũ bảo_hiểm chạy tốc_độ phạt bao_nhiêu, Score: 338.28663832273185\n",
      "ID: 6663569fc2f544363eec7b41, Document: phạt xe_máy_điện đội mũ bảo_hiểm, Score: 338.28663832273185\n",
      "ID: 6663569ac2f544363eec22a9, Document: trẻ_em bao_nhiêu đội mũ bảo_hiểm, Score: 338.28663832273185\n",
      "ID: 6663569cc2f544363eec3e15, Document: trẻ_em bao_nhiêu đội mũ bảo_hiểm, Score: 338.28663832273185\n",
      "ID: 6663569dc2f544363eec5db7, Document: chở 2 đi cấp_cứu đội mũ bảo_hiểm phạt, Score: 338.28663832273185\n",
      "ID: 66635739c2f544363eee854a, Document: đội mũ bảo_hiểm_phạt bao_nhiêu tiền, Score: 338.28663832273185\n",
      "ID: 6663569ec2f544363eec6f7d, Document: đi xe_đạp liệu đội mũ bảo_hiểm, Score: 338.28663832273185\n",
      "ID: 6663569bc2f544363eec3252, Document: đi xe_đạp điện đội mũ bảo_hiểm, Score: 338.28663832273185\n",
      "ID: 6663569bc2f544363eec3147, Document: đi xe_đạp điện đội mũ bảo_hiểm, Score: 338.28663832273185\n",
      "ID: 6663569ec2f544363eec6a7d, Document: đi xe_đạp đội mũ bảo_hiểm xử_phạt, Score: 338.28663832273185\n",
      "ID: 6663569cc2f544363eec4456, Document: đi xe_đạp điện đội mũ bảo_hiểm, Score: 338.28663832273185\n",
      "ID: 6663569dc2f544363eec524b, Document: đi xe_đạp điện đội mũ bảo_hiểm, Score: 338.28663832273185\n",
      "ID: 6663569ec2f544363eec67d7, Document: xe_máy đội mũ bảo_hiểm phạt thế_nào 01 08 2016, Score: 338.28663832273185\n",
      "ID: 6663569ec2f544363eec6dc6, Document: đội mũ bảo_hiểm điều_khiển xe tham_gia giao_thông phạt bao_nhiêu tiền, Score: 338.28663832273185\n",
      "ID: 6663569fc2f544363eec74da, Document: phạt bao_nhiêu đi xe_máy bảo_hiểm xe_máy, Score: 338.28663832273185\n",
      "ID: 6663569ac2f544363eec2956, Document: 16 lái xe_máy đội mũ bảo_hiểm xe, Score: 338.28663832273185\n",
      "ID: 6663569fc2f544363eec876e, Document: chở xe_máy tham_gia giao_thông đội mũ bảo_hiểm_phạt bao_nhiêu tiền, Score: 338.28663832273185\n",
      "ID: 6663569ac2f544363eec2236, Document: đi xe_máy đội mũ bảo_hiểm xử_phạt thế_nào 01 08 2016, Score: 338.28663832273185\n",
      "ID: 6663569ec2f544363eec69ef, Document: phạt đội mũ bảo_hiểm kém chất_lượng, Score: 338.28663832273185\n",
      "ID: 6663569cc2f544363eec4dc7, Document: phạt lỗi đội mũ bảo_hiểm chứng_minh, Score: 338.28663832273185\n",
      "ID: 66635738c2f544363eee7e74, Document: mũ bảo_hiểm đánh phạt bao_nhiêu tiền, Score: 338.28663832273185\n",
      "ID: 6663569ac2f544363eec2335, Document: thế_nào đội mũ bảo_hiểm, Score: 338.28663832273185\n",
      "ID: 6663569dc2f544363eec5c48, Document: quy_định đội mũ bảo_hiểm, Score: 338.28663832273185\n",
      "ID: 6663569fc2f544363eec876f, Document: xe_đạp đội mũ bảo_hiểm, Score: 338.28663832273185\n",
      "ID: 6663569bc2f544363eec3ab5, Document: đội mũ bảo_hiểm giam, Score: 338.28663832273185\n",
      "ID: 6663569bc2f544363eec2f98, Document: lỗi đội mũ bảo_hiểm, Score: 338.28663832273185\n",
      "ID: 6663569ac2f544363eec21a4, Document: hai đội mũ bảo_hiểm tham_gia giao_thông phạt bao_nhiêu tiền quy_định 2023, Score: 338.28663832273185\n",
      "ID: 6663569dc2f544363eec5155, Document: đi xe ngõ đội mũ bảo_hiểm xử_phạt, Score: 338.28663832273185\n",
      "ID: 6663569ac2f544363eec23c2, Document: đi xe_đạp điện bắt_buộc đội mũ bảo_hiểm, Score: 338.28663832273185\n",
      "ID: 6663569ac2f544363eec2334, Document: đội mũ bảo_hiểm_phạt bao_nhiêu tiền 2024, Score: 338.28663832273185\n",
      "ID: 6663569fc2f544363eec8391, Document: đi xe_đạp điện đội nón bảo_hiểm phạt phạt bao_nhiêu tiền, Score: 338.28663832273185\n",
      "ID: 6663569ec2f544363eec6901, Document: phân_loại mũ bảo_hiểm đi mô_tô xe_máy, Score: 338.28663832273185\n",
      "ID: 6663569fc2f544363eec7790, Document: đi xe_máy phạt bao_nhiêu tiền, Score: 338.28663832273185\n",
      "ID: 6663569fc2f544363eec877e, Document: xe_máy đội nón bảo_hiểm phạt, Score: 338.28663832273185\n",
      "ID: 6663569cc2f544363eec5040, Document: bảo_hiểm xe_máy phạt bao_nhiêu tiền, Score: 338.28663832273185\n",
      "ID: 6663569ac2f544363eec270c, Document: đội mũ bảo_hiểm chấp_hành lệnh dừng xe phạt bao_nhiêu, Score: 338.28663832273185\n",
      "ID: 6663569cc2f544363eec46d0, Document: điều_khiển xe_đạp điện chở đội mũ bảo_hiểm phạt bao_nhiêu, Score: 338.28663832273185\n",
      "ID: 6663569bc2f544363eec2f97, Document: lỗi đội mũ bảo_hiểm 2024 phạt kịch khung bao_nhiêu, Score: 338.28663832273185\n",
      "ID: 6663569ac2f544363eec22d6, Document: đội mũ bảo_hiểm lái giấy_tờ xe gương phạt bao_nhiêu, Score: 338.28663832273185\n",
      "ID: 6663569fc2f544363eec7591, Document: điều_khiển mô_tô đội mũ bảo_hiểm giấy_phép lái_xe phạt bao_nhiêu, Score: 338.28663832273185\n",
      "ID: 6663569ac2f544363eec1fa9, Document: đội mũ bảo_hiểm_rởm phạt, Score: 338.28663832273185\n",
      "ID: 6663569fc2f544363eec8766, Document: phạt đội mũ bảo_hiểm giai_đoạn 2003 2006, Score: 338.28663832273185\n",
      "ID: 6663569ac2f544363eec2bf3, Document: phạt đội mũ bảo_hiểm giai_đoạn 2001 2003, Score: 338.28663832273185\n",
      "ID: 6663569fc2f544363eec7ece, Document: phạt đội mũ bảo_hiểm giai_đoạn 2006 2007, Score: 338.28663832273185\n",
      "ID: 6663569fc2f544363eec8372, Document: phạt đội mũ bảo_hiểm giai_đoạn 2012 2014, Score: 338.28663832273185\n",
      "ID: 6663569ac2f544363eec21a6, Document: phạt lỗi đội mũ bảo_hiểm lập biên_bản, Score: 338.28663832273185\n",
      "ID: 6663569fc2f544363eec7ea3, Document: phạt đội mũ bảo_hiểm giai_đoạn 2007 2010, Score: 338.11492602949824\n",
      "ID: 6663569cc2f544363eec4a8f, Document: phạt đội mũ bảo_hiểm giai_đoạn 2010 2012, Score: 337.9820656610946\n",
      "ID: 6663569bc2f544363eec3c3f, Document: điều_khiển xe_máy bảo_hiểm xe_máy phạt bao_nhiêu tiền, Score: 336.7550888192446\n",
      "ID: 6663569ac2f544363eec2c6d, Document: trẻ_em bao_nhiêu đội mũ bảo_hiểm tham_gia giao_thông, Score: 336.7406291607543\n",
      "ID: 6663569bc2f544363eec3116, Document: điều_khiển xe_máy_điện xe_đạp điện đội mũ bảo_hiểm lưu_thông đường_bộ phạt bao_nhiêu tiền, Score: 336.40869306183083\n",
      "ID: 6663569bc2f544363eec359f, Document: đi xe_máy đội mũ bảo_hiểm cài quai_bị xử_phạt thế_nào 01 08 2016, Score: 335.98563306971215\n",
      "ID: 6663569fc2f544363eec856b, Document: xe_đạp điện đội mũ bảo_hiểm_phạt bao_nhiêu tiền, Score: 335.7104107206967\n",
      "ID: 66635736c2f544363eee6093, Document: đội mũ bảo_hiểm điều_khiển xử_phạt, Score: 335.7104107206967\n",
      "ID: 66635739c2f544363eee84e6, Document: đội mũ bảo_hiểm tham_gia giao_thông, Score: 335.7104107206967\n",
      "ID: 6663569ac2f544363eec2a20, Document: xử_phạt đội mũ bảo_hiểm trẻ_em, Score: 335.7104107206967\n",
      "ID: 6663569ec2f544363eec6710, Document: đội mũ bảo_hiểm thế_nào quy_định, Score: 335.7104107206967\n",
      "ID: 66635735c2f544363eee502b, Document: 1 mũ bảo_hiểm lái_xe đội, Score: 335.7104107206967\n",
      "ID: 6663569dc2f544363eec5de2, Document: đội mũ bảo_hiểm tạm xe, Score: 335.7104107206967\n",
      "ID: 66635735c2f544363eee4d09, Document: xử_phạt hành_vi đội mũ bảo_hiểm, Score: 335.7104107206967\n",
      "ID: 6663569bc2f544363eec31a1, Document: xe_đạp điện đội mũ bảo_hiểm, Score: 335.7104107206967\n",
      "ID: 6663569fc2f544363eec7d24, Document: lô hàng_hóa mũ bảo_hiểm đi mô_tô xe_máy, Score: 335.7104107206967\n"
     ]
    }
   ],
   "source": [
    "for doc_dict, score in zip(top_docs, doc_scores):\n",
    "    doc_id = doc_dict['id']\n",
    "    doc_title = doc_dict['title']\n",
    "    print(f\"ID: {doc_id}, Document: {doc_title}, Score: {score}\")"
   ],
   "metadata": {
    "collapsed": false,
    "ExecuteTime": {
     "start_time": "2024-06-12T17:18:40.177607Z",
     "end_time": "2024-06-12T17:18:40.183611Z"
    }
   }
  },
  {
   "cell_type": "code",
   "execution_count": 7,
   "outputs": [
    {
     "name": "stdout",
     "output_type": "stream",
     "text": [
      "đi xe_máy đội mũ bảo_hiểm phạt bao_nhiêu tiền\n"
     ]
    }
   ],
   "source": [
    "# query_sbert = query.replace('_', ' ') # for keepitreal/vietnamese-sbert\n",
    "query_sbert = query # for bkai/vietnamese-bi-encoder\n",
    "print(query_sbert)"
   ],
   "metadata": {
    "collapsed": false,
    "ExecuteTime": {
     "start_time": "2024-06-12T17:18:40.183611Z",
     "end_time": "2024-06-12T17:18:40.291582Z"
    }
   }
  },
  {
   "cell_type": "code",
   "execution_count": 8,
   "outputs": [],
   "source": [
    "from pymongo import MongoClient\n",
    "from bson import ObjectId\n",
    "import pandas as pd\n",
    "\n",
    "def get_selected_rows_from_mongodb(database_name, collection_name, top_docs):\n",
    "    client = MongoClient('mongodb://localhost:27017/')\n",
    "    db = client[database_name]\n",
    "    collection = db[collection_name]\n",
    "\n",
    "    doc_ids = [ObjectId(doc_dict['id']) for doc_dict in top_docs]\n",
    "\n",
    "    cursor = collection.find({'_id': {'$in': doc_ids}})\n",
    "    data = list(cursor)\n",
    "    df = pd.DataFrame(data)\n",
    "\n",
    "    # client.close()\n",
    "    return df"
   ],
   "metadata": {
    "collapsed": false,
    "ExecuteTime": {
     "start_time": "2024-06-12T17:18:40.220583Z",
     "end_time": "2024-06-12T17:18:40.452063Z"
    }
   }
  },
  {
   "cell_type": "code",
   "execution_count": 9,
   "outputs": [],
   "source": [
    "selected_rows = get_selected_rows_from_mongodb('lawlaboratory', 'questions_cleaned', top_docs)"
   ],
   "metadata": {
    "collapsed": false,
    "ExecuteTime": {
     "start_time": "2024-06-12T17:18:40.453066Z",
     "end_time": "2024-06-12T17:18:40.550730Z"
    }
   }
  },
  {
   "cell_type": "code",
   "execution_count": 10,
   "outputs": [
    {
     "data": {
      "text/plain": "                         _id  \\\n99  6663573bc2f544363eeeaab0   \n25  6663569bc2f544363eec2f98   \n38  6663569cc2f544363eec3f77   \n97  6663573ac2f544363eeea0b6   \n33  6663569bc2f544363eec36f1   \n\n                                                title  \\\n99  Đi xe máy không đội mũ bảo hiểm có buộc lập bi...   \n25    Lỗi không đội mũ bảo hiểm có bị giữ bằng không?   \n38  Có bị xử phạt khi đi xe máy chở ba người, khôn...   \n97  Có được nộp phạt tại chỗ khi chạy xe máy không...   \n33  17 tuổi chạy xe máy vượt tốc độ, không đội mũ ...   \n\n                                          description date_answer  \\\n99  Chào tổ tư vấn. Vừa rồi chú tôi điều khiển xe ...  2019-11-27   \n25                                               None  2024-06-03   \n38  Hôm trước nhà mình có người bà bị bệnh phải ch...  2021-12-06   \n97  Ban biên tập cho tôi hỏi: Trong trường hợp chạ...  2020-03-10   \n33  17 tuổi chạy xe máy vượt tốc độ 10km/h, không ...  2021-03-03   \n\n                 field                                         source_url  \\\n99  Vi phạm hành chính  https://thuvienphapluat.vn/hoi-dap-phap-luat/4...   \n25  Giao thông vận tải  https://thuvienphapluat.vn/hoi-dap-phap-luat/8...   \n38  Giao thông vận tải  https://thuvienphapluat.vn/hoi-dap-phap-luat/5...   \n97  Vi phạm hành chính  https://thuvienphapluat.vn/hoi-dap-phap-luat/4...   \n33  Giao thông vận tải  https://thuvienphapluat.vn/hoi-dap-phap-luat/5...   \n\n                                           conclusion  \\\n99  [Căn cứ Điểm d Khoản 4 Điều 8 Nghị định 46/201...   \n25  [Theo đó, tại Nghị định 100/2019/NĐ-CP không q...   \n38  [Căn cứ Khoản 1 Điều 30 Luật giao thông đường ...   \n97  [Tại Điểm i, Điểm k Khoản 2 Điều 6 Nghị định 1...   \n33  [Cơ sở xử phạt: Nghị định 100/2019/NĐ-CP., Lỗi...   \n\n                                            reference  \\\n99                                               None   \n25  Căn cứ Điều 125 Luật Xử lý vi phạm hành chính ...   \n38                                               None   \n97                                               None   \n33                                               None   \n\n                                                quote  \n99                                               None  \n25  {'name': 'Điều 82. Tạm giữ phương tiện, giấy t...  \n38                                               None  \n97                                               None  \n33                                               None  ",
      "text/html": "<div>\n<style scoped>\n    .dataframe tbody tr th:only-of-type {\n        vertical-align: middle;\n    }\n\n    .dataframe tbody tr th {\n        vertical-align: top;\n    }\n\n    .dataframe thead th {\n        text-align: right;\n    }\n</style>\n<table border=\"1\" class=\"dataframe\">\n  <thead>\n    <tr style=\"text-align: right;\">\n      <th></th>\n      <th>_id</th>\n      <th>title</th>\n      <th>description</th>\n      <th>date_answer</th>\n      <th>field</th>\n      <th>source_url</th>\n      <th>conclusion</th>\n      <th>reference</th>\n      <th>quote</th>\n    </tr>\n  </thead>\n  <tbody>\n    <tr>\n      <th>99</th>\n      <td>6663573bc2f544363eeeaab0</td>\n      <td>Đi xe máy không đội mũ bảo hiểm có buộc lập bi...</td>\n      <td>Chào tổ tư vấn. Vừa rồi chú tôi điều khiển xe ...</td>\n      <td>2019-11-27</td>\n      <td>Vi phạm hành chính</td>\n      <td>https://thuvienphapluat.vn/hoi-dap-phap-luat/4...</td>\n      <td>[Căn cứ Điểm d Khoản 4 Điều 8 Nghị định 46/201...</td>\n      <td>None</td>\n      <td>None</td>\n    </tr>\n    <tr>\n      <th>25</th>\n      <td>6663569bc2f544363eec2f98</td>\n      <td>Lỗi không đội mũ bảo hiểm có bị giữ bằng không?</td>\n      <td>None</td>\n      <td>2024-06-03</td>\n      <td>Giao thông vận tải</td>\n      <td>https://thuvienphapluat.vn/hoi-dap-phap-luat/8...</td>\n      <td>[Theo đó, tại Nghị định 100/2019/NĐ-CP không q...</td>\n      <td>Căn cứ Điều 125 Luật Xử lý vi phạm hành chính ...</td>\n      <td>{'name': 'Điều 82. Tạm giữ phương tiện, giấy t...</td>\n    </tr>\n    <tr>\n      <th>38</th>\n      <td>6663569cc2f544363eec3f77</td>\n      <td>Có bị xử phạt khi đi xe máy chở ba người, khôn...</td>\n      <td>Hôm trước nhà mình có người bà bị bệnh phải ch...</td>\n      <td>2021-12-06</td>\n      <td>Giao thông vận tải</td>\n      <td>https://thuvienphapluat.vn/hoi-dap-phap-luat/5...</td>\n      <td>[Căn cứ Khoản 1 Điều 30 Luật giao thông đường ...</td>\n      <td>None</td>\n      <td>None</td>\n    </tr>\n    <tr>\n      <th>97</th>\n      <td>6663573ac2f544363eeea0b6</td>\n      <td>Có được nộp phạt tại chỗ khi chạy xe máy không...</td>\n      <td>Ban biên tập cho tôi hỏi: Trong trường hợp chạ...</td>\n      <td>2020-03-10</td>\n      <td>Vi phạm hành chính</td>\n      <td>https://thuvienphapluat.vn/hoi-dap-phap-luat/4...</td>\n      <td>[Tại Điểm i, Điểm k Khoản 2 Điều 6 Nghị định 1...</td>\n      <td>None</td>\n      <td>None</td>\n    </tr>\n    <tr>\n      <th>33</th>\n      <td>6663569bc2f544363eec36f1</td>\n      <td>17 tuổi chạy xe máy vượt tốc độ, không đội mũ ...</td>\n      <td>17 tuổi chạy xe máy vượt tốc độ 10km/h, không ...</td>\n      <td>2021-03-03</td>\n      <td>Giao thông vận tải</td>\n      <td>https://thuvienphapluat.vn/hoi-dap-phap-luat/5...</td>\n      <td>[Cơ sở xử phạt: Nghị định 100/2019/NĐ-CP., Lỗi...</td>\n      <td>None</td>\n      <td>None</td>\n    </tr>\n  </tbody>\n</table>\n</div>"
     },
     "execution_count": 10,
     "metadata": {},
     "output_type": "execute_result"
    }
   ],
   "source": [
    "selected_rows.sample(5)"
   ],
   "metadata": {
    "collapsed": false,
    "ExecuteTime": {
     "start_time": "2024-06-12T17:18:40.556729Z",
     "end_time": "2024-06-12T17:18:40.576556Z"
    }
   }
  },
  {
   "cell_type": "code",
   "execution_count": 11,
   "outputs": [],
   "source": [
    "sentences_title = []\n",
    "ids_title = []\n",
    "\n",
    "for idx in selected_rows.index:\n",
    "    sentences_title.append(selected_rows.at[idx, 'title'])\n",
    "    ids_title.append(selected_rows.at[idx, '_id'])"
   ],
   "metadata": {
    "collapsed": false,
    "ExecuteTime": {
     "start_time": "2024-06-12T17:18:40.574591Z",
     "end_time": "2024-06-12T17:18:40.581572Z"
    }
   }
  },
  {
   "cell_type": "code",
   "execution_count": 12,
   "outputs": [],
   "source": [
    "segmented_sentences_title = [word_segment(sentence) for sentence in sentences_title]"
   ],
   "metadata": {
    "collapsed": false,
    "ExecuteTime": {
     "start_time": "2024-06-12T17:18:40.580569Z",
     "end_time": "2024-06-12T17:18:40.677742Z"
    }
   }
  },
  {
   "cell_type": "code",
   "execution_count": 13,
   "outputs": [],
   "source": [
    "import torch\n",
    "def mean_pooling(model_output, attention_mask):\n",
    "    token_embeddings = model_output[0] #First element of model_output contains all token embeddings\n",
    "    input_mask_expanded = attention_mask.unsqueeze(-1).expand(token_embeddings.size()).float()\n",
    "    return torch.sum(token_embeddings * input_mask_expanded, 1) / torch.clamp(input_mask_expanded.sum(1), min=1e-9)"
   ],
   "metadata": {
    "collapsed": false,
    "ExecuteTime": {
     "start_time": "2024-06-12T17:18:40.628872Z",
     "end_time": "2024-06-12T17:18:40.677742Z"
    }
   }
  },
  {
   "cell_type": "code",
   "execution_count": 14,
   "outputs": [],
   "source": [
    "from transformers import AutoTokenizer, AutoModel\n",
    "\n",
    "tokenizer = AutoTokenizer.from_pretrained('bkai-foundation-models/vietnamese-bi-encoder')\n",
    "model = AutoModel.from_pretrained('bkai-foundation-models/vietnamese-bi-encoder')\n",
    "model = model.to('cuda')"
   ],
   "metadata": {
    "collapsed": false,
    "ExecuteTime": {
     "start_time": "2024-06-12T17:18:40.636756Z",
     "end_time": "2024-06-12T17:18:43.414453Z"
    }
   }
  },
  {
   "cell_type": "code",
   "execution_count": 15,
   "outputs": [
    {
     "name": "stderr",
     "output_type": "stream",
     "text": [
      "Asking to truncate to max_length but no maximum length is provided and the model has no predefined maximum length. Default to no truncation.\n"
     ]
    }
   ],
   "source": [
    "encoded_input_title = tokenizer(sentences_title, padding=True, truncation=True, return_tensors='pt')\n",
    "encoded_input_title = {key: value.to('cuda') for key, value in encoded_input_title.items()}"
   ],
   "metadata": {
    "collapsed": false,
    "ExecuteTime": {
     "start_time": "2024-06-12T17:18:43.416452Z",
     "end_time": "2024-06-12T17:18:43.433619Z"
    }
   }
  },
  {
   "cell_type": "code",
   "execution_count": 16,
   "outputs": [],
   "source": [
    "with torch.no_grad():\n",
    "    model_output = model(**encoded_input_title)"
   ],
   "metadata": {
    "collapsed": false,
    "ExecuteTime": {
     "start_time": "2024-06-12T17:18:43.433619Z",
     "end_time": "2024-06-12T17:18:46.547270Z"
    }
   }
  },
  {
   "cell_type": "code",
   "execution_count": 17,
   "outputs": [],
   "source": [
    "embeddings_title = mean_pooling(model_output, encoded_input_title['attention_mask'])\n",
    "embeddings_title = embeddings_title.cpu().numpy()"
   ],
   "metadata": {
    "collapsed": false,
    "ExecuteTime": {
     "start_time": "2024-06-12T17:18:46.549256Z",
     "end_time": "2024-06-12T17:18:46.982148Z"
    }
   }
  },
  {
   "cell_type": "code",
   "execution_count": 18,
   "outputs": [],
   "source": [
    "encoded_query = tokenizer([query_sbert], padding=True, truncation=True, return_tensors='pt')\n",
    "encoded_query = {key: value.to('cuda') for key, value in encoded_query.items()}"
   ],
   "metadata": {
    "collapsed": false,
    "ExecuteTime": {
     "start_time": "2024-06-12T17:18:46.987149Z",
     "end_time": "2024-06-12T17:18:47.024361Z"
    }
   }
  },
  {
   "cell_type": "code",
   "execution_count": 19,
   "outputs": [],
   "source": [
    "with torch.no_grad():\n",
    "    model_output_query = model(**encoded_query)\n",
    "\n",
    "embeddings_query = mean_pooling(model_output_query, encoded_query['attention_mask'])\n",
    "embeddings_query = embeddings_query.cpu().numpy()"
   ],
   "metadata": {
    "collapsed": false,
    "ExecuteTime": {
     "start_time": "2024-06-12T17:18:47.016363Z",
     "end_time": "2024-06-12T17:18:47.048525Z"
    }
   }
  },
  {
   "cell_type": "code",
   "execution_count": 20,
   "outputs": [],
   "source": [
    "from sklearn.metrics.pairwise import cosine_similarity\n",
    "\n",
    "similarities_title = cosine_similarity(embeddings_query, embeddings_title)"
   ],
   "metadata": {
    "collapsed": false,
    "ExecuteTime": {
     "start_time": "2024-06-12T17:18:47.040891Z",
     "end_time": "2024-06-12T17:18:47.048525Z"
    }
   }
  },
  {
   "cell_type": "code",
   "execution_count": 21,
   "outputs": [
    {
     "name": "stdout",
     "output_type": "stream",
     "text": [
      "ID: 6663569dc2f544363eec6414, Similarity Score: 0.7394, Sentence: Điều khiển xe máy không đội mũ bảo hiểm bị phạt bao nhiêu?\n",
      "ID: 6663569cc2f544363eec510a, Similarity Score: 0.7346, Sentence: Người ngồi trên xe máy không đội mũ bảo hiểm bị phạt bao nhiêu?\n",
      "ID: 6663569fc2f544363eec856b, Similarity Score: 0.7206, Sentence: Xe đạp điện không đội mũ bảo hiểm phạt bao nhiêu tiền?\n",
      "ID: 666356a0c2f544363eec8ace, Similarity Score: 0.7181, Sentence: Đi xe máy không đội mũ bảo hiểm bị phạt thế nào?\n",
      "ID: 6663569cc2f544363eec4985, Similarity Score: 0.7014, Sentence: Mức phạt lỗi đi xe máy không đội mũ bảo hiểm 2024 là bao nhiêu?\n",
      "ID: 6663569dc2f544363eec53e2, Similarity Score: 0.6971, Sentence: Có phạt đối với người ngồi trên xe máy không đội mũ bảo hiểm không?\n",
      "ID: 6663569fc2f544363eec7b41, Similarity Score: 0.6903, Sentence: Mức phạt khi người ngồi trên xe máy điện không đội mũ bảo hiểm\n",
      "ID: 6663569ac2f544363eec23c3, Similarity Score: 0.6798, Sentence: Người đi xe đạp điện không đội mũ bảo hiểm bị phạt bao nhiêu tiền?\n",
      "ID: 666356a0c2f544363eec8acf, Similarity Score: 0.6793, Sentence: Đi xe đạp không đội mũ bảo hiểm phạt bao nhiêu tiền?\n",
      "ID: 66635739c2f544363eee854a, Similarity Score: 0.6717, Sentence: Không đội mũ bảo hiểm phạt bao nhiêu tiền?\n",
      "ID: 6663569bc2f544363eec3bf5, Similarity Score: 0.6660, Sentence: Trẻ 15 tuổi điều khiển xe máy không đội mũ bảo hiểm có bị phạt tiền?\n",
      "ID: 6663569ac2f544363eec2486, Similarity Score: 0.6589, Sentence: Không đội mũ bảo hiểm bị phạt bao nhiêu tiền?\n",
      "ID: 6663569ac2f544363eec2956, Similarity Score: 0.6583, Sentence: Người dưới 16 tuổi lái xe máy không đội mũ bảo hiểm có bị giữ xe không?\n",
      "ID: 6663569ac2f544363eec2236, Similarity Score: 0.6558, Sentence: Đi xe máy không đội mũ bảo hiểm bị xử phạt như thế nào kể từ ngày 01/08/2016??\n",
      "ID: 6663569bc2f544363eec3553, Similarity Score: 0.6489, Sentence: Đi xe máy không đội mũ bảo hiểm bị xử phạt bao nhiêu kể từ ngày 01/08/2016?\n",
      "ID: 6663573ac2f544363eeea0b6, Similarity Score: 0.6352, Sentence: Có được nộp phạt tại chỗ khi chạy xe máy không đội mũ bảo hiểm?\n",
      "ID: 6663569ec2f544363eec67d7, Similarity Score: 0.6333, Sentence: Ngồi trên xe máy không đội mũ bảo hiểm bị phạt thế nào kể từ ngày 01/08/2016?\n",
      "ID: 6663569cc2f544363eec46d0, Similarity Score: 0.6309, Sentence: Điều khiển xe đạp điện chở người không đội mũ bảo hiểm bị phạt bao nhiêu?\n",
      "ID: 6663569ac2f544363eec2c6e, Similarity Score: 0.6259, Sentence: Chở trẻ em trên 06 tuổi không đội mũ bảo hiểm bị phạt bao nhiêu tiền?\n",
      "ID: 6663569fc2f544363eec876e, Similarity Score: 0.6167, Sentence: Chở người bằng xe máy tham gia giao thông không đội mũ bảo hiểm phạt bao nhiêu tiền?\n"
     ]
    }
   ],
   "source": [
    "top_20_indices_title = np.argsort(similarities_title[0])[::-1][:20]\n",
    "\n",
    "for idx in top_20_indices_title:\n",
    "    similarity_score = similarities_title[0][idx]\n",
    "    similar_sentence = sentences_title[idx]\n",
    "    doc_id = ids_title[idx]\n",
    "    print(f\"ID: {doc_id}, Similarity Score: {similarity_score:.4f}, Sentence: {similar_sentence}\")"
   ],
   "metadata": {
    "collapsed": false,
    "ExecuteTime": {
     "start_time": "2024-06-12T17:18:47.047525Z",
     "end_time": "2024-06-12T17:18:47.056262Z"
    }
   }
  },
  {
   "cell_type": "code",
   "execution_count": 22,
   "outputs": [],
   "source": [
    "top_20_indices_title_ids = []\n",
    "for idx in top_20_indices_title:\n",
    "    top_20_indices_title_ids.append(ids_title[idx])"
   ],
   "metadata": {
    "collapsed": false,
    "ExecuteTime": {
     "start_time": "2024-06-12T17:18:47.056262Z",
     "end_time": "2024-06-12T17:18:47.103668Z"
    }
   }
  },
  {
   "cell_type": "code",
   "execution_count": 23,
   "outputs": [
    {
     "data": {
      "text/plain": "                         _id  \\\n88  666356a0c2f544363eec8acf   \n59  6663569ec2f544363eec67d7   \n31  6663569bc2f544363eec3553   \n97  6663573ac2f544363eeea0b6   \n35  6663569bc2f544363eec3bf5   \n\n                                                title  \\\n88  Đi xe đạp không đội mũ bảo hiểm phạt bao nhiêu...   \n59  Ngồi trên xe máy không đội mũ bảo hiểm bị phạt...   \n31  Đi xe máy không đội mũ bảo hiểm bị xử phạt bao...   \n97  Có được nộp phạt tại chỗ khi chạy xe máy không...   \n35  Trẻ 15 tuổi điều khiển xe máy không đội mũ bảo...   \n\n                                          description date_answer  \\\n88                                               None  2022-04-25   \n59  Ngồi trên xe máy không đội mũ bảo hiểm bị phạt...  2016-08-30   \n31  Đi xe máy không đội mũ bảo hiểm bị xử phạt bao...  2016-08-30   \n97  Ban biên tập cho tôi hỏi: Trong trường hợp chạ...  2020-03-10   \n35  Xin chào, tôi có vấn đề cần giải đáp như sau: ...  2019-02-26   \n\n                 field                                         source_url  \\\n88  Giao thông vận tải  https://thuvienphapluat.vn/hoi-dap-phap-luat/5...   \n59  Giao thông vận tải  https://thuvienphapluat.vn/hoi-dap-phap-luat/1...   \n31  Giao thông vận tải  https://thuvienphapluat.vn/hoi-dap-phap-luat/1...   \n97  Vi phạm hành chính  https://thuvienphapluat.vn/hoi-dap-phap-luat/4...   \n35  Giao thông vận tải  https://thuvienphapluat.vn/hoi-dap-phap-luat/4...   \n\n                                           conclusion  \\\n88  [Bên cạnh đó theo Khoản 4 Điều 8 Nghị định 100...   \n59  [Theo quy định tại điểm i khoản 3 Điều 6 Nghị ...   \n31  [Theo quy định tại điểm i khoản 3 Điều 6 Nghị ...   \n97  [Tại Điểm i, Điểm k Khoản 2 Điều 6 Nghị định 1...   \n35  [Thứ nhất, về hành vi không đội mũ bảo hiểm kh...   \n\n                                            reference quote  \n88  Bên cạnh đó theo Khoản 4 Điều 8 Nghị định 100/...  None  \n59                                               None  None  \n31                                               None  None  \n97                                               None  None  \n35                                               None  None  ",
      "text/html": "<div>\n<style scoped>\n    .dataframe tbody tr th:only-of-type {\n        vertical-align: middle;\n    }\n\n    .dataframe tbody tr th {\n        vertical-align: top;\n    }\n\n    .dataframe thead th {\n        text-align: right;\n    }\n</style>\n<table border=\"1\" class=\"dataframe\">\n  <thead>\n    <tr style=\"text-align: right;\">\n      <th></th>\n      <th>_id</th>\n      <th>title</th>\n      <th>description</th>\n      <th>date_answer</th>\n      <th>field</th>\n      <th>source_url</th>\n      <th>conclusion</th>\n      <th>reference</th>\n      <th>quote</th>\n    </tr>\n  </thead>\n  <tbody>\n    <tr>\n      <th>88</th>\n      <td>666356a0c2f544363eec8acf</td>\n      <td>Đi xe đạp không đội mũ bảo hiểm phạt bao nhiêu...</td>\n      <td>None</td>\n      <td>2022-04-25</td>\n      <td>Giao thông vận tải</td>\n      <td>https://thuvienphapluat.vn/hoi-dap-phap-luat/5...</td>\n      <td>[Bên cạnh đó theo Khoản 4 Điều 8 Nghị định 100...</td>\n      <td>Bên cạnh đó theo Khoản 4 Điều 8 Nghị định 100/...</td>\n      <td>None</td>\n    </tr>\n    <tr>\n      <th>59</th>\n      <td>6663569ec2f544363eec67d7</td>\n      <td>Ngồi trên xe máy không đội mũ bảo hiểm bị phạt...</td>\n      <td>Ngồi trên xe máy không đội mũ bảo hiểm bị phạt...</td>\n      <td>2016-08-30</td>\n      <td>Giao thông vận tải</td>\n      <td>https://thuvienphapluat.vn/hoi-dap-phap-luat/1...</td>\n      <td>[Theo quy định tại điểm i khoản 3 Điều 6 Nghị ...</td>\n      <td>None</td>\n      <td>None</td>\n    </tr>\n    <tr>\n      <th>31</th>\n      <td>6663569bc2f544363eec3553</td>\n      <td>Đi xe máy không đội mũ bảo hiểm bị xử phạt bao...</td>\n      <td>Đi xe máy không đội mũ bảo hiểm bị xử phạt bao...</td>\n      <td>2016-08-30</td>\n      <td>Giao thông vận tải</td>\n      <td>https://thuvienphapluat.vn/hoi-dap-phap-luat/1...</td>\n      <td>[Theo quy định tại điểm i khoản 3 Điều 6 Nghị ...</td>\n      <td>None</td>\n      <td>None</td>\n    </tr>\n    <tr>\n      <th>97</th>\n      <td>6663573ac2f544363eeea0b6</td>\n      <td>Có được nộp phạt tại chỗ khi chạy xe máy không...</td>\n      <td>Ban biên tập cho tôi hỏi: Trong trường hợp chạ...</td>\n      <td>2020-03-10</td>\n      <td>Vi phạm hành chính</td>\n      <td>https://thuvienphapluat.vn/hoi-dap-phap-luat/4...</td>\n      <td>[Tại Điểm i, Điểm k Khoản 2 Điều 6 Nghị định 1...</td>\n      <td>None</td>\n      <td>None</td>\n    </tr>\n    <tr>\n      <th>35</th>\n      <td>6663569bc2f544363eec3bf5</td>\n      <td>Trẻ 15 tuổi điều khiển xe máy không đội mũ bảo...</td>\n      <td>Xin chào, tôi có vấn đề cần giải đáp như sau: ...</td>\n      <td>2019-02-26</td>\n      <td>Giao thông vận tải</td>\n      <td>https://thuvienphapluat.vn/hoi-dap-phap-luat/4...</td>\n      <td>[Thứ nhất, về hành vi không đội mũ bảo hiểm kh...</td>\n      <td>None</td>\n      <td>None</td>\n    </tr>\n  </tbody>\n</table>\n</div>"
     },
     "execution_count": 23,
     "metadata": {},
     "output_type": "execute_result"
    }
   ],
   "source": [
    "selected_rows_title = selected_rows[selected_rows['_id'].isin(top_20_indices_title_ids)]\n",
    "selected_rows_title.sample(5)"
   ],
   "metadata": {
    "collapsed": false,
    "ExecuteTime": {
     "start_time": "2024-06-12T17:18:47.069362Z",
     "end_time": "2024-06-12T17:18:47.128485Z"
    }
   }
  },
  {
   "cell_type": "code",
   "execution_count": 24,
   "outputs": [
    {
     "name": "stderr",
     "output_type": "stream",
     "text": [
      "C:\\Users\\Admin\\AppData\\Local\\Temp\\ipykernel_21016\\224380773.py:15: SettingWithCopyWarning: \n",
      "A value is trying to be set on a copy of a slice from a DataFrame.\n",
      "Try using .loc[row_indexer,col_indexer] = value instead\n",
      "\n",
      "See the caveats in the documentation: https://pandas.pydata.org/pandas-docs/stable/user_guide/indexing.html#returning-a-view-versus-a-copy\n",
      "  selected_rows_title['conclusion'] = selected_rows_title.apply(lambda row: merge_quote(row['quote']) if row['conclusion'] == [] else row['conclusion'], axis=1)\n"
     ]
    }
   ],
   "source": [
    "def merge_quote(quote):\n",
    "    if isinstance(quote, dict):\n",
    "        name = quote.get('name', ' ')\n",
    "        content = ' '.join(quote.get('content', []))\n",
    "\n",
    "        if name is None:\n",
    "            name = ' '\n",
    "        if content is None:\n",
    "            content = ' '\n",
    "\n",
    "        return f\"{name}. {content}\"\n",
    "    else:\n",
    "        return None\n",
    "\n",
    "selected_rows_title['conclusion'] = selected_rows_title.apply(lambda row: merge_quote(row['quote']) if row['conclusion'] == [] else row['conclusion'], axis=1)"
   ],
   "metadata": {
    "collapsed": false,
    "ExecuteTime": {
     "start_time": "2024-06-12T17:18:47.089461Z",
     "end_time": "2024-06-12T17:18:47.129477Z"
    }
   }
  },
  {
   "cell_type": "code",
   "execution_count": 25,
   "outputs": [
    {
     "name": "stderr",
     "output_type": "stream",
     "text": [
      "C:\\Users\\Admin\\AppData\\Local\\Temp\\ipykernel_21016\\4158097922.py:16: SettingWithCopyWarning: \n",
      "A value is trying to be set on a copy of a slice from a DataFrame.\n",
      "Try using .loc[row_indexer,col_indexer] = value instead\n",
      "\n",
      "See the caveats in the documentation: https://pandas.pydata.org/pandas-docs/stable/user_guide/indexing.html#returning-a-view-versus-a-copy\n",
      "  selected_rows_title['answer'] = selected_rows_title.apply(create_answer, axis=1)\n"
     ]
    }
   ],
   "source": [
    "def create_answer(row):\n",
    "    conclusion_value = row['conclusion']\n",
    "\n",
    "    if isinstance(conclusion_value, list):\n",
    "        conclusion_value = ' '.join(conclusion_value)\n",
    "    elif pd.isna(conclusion_value):\n",
    "        conclusion_value = ''\n",
    "\n",
    "    if pd.isna(row['quote']):\n",
    "        return conclusion_value\n",
    "    else:\n",
    "        reference = row['reference'] if not pd.isna(row['reference']) else ''\n",
    "        merged_quote = merge_quote(row['quote'])\n",
    "        return f\"{reference} {merged_quote}\"\n",
    "\n",
    "selected_rows_title['answer'] = selected_rows_title.apply(create_answer, axis=1)"
   ],
   "metadata": {
    "collapsed": false,
    "ExecuteTime": {
     "start_time": "2024-06-12T17:18:47.101671Z",
     "end_time": "2024-06-12T17:18:47.130486Z"
    }
   }
  },
  {
   "cell_type": "code",
   "execution_count": 26,
   "outputs": [
    {
     "data": {
      "text/plain": "                         _id  \\\n12  6663569ec2f544363eec67d7   \n10  6663569dc2f544363eec53e2   \n19  6663573ac2f544363eeea0b6   \n15  6663569fc2f544363eec876e   \n1   6663569ac2f544363eec23c3   \n\n                                                title  \\\n12  Ngồi trên xe máy không đội mũ bảo hiểm bị phạt...   \n10  Có phạt đối với người ngồi trên xe máy không đ...   \n19  Có được nộp phạt tại chỗ khi chạy xe máy không...   \n15  Chở người bằng xe máy tham gia giao thông khôn...   \n1   Người đi xe đạp điện không đội mũ bảo hiểm bị ...   \n\n                                           source_url  \\\n12  https://thuvienphapluat.vn/hoi-dap-phap-luat/1...   \n10  https://thuvienphapluat.vn/hoi-dap-phap-luat/4...   \n19  https://thuvienphapluat.vn/hoi-dap-phap-luat/4...   \n15  https://thuvienphapluat.vn/hoi-dap-phap-luat/8...   \n1   https://thuvienphapluat.vn/hoi-dap-phap-luat/5...   \n\n                                               answer  \n12  Theo quy định tại điểm i khoản 3 Điều 6 Nghị đ...  \n10  Theo Khoản 3 Điều 11 Nghị định 100/2019/NĐ-CP ...  \n19  Tại Điểm i, Điểm k Khoản 2 Điều 6 Nghị định 10...  \n15  Căn cứ theo điểm o khoản 3 Điều 6 Nghị định 10...  \n1   Theo Điều 8 Nghị định 100/2019/NĐ-CP được bổ s...  ",
      "text/html": "<div>\n<style scoped>\n    .dataframe tbody tr th:only-of-type {\n        vertical-align: middle;\n    }\n\n    .dataframe tbody tr th {\n        vertical-align: top;\n    }\n\n    .dataframe thead th {\n        text-align: right;\n    }\n</style>\n<table border=\"1\" class=\"dataframe\">\n  <thead>\n    <tr style=\"text-align: right;\">\n      <th></th>\n      <th>_id</th>\n      <th>title</th>\n      <th>source_url</th>\n      <th>answer</th>\n    </tr>\n  </thead>\n  <tbody>\n    <tr>\n      <th>12</th>\n      <td>6663569ec2f544363eec67d7</td>\n      <td>Ngồi trên xe máy không đội mũ bảo hiểm bị phạt...</td>\n      <td>https://thuvienphapluat.vn/hoi-dap-phap-luat/1...</td>\n      <td>Theo quy định tại điểm i khoản 3 Điều 6 Nghị đ...</td>\n    </tr>\n    <tr>\n      <th>10</th>\n      <td>6663569dc2f544363eec53e2</td>\n      <td>Có phạt đối với người ngồi trên xe máy không đ...</td>\n      <td>https://thuvienphapluat.vn/hoi-dap-phap-luat/4...</td>\n      <td>Theo Khoản 3 Điều 11 Nghị định 100/2019/NĐ-CP ...</td>\n    </tr>\n    <tr>\n      <th>19</th>\n      <td>6663573ac2f544363eeea0b6</td>\n      <td>Có được nộp phạt tại chỗ khi chạy xe máy không...</td>\n      <td>https://thuvienphapluat.vn/hoi-dap-phap-luat/4...</td>\n      <td>Tại Điểm i, Điểm k Khoản 2 Điều 6 Nghị định 10...</td>\n    </tr>\n    <tr>\n      <th>15</th>\n      <td>6663569fc2f544363eec876e</td>\n      <td>Chở người bằng xe máy tham gia giao thông khôn...</td>\n      <td>https://thuvienphapluat.vn/hoi-dap-phap-luat/8...</td>\n      <td>Căn cứ theo điểm o khoản 3 Điều 6 Nghị định 10...</td>\n    </tr>\n    <tr>\n      <th>1</th>\n      <td>6663569ac2f544363eec23c3</td>\n      <td>Người đi xe đạp điện không đội mũ bảo hiểm bị ...</td>\n      <td>https://thuvienphapluat.vn/hoi-dap-phap-luat/5...</td>\n      <td>Theo Điều 8 Nghị định 100/2019/NĐ-CP được bổ s...</td>\n    </tr>\n  </tbody>\n</table>\n</div>"
     },
     "execution_count": 26,
     "metadata": {},
     "output_type": "execute_result"
    }
   ],
   "source": [
    "selected_rows_title = selected_rows_title.drop(['date_answer', 'field', 'description', 'reference', 'quote', 'conclusion'], axis=1)\n",
    "selected_rows_title.reset_index(drop=True, inplace=True)\n",
    "selected_rows_title.sample(5)"
   ],
   "metadata": {
    "collapsed": false,
    "ExecuteTime": {
     "start_time": "2024-06-12T17:18:47.111057Z",
     "end_time": "2024-06-12T17:18:47.131490Z"
    }
   }
  },
  {
   "cell_type": "code",
   "execution_count": 27,
   "outputs": [],
   "source": [
    "sentences_answer = []\n",
    "ids_answer = []\n",
    "\n",
    "for idx in selected_rows_title.index:\n",
    "    sentences_answer.append(selected_rows_title.at[idx, 'answer'])\n",
    "    ids_answer.append(selected_rows_title.at[idx, '_id'])"
   ],
   "metadata": {
    "collapsed": false,
    "ExecuteTime": {
     "start_time": "2024-06-12T17:18:47.127479Z",
     "end_time": "2024-06-12T17:18:47.231833Z"
    }
   }
  },
  {
   "cell_type": "code",
   "execution_count": 28,
   "outputs": [],
   "source": [
    "segmented_sentences_answer = [word_segment(sentence) for sentence in sentences_answer]"
   ],
   "metadata": {
    "collapsed": false,
    "ExecuteTime": {
     "start_time": "2024-06-12T17:18:47.140834Z",
     "end_time": "2024-06-12T17:18:47.452189Z"
    }
   }
  },
  {
   "cell_type": "code",
   "execution_count": 29,
   "outputs": [],
   "source": [
    "encoded_input_answer = tokenizer(segmented_sentences_answer, padding=True, truncation=True, max_length=255,  return_tensors='pt')\n",
    "encoded_input_answer = {key: value.to('cuda') for key, value in encoded_input_answer.items()}"
   ],
   "metadata": {
    "collapsed": false,
    "ExecuteTime": {
     "start_time": "2024-06-12T17:18:47.258494Z",
     "end_time": "2024-06-12T17:18:47.545184Z"
    }
   }
  },
  {
   "cell_type": "code",
   "execution_count": 30,
   "outputs": [],
   "source": [
    "with torch.no_grad():\n",
    "    model_output_answer = model(**encoded_input_answer)"
   ],
   "metadata": {
    "collapsed": false,
    "ExecuteTime": {
     "start_time": "2024-06-12T17:18:47.306146Z",
     "end_time": "2024-06-12T17:18:47.548183Z"
    }
   }
  },
  {
   "cell_type": "code",
   "execution_count": 31,
   "outputs": [],
   "source": [
    "embeddings_answer = mean_pooling(model_output_answer, encoded_input_answer['attention_mask'])\n",
    "embeddings_answer = embeddings_answer.cpu().numpy()"
   ],
   "metadata": {
    "collapsed": false,
    "ExecuteTime": {
     "start_time": "2024-06-12T17:18:47.328186Z",
     "end_time": "2024-06-12T17:18:47.913640Z"
    }
   }
  },
  {
   "cell_type": "code",
   "execution_count": 32,
   "outputs": [],
   "source": [
    "from sklearn.metrics.pairwise import cosine_similarity\n",
    "\n",
    "similarities_answer = cosine_similarity(embeddings_query, embeddings_answer)"
   ],
   "metadata": {
    "collapsed": false,
    "ExecuteTime": {
     "start_time": "2024-06-12T17:18:47.915632Z",
     "end_time": "2024-06-12T17:18:47.918803Z"
    }
   }
  },
  {
   "cell_type": "code",
   "execution_count": 33,
   "outputs": [
    {
     "name": "stdout",
     "output_type": "stream",
     "text": [
      "ID: 6663569ac2f544363eec2335, Similarity Score: 0.8311, Sentence: Theo Khoản 3 Điều 11 Nghị định 100/2019/NĐ-CP quy định phạt tiền từ 200.000 đồng đến 300.000 đồng đối với người được chở trên xe mô tô, xe gắn máy (kể cả xe máy điện), các loại xe tương tự xe mô tô, các loại xe tương tự xe gắn máy, xe đạp máy (kể cả xe đạp điện) không đội “mũ bảo hiểm cho người đi mô tô, xe máy” hoặc đội “mũ bảo hiểm cho người đi mô tô, xe máy” không cài quai đúng quy cách khi tham gia giao thông trên đường bộ. Như vậy, khi bạn ngồi trên xe máy mà không đội mũ bảo hiểm thì bạn sẽ bị phạt tiền từ 200.000 đồng đến 300.000 đồng. Ngoài ra, xử phạt bạn với hành vi không đội mũ bảo hiểm thì người chở bạn cũng bị phạt tiền từ 200.000 đồng đến 300.000 đồng.\n",
      "ID: 6663569ac2f544363eec23c2, Similarity Score: 0.8282, Sentence: Theo quy định tại điểm i khoản 3 Điều 6 Nghị định 171/2013/NĐ-CP về quy định xử phạt vi phạm hành chính trong lĩnh vực giao thông đường bộ, đường sắt có hiệu lực từ ngày 1/1/2014 thì điều khiển xe máy không đội “mũ bảo hiểm cho người đi mô tô, xe máy” bị phạt tiền từ 100.000 đồng đến 200.000 đồng.\n",
      "ID: 6663569ac2f544363eec2a20, Similarity Score: 0.8019, Sentence: Tại Điểm i, Điểm k Khoản 2 Điều 6 Nghị định 100/2019/NĐ-CP có quy định về đi xe máy không đội mũ bảo hiểm phải nộp phạt như sau: Phạt tiền từ 200.000 đồng đến 300.000 đồng đối với người điều khiển xe thực hiện một trong các hành vi vi phạm sau đây: - Không đội “mũ bảo hiểm cho người đi mô tô, xe máy” hoặc đội “mũ bảo hiểm cho người đi mô tô, xe máy” không cài quai đúng quy cách khi điều khiển xe tham gia giao thông trên đường bộ; - Chở người ngồi trên xe không đội “mũ bảo hiểm cho người đi mô tô, xe máy” hoặc đội “mũ bảo hiểm cho người đi mô tô, xe máy” không cài quai đúng quy cách, trừ trường hợp chở người bệnh đi cấp cứu, trẻ em dưới 06 tuổi, áp giải người có hành vi vi phạm pháp luật;” Bên cạnh đó, Điều 56 Luật xử lý vi phạm hành chính 2012 có quy định cụ thể như sau: - Xử phạt vi phạm hành chính không lập biên bản được áp dụng trong trường hợp xử phạt cảnh cáo hoặc phạt tiền đến 250.000 đồng đối với cá nhân, 500.000 đồng đối với tổ chức và người có thẩm quyền xử phạt phải ra quyết định xử phạt vi phạm hành chính tại chỗ. Trường hợp vi phạm hành chính được phát hiện nhờ sử dụng phương tiện, thiết bị kỹ thuật, nghiệp vụ thì phải lập biên bản.” => Như vậy, việc chạy xe máy không đội mũ bảo hiểm sẽ bị phạt tiền từ 200.000 đồng đến 300.000 đồng, trong trường hợp nếu cá nhân bị phạt tiền từ 250.000 đồng trở xuống thì được ra quyết định xử phạt vi phạm hành chính tại chỗ. Còn nếu trong trường hợp cá nhân bị phạt trên 250.000 đồng thì sẽ không được xử lý vi phạm hành chính tại chỗ. Nên trường hợp trên nếu csgt phạt hành vi vi phạm trên là từ 200.000 đến 250.000 đồng thì được nộp phạt tại chỗ, còn trên mức đó thì không. Ban biên tập phản hồi thông tin.\n",
      "ID: 6663569ac2f544363eec2334, Similarity Score: 0.7808, Sentence: Theo quy định tại điểm i khoản 3 Điều 6 Nghị định 171/2013/NĐ-CP về quy định xử phạt vi phạm hành chính trong lĩnh vực giao thông đường bộ, đường sắt có hiệu lực từ ngày 1/1/2014 người ngồi trên xe máy không đội “mũ bảo hiểm cho người đi mô tô, xe máy” bị phạt tiền từ 100.000 đồng đến 200.000 đồng.\n",
      "ID: 6663569ac2f544363eec22a9, Similarity Score: 0.7709, Sentence: Thứ nhất, về hành vi không đội mũ bảo hiểm khi tham gia giao thông: Theo quy định tại Điểm i Khoản 3 Điều 6 Nghị định 46/2016/NĐ-CP như sau: \"3. Phạt tiền từ 100.000 đồng đến 200.000 đồng đối với một trong các hành vi vi phạm sau đây: ... i) Người điều khiển, người ngồi trên xe không đội “mũ bảo hiểm cho người đi mô tô, xe máy” hoặc đội “mũ bảo hiểm cho người đi mô tô, xe máy” không cài quai đúng quy cách khi tham gia giao thông trên đường bộ;\" Theo đó, đối với người điều khiển xe máy không đội mũ bảo hiểm sẽ bị phạt từ 100.000 đồng đến 200.000 đồng. Tuy nhiên, trong trường hợp này con của bạn mới 15 tuổi. Theo quy định tại Khoản 3 Điều 134 Luật xử lý vi phạm hành chính 2012 quy định: \"3. Việc áp dụng hình thức xử phạt, quyết định mức xử phạt đối với người chưa thành niên vi phạm hành chính phải nhẹ hơn so với người thành niên có cùng hành vi vi phạm hành chính. Trường hợp người từ đủ 14 tuổi đến dưới 16 tuổi vi phạm hành chính thì không áp dụng hình thức phạt tiền.\" Như vậy, trong trường hợp con của bạn mới 15 tuổi điều khiển xe máy không đội mũ bảo hiểm sẽ không áp dụng hình thức phạt tiền. Thứ hai, về hành vi điều khiển xe máy khi chưa đủ tuổi: Theo quy định tại Khoản 1 Điều 21 Nghị định 46/2016/NĐ-CP về Xử phạt các hành vi vi phạm quy định về điều kiện của người điều khiển xe cơ giới như sau: \"1. Phạt cảnh cáo người từ đủ 14 tuổi đến dưới 16 tuổi điều khiển xe mô tô, xe gắn máy (kể cả xe máy điện) và các loại xe tương tự xe mô tô hoặc điều khiển xe ô tô, máy kéo và các loại xe tương tự xe ô tô.\" Như vậy, đối với người từ đủ 14 tuổi đến dưới 16 tuổi điều khiển xe máy thì chỉ bị phạt cảnh cáo, không áp dụng hình thức phạt tiền. Tóm lại, con trai của bạn 15 tuổi điều khiển xe máy mà không đội mũ bảo hiểm thì sẽ không bị phạt tiền về hành vi không đội mũ bảo hiểm; không phạt tiền về hành vi điều khiển xe máy khi chưa đủ tuổi. Trong trường hợp này chỉ bị phạt cảnh cáo. Trên đây là ý kiến tư vấn của chúng tôi đối với yêu cầu hỗ trợ của bạn.\n",
      "ID: 6663569ac2f544363eec2486, Similarity Score: 0.7636, Sentence: Theo Khoản 3 Điều 11 Nghị định 100/2019/NĐ-CP thì nội dung này được quy định như sau: Phạt tiền từ 200.000 đồng đến 300.000 đồng đối với người được chở trên xe mô tô, xe gắn máy (kể cả xe máy điện), các loại xe tương tự xe mô tô, các loại xe tương tự xe gắn máy, xe đạp máy (kể cả xe đạp điện) không đội “mũ bảo hiểm cho người đi mô tô, xe máy” hoặc đội “mũ bảo hiểm cho người đi mô tô, xe máy” không cài quai đúng quy cách khi tham gia giao thông trên đường bộ. Như vậy, người được chở trên xe máy điện không đội mũ bảo hiểm sẽ bị phạt tiền từ 200 đến 300 ngàn đồng.\n",
      "ID: 6663569ac2f544363eec24b8, Similarity Score: 0.7606, Sentence: Căn cứ theo điểm o khoản 3 Điều 6 Nghị định 100/2019/NĐ-CP được bổ sung bởi điểm b khoản 4 Điều 2 Nghị định 123/2021/NĐ-CP quy định về xử phạt người điều khiển xe mô tô, xe gắn máy (kể cả xe máy điện), các loại xe tương tự xe mô tô và các loại xe tương tự xe gắn máy vi phạm quy tắc giao thông đường bộ như sau: o) Chở người ngồi trên xe không đội “mũ bảo hiểm cho người đi mô tô, xe máy” hoặc đội “mũ bảo hiểm cho người đi mô tô, xe máy” không cài quai đúng quy cách, trừ trường hợp chở người bệnh đi cấp cứu, trẻ em dưới 06 tuổi, áp giải người có hành vi vi phạm pháp luật.. 3. Phạt tiền từ 400.000 đồng đến 600.000 đồng đối với người điều khiển xe thực hiện một trong các hành vi vi phạm sau đây: n) Không đội “mũ bảo hiểm cho người đi mô tô, xe máy” hoặc đội “mũ bảo hiểm cho người đi mô tô, xe máy” không cài quai đúng quy cách khi điều khiển xe tham gia giao thông trên đường bộ;\n",
      "ID: 6663569ac2f544363eec1fdb, Similarity Score: 0.7532, Sentence: Căn cứ điểm n, điểm o khoản 3 Điều 6 Nghị định 100/2019/NĐ-CP được bổ sung bởi điểm b khoản 4 Điều 2 Nghị định 123/2021/NĐ-CP quy định mức xử phạt người điều khiển xe mô tô, xe gắn máy (kể cả xe máy điện), các loại xe tương tự xe mô tô và các loại xe tương tự xe gắn máy vi phạm quy tắc giao thông đường bộ như sau: Xử phạt các hành vi vi phạm khác về quy tắc giao thông đường bộ. 3. Phạt tiền từ 400.000 đồng đến 600.000 đồng đối với người điều khiển xe thực hiện một trong các hành vi vi phạm sau đây: n) Không đội “mũ bảo hiểm cho người đi mô tô, xe máy” hoặc đội “mũ bảo hiểm cho người đi mô tô, xe máy” không cài quai đúng quy cách khi điều khiển xe tham gia giao thông trên đường bộ; o) Chở người ngồi trên xe không đội “mũ bảo hiểm cho người đi mô tô, xe máy” hoặc đội “mũ bảo hiểm cho người đi mô tô, xe máy” không cài quai đúng quy cách, trừ trường hợp chở người bệnh đi cấp cứu, trẻ em dưới 06 tuổi, áp giải người có hành vi vi phạm pháp luật. 6. Phạt tiền từ 400.000 đồng đến 600.000 đồng đối với người được chở trên xe mô tô, xe gắn máy (kể cả xe máy điện), các loại xe tương tự xe mô tô, các loại xe tương tự xe gắn máy, xe đạp máy (kể cả xe đạp điện) thực hiện một trong các hành vi vi phạm sau đây: b) Không đội “mũ bảo hiểm cho người đi mô tô, xe máy” hoặc đội “mũ bảo hiểm cho người đi mô tô, xe máy” không cài quai đúng quy cách khi tham gia giao thông trên đường bộ.\n",
      "ID: 6663569ac2f544363eec2333, Similarity Score: 0.7432, Sentence: Căn cứ điểm n, điểm o khoản 3 Điều 6 Nghị định 100/2019/NĐ-CP được bổ sung bởi điểm b khoản 4 Điều 2 Nghị định 123/2021/NĐ-CP quy định mức xử phạt người điều khiển xe mô tô, xe gắn máy (kể cả xe máy điện), các loại xe tương tự xe mô tô và các loại xe tương tự xe gắn máy vi phạm quy tắc giao thông đường bộ: Xử phạt các hành vi vi phạm khác về quy tắc giao thông đường bộ. 3. Phạt tiền từ 400.000 đồng đến 600.000 đồng đối với người điều khiển xe thực hiện một trong các hành vi vi phạm sau đây: n) Không đội “mũ bảo hiểm cho người đi mô tô, xe máy” hoặc đội “mũ bảo hiểm cho người đi mô tô, xe máy” không cài quai đúng quy cách khi điều khiển xe tham gia giao thông trên đường bộ; o) Chở người ngồi trên xe không đội “mũ bảo hiểm cho người đi mô tô, xe máy” hoặc đội “mũ bảo hiểm cho người đi mô tô, xe máy” không cài quai đúng quy cách, trừ trường hợp chở người bệnh đi cấp cứu, trẻ em dưới 06 tuổi, áp giải người có hành vi vi phạm pháp luật. 6. Phạt tiền từ 400.000 đồng đến 600.000 đồng đối với người được chở trên xe mô tô, xe gắn máy (kể cả xe máy điện), các loại xe tương tự xe mô tô, các loại xe tương tự xe gắn máy, xe đạp máy (kể cả xe đạp điện) thực hiện một trong các hành vi vi phạm sau đây: b) Không đội “mũ bảo hiểm cho người đi mô tô, xe máy” hoặc đội “mũ bảo hiểm cho người đi mô tô, xe máy” không cài quai đúng quy cách khi tham gia giao thông trên đường bộ.\n",
      "ID: 6663569ac2f544363eec23c3, Similarity Score: 0.7003, Sentence: Theo quy định tại điểm i khoản 3 Điều 6 Nghị định 46/2016/NĐ-CP về quy định xử phạt vi phạm hành chính trong lĩnh vực giao thông đường bộ và đường sắt có hiệu lực từ ngày 01/08/2016 thì: \"3. Phạt tiền từ 100.000 đồng đến 200.000 đồng đối với một trong các hành vi vi phạm sau đây: i) Người điều khiển, người ngồi trên xe không đội “mũ bảo hiểm cho người đi mô tô, xe máy” hoặc đội “mũ bảo hiểm cho người đi mô tô, xe máy” không cài quai đúng quy cách khi tham gia giao thông trên đường bộ\";\n",
      "ID: 6663569ac2f544363eec2236, Similarity Score: 0.7003, Sentence: Theo quy định tại điểm i khoản 3 Điều 6 Nghị định 46/2016/NĐ-CP về quy định xử phạt vi phạm hành chính trong lĩnh vực giao thông đường bộ và đường sắt có hiệu lực từ ngày 01/08/2016 thì: \"3. Phạt tiền từ 100.000 đồng đến 200.000 đồng đối với một trong các hành vi vi phạm sau đây: i) Người điều khiển, người ngồi trên xe không đội “mũ bảo hiểm cho người đi mô tô, xe máy” hoặc đội “mũ bảo hiểm cho người đi mô tô, xe máy” không cài quai đúng quy cách khi tham gia giao thông trên đường bộ\";\n",
      "ID: 6663569ac2f544363eec1fa9, Similarity Score: 0.7003, Sentence: Theo quy định tại điểm i khoản 3 Điều 6 Nghị định 46/2016/NĐ-CP về quy định xử phạt vi phạm hành chính trong lĩnh vực giao thông đường bộ và đường sắt có hiệu lực từ ngày 01/08/2016 thì: \"3. Phạt tiền từ 100.000 đồng đến 200.000 đồng đối với một trong các hành vi vi phạm sau đây: i) Người điều khiển, người ngồi trên xe không đội “mũ bảo hiểm cho người đi mô tô, xe máy” hoặc đội “mũ bảo hiểm cho người đi mô tô, xe máy” không cài quai đúng quy cách khi tham gia giao thông trên đường bộ\";\n",
      "ID: 6663569ac2f544363eec21a4, Similarity Score: 0.6480, Sentence: Căn cứ Điểm d Khoản 4 Điều 8 Nghị định 46/2016/NĐ-CP thì: 4. Phạt tiền từ 100.000 đồng đến 200.000 đồng đối với một trong các hành vi vi phạm sau đây: d) Người điều khiển, người ngồi trên xe đạp máy không đội “mũ bảo hiểm cho người đi mô tô, xe máy” hoặc đội “mũ bảo hiểm cho người đi mô tô, xe máy” không cài quai đúng quy cách khi tham gia giao thông trên đường bộ; Ngoài ra, tại Khoản 1 Điều 78 Nghị định 46/2016/NĐ-CP có quy định như sau: Điều 78. Tạm giữ phương tiện, giấy tờ có liên quan đến người điều khiển và phương tiện vi phạm 1. Để ngăn chặn ngay vi phạm hành chính, người có thẩm quyền xử phạt được phép tạm giữ phương tiện đến 07 ngày trước khi ra quyết định xử phạt đối với những hành vi vi phạm được quy định tại các Điều, Khoản, Điểm sau đây của Nghị định này và phải tuân thủ theo quy định tại Khoản 2 Điều 125 của Luật Xử lý vi phạm hành chính: ... d) Điểm d, Điểm đ Khoản 4 (trong trường hợp người vi phạm là người dưới 16 tuổi và điều khiển phương tiện); Khoản 5 Điều 8; => Như vậy, đối với hành vi tham gia lưu thông không đội mũ bảo hiểm ngoài bị phạt tiền còn bị tạm thời giữ xe khi không có các loại giấy tờ (giấy phép lái xe hoặc giấy phép lưu hành phương tiện hoặc giấy tờ cần thiết khác có liên quan đến tang vật, phương tiện). Tuy nhiên, theo Điều 22 Luật xử lý vi phạm hành chính 2012 thì hình thức cảnh cáo được áp dụng đối với mọi hành vi vi phạm hành chính do người chưa thành niên từ đủ 14 tuổi đến dưới 16 tuổi thực hiện. “Điều 22. Cảnh cáo Cảnh cáo được áp dụng đối với cá nhân, tổ chức vi phạm hành chính không nghiêm trọng, có tình tiết giảm nhẹ và theo quy định thì bị áp dụng hình thức xử phạt cảnh cáo hoặc đối với mọi hành vi vi phạm hành chính do người chưa thành niên từ đủ 14 tuổi đến dưới 16 tuổi thực hiện. Cảnh cáo được quyết định bằng văn bản.” Do đó, trong trường hợp này cháu bạn sẽ chỉ bị cảnh cáo với hành vi không đội mũ bảo hiểm, còn về việc CSGT giữ xe trong trường hợp này là phù hợp. Trên đây là nội dung hỗ trợ.\n",
      "ID: 6663569ac2f544363eec2487, Similarity Score: 0.6354, Sentence: Luật Giao thông đường bộ Việt Nam năm 2008 quy định đối với người điều khiển, người ngồi trên mô tô, xe gắn máy, kể cả xe đạp máy, xe đạp điệnđều phải đội mũ bảo hiểm có cài quai đúng quy cách trừ trường hợp chở người bệnh đi cấp cứu, trẻ em dưới 06 tuổi, áp giải người có hành vi vi phạm pháp luật. Theo đó, người điều khiển phương tiện xe đạp điện không đội mũ bảo hiểm sẽ bị CSGT kiểm tra, xử lý theo quy định. Theo điểm i khoản 3 Điều 6, điểm d khoản 4 Điều 8 Nghị định số 171/2013/NĐ-CP ngày 13/11/2013, người điều khiển, người ngồi trên xe môtô, xe gắn máy (kể cả xe máy điện), các loại xe tương tự xe môtô và các loại xe tương tự xe gắn máy bị phạt tiền từ 100.000 đến 200.000 đồng đối với hành vi không đội mũ bảo hiểm hoặc đội mũ bảo hiểm không cài quai đúng quy cách khi tham gia giao thông trên đường bộ. Theo quy định tại Điều 15 Luật xử lý vi phạm hành chính năm 2012: Khiếu nại, tố cáo và khởi kiện trong xử lý vi phạm hành chính \"1. Cá nhân, tổ chức bị xử lý vi phạm hành chính có quyền khiếu nại, khởi kiện đối với quyết định xử lý vi phạm hành chính theo quy định của pháp luật. 2. Cá nhân có quyền tố cáo đối với hành vi vi phạm pháp luật trong việc xử lý vi phạm hành chính theo quy định của pháp luật. 3. Trong quá trình giải quyết khiếu nại, khởi kiện nếu xét thấy việc thi hành quyết định xử lý vi phạm hành chính bị khiếu nại, khởi kiện sẽ gây hậu quả khó khắc phục thì người giải quyết khiếu nại, khởi kiện phải ra quyết định tạm đình chỉ việc thi hành quyết định đó theo quy định của pháp luật.\" Như vậy, người bị xử lý vi phạm pháp luật trong lĩnh vực giao thông đường bộ không đồng ý với quyết định xử lý vi phạm hành chính của người có thẩm quyền thì có quyền khiếu nại. Thẩm quyền, thủ tục, thời hạn giải quyết khiếu nại, tố cáo được thực hiện theo quy định của pháp luật về khiếu nại hoặc khởi kiện ra tòa án để đề nghị giải quyết vụ án hành chính. Gia Huy\n",
      "ID: 6663569ac2f544363eec22d6, Similarity Score: 0.6311, Sentence: Theo quy định tại điểm đ, khoản 4, Điều 8 Nghị định 46/2016/NĐ-CP về quy định xử phạt vi phạm hành chính trong lĩnh vực giao thông đường bộ, đường sắt có hiệu lực từ ngày 01/8/2018 thì người chở người trên xe đạp điện không đội “mũ bảo hiểm cho người đi mô tô, xe máy\" trừ trường hợp chở người bệnh đi cấp cứu, trẻ em dưới 06 tuổi, áp giải người có hành vi vi phạm pháp luật bị phạt tiền từ 100.000 đồng đến 200.000 đồng. Trên đây là tư vấn về mức phạt đối với hành vi chở người trên xe đạp điện không đội mũ bảo hiểm. Để rõ hơn về câu trả lời bạn nên tham khảo Nghị định 46/2016/NĐ-CP.\n",
      "ID: 6663569ac2f544363eec2956, Similarity Score: 0.5916, Sentence: Mũ bảo hiểm cho người điều khiển, người ngồi trên xe mô tô, xe máy (kể cả xe máy điện), xe đạp máy đội khi tham gia giao thông là mũ có đủ các tính năng và có cấu tạo đủ 3 bộ phận: vỏ mũ, đệm hấp thụ xung động bên trong vỏ mũ (đệm bảo vệ) và quai đeo; có kiểu dáng đáp ứng yêu cầu quy định; đã được chứng nhận hợp quy, công bố hợp quy theo Quy chuẩn kỹ thuật quốc gia QCVN 02:2008/BKHCN ban hành kèm theo Quyết định số 04/2008/QĐ-BKHCN ngày 28 tháng 4 năm 2008 của Bộ trưởng Bộ Khoa học và Công nghệ; được gắn dấu hợp quy CR, ghi nhãn hàng hoá theo quy định của pháp luật. Hà Nội ngày đầu thực hiện đội mũ bảo hiểm cho trẻ. Theo quy định tại khoản 2, Điều 30 và khoản 2, Điều 31 của Luật giao thông đường bộ năm 2008 thì chở người ngồi trên xe mô tô hai bánh, xe mô tô ba bánh, xe gắn máy, xe đạp máy phải đội mũ bảo hiểm có cài quai đúng quy cách, trừ trường hợp chở người bệnh đi cấp cứu, trẻ em dưới 06 tuổi, áp giải người có hành vi vi phạm pháp luật. Ngoài các trường hợp trên, việc chở người ngồi trên xe không đội mũ bảo hiểm hoặc đội mà cài quai không đúng quy cách sẽ bị xử phạt theo Nghị định số 171/2013/NĐ-CP ngày 13/11/2013. Cụ thể, tại Điểm i và Điểm k Khoản 3 Điều 6 của Nghị định 171/2013/NĐ-CP ngày 13 tháng 11 năm 2013 của Chính phủ quy định xử phạt vi phạm hành chính trong lĩnh vực giao thông đường bộ và đường sắt: Phạt tiền từ 100.000 đồng đến 200.000 đồng đối với một trong các hành vi vi phạm sau đây: Người điều khiển, người ngồi trên xe không đội “mũ bảo hiểm cho người đi mô tô, xe máy” hoặc đội “mũ bảo hiểm cho người đi mô tô, xe máy” không cài quai đúng quy cách khi tham gia giao thông trên đường bộ. Chở người ngồi trên xe không đội “mũ bảo hiểm cho người đi mô tô, xe máy” hoặc đội “mũ bảo hiểm cho người đi mô tô, xe máy” không cài quai đúng quy cách, trừ trường hợp chở người bệnh đi cấp cứu, trẻ em dưới 06 tuổi, áp giải người có hành vi vi phạm pháp luật. GIA HUY\n",
      "ID: 6663569ac2f544363eec21a6, Similarity Score: 0.5709, Sentence: Theo Khoản 3 Điều 6 Nghị định 100/2019/NĐ-CP được bổ sung bởi Điểm b Khoản 4 Điều 2 Nghị định 123/2021/NĐ-CP quy định xử phạt người điều khiển xe mô tô, xe gắn máy (kể cả xe máy điện), các loại xe tương tự xe mô tô và các loại xe tương tự xe gắn máy vi phạm quy tắc giao thông đường bộ như sau:  . 3. Phạt tiền từ 400.000 đồng đến 600.000 đồng đối với người điều khiển xe thực hiện một trong các hành vi vi phạm sau đây: a) Chuyển hướng không giảm tốc độ hoặc không có tín hiệu báo hướng rẽ (trừ trường hợp điều khiển xe đi theo hướng cong của đoạn đường bộ ở nơi đường không giao nhau cùng mức); điều khiển xe rẽ trái tại nơi có biển báo hiệu có nội dung cấm rẽ trái đối với loại phương tiện đang điều khiển; điều khiển xe rẽ phải tại nơi có biển báo hiệu có nội dung cấm rẽ phải đối với loại phương tiện đang điều khiển; b) Chở theo từ 03 người trở lên trên xe; c) Bấm còi, rú ga (nẹt pô) liên tục trong đô thị, khu đông dân cư, trừ các xe ưu tiên đang đi làm nhiệm vụ theo quy định; d) Dừng xe, đỗ xe trên cầu; đ) Điều khiển xe thành đoàn gây cản trở giao thông, trừ trường hợp được cơ quan có thẩm quyền cấp phép; e) Điều khiển xe có liên quan trực tiếp đến vụ tai nạn giao thông mà không dừng lại, không giữ nguyên hiện trường, không tham gia cấp cứu người bị nạn, trừ hành vi vi phạm quy định tại điểm đ khoản 8 Điều này; g) Điều khiển xe không đi bên phải theo chiều đi của mình; đi không đúng phần đường, làn đường quy định (làn cùng chiều hoặc làn ngược chiều); điều khiển xe đi qua dải phân cách cố định ở giữa hai phần đường xe chạy; điều khiển xe đi trên hè phố, trừ trường hợp điều khiển xe đi qua hè phố để vào nhà; h) Vượt bên phải trong trường hợp không được phép; i) Đi vào khu vực cấm, đường có biển báo hiệu có nội dung cấm đi vào đối với loại phương tiện đang điều khiển, trừ các hành vi vi phạm quy định tại khoản 5, điểm b khoản 6 Điều này và các trường hợp xe ưu tiên đang đi làm nhiệm vụ khẩn cấp theo quy định; k) Người đang điều khiển xe hoặc chở người ngồi trên xe bám, kéo, đẩy xe khác, vật khác, dẫn dắt súc vật, mang vác vật cồng kềnh; chở người đứng trên yên, giá đèo hàng hoặc ngồi trên tay lái; xếp hàng hóa trên xe vượt quá giới hạn quy định; điều khiển xe kéo theo xe khác, vật khác; l) Chở hàng vượt trọng tải thiết kế được ghi trong Giấy đăng ký xe đối với loại xe có quy định về trọng tải thiết kế; m) Chạy trong hầm đường bộ không sử dụng đèn chiếu sáng gần. n) Không đội “mũ bảo hiểm cho người đi mô tô, xe máy” hoặc đội “mũ bảo hiểm cho người đi mô tô, xe máy” không cài quai đúng quy cách khi điều khiển xe tham gia giao thông trên đường bộ; o) Chở người ngồi trên xe không đội “mũ bảo hiểm cho người đi mô tô, xe máy” hoặc đội “mũ bảo hiểm cho người đi mô tô, xe máy” không cài quai đúng quy cách, trừ trường hợp chở người bệnh đi cấp cứu, trẻ em dưới 06 tuổi, áp giải người có hành vi vi phạm pháp luật.\n",
      "ID: 6663569ac2f544363eec270c, Similarity Score: 0.4398, Sentence: Theo Khoản 3 Điều 6 Nghị định 100/2019/NĐ-CP bổ sung bởi Điểm b Khoản 4 Điều 2 Nghị định 123/2021/NĐ-CP quy định như sau: 3. Phạt tiền từ 400.000 đồng đến 600.000 đồng đối với người điều khiển xe thực hiện một trong các hành vi vi phạm sau đây: a) Chuyển hướng không giảm tốc độ hoặc không có tín hiệu báo hướng rẽ (trừ trường hợp điều khiển xe đi theo hướng cong của đoạn đường bộ ở nơi đường không giao nhau cùng mức); b) Chở theo từ 03 người trở lên trên xe; c) Bấm còi, rú ga (nẹt pô) liên tục trong đô thị, khu đông dân cư, trừ các xe ưu tiên đang đi làm nhiệm vụ theo quy định; d) Dừng xe, đỗ xe trên cầu; đ) Điều khiển xe thành đoàn gây cản trở giao thông, trừ trường hợp được cơ quan có thẩm quyền cấp phép; e) Điều khiển xe có liên quan trực tiếp đến vụ tai nạn giao thông mà không dừng lại, không giữ nguyên hiện trường, không tham gia cấp cứu người bị nạn, trừ hành vi vi phạm quy định tại điểm đ khoản 8 Điều này; g) Điều khiển xe không đi bên phải theo chiều đi của mình; đi không đúng phần đường, làn đường quy định (làn cùng chiều hoặc làn ngược chiều); điều khiển xe đi qua dải phân cách cố định ở giữa hai phần đường xe chạy; điều khiển xe đi trên hè phố, trừ trường hợp điều khiển xe đi qua hè phố để vào nhà; h) Vượt bên phải trong trường hợp không được phép; i) Đi vào khu vực cấm, đường có biển báo hiệu có nội dung cấm đi vào đối với loại phương tiện đang điều khiển, trừ các hành vi vi phạm quy định tại khoản 5, điểm b khoản 6 Điều này và các trường hợp xe ưu tiên đang đi làm nhiệm vụ khẩn cấp theo quy định; k) Người đang điều khiển xe hoặc chở người ngồi trên xe bám, kéo, đẩy xe khác, vật khác, dẫn dắt súc vật, mang vác vật cồng kềnh; chở người đứng trên yên, giá đèo hàng hoặc ngồi trên tay lái; xếp hàng hóa trên xe vượt quá giới hạn quy định; điều khiển xe kéo theo xe khác, vật khác; l) Chở hàng vượt trọng tải thiết kế được ghi trong Giấy đăng ký xe đối với loại xe có quy định về trọng tải thiết kế; m) Chạy trong hầm đường bộ không sử dụng đèn chiếu sáng gần. n) Không đội “mũ bảo hiểm cho người đi mô tô, xe máy” hoặc đội “mũ bảo hiểm cho người đi mô tô, xe máy” không cài quai đúng quy cách khi điều khiển xe tham gia giao thông trên đường bộ; o) Chở người ngồi trên xe không đội “mũ bảo hiểm cho người đi mô tô, xe máy” hoặc đội “mũ bảo hiểm cho người đi mô tô, xe máy” không cài quai đúng quy cách, trừ trường hợp chở người bệnh đi cấp cứu, trẻ em dưới 06 tuổi, áp giải người có hành vi vi phạm pháp luật. Như vậy, theo quy định hiện hành thì việc không đội mũ bao hiểm khi đi xe máy sẽ bị phạt từ 400.000 đến 600.000 đồng.\n",
      "ID: 6663569ac2f544363eec286c, Similarity Score: 0.4238, Sentence: Bên cạnh đó theo Khoản 4 Điều 8 Nghị định 100/2019/NĐ-CP bổ sung bởi Khoản 6 Điều 2 Nghị định 123/2021/NĐ-CP quy định như sau: 4. Phạt tiền từ 400.000 đồng đến 600.000 đồng bổ sung bởi đối với người điều khiển xe thực hiện một trong các hành vi vi phạm sau đây: a) Điều khiển xe đi vào đường cao tốc, trừ phương tiện phục vụ việc quản lý, bảo trì đường cao tốc; b) Gây tai nạn giao thông không dừng lại, không giữ nguyên hiện trường, bỏ trốn không đến trình báo với cơ quan có thẩm quyền, không tham gia cấp cứu người bị nạn; c) Điều khiển xe trên đường mà trong máu hoặc hơi thở có nồng độ cồn vượt quá 80 miligam/100 mililít máu hoặc vượt quá 0,4 miligam/1 lít khí thở; d) Không chấp hành yêu cầu kiểm tra về nồng độ cồn của người thi hành công vụ. đ) Người điều khiển xe đạp máy (kể cả xe đạp điện) không đội “mũ bảo hiểm cho người đi mô tô, xe máy” hoặc đội “mũ bảo hiểm cho người đi mô tô, xe máy” không cài quai đúng quy cách khi tham gia giao thông trên đường bộ; e) Chở người ngồi trên xe đạp máy (kể cả xe đạp điện) không đội “mũ bảo hiểm cho người đi mô tô, xe máy” hoặc đội “mũ bảo hiểm cho người đi mô tô, xe máy” không cài quai đúng quy cách, trừ trường hợp chở người bệnh đi cấp cứu, trẻ em dưới 06 tuổi, áp giải người có hành vi vi phạm pháp luật. Như vậy, theo quy định hiện hành thì hành vi đi xe đạp điện nhưng không đội mũ bảo hiểm cũng sẽ bị phạt từ 400.000 đồng đến 600.000 đồng.\n",
      "ID: 6663569ac2f544363eec1fc4, Similarity Score: 0.3904, Sentence: Theo Điều 8 Nghị định 100/2019/NĐ-CP được bổ sung bởi khoản 6 Điều 2 Nghị định 123/2021/NĐ-CP quy định xử phạt người điều khiển xe đạp, xe đạp máy (kể cả xe đạp điện), người điều khiển xe thô sơ khác vi phạm quy tắc giao thông đường bộ như sau: đ) Người điều khiển xe đạp máy (kể cả xe đạp điện) không đội “mũ bảo hiểm cho người đi mô tô, xe máy” hoặc đội “mũ bảo hiểm cho người đi mô tô, xe máy” không cài quai đúng quy cách khi tham gia giao thông trên đường bộ;. 3. Phạt tiền từ 300.000 đồng đến 400.000 đồng đối với người điều khiển xe thực hiện một trong các hành vi vi phạm sau đây: a) Điều khiển xe lạng lách, đánh võng; đuổi nhau trên đường; b) Đi xe bằng một bánh đối với xe đạp, xe đạp máy; đi xe bằng hai bánh đối với xe xích lô; c) Đi vào khu vực cấm; đường có biển báo hiệu nội dung cấm đi vào đối với loại phương tiện đang điều khiển; đi ngược chiều đường của đường một chiều, đường có biển “Cấm đi ngược chiều”; e) Điều khiển xe trên đường mà trong máu hoặc hơi thở có nồng độ cồn vượt quá 50 miligam đến 80 miligam/100 mililít máu hoặc vượt quá 0,25 miligam đến 0,4 miligam/1 lít khí thở. 4. Phạt tiền từ 400.000 đồng đến 600.000 đồng đối với người điều khiển xe thực hiện một trong các hành vi vi phạm sau đây: a) Điều khiển xe đi vào đường cao tốc, trừ phương tiện phục vụ việc quản lý, bảo trì đường cao tốc; b) Gây tai nạn giao thông không dừng lại, không giữ nguyên hiện trường, bỏ trốn không đến trình báo với cơ quan có thẩm quyền, không tham gia cấp cứu người bị nạn; c) Điều khiển xe trên đường mà trong máu hoặc hơi thở có nồng độ cồn vượt quá 80 miligam/100 mililít máu hoặc vượt quá 0,4 miligam/1 lít khí thở; d) Không chấp hành yêu cầu kiểm tra về nồng độ cồn của người thi hành công vụ. e) Chở người ngồi trên xe đạp máy (kể cả xe đạp điện) không đội “mũ bảo hiểm cho người đi mô tô, xe máy” hoặc đội “mũ bảo hiểm cho người đi mô tô, xe máy” không cài quai đúng quy cách, trừ trường hợp chở người bệnh đi cấp cứu, trẻ em dưới 06 tuổi, áp giải người có hành vi vi phạm pháp luật.\n"
     ]
    }
   ],
   "source": [
    "top_20_indices_answer = np.argsort(similarities_answer[0])[::-1][:20]\n",
    "\n",
    "for idx in top_20_indices_answer:\n",
    "    similarity_score = similarities_answer[0][idx]\n",
    "    similar_sentence = sentences_answer[idx]\n",
    "    doc_id = ids_title[idx]\n",
    "    print(f\"ID: {doc_id}, Similarity Score: {similarity_score:.4f}, Sentence: {similar_sentence}\")"
   ],
   "metadata": {
    "collapsed": false,
    "ExecuteTime": {
     "start_time": "2024-06-12T17:18:47.920802Z",
     "end_time": "2024-06-12T17:18:47.934091Z"
    }
   }
  },
  {
   "cell_type": "markdown",
   "source": [
    "# Caculate the final similarity score"
   ],
   "metadata": {
    "collapsed": false
   }
  },
  {
   "cell_type": "code",
   "execution_count": 34,
   "outputs": [],
   "source": [
    "score_title_ids = []\n",
    "for idx in top_20_indices_title:\n",
    "    score_title_ids.append({\n",
    "        'id': ids_title[idx],\n",
    "        'score': similarities_title[0][idx]\n",
    "    })"
   ],
   "metadata": {
    "collapsed": false,
    "ExecuteTime": {
     "start_time": "2024-06-12T17:18:47.935087Z",
     "end_time": "2024-06-12T17:18:47.941749Z"
    }
   }
  },
  {
   "cell_type": "code",
   "execution_count": 35,
   "outputs": [],
   "source": [
    "score_answer_ids = []\n",
    "for idx in top_20_indices_answer:\n",
    "    score_answer_ids.append({\n",
    "        'id': ids_answer[idx],\n",
    "        'score': similarities_answer[0][idx]\n",
    "    })"
   ],
   "metadata": {
    "collapsed": false,
    "ExecuteTime": {
     "start_time": "2024-06-12T17:18:47.943752Z",
     "end_time": "2024-06-12T17:18:47.989475Z"
    }
   }
  },
  {
   "cell_type": "code",
   "execution_count": 36,
   "outputs": [],
   "source": [
    "title_scores_by_id = {score_dict['id']: score_dict['score'] for score_dict in score_title_ids}\n",
    "answer_scores_by_id = {score_dict['id']: score_dict['score'] for score_dict in score_answer_ids}\n",
    "\n",
    "score_sbert_ids = []\n",
    "\n",
    "for id in set(title_scores_by_id.keys()).intersection(answer_scores_by_id.keys()):\n",
    "    final_score = title_scores_by_id[id] * answer_scores_by_id[id]\n",
    "    score_sbert_ids.append({'id': id, 'score': final_score})\n",
    "\n",
    "score_sbert_ids = sorted(score_sbert_ids, key=lambda x: x['score'], reverse=True)"
   ],
   "metadata": {
    "collapsed": false,
    "ExecuteTime": {
     "start_time": "2024-06-12T17:18:47.953302Z",
     "end_time": "2024-06-12T17:18:47.989475Z"
    }
   }
  },
  {
   "cell_type": "code",
   "execution_count": 37,
   "outputs": [
    {
     "name": "stdout",
     "output_type": "stream",
     "text": [
      "ID: 6663569dc2f544363eec6414, Sbert Score: 0.6124\n",
      "ID: 6663569dc2f544363eec53e2, Sbert Score: 0.5794\n",
      "ID: 6663569cc2f544363eec510a, Sbert Score: 0.5736\n",
      "ID: 6663569fc2f544363eec7b41, Sbert Score: 0.5272\n",
      "ID: 6663569cc2f544363eec4985, Sbert Score: 0.5213\n",
      "ID: 6663569bc2f544363eec3bf5, Sbert Score: 0.5134\n",
      "ID: 6663573ac2f544363eeea0b6, Sbert Score: 0.5093\n",
      "ID: 6663569ac2f544363eec2486, Sbert Score: 0.4963\n",
      "ID: 6663569fc2f544363eec876e, Sbert Score: 0.4691\n",
      "ID: 6663569ac2f544363eec2236, Sbert Score: 0.4593\n"
     ]
    }
   ],
   "source": [
    "for score_dict in score_sbert_ids[:10]:\n",
    "    print(f\"ID: {score_dict['id']}, Sbert Score: {score_dict['score']:.4f}\")"
   ],
   "metadata": {
    "collapsed": false,
    "ExecuteTime": {
     "start_time": "2024-06-12T17:18:47.961672Z",
     "end_time": "2024-06-12T17:18:47.990477Z"
    }
   }
  },
  {
   "cell_type": "code",
   "execution_count": 38,
   "outputs": [],
   "source": [
    "score_bm25_ids = [{'id': doc_dict['id'], 'score': doc_score} for doc_dict, doc_score in zip(top_docs, doc_scores)]"
   ],
   "metadata": {
    "collapsed": false,
    "ExecuteTime": {
     "start_time": "2024-06-12T17:18:47.975824Z",
     "end_time": "2024-06-12T17:18:47.991478Z"
    }
   }
  },
  {
   "cell_type": "code",
   "execution_count": 39,
   "outputs": [
    {
     "name": "stdout",
     "output_type": "stream",
     "text": [
      "ID: 6663569dc2f544363eec6414, Final Score: 211.1196\n",
      "ID: 6663569cc2f544363eec510a, Final Score: 199.8013\n",
      "ID: 6663569dc2f544363eec53e2, Final Score: 199.7391\n",
      "ID: 6663569cc2f544363eec4985, Final Score: 180.9425\n",
      "ID: 6663569fc2f544363eec7b41, Final Score: 178.3325\n"
     ]
    }
   ],
   "source": [
    "final_scores = []\n",
    "for score_sbert in score_sbert_ids:\n",
    "    for score_bm25 in score_bm25_ids:\n",
    "        score_sbert_id = str(score_sbert['id'])\n",
    "        if score_sbert_id == score_bm25['id']:\n",
    "            final_score = score_sbert['score'] * score_bm25['score']\n",
    "            final_scores.append({'id': score_sbert_id, 'final_score': final_score})\n",
    "            break\n",
    "\n",
    "final_scores = sorted(final_scores, key=lambda x: x['final_score'], reverse=True)\n",
    "\n",
    "for score_dict in final_scores[:5]:\n",
    "    print(f\"ID: {score_dict['id']}, Final Score: {score_dict['final_score']:.4f}\")\n"
   ],
   "metadata": {
    "collapsed": false,
    "ExecuteTime": {
     "start_time": "2024-06-12T17:18:47.984478Z",
     "end_time": "2024-06-12T17:18:48.017630Z"
    }
   }
  },
  {
   "cell_type": "code",
   "execution_count": 39,
   "outputs": [],
   "source": [],
   "metadata": {
    "collapsed": false,
    "ExecuteTime": {
     "start_time": "2024-06-12T17:18:47.998593Z",
     "end_time": "2024-06-12T17:18:48.018610Z"
    }
   }
  }
 ],
 "metadata": {
  "kernelspec": {
   "display_name": "Python 3",
   "language": "python",
   "name": "python3"
  },
  "language_info": {
   "codemirror_mode": {
    "name": "ipython",
    "version": 2
   },
   "file_extension": ".py",
   "mimetype": "text/x-python",
   "name": "python",
   "nbconvert_exporter": "python",
   "pygments_lexer": "ipython2",
   "version": "2.7.6"
  }
 },
 "nbformat": 4,
 "nbformat_minor": 0
}
