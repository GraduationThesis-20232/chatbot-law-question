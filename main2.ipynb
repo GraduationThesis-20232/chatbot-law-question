{
 "cells": [
  {
   "cell_type": "code",
   "execution_count": 16,
   "metadata": {
    "collapsed": true,
    "ExecuteTime": {
     "start_time": "2024-01-11T19:09:51.217193Z",
     "end_time": "2024-01-11T19:09:51.270571Z"
    }
   },
   "outputs": [],
   "source": [
    "import numpy as np\n",
    "from sentence_transformers import SentenceTransformer\n",
    "from text_untils import *\n",
    "import pickle\n",
    "import pandas as pd\n",
    "import json\n",
    "from sklearn.metrics.pairwise import cosine_similarity"
   ]
  },
  {
   "cell_type": "code",
   "execution_count": 17,
   "outputs": [],
   "source": [
    "with open('output/bm25/texts.pkl', 'rb') as f:\n",
    "    texts = pickle.load(f)\n",
    "\n",
    "with open('output/bm25/bm25plus.pkl', 'rb') as f:\n",
    "    bm25plus = pickle.load(f)"
   ],
   "metadata": {
    "collapsed": false,
    "ExecuteTime": {
     "start_time": "2024-01-11T19:09:51.223577Z",
     "end_time": "2024-01-11T19:09:51.350560Z"
    }
   }
  },
  {
   "cell_type": "code",
   "execution_count": 18,
   "outputs": [],
   "source": [
    "def load_docs_from_file(file_path):\n",
    "    docs = []\n",
    "    with open(file_path, 'r', encoding='utf-8') as file:\n",
    "        for line in file:\n",
    "            try:\n",
    "                doc = json.loads(line)\n",
    "                docs.append(doc)\n",
    "            except json.JSONDecodeError:\n",
    "                continue\n",
    "\n",
    "    return docs\n",
    "\n",
    "docs = load_docs_from_file('output/bm25/docs.jsonl')"
   ],
   "metadata": {
    "collapsed": false,
    "ExecuteTime": {
     "start_time": "2024-01-11T19:09:51.324568Z",
     "end_time": "2024-01-11T19:09:51.388881Z"
    }
   }
  },
  {
   "cell_type": "code",
   "execution_count": 19,
   "outputs": [
    {
     "name": "stdout",
     "output_type": "stream",
     "text": [
      "['tổ_chức', 'thực_hiện', 'trách_nhiệm', 'thông_báo', 'phòng_chống', 'xảy', 'thiên_tai']\n"
     ]
    }
   ],
   "source": [
    "query = 'Tổ chức nào thực hiện trách nhiệm thông báo phòng chống khi xảy ra thiên tai'\n",
    "# original_question = 'Cơ quan có trách nhiệm truyền tin phòng, chống thiên tai'\n",
    "query = clean_text(query)\n",
    "query = word_segment(query)\n",
    "query = remove_stopword(normalize_text(query))\n",
    "\n",
    "query_bm25 = query.split()\n",
    "print(query_bm25)"
   ],
   "metadata": {
    "collapsed": false,
    "ExecuteTime": {
     "start_time": "2024-01-11T19:09:51.384860Z",
     "end_time": "2024-01-11T19:09:51.437878Z"
    }
   }
  },
  {
   "cell_type": "code",
   "execution_count": 20,
   "outputs": [],
   "source": [
    "top_docs = bm25plus.get_top_n(query_bm25, docs, n=100)\n",
    "bm25_scores = bm25plus.get_scores(query)\n",
    "doc_scores = np.sort(bm25_scores)[::-1][:100]"
   ],
   "metadata": {
    "collapsed": false,
    "ExecuteTime": {
     "start_time": "2024-01-11T19:09:51.389877Z",
     "end_time": "2024-01-11T19:09:51.626412Z"
    }
   }
  },
  {
   "cell_type": "code",
   "execution_count": 21,
   "outputs": [
    {
     "name": "stdout",
     "output_type": "stream",
     "text": [
      "ID: 653a89021e06875841d152d9, Document: quy_định trách_nhiệm tổ_chức thực_hiện kế_hoạch phòng_chống thiên_tai, Score: 403.7688526747695\n",
      "ID: 653a89191e06875841d1533b, Document: trách_nhiệm tổ_chức thực_hiện kế_hoạch phòng_chống thiên_tai huyện quy_định thế_nào, Score: 395.2592986408791\n",
      "ID: 653a893d1e06875841d15435, Document: quy_định trách_nhiệm tổ_chức thực_hiện kế_hoạch phòng_chống thiên_tai huyện quy_định, Score: 393.19187226801535\n",
      "ID: 653a8b391e06875841d15be5, Document: quy_định trách_nhiệm thông_báo cháy rừng xảy, Score: 393.19187226801535\n",
      "ID: 653a9ebe1e06875841d1c26d, Document: cơ_quan trách_nhiệm truyền phòng_chống thiên_tai, Score: 393.19187226801535\n",
      "ID: 653a86321e06875841d13683, Document: ban chỉ_đạo quốc_gia phòng_chống thiên_tai trách_nhiệm thực_hiện ứng_phó sự_cố thiên_tai tìm_kiếm cứu nạn, Score: 392.5436243939252\n",
      "ID: 653a9ef51e06875841d1c4ad, Document: phòng_chống thiên_tai, Score: 390.0497013666529\n",
      "ID: 653a892e1e06875841d153e9, Document: trách_nhiệm tài_chính đối_với quỹ phòng_chống thiên_tai, Score: 371.3439463747614\n",
      "ID: 653a8b4a1e06875841d15c47, Document: phòng_chống thiên_tai ban chỉ_đạo trung_ương trách_nhiệm, Score: 368.9306861499289\n",
      "ID: 653a881b1e06875841d14e17, Document: trách_nhiệm cơ_quan tổ_chức quản_lý sử_dụng vật_tư phương_tiện trang thiết_bị chuyên_dùng phòng_chống thiên_tai, Score: 363.16560010124624\n",
      "ID: 653a892e1e06875841d153eb, Document: trách_nhiệm ubnd tỉnh đối_với quỹ phòng_chống thiên_tai, Score: 355.6590589416724\n",
      "ID: 653a892c1e06875841d153e7, Document: nn ptnt trách_nhiệm đối_với quỹ phòng_chống thiên_tai, Score: 355.6590589416724\n",
      "ID: 653a9ef01e06875841d1c49d, Document: trách_nhiệm ủy_ban nhân_dân liên_quan quỹ phòng_chống thiên_tai, Score: 355.46309954123194\n",
      "ID: 653a9ebf1e06875841d1c283, Document: cơ_cấu tổ_chức nhiệm_vụ ban chỉ_đạo trung_ương phòng_chống thiên_tai, Score: 351.9954309334478\n",
      "ID: 653a9eee1e06875841d1c483, Document: đóng_góp quỹ phòng_chống thiên_tai tổ_chức kinh_tế hạch_toán độc_lập, Score: 351.9954309334478\n",
      "ID: 653a92bc1e06875841d18223, Document: vốn thực_hiện nội_dung lồng_ghép phòng_chống thiên_tai quy_định thế_nào, Score: 351.9954309334478\n",
      "ID: 653a86a31e06875841d13cbf, Document: báo_cáo quyết_toán quỹ phòng_chống thiên_tai tỉnh thực_hiện thế_nào, Score: 351.9954309334478\n",
      "ID: 653a93511e06875841d1871d, Document: trách_nhiệm cục đường thủy_nội_địa việt nam phòng_chống thiên_tai, Score: 351.9954309334478\n",
      "ID: 653a99ff1e06875841d1aa15, Document: thông_báo cơ_quan nhà_nước thẩm_quyền xảy sự_cố ô_nhiễm xử_phạt thế_nào, Score: 351.9954309334478\n",
      "ID: 653a8e961e06875841d16b81, Document: vai_trò cục hàng_hải việt_nam thực_hiện phòng_chống thiên_tai lĩnh_vực hàng_hải, Score: 351.9954309334478\n",
      "ID: 653a87ea1e06875841d14c45, Document: thực_hiện lồng_ghép nội_dung phòng_chống thiên_tai quy_hoạch phát_triển kinh_tế xã_hội, Score: 350.82676438716607\n",
      "ID: 653a86a31e06875841d13cc7, Document: điều_tiết quỹ phòng_chống thiên_tai trung_ương quỹ tỉnh thực_hiện thế_nào, Score: 350.4431013836018\n",
      "ID: 653a86a41e06875841d13cf9, Document: nhiệm_vụ quỹ phòng_chống thiên_tai, Score: 350.4431013836018\n",
      "ID: 653a86a41e06875841d13cfd, Document: tài_chính quỹ phòng_chống thiên_tai, Score: 350.4431013836018\n",
      "ID: 653a870e1e06875841d142cd, Document: trách_nhiệm phục_hồi môi_trường xảy sự_cố, Score: 349.0410255138986\n",
      "ID: 653a8e681e06875841d16acb, Document: hướng_dẫn xử_lý tình_huống thiên_tai xảy lĩnh_vực hàng_hải, Score: 349.0410255138986\n",
      "ID: 653a8ea21e06875841d16bb9, Document: xử_lý tình_huống thiên_tai lĩnh_vực đường thủy_nội_địa xảy, Score: 349.0410255138986\n",
      "ID: 653a89231e06875841d1538f, Document: tổ_chức nhiệm_vụ ban chỉ_huy phòng_chống thiên_tai tìm_kiếm cứu nạn xã, Score: 348.877344901381\n",
      "ID: 653a8ce91e06875841d16377, Document: tổ_chức ban chỉ_huy phòng_chống thiên_tai tìm_kiếm cứu nạn cấp_bộ thế_nào, Score: 347.7683952382938\n",
      "ID: 653a89231e06875841d15393, Document: tổ_chức nhiệm_vụ ban chỉ_huy phòng_chống thiên_tai tìm_kiếm cứu nạn tỉnh, Score: 347.7683952382938\n",
      "ID: 653a89231e06875841d15391, Document: tổ_chức nhiệm_vụ ban chỉ_huy phòng_chống thiên_tai tìm_kiếm cứu nạn huyện, Score: 347.7683952382938\n",
      "ID: 653a89281e06875841d153b9, Document: cơ_cấu tổ_chức nhiệm_vụ ban chỉ_đạo quốc_gia phòng_chống thiên_tai quy_định thế_nào, Score: 347.7683952382938\n",
      "ID: 653a87081e06875841d14243, Document: biện_pháp tổ_chức di_dời sơ_tán dân thiên_tai xảy địa_bàn thành_phố hồ chí minh thế_nào, Score: 347.7683952382938\n",
      "ID: 653a8d3d1e06875841d1650b, Document: tổ_chức thực_hiện hỗ_trợ kinh_phí địa_phương khắc_phục hậu_quả thiên_tai, Score: 347.3034090557662\n",
      "ID: 653a9e311e06875841d1bfc3, Document: thông_báo cơ_quan nhà_nước thẩm_quyền địa_điểm xảy sự_cố hạt_nhân phạt thế_nào, Score: 347.3034090557662\n",
      "ID: 653a87ea1e06875841d14c47, Document: quy_trình thực_hiện lồng_ghép nội_dung phòng_chống thiên_tai kế_hoạch phát_triển kinh_tế xã_hội, Score: 347.3034090557662\n",
      "ID: 653a8a361e06875841d157cd, Document: lập dự_toán kinh_phí hoạt_động ban chỉ_huy phòng_chống thiên_tai thực_hiện thế_nào, Score: 346.60807511528697\n",
      "ID: 653a9a481e06875841d1ab67, Document: trách_nhiệm ngành cơ_quan tổ_chức trung_ương ứng_phó sự_cố thiên_tai, Score: 346.60807511528697\n",
      "ID: 653a86a41e06875841d13cff, Document: nội_dung chi quỹ phòng_chống thiên_tai, Score: 345.8409499884289\n",
      "ID: 653a87961e06875841d14891, Document: dân_quân tự_vệ nhân_lực phòng_chống thiên_tai, Score: 345.8409499884289\n",
      "ID: 653a9eec1e06875841d1c47d, Document: nguyên_tắc hoạt_động quỹ phòng_chống thiên_tai, Score: 345.8409499884289\n",
      "ID: 653a86a51e06875841d13d25, Document: tài_chính quỹ phòng_chống thiên_tai tỉnh, Score: 345.8409499884289\n",
      "ID: 653a9c341e06875841d1b8c9, Document: nội_dung báo_cáo định_kỳ_công_tác phòng_chống thiên_tai, Score: 345.545826309736\n",
      "ID: 653a8a7c1e06875841d15943, Document: quỹ phòng_chống thiên_tai cơ_quan quản_lý, Score: 345.545826309736\n",
      "ID: 653a881b1e06875841d14e19, Document: vật_tư chuyên_dùng phòng_chống thiên_tai bao_gồm, Score: 345.545826309736\n",
      "ID: 653a85b21e06875841d1308d, Document: phân_cấp công_trình thủy_lợi phòng_chống thiên_tai, Score: 345.545826309736\n",
      "ID: 653a89301e06875841d153f3, Document: quỹ phòng_chống thiên_tai tỉnh thu, Score: 344.5697193504471\n",
      "ID: 653a893d1e06875841d15437, Document: nội_dung kế_hoạch phòng_chống thiên_tai xã, Score: 344.5697193504471\n",
      "ID: 653a8e3d1e06875841d16a01, Document: kinh_phí phòng_chống thiên_tai lĩnh_vực hàng_hải, Score: 344.5352155760647\n",
      "ID: 653a89421e06875841d1544d, Document: nội_dung biện_pháp phòng_chống thiên_tai tỉnh, Score: 344.5352155760647\n",
      "ID: 653a89421e06875841d1544f, Document: nội_dung kế_hoạch phòng_chống thiên_tai huyện, Score: 344.5352155760647\n",
      "ID: 653a93511e06875841d1871b, Document: công_trình phòng_chống thiên_tai đường thủy_nội_địa, Score: 344.5352155760647\n",
      "ID: 653a8c2a1e06875841d15f69, Document: phân_bổ quỹ phòng_chống thiên_tai tỉnh, Score: 344.5352155760647\n",
      "ID: 653a8c991e06875841d16187, Document: doanh_nghiệp đóng quỹ phòng_chống thiên_tai, Score: 344.5352155760647\n",
      "ID: 653a88951e06875841d15155, Document: sinh_viên đóng quỹ phòng_chống thiên_tai, Score: 343.36229394521547\n",
      "ID: 653a9eef1e06875841d1c49b, Document: công_khai thu_chi quỹ phòng_chống thiên_tai, Score: 343.36229394521547\n",
      "ID: 653a89141e06875841d15323, Document: phương_pháp đánh_giá rủi_ro thiên_tai kế_hoạch phòng_chống thiên_tai tỉnh, Score: 343.36229394521547\n",
      "ID: 653a89241e06875841d153a3, Document: tổ_chức ban chỉ_huy phòng_chống thiên_tai tìm_kiếm cứu nạn cấp_bộ quy_định thế_nào, Score: 343.36229394521547\n",
      "ID: 653a85f61e06875841d1337f, Document: xảy tình_huống khẩn_cấp thiên_tai áp_dụng biện_pháp xử_lý thế_nào, Score: 343.36229394521547\n",
      "ID: 653a8e4f1e06875841d16a53, Document: quy_định thời_gian nộp báo_cáo thiên_tai xảy lĩnh_vực hàng_hải, Score: 342.30290219696866\n",
      "ID: 653a88c11e06875841d1521d, Document: trách_nhiệm phục_hồi môi_trường xảy sự_cố môi_trường, Score: 342.30290219696866\n",
      "ID: 653a89021e06875841d152d5, Document: quy_định trách_nhiệm kinh_phí xây_dựng cập_nhật kế_hoạch phòng_chống thiên_tai ubnd tỉnh, Score: 342.30290219696866\n",
      "ID: 653a89021e06875841d152d7, Document: quy_định trách_nhiệm kinh_phí xây_dựng cập_nhật kế_hoạch phòng_chống thiên_tai ubnd huyện, Score: 342.30290219696866\n",
      "ID: 653a890b1e06875841d152f7, Document: quy_định trách_nhiệm kinh_phí xây_dựng cập_nhật kế_hoạch phòng_chống thiên_tai ubnd xã, Score: 341.34131799052324\n",
      "ID: 653a9bca1e06875841d1b60f, Document: trách_nhiệm cơ_quan thực_hiện báo_cáo thống_kê đánh_giá thiệt_hại thiên_tai, Score: 341.34131799052324\n",
      "ID: 653a9f6e1e06875841d1c61f, Document: trách_nhiệm tổ_chức thực_hiện xác_nhận kế_hoạch bảo_vệ môi_trường, Score: 341.34131799052324\n",
      "ID: 653a86a51e06875841d13d1f, Document: quản_lý thu kế_hoạch thu nộp quỹ phòng_chống thiên_tai tỉnh thực_hiện thế_nào, Score: 341.34131799052324\n",
      "ID: 653a87ea1e06875841d14c3b, Document: vốn thực_hiện lồng_ghép nội_dung phòng_chống thiên_tai quy_hoạch kế_hoạch phát_triển kinh_tế xã_hội, Score: 341.34131799052324\n",
      "ID: 653a868a1e06875841d13a9f, Document: yêu_cầu thực_hiện kế_hoạch hoạt_động phòng_chống thiên_tai tìm_kiếm cứu nạn y_tế 2023, Score: 341.34131799052324\n",
      "ID: 653a89141e06875841d15321, Document: quy_định phạm_vi đánh_giá rủi_ro thiên_tai kế_hoạch phòng_chống thiên_tai tỉnh, Score: 341.34131799052324\n",
      "ID: 653a89131e06875841d1531f, Document: đánh_giá rủi_ro thiên_tai kế_hoạch phòng_chống thiên_tai tỉnh quy_định thế_nào, Score: 341.34131799052324\n",
      "ID: 653a9a251e06875841d1ab0d, Document: tổ_chức nhiệm_vụ ban chỉ_huy phòng_chống thiên_tai tìm_kiếm cứu nạn tỉnh huyện xã, Score: 341.34131799052324\n",
      "ID: 653a91681e06875841d17ad3, Document: trách_nhiệm ủy_ban nhân_dân ban chỉ_huy phòng_chống thiên_tai tìm_kiếm cứu nạn quy_định, Score: 340.4645939913444\n",
      "ID: 653a85e71e06875841d132bf, Document: trách_nhiệm quyết_định miễn đóng quỹ phòng_chống thiên_tai đối_với phụ_nữ nuôi 12, Score: 340.4645939913444\n",
      "ID: 653a87f21e06875841d14ccf, Document: thông_báo khu_vực hạn_chế hoạt_động thực_hiện thế_nào, Score: 340.4645939913444\n",
      "ID: 653a98bf1e06875841d19e0b, Document: bắt_buộc lao_động đóng_góp quỹ phòng_chống thiên_tai, Score: 340.4645939913444\n",
      "ID: 653a893d1e06875841d15433, Document: quy_định nội_dung biện_pháp phòng_chống thiên_tai huyện, Score: 340.4645939913444\n",
      "ID: 653a85e71e06875841d132bd, Document: đối_tượng miễn đóng quỹ phòng_chống thiên_tai, Score: 339.6619715059977\n",
      "ID: 653a87961e06875841d14893, Document: chiến_lược quốc_gia phòng_chống thiên_tai xây_dựng thế_nào, Score: 339.6619715059977\n",
      "ID: 653a89241e06875841d153a1, Document: cơ_quan thường_trực_ban chỉ_đạo quốc_gia phòng_chống thiên_tai, Score: 339.6619715059977\n",
      "ID: 653a89231e06875841d1539d, Document: ban chỉ_đạo quốc_gia phòng_chống thiên_tai thành_lập, Score: 338.9244367688113\n",
      "ID: 653a892b1e06875841d153e1, Document: đối_tượng miễn đóng_góp quỹ phòng_chống thiên_tai, Score: 332.56126608068945\n",
      "ID: 653a86a41e06875841d13d03, Document: công_khai_thông_tin hoạt_động quỹ phòng_chống thiên_tai thế_nào, Score: 331.8957737850348\n",
      "ID: 653a86f31e06875841d14063, Document: trường_hợp_doanh_nghiệp miễn đóng_góp quỹ phòng_chống thiên_tai, Score: 331.510589303456\n",
      "ID: 653a85d11e06875841d131e9, Document: hành_vi cấm phòng_chống thiên_tai quy_định thế_nào, Score: 331.3056368077049\n",
      "ID: 653a8ce91e06875841d16373, Document: ban chỉ_đạo trung_ương phòng_chống thiên_tai những_ai, Score: 330.6622264855483\n",
      "ID: 653a86a51e06875841d13d21, Document: nội_dung chi quỹ phòng_chống thiên_tai tỉnh, Score: 330.332437397251\n",
      "ID: 653a8ce91e06875841d16375, Document: nhiệm_vụ ban chỉ_đạo trung_ương phòng_chống thiên_tai, Score: 330.21652924543304\n",
      "ID: 653a86a51e06875841d13d23, Document: thẩm_quyền chi quỹ phòng_chống thiên_tai tỉnh, Score: 329.7895549019449\n",
      "ID: 653a9eec1e06875841d1c47f, Document: thành_lập quỹ phòng_chống thiên_tai quy_định thế_nào, Score: 329.7032783224843\n",
      "ID: 653a8edc1e06875841d16cab, Document: thất_nghiệp miễn đóng quỹ phòng_chống thiên_tai, Score: 329.7032783224843\n",
      "ID: 653a85b21e06875841d1308f, Document: tháo_dỡ công_trình thủy_lợi phòng_chống thiên_tai thực_hiện_trường_hợp, Score: 329.5765266295331\n",
      "ID: 653a8af21e06875841d15aa9, Document: công_ty nước_ngoài đóng qũy phòng_chống thiên_tai, Score: 329.2585354494554\n",
      "ID: 653a87ea1e06875841d14c41, Document: lồng_ghép nội_dung phòng_chống thiên_tai quy_hoạch kế_hoạch, Score: 329.237272153719\n",
      "ID: 653a89271e06875841d153b5, Document: nhiệm_vụ ban chỉ_đạo quốc_gia phòng_chống thiên_tai, Score: 329.1689305699956\n",
      "ID: 653a89421e06875841d15447, Document: nội_dung kế_hoạch phòng_chống thiên_tai tỉnh nội_dung, Score: 328.8212056090063\n",
      "ID: 653a85e71e06875841d132bb, Document: đóng quỹ phòng_chống thiên_tai lao_động bao_nhiêu, Score: 328.77714909389897\n",
      "ID: 653a92bd1e06875841d18231, Document: quy_trình thực_hiện lồng_ghép nội_dung phòng_chống thiên_tai quy_hoạch kế_hoạch kinh_tế xã_hội quy_định thế_nào, Score: 328.5416895673406\n",
      "ID: 653a868a1e06875841d13a9d, Document: kế_hoạch hoạt_động phòng_chống thiên_tai tìm_kiếm cứu nạn y_tế 2023 kinh_phí thực_hiện thế_nào, Score: 328.5416895673406\n",
      "ID: 653a87cf1e06875841d14ae7, Document: tổ_chức thông_báo báo_động cảnh_báo kịp_thời động_đất sóng_thần_thế_nào, Score: 328.44745927472485\n"
     ]
    }
   ],
   "source": [
    "for doc_dict, score in zip(top_docs, doc_scores):\n",
    "    doc_id = doc_dict['id']\n",
    "    doc_title = doc_dict['title']\n",
    "    print(f\"ID: {doc_id}, Document: {doc_title}, Score: {score}\")"
   ],
   "metadata": {
    "collapsed": false,
    "ExecuteTime": {
     "start_time": "2024-01-11T19:09:51.629393Z",
     "end_time": "2024-01-11T19:09:51.631931Z"
    }
   }
  },
  {
   "cell_type": "code",
   "execution_count": 22,
   "outputs": [
    {
     "name": "stdout",
     "output_type": "stream",
     "text": [
      "tổ chức thực hiện trách nhiệm thông báo phòng chống xảy thiên tai\n"
     ]
    }
   ],
   "source": [
    "query_sbert = query.replace('_', ' ')\n",
    "print(query_sbert)"
   ],
   "metadata": {
    "collapsed": false,
    "ExecuteTime": {
     "start_time": "2024-01-11T19:09:51.633930Z",
     "end_time": "2024-01-11T19:09:51.645123Z"
    }
   }
  },
  {
   "cell_type": "code",
   "execution_count": 23,
   "outputs": [],
   "source": [
    "df = pd.read_json('data/cleaned/temp.jsonl', lines=True)"
   ],
   "metadata": {
    "collapsed": false,
    "ExecuteTime": {
     "start_time": "2024-01-11T19:09:51.642123Z",
     "end_time": "2024-01-11T19:09:52.034133Z"
    }
   }
  },
  {
   "cell_type": "code",
   "execution_count": 24,
   "outputs": [],
   "source": [
    "doc_ids = [doc_dict['id'] for doc_dict in top_docs]\n",
    "selected_rows = df[df['_id'].isin(doc_ids)]"
   ],
   "metadata": {
    "collapsed": false,
    "ExecuteTime": {
     "start_time": "2024-01-11T19:09:52.038136Z",
     "end_time": "2024-01-11T19:09:52.042433Z"
    }
   }
  },
  {
   "cell_type": "code",
   "execution_count": 25,
   "outputs": [],
   "source": [
    "sentences_title = []\n",
    "ids_title = []\n",
    "\n",
    "for idx in selected_rows.index:\n",
    "    sentences_title.append(selected_rows.at[idx, 'title'])\n",
    "    ids_title.append(selected_rows.at[idx, '_id'])"
   ],
   "metadata": {
    "collapsed": false,
    "ExecuteTime": {
     "start_time": "2024-01-11T19:09:52.045448Z",
     "end_time": "2024-01-11T19:09:52.103158Z"
    }
   }
  },
  {
   "cell_type": "code",
   "execution_count": 26,
   "outputs": [],
   "source": [
    "embeddings_title = np.load('output/sbert/embeddings.npy')"
   ],
   "metadata": {
    "collapsed": false,
    "ExecuteTime": {
     "start_time": "2024-01-11T19:09:52.104163Z",
     "end_time": "2024-01-11T19:09:52.157455Z"
    }
   }
  },
  {
   "cell_type": "code",
   "execution_count": 27,
   "outputs": [],
   "source": [
    "model_title = SentenceTransformer('keepitreal/vietnamese-sbert')"
   ],
   "metadata": {
    "collapsed": false,
    "ExecuteTime": {
     "start_time": "2024-01-11T19:09:52.148447Z",
     "end_time": "2024-01-11T19:09:52.678896Z"
    }
   }
  },
  {
   "cell_type": "code",
   "execution_count": 28,
   "outputs": [],
   "source": [
    "query_embedding_title = model_title.encode([query_sbert], convert_to_tensor=True)\n",
    "query_embedding_title = query_embedding_title.cpu()"
   ],
   "metadata": {
    "collapsed": false,
    "ExecuteTime": {
     "start_time": "2024-01-11T19:09:52.680894Z",
     "end_time": "2024-01-11T19:09:52.747134Z"
    }
   }
  },
  {
   "cell_type": "code",
   "execution_count": 29,
   "outputs": [
    {
     "ename": "IndexError",
     "evalue": "list index out of range",
     "output_type": "error",
     "traceback": [
      "\u001B[1;31m---------------------------------------------------------------------------\u001B[0m",
      "\u001B[1;31mIndexError\u001B[0m                                Traceback (most recent call last)",
      "Cell \u001B[1;32mIn[29], line 7\u001B[0m\n\u001B[0;32m      5\u001B[0m \u001B[38;5;28;01mfor\u001B[39;00m idx \u001B[38;5;129;01min\u001B[39;00m top_50_indices_title:\n\u001B[0;32m      6\u001B[0m     similarity_score \u001B[38;5;241m=\u001B[39m similarities_title[\u001B[38;5;241m0\u001B[39m][idx]\n\u001B[1;32m----> 7\u001B[0m     similar_sentence \u001B[38;5;241m=\u001B[39m \u001B[43msentences_title\u001B[49m\u001B[43m[\u001B[49m\u001B[43midx\u001B[49m\u001B[43m]\u001B[49m\n\u001B[0;32m      8\u001B[0m     doc_id \u001B[38;5;241m=\u001B[39m ids_title[idx]\n\u001B[0;32m      9\u001B[0m     \u001B[38;5;28mprint\u001B[39m(\u001B[38;5;124mf\u001B[39m\u001B[38;5;124m\"\u001B[39m\u001B[38;5;124mID: \u001B[39m\u001B[38;5;132;01m{\u001B[39;00mdoc_id\u001B[38;5;132;01m}\u001B[39;00m\u001B[38;5;124m, Similarity Score: \u001B[39m\u001B[38;5;132;01m{\u001B[39;00msimilarity_score\u001B[38;5;132;01m:\u001B[39;00m\u001B[38;5;124m.4f\u001B[39m\u001B[38;5;132;01m}\u001B[39;00m\u001B[38;5;124m, Sentence: \u001B[39m\u001B[38;5;132;01m{\u001B[39;00msimilar_sentence\u001B[38;5;132;01m}\u001B[39;00m\u001B[38;5;124m\"\u001B[39m)\n",
      "\u001B[1;31mIndexError\u001B[0m: list index out of range"
     ]
    }
   ],
   "source": [
    "similarities_title = cosine_similarity(query_embedding_title, embeddings_title)\n",
    "\n",
    "top_50_indices_title = np.argsort(similarities_title[0])[::-1][:50]\n",
    "\n",
    "for idx in top_50_indices_title:\n",
    "    similarity_score = similarities_title[0][idx]\n",
    "    similar_sentence = sentences_title[idx]\n",
    "    doc_id = ids_title[idx]\n",
    "    print(f\"ID: {doc_id}, Similarity Score: {similarity_score:.4f}, Sentence: {similar_sentence}\")"
   ],
   "metadata": {
    "collapsed": false
   }
  }
 ],
 "metadata": {
  "kernelspec": {
   "display_name": "Python 3",
   "language": "python",
   "name": "python3"
  },
  "language_info": {
   "codemirror_mode": {
    "name": "ipython",
    "version": 2
   },
   "file_extension": ".py",
   "mimetype": "text/x-python",
   "name": "python",
   "nbconvert_exporter": "python",
   "pygments_lexer": "ipython2",
   "version": "2.7.6"
  }
 },
 "nbformat": 4,
 "nbformat_minor": 0
}
