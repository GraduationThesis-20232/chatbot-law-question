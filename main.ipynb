{
 "cells": [
  {
   "cell_type": "code",
   "execution_count": 9,
   "metadata": {
    "collapsed": true,
    "ExecuteTime": {
     "start_time": "2024-06-24T18:47:30.900579Z",
     "end_time": "2024-06-24T18:47:30.930118Z"
    }
   },
   "outputs": [],
   "source": [
    "import numpy as np\n",
    "from sentence_transformers import SentenceTransformer\n",
    "from text_untils import *\n",
    "import pickle\n",
    "import pandas as pd\n",
    "import json\n",
    "from sklearn.metrics.pairwise import cosine_similarity"
   ]
  },
  {
   "cell_type": "code",
   "execution_count": 10,
   "outputs": [],
   "source": [
    "with open('output/bm25/bm25_20k_temp/bm25plus.pkl', 'rb') as f:\n",
    "    bm25plus = pickle.load(f)"
   ],
   "metadata": {
    "collapsed": false,
    "ExecuteTime": {
     "start_time": "2024-06-24T18:47:30.906118Z",
     "end_time": "2024-06-24T18:47:31.087272Z"
    }
   }
  },
  {
   "cell_type": "code",
   "execution_count": 11,
   "outputs": [],
   "source": [
    "def load_docs_from_file(file_path):\n",
    "    docs = []\n",
    "    with open(file_path, 'r', encoding='utf-8') as file:\n",
    "        for line in file:\n",
    "            try:\n",
    "                doc = json.loads(line)\n",
    "                docs.append(doc)\n",
    "            except json.JSONDecodeError:\n",
    "                continue\n",
    "\n",
    "    return docs\n",
    "\n",
    "docs = load_docs_from_file('output/bm25/bm25_20k_temp/docs.jsonl')"
   ],
   "metadata": {
    "collapsed": false,
    "ExecuteTime": {
     "start_time": "2024-06-24T18:47:30.981628Z",
     "end_time": "2024-06-24T18:47:31.098276Z"
    }
   }
  },
  {
   "cell_type": "code",
   "execution_count": 12,
   "outputs": [
    {
     "name": "stdout",
     "output_type": "stream",
     "text": [
      "['đi', 'xe_máy', 'vi_phạm', 'nồng_độ', 'cồn', 'phạt', 'bao_nhiêu', 'tiền']\n"
     ]
    }
   ],
   "source": [
    "query = \"Đi xe máy vi phạm nồng độ cồn bị phạt bao nhiêu tiền?\"\n",
    "query = clean_text(query)\n",
    "query = word_segment(query)\n",
    "query = remove_stopword(normalize_text(query))\n",
    "\n",
    "query_bm25 = query.split()\n",
    "print(query_bm25)"
   ],
   "metadata": {
    "collapsed": false,
    "ExecuteTime": {
     "start_time": "2024-06-24T18:47:31.055893Z",
     "end_time": "2024-06-24T18:47:31.099273Z"
    }
   }
  },
  {
   "cell_type": "code",
   "execution_count": 14,
   "outputs": [],
   "source": [
    "bm25_scores = bm25plus.get_scores(query_bm25)\n",
    "top_n_indices = np.argsort(bm25_scores)[::-1][:100]\n",
    "top_n_score = bm25_scores[top_n_indices]\n",
    "\n",
    "top_n_documents = [docs[idx] for idx in top_n_indices]"
   ],
   "metadata": {
    "collapsed": false,
    "ExecuteTime": {
     "start_time": "2024-06-24T18:47:31.072278Z",
     "end_time": "2024-06-24T18:47:31.115662Z"
    }
   }
  },
  {
   "cell_type": "code",
   "execution_count": 15,
   "outputs": [
    {
     "name": "stdout",
     "output_type": "stream",
     "text": [
      "ID: 666342eee485130f03f56758, Document: đi xe_máy vi_phạm nồng_độ cồn có_thể phạt bao_nhiêu tiền, Score: 53.196836040565216\n",
      "ID: 666342ede485130f03f5542b, Document: vi_phạm nồng_độ cồn phạt bao_nhiêu tiền, Score: 51.702071248707455\n",
      "ID: 666342ede485130f03f5541a, Document: điều_khiển xe_máy nồng_độ cồn phạt vi_phạm hành_chính bao_nhiêu tiền, Score: 50.32022206385315\n",
      "ID: 666342eee485130f03f56759, Document: đi xe_máy vi_phạm nồng_độ cồn nộp phạt, Score: 50.16789653873717\n",
      "ID: 666342ece485130f03f53211, Document: vi_phạm nồng_độ cồn đội nón bảo_hiểm xe_máy vi_phạm phạt bao_nhiêu tiền, Score: 49.5973241388517\n",
      "ID: 666342eae485130f03f51196, Document: phạt tiền nồng_độ cồn lái xe_máy bao_nhiêu, Score: 49.340779204719574\n",
      "ID: 666342eee485130f03f5675a, Document: đi xe_máy ký biên_bản phạt vi_phạm nồng_độ cồn phạt, Score: 48.65627660391159\n",
      "ID: 666342ece485130f03f541e7, Document: vi_phạm nồng_độ cồn tạm xe_máy bao_nhiêu, Score: 48.582722727299924\n",
      "ID: 666342ede485130f03f54352, Document: phạt nồng_độ cồn xe_máy bao_nhiêu, Score: 48.399137245593934\n",
      "ID: 666342ece485130f03f53b98, Document: xe_máy chấp_hành kiểm_tra nồng_độ cồn phạt bao_nhiêu tiền, Score: 48.08679543923481\n",
      "ID: 666342eee485130f03f563e3, Document: lái xe_máy vi_phạm_quy_định nồng_độ cồn phạt bao_nhiêu tiền, Score: 48.08679543923481\n",
      "ID: 666342ebe485130f03f52554, Document: lỗi vi_phạm nồng_độ cồn điều_khiển xe_máy tham_gia giao_thông phạt bao_nhiêu tiền, Score: 48.08644983546223\n",
      "ID: 666342eee485130f03f56699, Document: đi xe_máy vi_phạm nồng_độ cồn bao_nhiêu tước lái_xe 2024, Score: 48.02730353593777\n",
      "ID: 666342eee485130f03f5654f, Document: đi xe_đạp điện vi_phạm nồng_độ cồn phạt, Score: 47.29183092180456\n",
      "ID: 666342ede485130f03f54351, Document: nồng_độ cồn bao_nhiêu xe_máy, Score: 47.1209229980888\n",
      "ID: 666342eee485130f03f563f8, Document: lái xe_máy nồng_độ cồn bao_nhiêu phạt, Score: 47.042751243348334\n",
      "ID: 666342ede485130f03f550b8, Document: phạt nồng_độ cồn xe_máy 2024 bao_nhiêu, Score: 47.042751243348334\n",
      "ID: 666342eae485130f03f50ff9, Document: vi_phạm nồng_độ cồn xe_máy bao_lâu, Score: 46.99631452549613\n",
      "ID: 666342eae485130f03f50be9, Document: phạt tiền nồng_độ cồn lái_xe ô_tô bao_nhiêu, Score: 46.46471358778696\n",
      "ID: 666342eae485130f03f5112c, Document: vi_phạm nồng_độ cồn nộp tiền phạt hình_thức trả_góp, Score: 46.399659110460156\n",
      "ID: 666342eae485130f03f5112b, Document: hiện_nay phạt vi_phạm nồng_độ cồn, Score: 46.357952594110074\n",
      "ID: 666342ebe485130f03f529e8, Document: phạt đối_với đi xe_đạp vi_phạm nồng_độ cồn 2023, Score: 46.156312137322644\n",
      "ID: 666342eae485130f03f50c4f, Document: điều_khiển xe_máy chấp_hành yêu_cầu kiểm_tra nồng_độ cồn phạt bao_nhiêu tiền, Score: 45.96875199093099\n",
      "ID: 666342ede485130f03f552c0, Document: xe_máy chấp_hành kiểm_tra nồng_độ cồn phạt bao_nhiêu, Score: 45.852835722178\n",
      "ID: 666342eee485130f03f563f9, Document: vi_phạm nồng_độ cồn tạm xe_máy bao_lâu, Score: 45.73164137458823\n",
      "ID: 666342eae485130f03f51bb9, Document: vi_phạm nồng_độ cồn điều_khiển xe_máy xử_phạt, Score: 45.73164137458823\n",
      "ID: 666342eae485130f03f5190e, Document: phạt hành_vi vi_phạm nồng_độ cồn xe_đạp điện bao_nhiêu, Score: 45.63477645402058\n",
      "ID: 666342eae485130f03f5112d, Document: có_thể nộp tiền phạt vi_phạm nồng_độ cồn thông_qua hình_thức, Score: 45.37496844164642\n",
      "ID: 666342eee485130f03f563e4, Document: lái xe_máy vi_phạm nồng_độ cồn tai_nạn giao_thông chết phạt bao_nhiêu tù, Score: 45.285927606164655\n",
      "ID: 666342eae485130f03f50fe8, Document: đi xe_máy 50c nồng_độ cồn 0 053 miligam lít khí thở phạt bao_nhiêu tiền, Score: 45.08290285049174\n",
      "ID: 666342efe485130f03f56aa7, Document: phạt tiền lỗi nồng_độ cồn 2023, Score: 44.84355071807495\n",
      "ID: 666342eae485130f03f50ff8, Document: lái xe_máy vi_phạm lỗi nồng_độ cồn tạm xe_máy, Score: 44.827732167936816\n",
      "ID: 666342ece485130f03f533b9, Document: phạt nồng_độ cồn đối_với điều_khiển xe_máy 2024 bao_nhiêu, Score: 44.800515982009884\n",
      "ID: 666342eae485130f03f517c8, Document: điều_khiển xe_máy vi_phạm nồng_độ cồn xử_phạt thế_nào, Score: 44.62218270354524\n",
      "ID: 666342eee485130f03f55a0c, Document: đi xe_máy phạt bao_nhiêu tiền, Score: 44.27853140637279\n",
      "ID: 666342eee485130f03f56362, Document: phạt nồng_độ cồn phép đối_với xe_máy, Score: 44.19166989063664\n",
      "ID: 666342eae485130f03f50cf3, Document: phạt nồng_độ cồn đối_với xe_máy 2023, Score: 44.19166989063664\n",
      "ID: 666342ece485130f03f53cac, Document: phạt nồng_độ cồn xe_máy 2024 thế_nào, Score: 44.19166989063664\n",
      "ID: 666342ece485130f03f53dd8, Document: lái tàu_hỏa nồng_độ cồn phạt vi_phạm hành_chính, Score: 44.06216750947587\n",
      "ID: 666342eee485130f03f56201, Document: nồng_độ cồn lái_xe ô_tô phạt bao_nhiêu, Score: 43.97865603822598\n",
      "ID: 666342eee485130f03f563e5, Document: lái xe_máy vi_phạm nồng_độ cồn cảnh_sát giao_thông tạm xe_máy, Score: 43.94642180126708\n",
      "ID: 666342eee485130f03f55949, Document: chạy xe_máy hơi thở máu nồng_độ cồn phạt bao_nhiêu, Score: 43.86323017662779\n",
      "ID: 666342eee485130f03f55e39, Document: vi_phạm nồng_độ cồn tạm xe, Score: 43.71788418742441\n",
      "ID: 666342ece485130f03f53bc4, Document: vi_phạm nồng_độ cồn tạm phương_tiện, Score: 43.71788418742441\n",
      "ID: 666342ede485130f03f550b7, Document: nồng_độ cồn phép lái xe_máy bao_nhiêu 2024, Score: 43.53678529931476\n",
      "ID: 666342ebe485130f03f52916, Document: xe_máy đi đường_cao_tốc phạt bao_nhiêu tiền, Score: 43.191539751210044\n",
      "ID: 666342ebe485130f03f5216b, Document: đi xe_máy lái phạt bao_nhiêu tiền, Score: 43.191539751210044\n",
      "ID: 666342eae485130f03f50c2f, Document: phạt bao_nhiêu tiền đi xe_máy vỉa_hè, Score: 43.191539751210044\n",
      "ID: 666342ebe485130f03f525d6, Document: đi xe_máy đường_cao_tốc phạt bao_nhiêu tiền, Score: 43.191539751210044\n",
      "ID: 666342eee485130f03f55e32, Document: đi xe_máy đèn_đỏ phạt bao_nhiêu tiền, Score: 43.191539751210044\n",
      "ID: 666342efe485130f03f56c61, Document: giao xe_máy đi phạt bao_nhiêu tiền, Score: 43.191539751210044\n",
      "ID: 666342efe485130f03f56cf9, Document: phạt đối_với điều_khiển xe_máy nồng_độ cồn quy_định, Score: 43.176712266254114\n",
      "ID: 666342ede485130f03f547c0, Document: lái_xe nồng_độ cồn 0 461 phạt bao_nhiêu, Score: 42.976770105245386\n",
      "ID: 666342eae485130f03f50917, Document: chấp_hành hiệu_lệnh kiểm_tra nồng_độ cồn phạt bao_nhiêu, Score: 42.976770105245386\n",
      "ID: 666342ece485130f03f53bed, Document: phạt điều_khiển xe ô_tô nồng_độ cồn bao_nhiêu, Score: 42.976770105245386\n",
      "ID: 666342eee485130f03f564b1, Document: lái ô_tô nồng_độ cồn máu phạt bao_nhiêu, Score: 42.976770105245386\n",
      "ID: 666342e9e485130f03f501d6, Document: phạt tiền 1 000 000 đ lái xe_máy nồng_độ cồn quy_định, Score: 42.917568486974545\n",
      "ID: 666342eee485130f03f557e5, Document: điều_khiển xe ô_tô chấp_hành yêu_cầu kiểm_tra nồng_độ cồn phạt bao_nhiêu tiền, Score: 42.757031921723\n",
      "ID: 666342efe485130f03f56a43, Document: vi_phạm nồng_độ cồn điều_khiển ô_tô xử_phạt, Score: 42.66754616946588\n",
      "ID: 666342ebe485130f03f528f5, Document: công_an xã xử_phạt vi_phạm nồng_độ cồn, Score: 42.66754616946588\n",
      "ID: 666342eae485130f03f517c9, Document: thời_hiệu xử_phạt vi_phạm nồng_độ cồn bao_lâu, Score: 42.66754616946588\n",
      "ID: 666342ebe485130f03f52a06, Document: vi_phạm nồng_độ cồn xe ô_tô tước lái tối_đa bao_nhiêu, Score: 42.58901996851005\n",
      "ID: 666342eee485130f03f55bf9, Document: nồng_độ cồn, Score: 42.558187384075566\n",
      "ID: 666342eae485130f03f50cf6, Document: nồng_độ cồn bao_nhiêu tạm xe, Score: 42.48063850083654\n",
      "ID: 666342ebe485130f03f52493, Document: nồng_độ cồn lái_xe bao_nhiêu xử_phạt, Score: 42.48063850083654\n",
      "ID: 666342ebe485130f03f52166, Document: giam lái nồng_độ cồn bao_nhiêu, Score: 42.48063850083654\n",
      "ID: 666342ece485130f03f538ed, Document: nồng_độ cồn cơ_thể bao_nhiêu xử_phạt, Score: 42.48063850083654\n",
      "ID: 666342ece485130f03f53bc3, Document: phạt lỗi nồng_độ cồn xe_máy xe ô_tô 2023, Score: 42.27911918122453\n",
      "ID: 666342ece485130f03f538b0, Document: xe_máy đi sai làn_đường phạt bao_nhiêu tiền, Score: 42.237955565204416\n",
      "ID: 666342eae485130f03f515dd, Document: sử_dụng tai_nghe đi xe_máy phạt bao_nhiêu tiền, Score: 42.237955565204416\n",
      "ID: 666342ebe485130f03f51f4b, Document: lỗi đi xe_máy đèn_đỏ phạt bao_nhiêu tiền, Score: 42.237955565204416\n",
      "ID: 666342ece485130f03f53ef8, Document: xe_máy đi đường cấm phạt bao_nhiêu tiền, Score: 42.237955565204416\n",
      "ID: 666342eee485130f03f55f88, Document: phạt xe_máy đi sai làn_đường bao_nhiêu tiền, Score: 42.237955565204416\n",
      "ID: 666342ece485130f03f53665, Document: đi xe_máy chở 3 phạt bao_nhiêu tiền, Score: 42.237955565204416\n",
      "ID: 666342eae485130f03f5190d, Document: đi xe_đạp điện thổi nồng_độ cồn, Score: 42.10091728377677\n",
      "ID: 666342ece485130f03f533ba, Document: phạt nồng_độ cồn đối_với điều_khiển xe_đạp 2024 bao_nhiêu, Score: 42.09073716768418\n",
      "ID: 666342efe485130f03f56daa, Document: phạt nồng_độ cồn lái_xe 2019, Score: 42.07019085716751\n",
      "ID: 666342eee485130f03f55e3a, Document: nộp phí trông xe tạm xe vi_phạm nồng_độ cồn bao_nhiêu, Score: 41.81491887306812\n",
      "ID: 666342efe485130f03f56aa8, Document: thổi nồng_độ cồn yêu_cầu cảnh_sát giao_thông vi_phạm, Score: 41.74611708661263\n",
      "ID: 666342eae485130f03f5190f, Document: tạm xe_đạp điện phát_hiện vi_phạm nồng_độ cồn, Score: 41.74611708661263\n",
      "ID: 666342eee485130f03f55e3b, Document: thời_hạn tạm xe vi_phạm nồng_độ cồn mấy, Score: 41.74611708661263\n",
      "ID: 666342ebe485130f03f52c43, Document: chi_phí xét_nghiệm nồng_độ cồn máu tài_xế vi_phạm, Score: 41.74611708661263\n",
      "ID: 666342ece485130f03f5394d, Document: nồng_độ cồn điều_khiển xe_máy giam bao_lâu, Score: 41.72420219666743\n",
      "ID: 666342ede485130f03f550b9, Document: lỗi nồng_độ cồn xe_máy giam xe, Score: 41.72420219666743\n",
      "ID: 666342eae485130f03f50a99, Document: xử_phạt nồng_độ cồn điều_khiển xe_máy ô_tô, Score: 41.72420219666743\n",
      "ID: 666342eee485130f03f5659e, Document: đi xe_máy bảo_hiểm_phạt bao_nhiêu tiền, Score: 41.63846299968713\n",
      "ID: 666342eee485130f03f569fe, Document: điều_khiển xe_máy nồng_độ cồn_phép phạt bao_nhiêu, Score: 41.54479050543777\n",
      "ID: 666342ece485130f03f5394b, Document: nồng_độ cồn phép tham_gia giao_thông bao_nhiêu, Score: 41.511188344256766\n",
      "ID: 666342ece485130f03f54160, Document: giao xe_máy nồng_độ cồn điều_khiển tai_nạn chết phạt tù, Score: 41.47964614513671\n",
      "ID: 666342ebe485130f03f52178, Document: điều_khiển xe_máy đi ngược chiều phạt bao_nhiêu tiền, Score: 41.39463900617769\n",
      "ID: 666342ebe485130f03f52a3a, Document: điều_khiển xe_máy đi đường cấm phạt bao_nhiêu tiền, Score: 41.39463900617769\n",
      "ID: 666342ece485130f03f53d01, Document: đi xe_máy giấy đăng_ký xe phạt bao_nhiêu tiền, Score: 41.39463900617769\n",
      "ID: 666342eae485130f03f51077, Document: 2024 xe_máy đi ngược chiều phạt bao_nhiêu tiền, Score: 41.39463900617769\n",
      "ID: 666342ece485130f03f5431d, Document: đi xe_máy tai_nạn giao_thông chạy phạt bao_nhiêu tiền, Score: 41.39463900617769\n",
      "ID: 666342eae485130f03f51b2a, Document: xe_máy đi xe vỉa_hè phạt bao_nhiêu tiền 2022, Score: 41.39463900617769\n",
      "ID: 666342ece485130f03f53c13, Document: nồng_độ cồn máy_bay, Score: 41.345898539408324\n",
      "ID: 666342ebe485130f03f5228a, Document: phạt nồng_độ cồn đối_với điều_khiển xe ô_tô 2024 bao_nhiêu, Score: 41.30156058591213\n",
      "ID: 666342eae485130f03f50d35, Document: điều_khiển xe mô_tô xe gắn_máy nồng_độ cồn phạt bao_nhiêu, Score: 41.30156058591213\n",
      "ID: 666342efe485130f03f56dab, Document: đi xe_máy phạt bao_nhiêu, Score: 41.254086567897005\n",
      "ID: 666342eae485130f03f50d14, Document: 15 đi xe_máy phạt tiền, Score: 41.2280153560181\n"
     ]
    }
   ],
   "source": [
    "for doc_dict, score in zip(top_n_documents, top_n_score):\n",
    "    doc_id = doc_dict['id']\n",
    "    doc_title = doc_dict['title']\n",
    "    print(f\"ID: {doc_id}, Document: {doc_title}, Score: {score}\")"
   ],
   "metadata": {
    "collapsed": false,
    "ExecuteTime": {
     "start_time": "2024-06-24T18:47:31.116666Z",
     "end_time": "2024-06-24T18:47:31.179294Z"
    }
   }
  },
  {
   "cell_type": "code",
   "execution_count": 16,
   "outputs": [
    {
     "name": "stdout",
     "output_type": "stream",
     "text": [
      "ID: 666342eee485130f03f56758, Document: đi xe_máy vi_phạm nồng_độ cồn có_thể phạt bao_nhiêu tiền, Rescaled Score: 10.0000\n",
      "ID: 666342ede485130f03f5542b, Document: vi_phạm nồng_độ cồn phạt bao_nhiêu tiền, Rescaled Score: 9.7190\n",
      "ID: 666342ede485130f03f5541a, Document: điều_khiển xe_máy nồng_độ cồn phạt vi_phạm hành_chính bao_nhiêu tiền, Rescaled Score: 9.4593\n",
      "ID: 666342eee485130f03f56759, Document: đi xe_máy vi_phạm nồng_độ cồn nộp phạt, Rescaled Score: 9.4306\n",
      "ID: 666342ece485130f03f53211, Document: vi_phạm nồng_độ cồn đội nón bảo_hiểm xe_máy vi_phạm phạt bao_nhiêu tiền, Rescaled Score: 9.3234\n",
      "ID: 666342eae485130f03f51196, Document: phạt tiền nồng_độ cồn lái xe_máy bao_nhiêu, Rescaled Score: 9.2751\n",
      "ID: 666342eee485130f03f5675a, Document: đi xe_máy ký biên_bản phạt vi_phạm nồng_độ cồn phạt, Rescaled Score: 9.1465\n",
      "ID: 666342ece485130f03f541e7, Document: vi_phạm nồng_độ cồn tạm xe_máy bao_nhiêu, Rescaled Score: 9.1326\n",
      "ID: 666342ede485130f03f54352, Document: phạt nồng_độ cồn xe_máy bao_nhiêu, Rescaled Score: 9.0981\n",
      "ID: 666342ece485130f03f53b98, Document: xe_máy chấp_hành kiểm_tra nồng_độ cồn phạt bao_nhiêu tiền, Rescaled Score: 9.0394\n",
      "ID: 666342eee485130f03f563e3, Document: lái xe_máy vi_phạm_quy_định nồng_độ cồn phạt bao_nhiêu tiền, Rescaled Score: 9.0394\n",
      "ID: 666342ebe485130f03f52554, Document: lỗi vi_phạm nồng_độ cồn điều_khiển xe_máy tham_gia giao_thông phạt bao_nhiêu tiền, Rescaled Score: 9.0393\n",
      "ID: 666342eee485130f03f56699, Document: đi xe_máy vi_phạm nồng_độ cồn bao_nhiêu tước lái_xe 2024, Rescaled Score: 9.0282\n",
      "ID: 666342eee485130f03f5654f, Document: đi xe_đạp điện vi_phạm nồng_độ cồn phạt, Rescaled Score: 8.8900\n",
      "ID: 666342ede485130f03f54351, Document: nồng_độ cồn bao_nhiêu xe_máy, Rescaled Score: 8.8578\n",
      "ID: 666342eee485130f03f563f8, Document: lái xe_máy nồng_độ cồn bao_nhiêu phạt, Rescaled Score: 8.8431\n",
      "ID: 666342ede485130f03f550b8, Document: phạt nồng_độ cồn xe_máy 2024 bao_nhiêu, Rescaled Score: 8.8431\n",
      "ID: 666342eae485130f03f50ff9, Document: vi_phạm nồng_độ cồn xe_máy bao_lâu, Rescaled Score: 8.8344\n",
      "ID: 666342eae485130f03f50be9, Document: phạt tiền nồng_độ cồn lái_xe ô_tô bao_nhiêu, Rescaled Score: 8.7345\n",
      "ID: 666342eae485130f03f5112c, Document: vi_phạm nồng_độ cồn nộp tiền phạt hình_thức trả_góp, Rescaled Score: 8.7223\n",
      "ID: 666342eae485130f03f5112b, Document: hiện_nay phạt vi_phạm nồng_độ cồn, Rescaled Score: 8.7144\n",
      "ID: 666342ebe485130f03f529e8, Document: phạt đối_với đi xe_đạp vi_phạm nồng_độ cồn 2023, Rescaled Score: 8.6765\n",
      "ID: 666342eae485130f03f50c4f, Document: điều_khiển xe_máy chấp_hành yêu_cầu kiểm_tra nồng_độ cồn phạt bao_nhiêu tiền, Rescaled Score: 8.6413\n",
      "ID: 666342ede485130f03f552c0, Document: xe_máy chấp_hành kiểm_tra nồng_độ cồn phạt bao_nhiêu, Rescaled Score: 8.6195\n",
      "ID: 666342eee485130f03f563f9, Document: vi_phạm nồng_độ cồn tạm xe_máy bao_lâu, Rescaled Score: 8.5967\n",
      "ID: 666342eae485130f03f51bb9, Document: vi_phạm nồng_độ cồn điều_khiển xe_máy xử_phạt, Rescaled Score: 8.5967\n",
      "ID: 666342eae485130f03f5190e, Document: phạt hành_vi vi_phạm nồng_độ cồn xe_đạp điện bao_nhiêu, Rescaled Score: 8.5785\n",
      "ID: 666342eae485130f03f5112d, Document: có_thể nộp tiền phạt vi_phạm nồng_độ cồn thông_qua hình_thức, Rescaled Score: 8.5296\n",
      "ID: 666342eee485130f03f563e4, Document: lái xe_máy vi_phạm nồng_độ cồn tai_nạn giao_thông chết phạt bao_nhiêu tù, Rescaled Score: 8.5129\n",
      "ID: 666342eae485130f03f50fe8, Document: đi xe_máy 50c nồng_độ cồn 0 053 miligam lít khí thở phạt bao_nhiêu tiền, Rescaled Score: 8.4747\n",
      "ID: 666342efe485130f03f56aa7, Document: phạt tiền lỗi nồng_độ cồn 2023, Rescaled Score: 8.4297\n",
      "ID: 666342eae485130f03f50ff8, Document: lái xe_máy vi_phạm lỗi nồng_độ cồn tạm xe_máy, Rescaled Score: 8.4268\n",
      "ID: 666342ece485130f03f533b9, Document: phạt nồng_độ cồn đối_với điều_khiển xe_máy 2024 bao_nhiêu, Rescaled Score: 8.4217\n",
      "ID: 666342eae485130f03f517c8, Document: điều_khiển xe_máy vi_phạm nồng_độ cồn xử_phạt thế_nào, Rescaled Score: 8.3881\n",
      "ID: 666342eee485130f03f55a0c, Document: đi xe_máy phạt bao_nhiêu tiền, Rescaled Score: 8.3235\n",
      "ID: 666342eee485130f03f56362, Document: phạt nồng_độ cồn phép đối_với xe_máy, Rescaled Score: 8.3072\n",
      "ID: 666342eae485130f03f50cf3, Document: phạt nồng_độ cồn đối_với xe_máy 2023, Rescaled Score: 8.3072\n",
      "ID: 666342ece485130f03f53cac, Document: phạt nồng_độ cồn xe_máy 2024 thế_nào, Rescaled Score: 8.3072\n",
      "ID: 666342ece485130f03f53dd8, Document: lái tàu_hỏa nồng_độ cồn phạt vi_phạm hành_chính, Rescaled Score: 8.2829\n",
      "ID: 666342eee485130f03f56201, Document: nồng_độ cồn lái_xe ô_tô phạt bao_nhiêu, Rescaled Score: 8.2672\n",
      "ID: 666342eee485130f03f563e5, Document: lái xe_máy vi_phạm nồng_độ cồn cảnh_sát giao_thông tạm xe_máy, Rescaled Score: 8.2611\n",
      "ID: 666342eee485130f03f55949, Document: chạy xe_máy hơi thở máu nồng_độ cồn phạt bao_nhiêu, Rescaled Score: 8.2455\n",
      "ID: 666342eee485130f03f55e39, Document: vi_phạm nồng_độ cồn tạm xe, Rescaled Score: 8.2181\n",
      "ID: 666342ece485130f03f53bc4, Document: vi_phạm nồng_độ cồn tạm phương_tiện, Rescaled Score: 8.2181\n",
      "ID: 666342ede485130f03f550b7, Document: nồng_độ cồn phép lái xe_máy bao_nhiêu 2024, Rescaled Score: 8.1841\n",
      "ID: 666342ebe485130f03f52916, Document: xe_máy đi đường_cao_tốc phạt bao_nhiêu tiền, Rescaled Score: 8.1192\n",
      "ID: 666342ebe485130f03f5216b, Document: đi xe_máy lái phạt bao_nhiêu tiền, Rescaled Score: 8.1192\n",
      "ID: 666342eae485130f03f50c2f, Document: phạt bao_nhiêu tiền đi xe_máy vỉa_hè, Rescaled Score: 8.1192\n",
      "ID: 666342ebe485130f03f525d6, Document: đi xe_máy đường_cao_tốc phạt bao_nhiêu tiền, Rescaled Score: 8.1192\n",
      "ID: 666342eee485130f03f55e32, Document: đi xe_máy đèn_đỏ phạt bao_nhiêu tiền, Rescaled Score: 8.1192\n",
      "ID: 666342efe485130f03f56c61, Document: giao xe_máy đi phạt bao_nhiêu tiền, Rescaled Score: 8.1192\n",
      "ID: 666342efe485130f03f56cf9, Document: phạt đối_với điều_khiển xe_máy nồng_độ cồn quy_định, Rescaled Score: 8.1164\n",
      "ID: 666342ede485130f03f547c0, Document: lái_xe nồng_độ cồn 0 461 phạt bao_nhiêu, Rescaled Score: 8.0788\n",
      "ID: 666342eae485130f03f50917, Document: chấp_hành hiệu_lệnh kiểm_tra nồng_độ cồn phạt bao_nhiêu, Rescaled Score: 8.0788\n",
      "ID: 666342ece485130f03f53bed, Document: phạt điều_khiển xe ô_tô nồng_độ cồn bao_nhiêu, Rescaled Score: 8.0788\n",
      "ID: 666342eee485130f03f564b1, Document: lái ô_tô nồng_độ cồn máu phạt bao_nhiêu, Rescaled Score: 8.0788\n",
      "ID: 666342e9e485130f03f501d6, Document: phạt tiền 1 000 000 đ lái xe_máy nồng_độ cồn quy_định, Rescaled Score: 8.0677\n",
      "ID: 666342eee485130f03f557e5, Document: điều_khiển xe ô_tô chấp_hành yêu_cầu kiểm_tra nồng_độ cồn phạt bao_nhiêu tiền, Rescaled Score: 8.0375\n",
      "ID: 666342efe485130f03f56a43, Document: vi_phạm nồng_độ cồn điều_khiển ô_tô xử_phạt, Rescaled Score: 8.0207\n",
      "ID: 666342ebe485130f03f528f5, Document: công_an xã xử_phạt vi_phạm nồng_độ cồn, Rescaled Score: 8.0207\n",
      "ID: 666342eae485130f03f517c9, Document: thời_hiệu xử_phạt vi_phạm nồng_độ cồn bao_lâu, Rescaled Score: 8.0207\n",
      "ID: 666342ebe485130f03f52a06, Document: vi_phạm nồng_độ cồn xe ô_tô tước lái tối_đa bao_nhiêu, Rescaled Score: 8.0059\n",
      "ID: 666342eee485130f03f55bf9, Document: nồng_độ cồn, Rescaled Score: 8.0001\n",
      "ID: 666342eae485130f03f50cf6, Document: nồng_độ cồn bao_nhiêu tạm xe, Rescaled Score: 7.9856\n",
      "ID: 666342ebe485130f03f52493, Document: nồng_độ cồn lái_xe bao_nhiêu xử_phạt, Rescaled Score: 7.9856\n",
      "ID: 666342ebe485130f03f52166, Document: giam lái nồng_độ cồn bao_nhiêu, Rescaled Score: 7.9856\n",
      "ID: 666342ece485130f03f538ed, Document: nồng_độ cồn cơ_thể bao_nhiêu xử_phạt, Rescaled Score: 7.9856\n",
      "ID: 666342ece485130f03f53bc3, Document: phạt lỗi nồng_độ cồn xe_máy xe ô_tô 2023, Rescaled Score: 7.9477\n",
      "ID: 666342ece485130f03f538b0, Document: xe_máy đi sai làn_đường phạt bao_nhiêu tiền, Rescaled Score: 7.9399\n",
      "ID: 666342eae485130f03f515dd, Document: sử_dụng tai_nghe đi xe_máy phạt bao_nhiêu tiền, Rescaled Score: 7.9399\n",
      "ID: 666342ebe485130f03f51f4b, Document: lỗi đi xe_máy đèn_đỏ phạt bao_nhiêu tiền, Rescaled Score: 7.9399\n",
      "ID: 666342ece485130f03f53ef8, Document: xe_máy đi đường cấm phạt bao_nhiêu tiền, Rescaled Score: 7.9399\n",
      "ID: 666342eee485130f03f55f88, Document: phạt xe_máy đi sai làn_đường bao_nhiêu tiền, Rescaled Score: 7.9399\n",
      "ID: 666342ece485130f03f53665, Document: đi xe_máy chở 3 phạt bao_nhiêu tiền, Rescaled Score: 7.9399\n",
      "ID: 666342eae485130f03f5190d, Document: đi xe_đạp điện thổi nồng_độ cồn, Rescaled Score: 7.9142\n",
      "ID: 666342ece485130f03f533ba, Document: phạt nồng_độ cồn đối_với điều_khiển xe_đạp 2024 bao_nhiêu, Rescaled Score: 7.9123\n",
      "ID: 666342efe485130f03f56daa, Document: phạt nồng_độ cồn lái_xe 2019, Rescaled Score: 7.9084\n",
      "ID: 666342eee485130f03f55e3a, Document: nộp phí trông xe tạm xe vi_phạm nồng_độ cồn bao_nhiêu, Rescaled Score: 7.8604\n",
      "ID: 666342efe485130f03f56aa8, Document: thổi nồng_độ cồn yêu_cầu cảnh_sát giao_thông vi_phạm, Rescaled Score: 7.8475\n",
      "ID: 666342eae485130f03f5190f, Document: tạm xe_đạp điện phát_hiện vi_phạm nồng_độ cồn, Rescaled Score: 7.8475\n",
      "ID: 666342eee485130f03f55e3b, Document: thời_hạn tạm xe vi_phạm nồng_độ cồn mấy, Rescaled Score: 7.8475\n",
      "ID: 666342ebe485130f03f52c43, Document: chi_phí xét_nghiệm nồng_độ cồn máu tài_xế vi_phạm, Rescaled Score: 7.8475\n",
      "ID: 666342ece485130f03f5394d, Document: nồng_độ cồn điều_khiển xe_máy giam bao_lâu, Rescaled Score: 7.8434\n",
      "ID: 666342ede485130f03f550b9, Document: lỗi nồng_độ cồn xe_máy giam xe, Rescaled Score: 7.8434\n",
      "ID: 666342eae485130f03f50a99, Document: xử_phạt nồng_độ cồn điều_khiển xe_máy ô_tô, Rescaled Score: 7.8434\n",
      "ID: 666342eee485130f03f5659e, Document: đi xe_máy bảo_hiểm_phạt bao_nhiêu tiền, Rescaled Score: 7.8272\n",
      "ID: 666342eee485130f03f569fe, Document: điều_khiển xe_máy nồng_độ cồn_phép phạt bao_nhiêu, Rescaled Score: 7.8096\n",
      "ID: 666342ece485130f03f5394b, Document: nồng_độ cồn phép tham_gia giao_thông bao_nhiêu, Rescaled Score: 7.8033\n",
      "ID: 666342ece485130f03f54160, Document: giao xe_máy nồng_độ cồn điều_khiển tai_nạn chết phạt tù, Rescaled Score: 7.7974\n",
      "ID: 666342ebe485130f03f52178, Document: điều_khiển xe_máy đi ngược chiều phạt bao_nhiêu tiền, Rescaled Score: 7.7814\n",
      "ID: 666342ebe485130f03f52a3a, Document: điều_khiển xe_máy đi đường cấm phạt bao_nhiêu tiền, Rescaled Score: 7.7814\n",
      "ID: 666342ece485130f03f53d01, Document: đi xe_máy giấy đăng_ký xe phạt bao_nhiêu tiền, Rescaled Score: 7.7814\n",
      "ID: 666342eae485130f03f51077, Document: 2024 xe_máy đi ngược chiều phạt bao_nhiêu tiền, Rescaled Score: 7.7814\n",
      "ID: 666342ece485130f03f5431d, Document: đi xe_máy tai_nạn giao_thông chạy phạt bao_nhiêu tiền, Rescaled Score: 7.7814\n",
      "ID: 666342eae485130f03f51b2a, Document: xe_máy đi xe vỉa_hè phạt bao_nhiêu tiền 2022, Rescaled Score: 7.7814\n",
      "ID: 666342ece485130f03f53c13, Document: nồng_độ cồn máy_bay, Rescaled Score: 7.7722\n",
      "ID: 666342ebe485130f03f5228a, Document: phạt nồng_độ cồn đối_với điều_khiển xe ô_tô 2024 bao_nhiêu, Rescaled Score: 7.7639\n",
      "ID: 666342eae485130f03f50d35, Document: điều_khiển xe mô_tô xe gắn_máy nồng_độ cồn phạt bao_nhiêu, Rescaled Score: 7.7639\n",
      "ID: 666342efe485130f03f56dab, Document: đi xe_máy phạt bao_nhiêu, Rescaled Score: 7.7550\n",
      "ID: 666342eae485130f03f50d14, Document: 15 đi xe_máy phạt tiền, Rescaled Score: 7.7501\n"
     ]
    }
   ],
   "source": [
    "# min_score = min(bm25_scores)\n",
    "# max_score = max(bm25_scores)\n",
    "#\n",
    "# rescaled_scores = [10*(score - min_score)/(max_score-min_score) for score in bm25_scores]\n",
    "# top100_rescaled_scores = np.sort(rescaled_scores)[::-1][:100]\n",
    "\n",
    "max_score = max(top_n_score)\n",
    "rescaled_scores = [10*score/max_score for score in top_n_score]\n",
    "\n",
    "for i, (doc_dict, score) in enumerate(zip(top_n_documents, rescaled_scores)):\n",
    "    doc_id = doc_dict['id']\n",
    "    doc_title = doc_dict['title']\n",
    "    print(f\"ID: {doc_id}, Document: {doc_title}, Rescaled Score: {score:.4f}\")\n"
   ],
   "metadata": {
    "collapsed": false,
    "ExecuteTime": {
     "start_time": "2024-06-24T18:47:31.122312Z",
     "end_time": "2024-06-24T18:47:31.179294Z"
    }
   }
  },
  {
   "cell_type": "code",
   "execution_count": 17,
   "outputs": [],
   "source": [
    "# doc_scores = top100_rescaled_scores"
   ],
   "metadata": {
    "collapsed": false,
    "ExecuteTime": {
     "start_time": "2024-06-24T18:47:31.131608Z",
     "end_time": "2024-06-24T18:47:31.180275Z"
    }
   }
  },
  {
   "cell_type": "code",
   "execution_count": 18,
   "outputs": [
    {
     "name": "stdout",
     "output_type": "stream",
     "text": [
      "đi xe máy vi phạm nồng độ cồn phạt bao nhiêu tiền\n"
     ]
    }
   ],
   "source": [
    "query_sbert = query.replace('_', ' ')\n",
    "print(query_sbert)"
   ],
   "metadata": {
    "collapsed": false,
    "ExecuteTime": {
     "start_time": "2024-06-24T18:47:31.140512Z",
     "end_time": "2024-06-24T18:47:31.180275Z"
    }
   }
  },
  {
   "cell_type": "code",
   "execution_count": 19,
   "outputs": [],
   "source": [
    "df = pd.read_json('data/cleaned/temp.json', lines=True)"
   ],
   "metadata": {
    "collapsed": false,
    "ExecuteTime": {
     "start_time": "2024-06-24T18:47:31.149282Z",
     "end_time": "2024-06-24T18:47:32.619109Z"
    }
   }
  },
  {
   "cell_type": "code",
   "execution_count": 20,
   "outputs": [],
   "source": [
    "doc_ids = [doc_dict['id'] for doc_dict in top_n_documents]\n",
    "selected_rows = df[df['_id'].isin(doc_ids)]"
   ],
   "metadata": {
    "collapsed": false,
    "ExecuteTime": {
     "start_time": "2024-06-24T18:47:32.620111Z",
     "end_time": "2024-06-24T18:47:32.628314Z"
    }
   }
  },
  {
   "cell_type": "code",
   "execution_count": 21,
   "outputs": [],
   "source": [
    "sentences_title = []\n",
    "ids_title = []\n",
    "\n",
    "for idx in selected_rows.index:\n",
    "    sentences_title.append(selected_rows.at[idx, 'title'])\n",
    "    ids_title.append(selected_rows.at[idx, '_id'])"
   ],
   "metadata": {
    "collapsed": false,
    "ExecuteTime": {
     "start_time": "2024-06-24T18:47:32.630328Z",
     "end_time": "2024-06-24T18:47:32.640948Z"
    }
   }
  },
  {
   "cell_type": "code",
   "execution_count": 22,
   "outputs": [
    {
     "name": "stderr",
     "output_type": "stream",
     "text": [
      "No sentence-transformers model found with name C:\\Users\\Admin/.cache\\torch\\sentence_transformers\\VoVanPhuc_sup-SimCSE-VietNamese-phobert-base. Creating a new one with MEAN pooling.\n"
     ]
    }
   ],
   "source": [
    "# model_title = SentenceTransformer('keepitreal/vietnamese-sbert')\n",
    "model_title = SentenceTransformer('VoVanPhuc/sup-SimCSE-VietNamese-phobert-base')\n",
    "embeddings_title = model_title.encode(sentences_title)"
   ],
   "metadata": {
    "collapsed": false,
    "ExecuteTime": {
     "start_time": "2024-06-24T18:47:32.641947Z",
     "end_time": "2024-06-24T18:47:47.539611Z"
    }
   }
  },
  {
   "cell_type": "code",
   "execution_count": 23,
   "outputs": [],
   "source": [
    "query_embedding_title = model_title.encode([query_sbert], convert_to_tensor=True)\n",
    "query_embedding_title = query_embedding_title.cpu()"
   ],
   "metadata": {
    "collapsed": false,
    "ExecuteTime": {
     "start_time": "2024-06-24T18:47:47.543612Z",
     "end_time": "2024-06-24T18:47:47.574362Z"
    }
   }
  },
  {
   "cell_type": "code",
   "execution_count": 24,
   "outputs": [
    {
     "name": "stdout",
     "output_type": "stream",
     "text": [
      "ID: 666342eee485130f03f56758, Similarity Score: 0.9819, Sentence: đi xe máy vi phạm nồng độ cồn có thể phạt bao nhiêu tiền\n",
      "ID: 666342eee485130f03f569fe, Similarity Score: 0.9565, Sentence: điều khiển xe máy nồng độ cồn phép phạt bao nhiêu\n",
      "ID: 666342ebe485130f03f52554, Similarity Score: 0.9549, Sentence: lỗi vi phạm nồng độ cồn điều khiển xe máy tham gia giao thông phạt bao nhiêu tiền\n",
      "ID: 666342ede485130f03f54352, Similarity Score: 0.9534, Sentence: phạt nồng độ cồn xe máy bao nhiêu\n",
      "ID: 666342eee485130f03f563e3, Similarity Score: 0.9384, Sentence: lái xe máy vi phạm quy định nồng độ cồn phạt bao nhiêu tiền\n",
      "ID: 666342ede485130f03f5541a, Similarity Score: 0.9311, Sentence: điều khiển xe máy nồng độ cồn phạt vi phạm hành chính bao nhiêu tiền\n",
      "ID: 666342eae485130f03f517c8, Similarity Score: 0.9302, Sentence: điều khiển xe máy vi phạm nồng độ cồn xử phạt thế nào\n",
      "ID: 666342eee485130f03f563f8, Similarity Score: 0.9197, Sentence: lái xe máy nồng độ cồn bao nhiêu phạt\n",
      "ID: 666342eae485130f03f51196, Similarity Score: 0.9182, Sentence: phạt tiền nồng độ cồn lái xe máy bao nhiêu\n",
      "ID: 666342ece485130f03f53b98, Similarity Score: 0.9066, Sentence: xe máy chấp hành kiểm tra nồng độ cồn phạt bao nhiêu tiền\n",
      "ID: 666342eae485130f03f50c4f, Similarity Score: 0.8965, Sentence: điều khiển xe máy chấp hành yêu cầu kiểm tra nồng độ cồn phạt bao nhiêu tiền\n",
      "ID: 666342efe485130f03f56dab, Similarity Score: 0.8942, Sentence: đi xe máy phạt bao nhiêu\n",
      "ID: 666342ebe485130f03f52493, Similarity Score: 0.8936, Sentence: nồng độ cồn lái xe bao nhiêu xử phạt\n",
      "ID: 666342ede485130f03f5542b, Similarity Score: 0.8913, Sentence: vi phạm nồng độ cồn phạt bao nhiêu tiền\n",
      "ID: 666342eae485130f03f5190e, Similarity Score: 0.8900, Sentence: phạt hành vi vi phạm nồng độ cồn xe đạp điện bao nhiêu\n",
      "ID: 666342eee485130f03f55949, Similarity Score: 0.8882, Sentence: chạy xe máy hơi thở máu nồng độ cồn phạt bao nhiêu\n",
      "ID: 666342ece485130f03f53211, Similarity Score: 0.8871, Sentence: vi phạm nồng độ cồn đội nón bảo hiểm xe máy vi phạm phạt bao nhiêu tiền\n",
      "ID: 666342ede485130f03f552c0, Similarity Score: 0.8852, Sentence: xe máy chấp hành kiểm tra nồng độ cồn phạt bao nhiêu\n",
      "ID: 666342eee485130f03f55a0c, Similarity Score: 0.8837, Sentence: đi xe máy phạt bao nhiêu tiền\n",
      "ID: 666342efe485130f03f56cf9, Similarity Score: 0.8775, Sentence: phạt đối với điều khiển xe máy nồng độ cồn quy định\n",
      "ID: 666342eee485130f03f563e4, Similarity Score: 0.8730, Sentence: lái xe máy vi phạm nồng độ cồn tai nạn giao thông chết phạt bao nhiêu tù\n",
      "ID: 666342ece485130f03f541e7, Similarity Score: 0.8672, Sentence: vi phạm nồng độ cồn tạm xe máy bao nhiêu\n",
      "ID: 666342eae485130f03f51bb9, Similarity Score: 0.8652, Sentence: vi phạm nồng độ cồn điều khiển xe máy xử phạt\n",
      "ID: 666342eae485130f03f50d35, Similarity Score: 0.8645, Sentence: điều khiển xe mô tô xe gắn máy nồng độ cồn phạt bao nhiêu\n",
      "ID: 666342ebe485130f03f5216b, Similarity Score: 0.8626, Sentence: đi xe máy lái phạt bao nhiêu tiền\n",
      "ID: 666342eee485130f03f56362, Similarity Score: 0.8614, Sentence: phạt nồng độ cồn phép đối với xe máy\n",
      "ID: 666342eee485130f03f55e32, Similarity Score: 0.8574, Sentence: đi xe máy đèn đỏ phạt bao nhiêu tiền\n",
      "ID: 666342eee485130f03f56759, Similarity Score: 0.8412, Sentence: đi xe máy vi phạm nồng độ cồn nộp phạt\n",
      "ID: 666342ede485130f03f550b8, Similarity Score: 0.8410, Sentence: phạt nồng độ cồn xe máy 2024 bao nhiêu\n",
      "ID: 666342ebe485130f03f51f4b, Similarity Score: 0.8397, Sentence: lỗi đi xe máy đèn đỏ phạt bao nhiêu tiền\n",
      "ID: 666342eae485130f03f50be9, Similarity Score: 0.8346, Sentence: phạt tiền nồng độ cồn lái xe ô tô bao nhiêu\n",
      "ID: 666342ece485130f03f53665, Similarity Score: 0.8344, Sentence: đi xe máy chở 3 phạt bao nhiêu tiền\n",
      "ID: 666342ece485130f03f53d01, Similarity Score: 0.8324, Sentence: đi xe máy giấy đăng ký xe phạt bao nhiêu tiền\n",
      "ID: 666342eee485130f03f55e3b, Similarity Score: 0.8320, Sentence: thời hạn tạm xe vi phạm nồng độ cồn mấy\n",
      "ID: 666342eee485130f03f55e3a, Similarity Score: 0.8262, Sentence: nộp phí trông xe tạm xe vi phạm nồng độ cồn bao nhiêu\n",
      "ID: 666342ece485130f03f538ed, Similarity Score: 0.8214, Sentence: nồng độ cồn cơ thể bao nhiêu xử phạt\n",
      "ID: 666342ebe485130f03f525d6, Similarity Score: 0.8200, Sentence: đi xe máy đường cao tốc phạt bao nhiêu tiền\n",
      "ID: 666342eee485130f03f56201, Similarity Score: 0.8177, Sentence: nồng độ cồn lái xe ô tô phạt bao nhiêu\n",
      "ID: 666342ebe485130f03f52178, Similarity Score: 0.8149, Sentence: điều khiển xe máy đi ngược chiều phạt bao nhiêu tiền\n",
      "ID: 666342eae485130f03f50ff9, Similarity Score: 0.8117, Sentence: vi phạm nồng độ cồn xe máy bao lâu\n",
      "ID: 666342ede485130f03f54351, Similarity Score: 0.8102, Sentence: nồng độ cồn bao nhiêu xe máy\n",
      "ID: 666342ebe485130f03f52166, Similarity Score: 0.8102, Sentence: giam lái nồng độ cồn bao nhiêu\n",
      "ID: 666342ebe485130f03f52a3a, Similarity Score: 0.8088, Sentence: điều khiển xe máy đi đường cấm phạt bao nhiêu tiền\n",
      "ID: 666342ece485130f03f533b9, Similarity Score: 0.8063, Sentence: phạt nồng độ cồn đối với điều khiển xe máy 2024 bao nhiêu\n",
      "ID: 666342efe485130f03f56c61, Similarity Score: 0.8054, Sentence: giao xe máy đi phạt bao nhiêu tiền\n",
      "ID: 666342ede485130f03f547c0, Similarity Score: 0.8052, Sentence: lái xe nồng độ cồn 0 461 phạt bao nhiêu\n",
      "ID: 666342ebe485130f03f52c43, Similarity Score: 0.8025, Sentence: chi phí xét nghiệm nồng độ cồn máu tài xế vi phạm\n",
      "ID: 666342ede485130f03f550b9, Similarity Score: 0.8015, Sentence: lỗi nồng độ cồn xe máy giam xe\n",
      "ID: 666342eae485130f03f50cf3, Similarity Score: 0.7993, Sentence: phạt nồng độ cồn đối với xe máy 2023\n",
      "ID: 666342eee485130f03f564b1, Similarity Score: 0.7975, Sentence: lái ô tô nồng độ cồn máu phạt bao nhiêu\n"
     ]
    }
   ],
   "source": [
    "similarities_title = cosine_similarity(query_embedding_title, embeddings_title)\n",
    "\n",
    "top_50_indices_title = np.argsort(similarities_title[0])[::-1][:50]\n",
    "\n",
    "for idx in top_50_indices_title:\n",
    "    similarity_score = similarities_title[0][idx]\n",
    "    similar_sentence = sentences_title[idx]\n",
    "    doc_id = ids_title[idx]\n",
    "    print(f\"ID: {doc_id}, Similarity Score: {similarity_score:.4f}, Sentence: {similar_sentence}\")"
   ],
   "metadata": {
    "collapsed": false,
    "ExecuteTime": {
     "start_time": "2024-06-24T18:47:47.572368Z",
     "end_time": "2024-06-24T18:47:47.588156Z"
    }
   }
  },
  {
   "cell_type": "code",
   "execution_count": 25,
   "outputs": [],
   "source": [
    "sentences_anwser = []\n",
    "ids_anwser = []\n",
    "\n",
    "for idx in selected_rows.index:\n",
    "    sentences_anwser.append(selected_rows.at[idx, 'answer'])\n",
    "    ids_anwser.append(selected_rows.at[idx, '_id'])"
   ],
   "metadata": {
    "collapsed": false,
    "ExecuteTime": {
     "start_time": "2024-06-24T18:47:47.591168Z",
     "end_time": "2024-06-24T18:47:47.593692Z"
    }
   }
  },
  {
   "cell_type": "code",
   "execution_count": 26,
   "outputs": [
    {
     "name": "stderr",
     "output_type": "stream",
     "text": [
      "No sentence-transformers model found with name C:\\Users\\Admin/.cache\\torch\\sentence_transformers\\VoVanPhuc_sup-SimCSE-VietNamese-phobert-base. Creating a new one with MEAN pooling.\n"
     ]
    }
   ],
   "source": [
    "# model_anwser = SentenceTransformer('keepitreal/vietnamese-sbert')\n",
    "model_anwser = SentenceTransformer('VoVanPhuc/sup-SimCSE-VietNamese-phobert-base')\n",
    "embeddings_anwser = model_anwser.encode(sentences_anwser)"
   ],
   "metadata": {
    "collapsed": false,
    "ExecuteTime": {
     "start_time": "2024-06-24T18:47:47.594697Z",
     "end_time": "2024-06-24T18:47:55.600939Z"
    }
   }
  },
  {
   "cell_type": "code",
   "execution_count": 27,
   "outputs": [],
   "source": [
    "query_embedding_anwser = model_anwser.encode([query_sbert], convert_to_tensor=True)\n",
    "query_embedding_anwser = query_embedding_anwser.cpu()"
   ],
   "metadata": {
    "collapsed": false,
    "ExecuteTime": {
     "start_time": "2024-06-24T18:47:55.602954Z",
     "end_time": "2024-06-24T18:47:55.621595Z"
    }
   }
  },
  {
   "cell_type": "code",
   "execution_count": 28,
   "outputs": [
    {
     "name": "stdout",
     "output_type": "stream",
     "text": [
      "ID: 666342ede485130f03f5542b, Similarity Score: 0.7687, Sentence: căn cứ 5 nghị định 100 2019 nđ cp 6 nghị định 100 2019 nđ cp sửa đổi bổ sung nghị định 123 2021 nđ cp quy định xử phạt vi phạm nồng độ cồn đối với xe máy xe ô tô tuỳ thuộc nồng độ cồn đo 100 mililít máu 1 lít khí thở cụ thể xử phạt vi phạm nồng độ cồn đối với xe máy phạt tiền 2 3 triệu đồng nồng độ cồn 50 miligam 100 mililít máu 0 25 miligam 1 lít khí thở tước giấy phép lái xe 10 12 phạt tiền 4 5 triệu đồng nồng độ cồn 50 miligam 80 miligam 100 mililít máu 0 25 miligam 0 4 miligam 1 lít khí thở tước giấy phép lái xe 16 18 phạt tiền 6 8 triệu đồng nồng độ cồn 80 miligam 100 mililít máu 0 4 miligam 1 lít khí thở tước giấy phép lái xe 22 24 xử phạt vi phạm nồng độ cồn xe ô tô phạt tiền 6 8 triệu đồng nồng độ cồn 50 miligam 100 mililít máu 0 25 miligam 1 lít khí thở tước giấy phép lái xe 10 12 phạt tiền 16 18 triệu đồng nồng độ cồn 50 miligam 80 miligam 100 mililít máu 0 25 miligam 0 4 miligam 1 lít khí thở tước giấy phép lái xe 16 18 phạt tiền 30 40 triệu đồng nồng độ cồn 80 miligam 100 mililít máu 0 4 miligam 1 lít khí thở tước giấy phép lái xe 22 24\n",
      "ID: 666342ece485130f03f5394b, Similarity Score: 0.7556, Sentence: đồng thời căn cứ 5 6 7 8 nghị định 100 2019 nđ cp quy định phạt vi phạm hành chính đối với nồng độ cồn điều khiển xe đường máu hơi thở nồng độ cồn 50 miligam 100 mililít máu 0 25 miligam 1 lít khí thở như vậy có thể quy định pháp luật tối thiểu nồng độ cồn tham gia giao thông tức là thực hiện đo nồng độ cồn lái xe tham gia giao thông phát hiện nồng độ cồn xử lý vi phạm hành chính\n",
      "ID: 666342eee485130f03f56362, Similarity Score: 0.7552, Sentence: phạt nồng độ cồn phép đối với xe máy quy định nghị định 171 2013 nđ cp xử phạt đối với điều khiển xe gắn máy máu hơi thở nồng độ cồn quy định phạt tiền 500 000 đồng 1 000 000 đồng điều khiển xe đường máu hơi thở nồng độ cồn 50 miligam 80 miligam 100 mililít máu 0 25 miligam 0 4 miligam 1 lít khí thở ngoài ra điều khiển xe tước quyền sử dụng giấy phép lái xe 01 phạt tiền 2 000 000 đồng 3 000 000 đồng điều khiển xe đường máu hơi thở nồng độ cồn 80 miligam 100 mililít máu 0 4 miligam 1 lít khí thở ngoài ra điều khiển xe tước quyền sử dụng giấy phép lái xe 02\n",
      "ID: 666342eee485130f03f569fe, Similarity Score: 0.7485, Sentence: đối với lỗi điều khiển xe máy nồng độ cồn phép xử phạt khoản 5 6 nghị định 171 2013 chính phủ quy định xử phạt vi phạm hành chính an toàn giao thông đường bộ đường sắt điều khiển phương tiện xe máy phạt tiền 500 000 đồng 1 000 000 đồng đối với hành vi điều khiển xe đường máu hơi thở nồng độ cồn 50 miligam 80 miligam 100 mililít máu 0 25 miligam 0 4 miligam 1 lít khí thở\n",
      "ID: 666342ece485130f03f53b98, Similarity Score: 0.7412, Sentence: đối với hành vi điều khiển xe máy chấp hành kiểm tra nồng độ cồn xử phạt khoản 6 6 nghị định 171 2013 chính phủ quy định xử phạt điều khiển xe mô tô xe gắn máy kể cả xe máy điện xe tương tự xe mô tô xe tương tự xe gắn máy vi phạm quy tắc giao thông đường bộ phạt tiền 2 000 000 đồng 3 000 000 đồng đối với điều khiển xe thực hiện hành vi chấp hành yêu cầu kiểm tra chất ma túy nồng độ cồn kiểm soát giao thông thi hành công vụ\n",
      "ID: 666342ece485130f03f53bc3, Similarity Score: 0.7351, Sentence: nghị định 100 2019 nđ cp quy định cụ thể hình thức xử phạt hành vi đối với trường hợp điều khiển xe ô tô xe tương tự xe ô tô phạt nồng độ cồn xe ô tô xe tương tự xe ô tô máu hơi thở nồng độ cồn 50 miligam 100 mililít máu 0 25 miligam 1 lít khí thở phạt 6 000 000 đồng 8 000 000 đồng ngoài ra tước giấy phép lái xe 10 12 máu hơi thở nồng độ cồn 50 miligam 80 miligam 100 mililít máu 0 25 miligam 0 4 miligam 1 lít khí thở phạt 16 000 000 đồng 18 000 000 đồng ngoài ra tước giấy phép lái xe 16 18 máu hơi thở nồng độ cồn 80 miligam 100 mililít máu 0 4 miligam 1 lít khí thở phạt 30 000 000 đồng 40 000 000 đồng ngoài ra tước giấy phép lái xe 22 24 đối với trường hợp điều khiển xe mô tô xe gắn máy phạt nồng độ cồn trường hợp điều khiển xe mô tô xe gắn máy máu hơi thở nồng độ cồn 50 miligam 100 mililít máu 0 25 miligam 1 lít khí thở phạt 2 000 000 đồng 3 000 000 đồng ngoài ra tước giấy phép lái xe 10 12 máu hơi thở nồng độ cồn 50 miligam 80 miligam 100 mililít máu 0 25 miligam 0 4 miligam 1 lít khí thở phạt 4 000 000 đồng 5 000 000 đồng ngoài ra tước giấy phép lái xe 16 18 máu hơi thở nồng độ cồn 80 miligam 100 mililít máu 0 4 miligam 1 lít khí thở phạt 6 000 000 đồng 8 000 000 đồng ngoài ra tước giấy phép lái xe 22 24 đối với trường hợp máy kéo xe máy chuyên dùng phạt nồng độ cồn trường hợp điều khiển máy kéo xe máy chuyên dùng máu hơi thở nồng độ cồn 50 miligam 100 mililít máu 0 25 miligam 1 lít khí thở phạt 3 000 000 đồng 5 000 000 đồng ngoài ra tước quyền sử dụng giấy phép lái xe điều khiển máy kéo chứng chỉ bồi dưỡng kiến thức pháp luật giao thông đường bộ điều khiển xe máy chuyên dùng 10 12 máu hơi thở nồng độ cồn 50 miligam 80 miligam 100 mililít máu 0 25 miligam 0 4 miligam 1 lít khí thở phạt 6 000 000 đồng 8 000 000 đồng ngoài ra tước quyền sử dụng giấy phép lái xe điều khiển máy kéo chứng chỉ bồi dưỡng kiến thức pháp luật giao thông đường bộ điều khiển xe máy chuyên dùng 16 18 máu hơi thở nồng độ cồn 80 miligam 100 mililít máu 0 4 miligam 1 lít khí thở phạt 16 000 000 đồng 18 000 000 đồng ngoài ra tước quyền sử dụng giấy phép lái xe điều khiển máy kéo chứng chỉ bồi dưỡng kiến thức pháp luật giao thông đường bộ điều khiển xe máy chuyên dùng 22 24 đối với trường hợp điều khiển xe đạp xe đạp máy kể cả xe đạp điện phạt nồng độ cồn trường hợp điều khiển máy kéo xe máy chuyên dùng máu hơi thở nồng độ cồn 50 miligam 100 mililít máu 0 25 miligam 1 lít khí thở phạt 80 000 đồng 100 000 đồng máu hơi thở nồng độ cồn 50 miligam 80 miligam 100 mililít máu 0 25 miligam 0 4 miligam 1 lít khí thở phạt 300 000 đồng 400 000 đồng máu hơi thở nồng độ cồn 80 miligam 100 mililít máu 0 4 miligam 1 lít khí thở phạt 400 000 đồng 600 000 đồng\n",
      "ID: 666342ebe485130f03f52166, Similarity Score: 0.7271, Sentence: 5 nghị định 100 2019 nđ cp quy định phạt điều khiển xe ô tô nồng độ cồn phạt tiền 6 000 000 đồng 8 000 000 đồng đối với điều khiển thực hiện hành vi vi phạm điều khiển xe đường máu hơi thở nồng độ cồn 50 miligam 100 mililít máu 0 25 miligam 1 lít khí thở cạnh tước quyền sử dụng giấy phép lái xe 10 12\n",
      "ID: 666342eae485130f03f50fe8, Similarity Score: 0.7258, Sentence: khoản 6c khoản 10 5 nghị định 100 2019 nđ cp quy định phạt tiền 2 000 000 đồng 3 000 000 đồng đối với điều khiển xe thực hiện hành vi vi phạm điều khiển xe đường máu hơi thở nồng độ cồn 50 miligam 100 mililít máu 0 25 miligam 1 lít khí thở phạt tiền điều khiển xe thực hiện hành vi vi phạm áp dụng hình thức xử phạt bổ sung thực hiện hành vi quy định c khoản 6 tước quyền sử dụng giấy phép lái xe 10 12 như vậy lái xe máy nồng độ cồn 0 053 lít khí thở phạt tiền 2 000 000 đồng 3 000 000 đồng tước quyền sử dụng giấy phép lái xe 10 12\n",
      "ID: 666342eae485130f03f51196, Similarity Score: 0.7254, Sentence: 6 nghị định 46 2016 nđ cp quy định xử phạt vi phạm hành chính lĩnh vực giao thông đường bộ đường sắt quy định mức phạt tiền nồng độ cồn lái xe máy phạt tiền 1 000 000 đồng 2 000 000 đồng đối với điều khiển xe đường máu hơi thở nồng độ cồn 50 miligam 80 miligam 100 mililít máu 0 25 miligam 0 4 miligam 1 lít khí thở phạt tiền 3 000 000 đồng 4 000 000 đồng điều khiển xe đường máu hơi thở nồng độ cồn 80 miligam 100 mililít máu 0 4 miligam 1 lít khí thở ban biên tập phản hồi thông tin\n",
      "ID: 666342ebe485130f03f52a06, Similarity Score: 0.7227, Sentence: a khoản 10 5 nghị định 100 2019 nđ cp quy định phạt tiền 30 000 000 đồng 40 000 000 đồng đối với điều khiển xe ô tô đường máu hơi thở nồng độ cồn 80 miligam 100 mililít máu 0 4 miligam 1 lít khí thở xử phạt đối với điều khiển xe ô tô vi phạm nồng độ cồn đồng thời điều khiển xe ô tô tước quyền sử dụng giấy phép lái xe 22 24 h khoản 11 5 như vậy vi phạm nồng độ cồn điều khiển xe ô tô có thể tước lái tối đa 24\n",
      "ID: 666342ece485130f03f538ed, Similarity Score: 0.7196, Sentence: 8 luật giao thông đường bộ quy định nghiêm cấm hành vi điều khiển xe ô tô máy kéo xe máy chuyên dùng đường máu hơi thở nồng độ cồn điều khiển xe mô tô xe gắn máy máu nồng độ cồn 50 miligam 100 mililít máu 0 25 miligam 1 lít khí thở điều khiển xe mô tô xe gắn máy máu nồng độ cồn 50 miligam 100 mililít máu 0 25 miligam 1 lít khí thở xử phạt quy định nghị định 171 2013 nđ cp xử phạt đối với điều khiển xe gắn máy máu hơi thở nồng độ cồn quy định phạt tiền 500 000 đồng 1 000 000 đồng điều khiển xe đường máu hơi thở nồng độ cồn 50 miligam 80 miligam 100 mililít máu 0 25 miligam 0 4 miligam 1 lít khí thở ngoài ra điều khiển xe tước quyền sử dụng giấy phép lái xe 01 phạt tiền 2 000 000 đồng 3 000 000 đồng điều khiển xe đường máu hơi thở nồng độ cồn 80 miligam 100 mililít máu 0 4 miligam 1 lít khí thở ngoài ra điều khiển xe tước quyền sử dụng giấy phép lái xe 02 như vậy điều khiển xe ô tô máy kéo xe chuyên dùng nồng độ cồn máu hơi thở xử phạt điều khiển xe gắn máy xử phạt máu nồng độ cồn 50 miligam 100 mililít máu 0 25 miligam 1 lít khí thở tuy nhiên đảm bảo an toàn điều khiển xe gắn máy tham gia giao thông tình trạng tỉnh táo tuyệt đối uống rượu bia lái xe\n",
      "ID: 666342ebe485130f03f52493, Similarity Score: 0.7192, Sentence: công ty luật cương lĩnh trả lời câu 8 luật giao thông đường bộ quy định nghiêm cấm hành vi điều khiển xe ô tô máy kéo xe máy chuyên dùng đường máu hơi thở nồng độ cồn điều khiển xe mô tô xe gắn máy máu nồng độ cồn 50 miligam 100 mililít máu 0 25 miligam 1 lít khí thở điều khiển xe mô tô xe gắn máy máu nồng độ cồn 50 miligam 100 mililít máu 0 25 miligam 1 lít khí thở xử phạt quy định nghị định 171 2013 nđ cp xử phạt đối với điều khiển xe gắn máy máu hơi thở nồng độ cồn quy định phạt tiền 500 000 đồng 1 000 000 đồng điều khiển xe đường máu hơi thở nồng độ cồn 50 miligam 80 miligam 100 mililít máu 0 25 miligam 0 4 miligam 1 lít khí thở ngoài ra điều khiển xe tước quyền sử dụng giấy phép lái xe 01 phạt tiền 2 000 000 đồng 3 000 000 đồng điều khiển xe đường máu hơi thở nồng độ cồn 80 miligam 100 mililít máu 0 4 miligam 1 lít khí thở ngoài ra điều khiển xe tước quyền sử dụng giấy phép lái xe 02 như vậy điều khiển xe ô tô máy kéo xe chuyên dùng nồng độ cồn máu hơi thở xử phạt điều khiển xe gắn máy xử phạt máu nồng độ cồn 50 miligam 100 mililít máu 0 25 miligam 1 lít khí thở tuy nhiên đảm bảo an toàn điều khiển xe gắn máy tham gia giao thông tình trạng tỉnh táo tuyệt đối uống rượu bia lái xe công ty luật cương lĩnh nguoiduatin\n",
      "ID: 666342ede485130f03f552c0, Similarity Score: 0.7190, Sentence: trình bày hành vi hành vi chấp hành yêu cầu kiểm tra nồng độ cồn thi hành công vụ hành vi xử phạt b khoản 8 6 nghị định 46 2016 nđ cp quy định xử phạt vi phạm hành chính lĩnh vực giao thông đường bộ đường sắt cụ thể phạt tiền 3 000 000 đồng 4 000 000 đồng đối với điều khiển xe thực hiện hành vi vi phạm chấp hành yêu cầu kiểm tra chất ma túy nồng độ cồn thi hành công vụ tư vấn ban biên tập thư ký luật kiểm tra nồng độ cồn đối với xe máy tham khảo chi tiết nghị định 46 2016 nđ cp nắm quy định\n",
      "ID: 666342ede485130f03f5541a, Similarity Score: 0.7159, Sentence: 6 nghị định 100 2019 nđ cp quy định xử phạt điều khiển xe mô tô xe gắn máy kể cả xe máy điện xe tương tự xe mô tô xe tương tự xe gắn máy vi phạm quy tắc giao thông đường bộ xử phạt điều khiển xe mô tô xe gắn máy kể cả xe máy điện xe tương tự xe mô tô xe tương tự xe gắn máy vi phạm quy tắc giao thông đường bộ 6 phạt tiền 2 000 000 đồng 3 000 000 đồng đối với điều khiển xe thực hiện hành vi vi phạm c điều khiển xe đường máu hơi thở nồng độ cồn 50 miligam 100 mililít máu 0 25 miligam 1 lít khí thở 7 phạt tiền 4 000 000 đồng 5 000 000 đồng đối với điều khiển xe thực hiện hành vi vi phạm c điều khiển xe đường máu hơi thở nồng độ cồn 50 miligam 80 miligam 100 mililít máu 0 25 miligam 0 4 miligam 1 lít khí thở 8 phạt tiền 6 000 000 đồng 8 000 000 đồng đối với điều khiển xe thực hiện hành vi vi phạm e điều khiển xe đường máu hơi thở nồng độ cồn 80 miligam 100 mililít máu 0 4 miligam 1 lít khí thở 10 phạt tiền điều khiển xe thực hiện hành vi vi phạm áp dụng hình thức xử phạt bổ sung đ thực hiện hành vi quy định c khoản 6 tước quyền sử dụng giấy phép lái xe 10 12 e thực hiện hành vi quy định c khoản 7 tước quyền sử dụng giấy phép lái xe 16 18 g thực hiện hành vi quy định e g h i khoản 8 tước quyền sử dụng giấy phép lái xe 22 24\n",
      "ID: 666342eee485130f03f564b1, Similarity Score: 0.7139, Sentence: quy định b khoản 7 c khoản 11 5 nghị định 171 2013 nđ cp quy định xử phạt vi phạm hành chính lĩnh vực giao thông đường bộ đường sắt hiệu lực 1 1 2014 điều khiển xe ô tô đường máu hơi thở nồng độ cồn 50 miligam 80 miligam 100 mililít máu 0 25 miligam 0 4 miligam 1 lít khí thở phạt tiền 7 000 000 đồng 8 000 000 đồng đồng thời tước quyền sử dụng giấy phép lái xe 2\n",
      "ID: 666342eee485130f03f563e3, Similarity Score: 0.7127, Sentence: căn cứ quy định c khoản 6 c khoản 7 a khoản 9 đ e g khoản 10 6 nghị định 100 2019 nđ cp điều khiển xe máy nồng độ cồn tham gia giao thông có thể xử phạt tương ứng đối với hành vi phạt tiền 2 000 000 đồng 3 000 000 đồng đối với điều khiển xe đường máu hơi thở nồng độ cồn 50 miligam 100 mililít máu 0 25 miligam 1 lít khí thở đồng thời hành vi vi phạm tước quyền sử dụng giấy phép lái xe 10 12 phạt tiền 4 000 000 đồng 5 000 000 đồng đối với điều khiển xe đường máu hơi thở nồng độ cồn 50 miligam 80 miligam 100 mililít máu 0 25 miligam 0 4 miligam 1 lít khí thở đồng thời hành vi vi phạm tước quyền sử dụng giấy phép lái xe 16 18 phạt tiền 6 000 000 đồng 8 000 000 đồng đối với điều khiển xe đường máu hơi thở nồng độ cồn 80 miligam 100 mililít máu 0 4 miligam 1 lít khí thở đồng thời hành vi vi phạm tước quyền sử dụng giấy phép lái xe 22 24\n",
      "ID: 666342eae485130f03f5190e, Similarity Score: 0.7115, Sentence: căn cứ q khoản 1 e khoản 3 c khoản 4 8 nghị định 100 2019 nđ cp quy định xử phạt điều khiển xe đạp điện vi phạm quy tắc giao thông đường bộ xử phạt điều khiển xe đạp xe đạp máy kể cả xe đạp điện điều khiển xe thô sơ vi phạm quy tắc giao thông đường bộ 1 phạt tiền 80 000 đồng 100 000 đồng đối với điều khiển xe thực hiện hành vi vi phạm q điều khiển xe đường máu hơi thở nồng độ cồn 50 miligam 100 mililít máu 0 25 miligam 1 lít khí thở 3 phạt tiền 200 000 đồng 300 000 đồng đối với điều khiển xe thực hiện hành vi vi phạm e điều khiển xe đường máu hơi thở nồng độ cồn 50 miligam 80 miligam 100 mililít máu 0 25 miligam 0 4 miligam 1 lít khí thở 4 phạt tiền 400 000 đồng 600 000 đồng đối với điều khiển xe thực hiện hành vi vi phạm c điều khiển xe đường máu hơi thở nồng độ cồn 80 miligam 100 mililít máu 0 4 miligam 1 lít khí thở\n",
      "ID: 666342eae485130f03f50a99, Similarity Score: 0.7103, Sentence: đối với xe mô tô xe gắn máy khoản 6 6 nghị định 46 2016 nđ cp phạt tiền 1 000 000 đồng 2 000 000 đồng đối với điều khiển xe đường máu hơi thở nồng độ cồn 50 miligam 80 miligam 100 mililít máu 0 25 miligam 0 4 miligam 1 lít khí thở phạt tiền vi phạm tước quyền sử dụng giấy phép lái xe 01 03 c khoản 8 6 nghị định 46 2016 nđ cp phạt tiền 3 000 000 đồng 4 000 000 đồng đối với điều khiển xe đường máu hơi thở nồng độ cồn 80 miligam 100 mililít máu 0 4 miligam 1 lít khí thở phạt tiền vi phạm tước quyền sử dụng giấy phép lái xe 03 05 đối với xe ô tô xe tương tự a khoản 6 5 nghị định 46 2016 nđ cp phạt tiền 2 000 000 đồng 3 000 000 đồng đối với điều khiển xe đường máu hơi thở nồng độ cồn 50 miligam 100 mililít máu 0 25 miligam 1 lít khí thở phạt tiền vi phạm tước quyền sử dụng giấy phép lái xe 01 03 b khoản 8 5 nghị định 46 2016 nđ cp phạt tiền 7 000 000 đồng 8 000 000 đồng đối với điều khiển xe đường máu hơi thở nồng độ cồn 50 miligam 80 miligam 100 mililít máu 0 25 miligam 0 4 miligam 1 lít khí thở phạt tiền vi phạm tước quyền sử dụng giấy phép lái xe 03 05 a khoản 9 5 nghị định 46 2016 nđ cp phạt tiền 16 000 000 đồng 18 000 000 đồng đối với điều khiển xe đường máu hơi thở nồng độ cồn 80 miligam 100 mililít máu 0 4 miligam 1 lít khí thở phạt tiền vi phạm tước quyền sử dụng giấy phép lái xe 04 06 ban biên tập thông tin\n",
      "ID: 666342eee485130f03f563f8, Similarity Score: 0.7082, Sentence: căn cứ 6 nghị định 100 2019 nđ cp quy định xử phạt điều khiển xe mô tô xe gắn máy kể cả xe máy điện xe tương tự xe mô tô xe tương tự xe gắn máy vi phạm quy tắc giao thông đường bộ xử phạt điều khiển xe mô tô xe gắn máy kể cả xe máy điện xe tương tự xe mô tô xe tương tự xe gắn máy vi phạm quy tắc giao thông đường bộ 6 phạt tiền 2 000 000 đồng 3 000 000 đồng đối với điều khiển xe thực hiện hành vi vi phạm c điều khiển xe đường máu hơi thở nồng độ cồn 50 miligam 100 mililít máu 0 25 miligam 1 lít khí thở 7 phạt tiền 4 000 000 đồng 5 000 000 đồng đối với điều khiển xe thực hiện hành vi vi phạm c điều khiển xe đường máu hơi thở nồng độ cồn 50 miligam 80 miligam 100 mililít máu 0 25 miligam 0 4 miligam 1 lít khí thở 8 phạt tiền 6 000 000 đồng 8 000 000 đồng đối với điều khiển xe thực hiện hành vi vi phạm e điều khiển xe đường máu hơi thở nồng độ cồn 80 miligam 100 mililít máu 0 4 miligam 1 lít khí thở 10 phạt tiền điều khiển xe thực hiện hành vi vi phạm áp dụng hình thức xử phạt bổ sung đ thực hiện hành vi quy định c khoản 6 tước quyền sử dụng giấy phép lái xe 10 12 e thực hiện hành vi quy định c khoản 7 tước quyền sử dụng giấy phép lái xe 16 18 g thực hiện hành vi quy định e g h i khoản 8 tước quyền sử dụng giấy phép lái xe 22 24\n",
      "ID: 666342eee485130f03f56699, Similarity Score: 0.7070, Sentence: căn cứ c khoản 6 c khoản 7 e khoản 8 đ e g khoản 10 6 nghị định 100 2019 nđ cp quy định xử phạt điều khiển xe mô tô xe gắn máy kể cả xe máy điện xe tương tự xe mô tô xe tương tự xe gắn máy vi phạm quy tắc giao thông đường bộ 6 phạt tiền 2 000 000 đồng 3 000 000 đồng đối với điều khiển xe thực hiện hành vi vi phạm c điều khiển xe đường máu hơi thở nồng độ cồn 50 miligam 100 mililít máu 0 25 miligam 1 lít khí thở 7 phạt tiền 4 000 000 đồng 5 000 000 đồng đối với điều khiển xe thực hiện hành vi vi phạm c điều khiển xe đường máu hơi thở nồng độ cồn 50 miligam 80 miligam 100 mililít máu 0 25 miligam 0 4 miligam 1 lít khí thở 8 phạt tiền 6 000 000 đồng 8 000 000 đồng đối với điều khiển xe thực hiện hành vi vi phạm e điều khiển xe đường máu hơi thở nồng độ cồn 80 miligam 100 mililít máu 0 4 miligam 1 lít khí thở 10 phạt tiền điều khiển xe thực hiện hành vi vi phạm áp dụng hình thức xử phạt bổ sung đ thực hiện hành vi quy định c khoản 6 tước quyền sử dụng giấy phép lái xe 10 12 e thực hiện hành vi quy định c khoản 7 tước quyền sử dụng giấy phép lái xe 16 18 g thực hiện hành vi quy định e g h i khoản 8 tước quyền sử dụng giấy phép lái xe 22 24\n",
      "ID: 666342eae485130f03f5112b, Similarity Score: 0.7065, Sentence: căn cứ 6 nghị định 100 2019 nđ cp quy định phạt vi phạm nồng độ cồn xe mô tô xe gắn máy xử phạt điều khiển xe ô tô xe tương tự xe ô tô vi phạm quy tắc giao thông đường bộ 6 phạt tiền 2 000 000 đồng 3 000 000 đồng đối với điều khiển xe thực hiện hành vi vi phạm c điều khiển xe đường máu hơi thở nồng độ cồn 50 miligam 100 mililít máu 0 25 miligam 1 lít khí thở 7 phạt tiền 4 000 000 đồng 5 000 000 đồng đối với điều khiển xe thực hiện hành vi vi phạm c điều khiển xe đường máu hơi thở nồng độ cồn 50 miligam 80 miligam 100 mililít máu 0 25 miligam 0 4 miligam 1 lít khí thở 8 phạt tiền 6 000 000 đồng 8 000 000 đồng đối với điều khiển xe thực hiện hành vi vi phạm e điều khiển xe đường máu hơi thở nồng độ cồn 80 miligam 100 mililít máu 0 4 miligam 1 lít khí thở 10 phạt tiền điều khiển xe thực hiện hành vi vi phạm áp dụng hình thức xử phạt bổ sung đ thực hiện hành vi quy định c khoản 6 tước quyền sử dụng giấy phép lái xe 10 12 e thực hiện hành vi quy định c khoản 7 tước quyền sử dụng giấy phép lái xe 16 18 g thực hiện hành vi quy định e g h i khoản 8 tước quyền sử dụng giấy phép lái xe 22 24 6 phạt tiền 6 000 000 đồng 8 000 000 đồng đối với điều khiển xe thực hiện hành vi vi phạm c điều khiển xe đường máu hơi thở nồng độ cồn 50 miligam 100 mililít máu 0 25 miligam 1 lít khí thở 8 phạt tiền 16 000 000 đồng 18 000 000 đồng đối với điều khiển xe thực hiện hành vi vi phạm c điều khiển xe đường máu hơi thở nồng độ cồn 50 miligam 80 miligam 100 mililít máu 0 25 miligam 0 4 miligam 1 lít khí thở 10 phạt tiền 30 000 000 đồng 40 000 000 đồng đối với điều khiển xe thực hiện hành vi vi phạm a điều khiển xe đường máu hơi thở nồng độ cồn 80 miligam 100 mililít máu 0 4 miligam 1 lít khí thở b chấp hành yêu cầu kiểm tra nồng độ cồn thi hành công vụ 11 phạt tiền điều khiển xe thực hiện hành vi vi phạm áp dụng hình thức xử phạt bổ sung e thực hiện hành vi quy định c khoản 6 tước quyền sử dụng giấy phép lái xe 10 12 g thực hiện hành vi quy định c khoản 8 tước quyền sử dụng giấy phép lái xe 16 18 h thực hiện hành vi quy định khoản 10 tước quyền sử dụng giấy phép lái xe 22 24\n",
      "ID: 666342ebe485130f03f52554, Similarity Score: 0.7062, Sentence: căn cứ khoản 6 7 8 6 nghị định 100 2019 nđ cp quy định xử phạt điều khiển xe mô tô xe gắn máy kể cả xe máy điện xe tương tự xe mô tô xe tương tự xe gắn máy vi phạm quy tắc giao thông đường bộ xử phạt điều khiển xe mô tô xe gắn máy kể cả xe máy điện xe tương tự xe mô tô xe tương tự xe gắn máy vi phạm quy tắc giao thông đường bộ 6 phạt tiền 2 000 000 đồng 3 000 000 đồng đối với điều khiển xe thực hiện hành vi vi phạm c điều khiển xe đường máu hơi thở nồng độ cồn 50 miligam 100 mililít máu 0 25 miligam 1 lít khí thở 7 phạt tiền 4 000 000 đồng 5 000 000 đồng đối với điều khiển xe thực hiện hành vi vi phạm c điều khiển xe đường máu hơi thở nồng độ cồn 50 miligam 80 miligam 100 mililít máu 0 25 miligam 0 4 miligam 1 lít khí thở 8 phạt tiền 6 000 000 đồng 8 000 000 đồng đối với điều khiển xe thực hiện hành vi vi phạm e điều khiển xe đường máu hơi thở nồng độ cồn 80 miligam 100 mililít máu 0 4 miligam 1 lít khí thở g chấp hành yêu cầu kiểm tra nồng độ cồn thi hành công vụ h điều khiển xe đường cơ thể chất ma túy i chấp hành yêu cầu kiểm tra chất ma túy thi hành công vụ\n",
      "ID: 666342ece485130f03f53cac, Similarity Score: 0.7051, Sentence: căn cứ điểm c khoản 6 c khoản 7 e khoản 8 đ e g khoản 10 6 nghị định 100 2019 nđ cp quy định xử phạt điều khiển xe mô tô xe gắn máy kể cả xe máy điện xe tương tự xe mô tô xe tương tự xe gắn máy vi phạm quy tắc giao thông đường bộ xử phạt điều khiển xe mô tô xe gắn máy kể cả xe máy điện xe tương tự xe mô tô xe tương tự xe gắn máy vi phạm quy tắc giao thông đường bộ 6 phạt tiền 2 000 000 đồng 3 000 000 đồng đối với điều khiển xe thực hiện hành vi vi phạm c điều khiển xe đường máu hơi thở nồng độ cồn 50 miligam 100 mililít máu 0 25 miligam 1 lít khí thở 7 phạt tiền 4 000 000 đồng 5 000 000 đồng đối với điều khiển xe thực hiện hành vi vi phạm c điều khiển xe đường máu hơi thở nồng độ cồn 50 miligam 80 miligam 100 mililít máu 0 25 miligam 0 4 miligam 1 lít khí thở 8 phạt tiền 6 000 000 đồng 8 000 000 đồng đối với điều khiển xe thực hiện hành vi vi phạm e điều khiển xe đường máu hơi thở nồng độ cồn 80 miligam 100 mililít máu 0 4 miligam 1 lít khí thở 10 phạt tiền điều khiển xe thực hiện hành vi vi phạm áp dụng hình thức xử phạt bổ sung đ thực hiện hành vi quy định c khoản 6 tước quyền sử dụng giấy phép lái xe 10 12 e thực hiện hành vi quy định c khoản 7 tước quyền sử dụng giấy phép lái xe 16 18 g thực hiện hành vi quy định e g h i khoản 8 tước quyền sử dụng giấy phép lái xe 22 24\n",
      "ID: 666342eae485130f03f50d35, Similarity Score: 0.7051, Sentence: căn cứ điểm c khoản 6 c khoản 7 e khoản 8 đ e g khoản 10 6 nghị định 100 2019 nđ cp quy định xử phạt điều khiển xe mô tô xe gắn máy kể cả xe máy điện xe tương tự xe mô tô xe tương tự xe gắn máy vi phạm quy tắc giao thông đường bộ xử phạt điều khiển xe mô tô xe gắn máy kể cả xe máy điện xe tương tự xe mô tô xe tương tự xe gắn máy vi phạm quy tắc giao thông đường bộ 6 phạt tiền 2 000 000 đồng 3 000 000 đồng đối với điều khiển xe thực hiện hành vi vi phạm c điều khiển xe đường máu hơi thở nồng độ cồn 50 miligam 100 mililít máu 0 25 miligam 1 lít khí thở 7 phạt tiền 4 000 000 đồng 5 000 000 đồng đối với điều khiển xe thực hiện hành vi vi phạm c điều khiển xe đường máu hơi thở nồng độ cồn 50 miligam 80 miligam 100 mililít máu 0 25 miligam 0 4 miligam 1 lít khí thở 8 phạt tiền 6 000 000 đồng 8 000 000 đồng đối với điều khiển xe thực hiện hành vi vi phạm e điều khiển xe đường máu hơi thở nồng độ cồn 80 miligam 100 mililít máu 0 4 miligam 1 lít khí thở 10 phạt tiền điều khiển xe thực hiện hành vi vi phạm áp dụng hình thức xử phạt bổ sung đ thực hiện hành vi quy định c khoản 6 tước quyền sử dụng giấy phép lái xe 10 12 e thực hiện hành vi quy định c khoản 7 tước quyền sử dụng giấy phép lái xe 16 18 g thực hiện hành vi quy định e g h i khoản 8 tước quyền sử dụng giấy phép lái xe 22 24\n",
      "ID: 666342ece485130f03f533b9, Similarity Score: 0.7051, Sentence: căn cứ điểm c khoản 6 c khoản 7 e khoản 8 đ e g khoản 10 6 nghị định 100 2019 nđ cp quy định xử phạt điều khiển xe mô tô xe gắn máy kể cả xe máy điện xe tương tự xe mô tô xe tương tự xe gắn máy vi phạm quy tắc giao thông đường bộ xử phạt điều khiển xe mô tô xe gắn máy kể cả xe máy điện xe tương tự xe mô tô xe tương tự xe gắn máy vi phạm quy tắc giao thông đường bộ 6 phạt tiền 2 000 000 đồng 3 000 000 đồng đối với điều khiển xe thực hiện hành vi vi phạm c điều khiển xe đường máu hơi thở nồng độ cồn 50 miligam 100 mililít máu 0 25 miligam 1 lít khí thở 7 phạt tiền 4 000 000 đồng 5 000 000 đồng đối với điều khiển xe thực hiện hành vi vi phạm c điều khiển xe đường máu hơi thở nồng độ cồn 50 miligam 80 miligam 100 mililít máu 0 25 miligam 0 4 miligam 1 lít khí thở 8 phạt tiền 6 000 000 đồng 8 000 000 đồng đối với điều khiển xe thực hiện hành vi vi phạm e điều khiển xe đường máu hơi thở nồng độ cồn 80 miligam 100 mililít máu 0 4 miligam 1 lít khí thở 10 phạt tiền điều khiển xe thực hiện hành vi vi phạm áp dụng hình thức xử phạt bổ sung đ thực hiện hành vi quy định c khoản 6 tước quyền sử dụng giấy phép lái xe 10 12 e thực hiện hành vi quy định c khoản 7 tước quyền sử dụng giấy phép lái xe 16 18 g thực hiện hành vi quy định e g h i khoản 8 tước quyền sử dụng giấy phép lái xe 22 24\n",
      "ID: 666342eee485130f03f55949, Similarity Score: 0.7034, Sentence: c khoản 6 6 nghị định 100 2019 nđ cp quy định phạt tiền 2 000 000 đồng 3 000 000 đồng tước quyền sử dụng giấy phép lái xe 10 12 tạm phương tiện tối đa 07 ngày trước quyết định xử phạt đối với điều khiển xe thực hiện hành vi vi phạm điều khiển xe đường máu hơi thở nồng độ cồn 50 miligam 100 mililít máu 0 25 miligam 1 lít khí thở ban biên tập phản hồi thông tin\n",
      "ID: 666342efe485130f03f56cf9, Similarity Score: 0.7022, Sentence: pháp luật giao thông đường bộ ta nghiêm cấm hành vi điều khiển xe mô tô xe gắn máy máu nồng độ cồn 50 miligam 100 mililít máu 0 25 miligam 1 lít khí thở vì vậy khoản 6 c khoản 8 khoản 12 6 nghị định 46 2016 nđ cp quy định xử phạt vi phạm hành chính lĩnh vực giao thông đường bộ đường sắt quy định phạt đối với hành vi phạt tiền 1 000 000 đồng 2 000 000 đồng tước quyền sử dụng giấy phép lái xe 01 03 đối với điều khiển xe đường máu hơi thở nồng độ cồn 50 miligam 80 miligam 100 mililít máu 0 25 miligam 0 4 miligam 1 lít khí thở phạt tiền 3 000 000 đồng 4 000 000 đồng tước quyền sử dụng giấy phép lái xe 03 05 đối với điều khiển xe thực hiện hành vi điều khiển xe đường máu hơi thở nồng độ cồn 80 miligam 100 mililít máu 0 4 miligam 1 lít khí thở nội dung giải đáp phạt tiền đối với hành vi điều khiển xe máy nồng độ cồn quy định\n",
      "ID: 666342eee485130f03f5654f, Similarity Score: 0.6990, Sentence: căn cứ quy định q khoản 1 e khoản 3 8 nghị định 100 2019 nđ cp sửa đổi bổ sung k khoản 34 khoản 6 2 nghị định 123 2021 nđ cp xe đạp điện kiểm tra nồng độ cồn xe máy ô tô phạt đối với đi xe đạp điện vi phạm nồng độ cồn cụ thể phạt tiền 80 000 đồng 100 000 đồng đối với đi xe đạp điện máu hơi thở nồng độ cồn 50 miligam 100 mililít máu 0 25 miligam 1 lít khí thở phạt tiền 300 000 đồng 400 000 đồng đối với đi xe đạp điện máu hơi thở nồng độ cồn 50 miligam 80 miligam 100 mililít máu 0 25 miligam 0 4 miligam 1 lít khí thở phạt tiền 400 000 đồng 600 000 đồng đối với đi xe đạp điện máu hơi thở nồng độ cồn 80 miligam 100 mililít máu 0 4 miligam 1 lít khí thở ngoài ra căn cứ d khoản 1 82 nghị định 100 2019 nđ cp sửa đổi a khoản 32 2 nghị định 123 2021 nđ cp ngăn chặn vi phạm hành chính thẩm quyền xử phạt có thể tạm xe đạp điện vi phạm nồng độ cồn tối đa 7 quyết định xử phạt\n",
      "ID: 666342ece485130f03f53211, Similarity Score: 0.6977, Sentence: căn cứ xử phạt nghị định 100 2019 nđ cp lỗi vi phạm nồng độ cồn tham gia giao thông 0 15 miligam lít khí thở c khoản 6 6 quy định phạt tiền 2 000 000 đồng 3 000 000 đồng đối với điều khiển xe thực hiện hành vi vi phạm điều khiển xe đường máu hơi thở nồng độ cồn 50 miligam 100 mililít máu 0 25 miligam 1 lít khí thở lỗi hai đội nón bảo hiểm tham gia giao thông i khoản 2 6 quy định phạt tiền 200 000 đồng 300 000 đồng đối với điều khiển xe thực hiện hành vi vi phạm đội “ mũ bảo hiểm đi mô tô xe máy ” đội “ mũ bảo hiểm đi mô tô xe máy ” cài quai quy cách điều khiển xe tham gia giao thông đường bộ như vậy hai lỗi vi phạm điều khiển xe máy phạt tiền 2 200 000 đồng 3 300 000 đồng phạt cụ thể 2 750 000 trường hợp tình tiết giảm nhẹ\n",
      "ID: 666342ece485130f03f533ba, Similarity Score: 0.6955, Sentence: căn cứ điểm q khoản 1 e khoản 3 c khoản 4 8 nghị định 100 2019 nđ cp sửa đổi bổ sung khoản 6 k khoản 34 2 nghị định 123 2021 nđ cp quy định xử phạt điều khiển xe đạp xe đạp máy kể cả xe đạp điện điều khiển xe thô sơ vi phạm quy tắc giao thông đường bộ xử phạt điều khiển xe đạp xe đạp máy kể cả xe đạp điện điều khiển xe thô sơ vi phạm quy tắc giao thông đường bộ 1 phạt tiền 80 000 đồng 100 000 đồng đối với điều khiển xe thực hiện hành vi vi phạm q điều khiển xe đường máu hơi thở nồng độ cồn 50 miligam 100 mililít máu 0 25 miligam 1 lít khí thở 3 phạt tiền 300 000 đồng 400 000 đồng đối với điều khiển xe thực hiện hành vi vi phạm e điều khiển xe đường máu hơi thở nồng độ cồn 50 miligam 80 miligam 100 mililít máu 0 25 miligam 0 4 miligam 1 lít khí thở 4 phạt tiền 400 000 đồng 600 000 đồng đối với điều khiển xe thực hiện hành vi vi phạm c điều khiển xe đường máu hơi thở nồng độ cồn 80 miligam 100 mililít máu 0 4 miligam 1 lít khí thở\n",
      "ID: 666342eae485130f03f50be9, Similarity Score: 0.6951, Sentence: 5 nghị định 46 2016 nđ cp quy định xử phạt vi phạm hành chính lĩnh vực giao thông đường bộ đường sắt quy định mức phạt tiền nồng độ cồn lái xe ô tô 5 xử phạt điều khiển chở xe ô tô xe tương tự xe ô tô vi phạm quy tắc giao thông đường bộ phạt tiền 2 000 000 đồng 3 000 000 điều khiển xe đường máu hơi thở nồng độ cồn 50 miligam 100 mililít máu 0 25 miligam 1 lít khí thở phạt tiền 7 000 000 đồng 8 000 000 điều khiển xe đường máu hơi thở nồng độ cồn 50 miligam 80 miligam 100 mililít máu 0 25 miligam 0 4 miligam 1 lít khí thở phạt tiền 16 000 000 đồng 18 000 000 điều khiển xe đường máu hơi thở nồng độ cồn 80 miligam 100 mililít máu 0 4 miligam 1 lít khí thở ban biên tập phản hồi thông tin\n",
      "ID: 666342eae485130f03f5190d, Similarity Score: 0.6936, Sentence: căn cứ 8 nghị định 100 2019 nđ cp quy định xử phạt hành chính lĩnh vực giao thông đường bộ đường sắt quy định xử phạt điều khiển xe đạp xe đạp máy kể cả xe đạp điện điều khiển xe thô sơ vi phạm quy tắc giao thông đường bộ xử phạt điều khiển xe đạp xe đạp máy kể cả xe đạp điện điều khiển xe thô sơ vi phạm quy tắc giao thông đường bộ 1 phạt tiền 80 000 đồng 100 000 đồng đối với điều khiển xe thực hiện hành vi vi phạm q điều khiển xe đường máu hơi thở nồng độ cồn 50 miligam 100 mililít máu 0 25 miligam 1 lít khí thở\n",
      "ID: 666342ebe485130f03f5216b, Similarity Score: 0.6931, Sentence: căn cứ khoản 5 21 nghị định 171 2013 nđ cp chính phủ quy định xử phạt đối với lỗi điều khiển xe máy giấy phép lái xe phạt tiền 800 000 đồng 1 200 000 đồng đối với điều khiển xe mô tô giấy phép lái xe sử dụng giấy phép lái xe cơ quan thẩm quyền giấy phép lái xe tẩy xóa trừ hành vi vi phạm quy định b khoản 7 như vậy csgt lập biên bản phạt tiền đối với trai thế là tậm xe 7 sai quy định\n",
      "ID: 666342ede485130f03f54352, Similarity Score: 0.6907, Sentence: khoản 6 6 nghị định 100 2019 nđ cp sửa đổi khoản 7 2 nghị định 123 2021 nđ cp quy định phạt nồng độ cồn xe máy 6 xử phạt điều khiển xe mô tô xe gắn máy kể cả xe máy điện xe tương tự xe mô tô xe tương tự xe gắn máy vi phạm quy tắc giao thông đường bộ 6 phạt tiền 2 000 000 đồng 3 000 000 đồng đối với điều khiển xe thực hiện hành vi vi phạm a sử dụng chân chống vật quệt xuống đường xe chạy b điều khiển xe đi đường cao tốc trừ xe phục vụ việc quản lý bảo trì đường cao tốc c điều khiển xe đường máu hơi thở nồng độ cồn 50 miligam 100 mililít máu 0 25 miligam 1 lít khí thở 7 phạt tiền 4 000 000 đồng 5 000 000 đồng đối với điều khiển xe thực hiện hành vi vi phạm c điều khiển xe đường máu hơi thở nồng độ cồn 50 miligam 80 miligam 100 mililít máu 0 25 miligam 0 4 miligam 1 lít khí thở 8 phạt tiền 6 000 000 đồng 8 000 000 đồng đối với điều khiển xe thực hiện hành vi vi phạm e điều khiển xe đường máu hơi thở nồng độ cồn 80 miligam 100 mililít máu 0 4 miligam 1 lít khí thở 10 phạt tiền điều khiển xe thực hiện hành vi vi phạm áp dụng hình thức xử phạt bổ sung đ thực hiện hành vi quy định c khoản 6 tước quyền sử dụng giấy phép lái xe 10 12 e thực hiện hành vi quy định c khoản 7 tước quyền sử dụng giấy phép lái xe 16 18 g thực hiện hành vi quy định e g h i khoản 8 tước quyền sử dụng giấy phép lái xe 22 24\n",
      "ID: 666342ece485130f03f53bed, Similarity Score: 0.6880, Sentence: b khoản 6 5 nghị định 100 2019 nđ cp quy định 5 xử phạt điều khiển xe ô tô xe tương tự xe ô tô vi phạm quy tắc giao thông đường bộ phạt tiền 6 000 000 đồng 8 000 000 đồng đối với điều khiển xe thực hiện hành vi vi phạm điều khiển xe đường máu hơi thở nồng độ cồn 50 miligam 100 mililít máu 0 25 miligam 1 lít khí thở cạnh hành vi vi phạm tước quyền sử dụng giấy phép lái xe 10 12 tạm phương tiện tối đa 07 ngày trước quyết định xử phạt quy định pháp luật hiện hành phạt phạt đối với hành vi điều khiển xe ô tô cơ thể nồng độ cồn ban biên tập phản hồi thông tin\n",
      "ID: 666342eae485130f03f51bb9, Similarity Score: 0.6846, Sentence: g khoản 8 6 nghị định 100 2019 nđ cp quy định phạt tiền 6 000 000 đồng 8 000 000 đồng tước quyền sử dụng giấy phép lái xe 22 24 tạm phương tiện tối đa 07 ngày trước quyết định xử phạt đối với điều khiển xe thực hiện hành vi vi phạm điều khiển xe đường máu hơi thở nồng độ cồn 80 miligam 100 mililít máu 0 4 miligam 1 lít khí thở như vậy quy định phạt vi phạm nồng độ cồn điều khiển xe máy 6 000 000 đồng 8 000 000 đồng cạnh hành vi vi phạm tước quyền sử dụng giấy phép lái xe 22 24 tạm phương tiện tối đa 07 ban biên tập phản hồi thông tin\n",
      "ID: 666342eee485130f03f56201, Similarity Score: 0.6790, Sentence: khoản 8 8 luật giao thông đường bộ 2008 quy định điều khiển xe ô tô máy kéo xe máy chuyên dùng đường máu hơi thở nồng độ cồn như vậy quy định điều khiển xe ô tô máu hơi thở nồng độ cồn hành vi nghiêm cấm thực hiện hành vi xử phạt quy định pháp luật a khoản 6 b khoản 8 a khoản 9 5 nghị định 46 2016 nđ cp quy định xử phạt vi phạm hành chính lĩnh vực giao thông đường bộ đường sắt quy định 03 xử phạt đối với hành vi phạt tiền 2 000 000 đồng 3 000 000 đồng tước quyền sử dụng giấy phép lái xe 01 03 đối với điều khiển xe thực hiện hành vi điều khiển xe đường máu hơi thở nồng độ cồn 50 miligam 100 mililít máu 0 25 miligam 1 lít khí thở phạt tiền 7 000 000 đồng 8 000 000 đồng tước quyền sử dụng giấy phép lái xe 03 05 đối với điều khiển xe thực hiện hành vi điều khiển xe đường máu hơi thở nồng độ cồn 50 miligam 80 miligam 100 mililít máu 0 25 miligam 0 4 miligam 1 lít khí thở phạt tiền 16 000 000 đồng 18 000 000 đồng tước quyền sử dụng giấy phép lái xe 04 06 đối với điều khiển xe thực hiện hành vi điều khiển xe đường máu hơi thở nồng độ cồn 80 miligam 100 mililít máu 0 4 miligam 1 lít khí thở nội dung giải đáp lái xe ô tô nồng độ cồn quy định\n",
      "ID: 666342eae485130f03f50917, Similarity Score: 0.6702, Sentence: b khoản 10 h khoản 11 5 nghị định 100 2019 nđ cp quy định hành vi chấp hành hiệu lệnh kiểm tra nồng độ cồn xe ô tô e thực hiện hành vi quy định khoản 9 tước quyền sử dụng giấy phép lái xe điều khiển máy kéo chứng chỉ bồi dưỡng kiến thức pháp luật giao thông đường bộ điều khiển xe máy chuyên dùng 22 24 10 phạt tiền 30 000 000 đồng 40 000 000 đồng đối với điều khiển xe thực hiện hành vi vi phạm a điều khiển xe đường máu hơi thở nồng độ cồn 80 miligam 100 mililít máu 0 4 miligam 1 lít khí thở c điều khiển xe đường cơ thể chất ma túy d chấp hành yêu cầu kiểm tra chất ma túy thi hành công vụ 11 phạt tiền điều khiển xe thực hiện hành vi vi phạm áp dụng hình thức xử phạt bổ sung h thực hiện hành vi quy định khoản 10 tước quyền sử dụng giấy phép lái xe 22 24 8 phạt tiền 6 000 000 đồng 8 000 000 đồng đối với điều khiển xe thực hiện hành vi vi phạm h điều khiển xe đường cơ thể chất ma túy i chấp hành yêu cầu kiểm tra chất ma túy thi hành công vụ 10 phạt tiền điều khiển xe thực hiện hành vi vi phạm áp dụng hình thức xử phạt bổ sung 9 phạt tiền 16 000 000 đồng 18 000 000 đồng đối với điều khiển xe thực hiện hành vi vi phạm a điều khiển xe đường máu hơi thở nồng độ cồn 80 miligam 100 mililít máu 0 4 miligam 1 lít khí thở c điều khiển xe đường cơ thể chất ma túy d chấp hành yêu cầu kiểm tra chất ma túy thi hành công vụ 10 phạt tiền điều khiển xe thực hiện hành vi vi phạm áp dụng hình thức xử phạt bổ sung\n",
      "ID: 666342e9e485130f03f501d6, Similarity Score: 0.6697, Sentence: quy định khoản 2 58 luật giao thông đường bộ lái xe điều khiển phương tiện đăng ký xe giấy phép lái xe giấy chứng nhận kiểm định an toàn kỹ thuật bảo vệ môi trường đối với xe cơ giới giấy chứng nhận bảo hiểm trách nhiệm dân sự chủ xe cơ giới đồng thời điều khiển xe ô tô máy kéo xe máy chuyên dùng đường máu hơi thở nồng độ cồn điều khiển xe mô tô xe gắn máy máu nồng độ cồn 50 miligam 100 mililít máu 0 25 miligam 1 lít khí thở quy định khoản 8 8 luật nêu vi phạm quy định nêu xử phạt quy định nghị định xử phạt vi phạm hành chính lĩnh vực giao thông đường bộ quy định nghị định 34 2010 nđ cp 2 4 2010 chính phủ quy định xử phạt vi phạm hành chính lĩnh vực giao thông đường bộ nghị định 71 2012 nđ cp 19 9 2012 sửa đổi bổ sung một số nghị định 34 2010 nđ cp xử lý đối với trường hợp điều khiển xe ô tô giấy phép lái xe phạt tiền 4 000 000 đồng 6 000 000 đồng quy định b khoản 7 24 nghị định 71 2012 nđ cp giấy đăng ký xe phạt tiền 2 000 000 đồng 3 000 000 đồng quy định a khoản 4 19 nghị định 71 2012 nđ cp giấy chứng nhận tem kiểm định an toàn kỹ thuật bảo vệ môi trường quy định kiểm định hạn phạt 2 000 000 đồng 3 000 000 đồng quy định c khoản 4 19 nghị định 71 2012 nđ cp giấy chứng nhận bảo hiểm trách nhiệm dân sự chủ xe cơ giới hiệu lực phạt tiền 400 000 đồng 600 000 đồng quy định b khoản 4 24 nghị định 71 2012 nđ cp hành vi giấy phép lái xe giấy đăng ký xe giấy chứng nhận tem kiểm định an toàn kỹ thuật bảo vệ môi trường vi phạm đ h khoản 1 54 nghị định 71 2012 nđ cp tạm phương tiện 10 điều khiển xe đường máu hơi thở nồng độ cồn 50 miligam 80 miligam 100 mililít máu 0 25 miligam 0 4 miligam 1 lít khí thở quy định b khoản 7 8 nghị định 71 2012 nđ cp phạt tiền 8 000 000 đồng 10 000 000 đồng đồng thời tạm phương tiện 10 quy định a khoản 1 54 nghị định nêu đối với trường hợp điều khiển xe mô tô xe gắn máy giấy phép lái xe phạt tiền 800 000 đồng 1 200 000 đồng quy định khoản 5 24 nghị định 71 2012 nđ cp giấy đăng ký xe phạt tiền 300 000 đồng 500 000 đồng quy định a khoản 3 20 nghị định 34 2010 nđ cp giấy chứng nhận bảo hiểm trách nhiệm dân sự chủ xe cơ giới hiệu lực phạt tiền 80 000 đồng 120 000 đồng quy định a khoản 2 24 nghị định 71 2012 nđ cp điều khiển xe đường máu hơi thở nồng độ cồn 50 miligam 80 miligam 100 mililít máu 0 25 miligam 0 4 miligam 1 lít khí thở phạt tiền 500 000 đồng 1 000 000 đồng quy định b khoản 5 9 nghị định 71 2012 nđ cp hành vi giấy phép lái xe giấy đăng ký xe vi phạm b điểm e h khoản 1 54 nghị định 71 2012 nđ cp tạm phương tiện 10 câu châu giấy tờ xe giấy tờ nêu phạt hành vi giấy tờ hành vi nồng độ cồn phép trường hợp tất cả giấy tờ xe phạt tất cả hành vi hành vi nồng độ cồn phép quy định khoản 2 56 pháp lệnh xử lý vi phạm hành chính quyết định xử phạt thực hiện hành vi vi phạm hành chính thẩm quyền quyết định xử phạt quyết định hình thức xử phạt đối với hành vi vi phạm hình thức xử phạt phạt tiền cộng thành phạt như vậy đối với hành vi giấy tờ xe châu có thể xử phạt vi phạm hành chính quy định nêu\n",
      "ID: 666342ede485130f03f547c0, Similarity Score: 0.6679, Sentence: quy định hiện hành tham gia giao thông đi chiều đi đi làn đường đường quy định chấp hành hệ thống báo hiệu đường bộ chấp hành nghiêm chỉnh quy định pháp luật an toàn giao thông đường bộ quy định khoản 8 8 luật giao thông đường bộ 2008 pháp luật nghiêm cấm điều khiển phương tiện xe ô tô máy kéo xe máy chuyên dùng đường máu hơi thở nồng độ cồn điều khiển xe mô tô xe gắn máy máu nồng độ cồn 50 miligam 100 mililít máu 0 25 miligam 1 lít khí thở trường hợp điều khiển phương tiện tham gia giao thông máu hơi thở nồng độ cồn giới hạn tối đa phép coi vi phạm pháp luật xử phạt quy định quy định 6 nghị định 46 2016 nđ cp phạt tiền 3 000 000 đồng 4 000 000 đồng đối với điều khiển xe mô tô xe gắn máy kể cả xe máy điện xe tương tự xe mô tô xe tương tự xe gắn máy đường máu hơi thở nồng độ cồn 80 miligam 100 mililít máu 0 4 miligam 1 lít khí thở ngoài ra điều khiển phương tiện vi phạm trường hợp tước quyền sử dụng giấy phép lái xe 03 05 đối với trường hợp điều khiển xe gắn máy tham gia lưu thông đường bộ hơi thở nồng độ cồn 0 461 miligam 1 lít khí thở 0 4 miligam 1 lít khí thở phạt tiền 3 000 000 đồng 4 000 000 đồng ngoài ra tước quyền sử dụng giấy phép lái xe 03 05 quan điểm tư vấn chúng tôi đối với vấn đề thắc mắc\n",
      "ID: 666342ece485130f03f53dd8, Similarity Score: 0.6660, Sentence: căn cứ 66 nghị định 100 2019 nđ cp quy định xử phạt đối với lái tàu phụ lái tàu phạt tiền 6 000 000 đồng 8 000 000 đồng đối với lái tàu thực hiện hành vi vi phạm điều khiển tàu chạy tốc độ quy định công lệnh tốc độ 20 km h nhiệm vụ máu hơi thở nồng độ cồn 50 miligam 100 mililít máu 0 25 miligam 1 lít khí thở phạt tiền 16 000 000 đồng 18 000 000 đồng đối với hành vi nhiệm vụ máu hơi thở nồng độ cồn 50 miligam 80 miligam 100 mililít máu 0 25 miligam 0 4 miligam 1 lít khí thở phạt tiền 30 000 000 đồng 40 000 000 đồng đối với hành vi vi phạm nhiệm vụ máu hơi thở nồng độ cồn 80 miligam 100 mililít máu 0 4 miligam 1 lít khí thở chấp hành yêu cầu kiểm tra nồng độ cồn chất kích thích pháp luật cấm sử dụng thi hành công vụ nhiệm vụ cơ thể chất kích thích pháp luật cấm sử dụng phạt tiền cá nhân thực hiện hành vi vi phạm áp dụng hình thức xử phạt bổ sung thực hiện hành vi quy định khoản 5 tước quyền sử dụng giấy phép lái tàu 03 05 thực hiện hành vi quy định khoản 6 tước quyền sử dụng giấy phép lái tàu 10 12 thực hiện hành vi quy định khoản 7 tước quyền sử dụng giấy phép lái tàu 22 24 như vậy quy định hiện hành đối chiếu trường hợp đề cập uống rượu lái tàu chồng hành vi vi phạm quy định lái tàu hỏa trường hợp xử lý tùy nồng độ uống xử phạt liệt kê phạt vi phạm hành chính đối với hành vi 60 000 000 đồng tước quyền sử dụng giấy phép lái tàu 24\n",
      "ID: 666342ebe485130f03f5228a, Similarity Score: 0.6655, Sentence: căn cứ điểm c khoản 6 c khoản 7 c khoản 8 a khoản 10 e g h khoản 11 5 nghị định 100 2019 nđ cp quy định xử phạt điều khiển xe ô tô xe tương tự xe ô tô vi phạm quy tắc giao thông đường bộ xử phạt điều khiển xe ô tô xe tương tự xe ô tô vi phạm quy tắc giao thông đường bộ 6 phạt tiền 6 000 000 đồng 8 000 000 đồng đối với điều khiển xe thực hiện hành vi vi phạm c điều khiển xe đường máu hơi thở nồng độ cồn 50 miligam 100 mililít máu 0 25 miligam 1 lít khí thở 8 phạt tiền 16 000 000 đồng 18 000 000 đồng đối với điều khiển xe thực hiện hành vi vi phạm c điều khiển xe đường máu hơi thở nồng độ cồn 50 miligam 80 miligam 100 mililít máu 0 25 miligam 0 4 miligam 1 lít khí thở 10 phạt tiền 30 000 000 đồng 40 000 000 đồng đối với điều khiển xe thực hiện hành vi vi phạm a điều khiển xe đường máu hơi thở nồng độ cồn 80 miligam 100 mililít máu 0 4 miligam 1 lít khí thở 11 phạt tiền điều khiển xe thực hiện hành vi vi phạm áp dụng hình thức xử phạt bổ sung e thực hiện hành vi quy định c khoản 6 tước quyền sử dụng giấy phép lái xe 10 12 g thực hiện hành vi quy định c khoản 8 tước quyền sử dụng giấy phép lái xe 16 18 h thực hiện hành vi quy định khoản 10 tước quyền sử dụng giấy phép lái xe 22 24\n",
      "ID: 666342eee485130f03f563e5, Similarity Score: 0.6578, Sentence: căn cứ quy định khoản 1 82 nghị định 100 2019 nđ cp sửa đổi a khoản 32 2 nghị định 123 2021 nđ cp ngăn chặn vi phạm hành chính thẩm quyền phép tạm phương tiện quyết định xử phạt đối với một số hành vi vi phạm hành vi vi phạm nồng độ cồn đối với điều khiển xe máy cụ thể điều khiển xe đường máu hơi thở nồng độ cồn 50 miligam 100 mililít máu 0 25 miligam 1 lít khí thở điều khiển xe đường máu hơi thở nồng độ cồn 50 miligam 80 miligam 100 mililít máu 0 25 miligam 0 4 miligam 1 lít khí thở điều khiển xe đường máu hơi thở nồng độ cồn 80 miligam 100 mililít máu 0 4 miligam 1 lít khí thở tham gia giao thông xe máy vi phạm quy định nồng độ cảnh sát giao thông có thể yêu cầu tạm xe máy hạn chế hậu quả nghiêm trọng phương tiện tham gia giao thông\n",
      "ID: 666342ebe485130f03f525d6, Similarity Score: 0.6567, Sentence: căn cứ khoản 7 6 nghị định 100 2019 nđ cp quy định xử phạt điều khiển xe mô tô xe gắn máy kể cả xe máy điện xe tương tự xe mô tô xe tương tự xe gắn máy vi phạm quy tắc giao thông đường bộ phạt tiền 4 000 000 đồng 5 000 000 đồng đối với điều khiển xe thực hiện hành vi vi phạm điều khiển xe chạy tốc độ quy định 20 km h chú ý quan sát điều khiển xe chạy tốc độ quy định tai nạn giao thông đi đường cao tốc dừng xe đỗ xe đầu xe lùi xe xe xe chuyển hướng làn đường quy định tai nạn giao thông đi đường làn đường khoảng cách an toàn hai xe quy định tai nạn giao thông đi đường biển báo hiệu nội dung cấm đi đối với phương tiện điều khiển đi ngược chiều đường một chiều đi ngược chiều đường biển “ cấm đi ngược chiều ” tai nạn giao thông trừ hành vi vi phạm quy định d khoản 8 điều khiển xe đường máu hơi thở nồng độ cồn 50 miligam 80 miligam 100 mililít máu 0 25 miligam 0 4 miligam 1 lít khí thở điểu khiển xe gắn máy đi đường cao tốc có thể xử phạt phạt tiền 4 000 000 đồng 5 000 000 đồng ngoài ra có thể tước quyền sử dụng giấy phép lái xe 02 04\n",
      "ID: 666342ede485130f03f550b8, Similarity Score: 0.6567, Sentence: căn cứ khoản 8 6 nghị định 100 2019 nđ cp quy định e điều khiển xe đường máu hơi thở nồng độ cồn 80 miligam 100 mililít máu 0 4 miligam 1 lít khí thở 8 phạt tiền 6 000 000 đồng 8 000 000 đồng đối với điều khiển xe thực hiện hành vi vi phạm a buông hai điều khiển xe chân điều khiển xe điều khiển xe nằm yên xe điều khiển xe thay điều khiển xe chạy điều khiển xe bịt mắt điều khiển xe b điều khiển xe lạng lách đánh võng đường bộ đô thị c điều khiển xe chạy bánh đối với xe hai bánh chạy hai bánh đối với xe bánh d điều khiển xe thành 02 xe trở chạy tốc độ quy định đ tai nạn giao thông dừng nguyên hiện trường trốn trình báo cơ quan thẩm quyền tham gia cấp cứu nạn g chấp hành yêu cầu kiểm tra nồng độ cồn thi hành công vụ h điều khiển xe đường cơ thể chất ma túy i chấp hành yêu cầu kiểm tra chất ma túy thi hành công vụ 10 phạt tiền điều khiển xe thực hiện hành vi vi phạm áp dụng hình thức xử phạt bổ sung g thực hiện hành vi quy định e g h i khoản 8 tước quyền sử dụng giấy phép lái xe 22 24\n",
      "ID: 666342eee485130f03f55e39, Similarity Score: 0.6529, Sentence: căn cứ c khoản 6 c khoản 8 a khoản 10 5 nghị định 100 2019 nđ cp bổ sung d khoản 3 2 nghị định 123 2021 nđ cp quy định b b c khoản 6 c khoản 7 a b c d e g h i khoản 8 khoản 9 6 6 phạt tiền 6 000 000 đồng 8 000 000 đồng đối với điều khiển xe thực hiện hành vi vi phạm c điều khiển xe đường máu hơi thở nồng độ cồn 50 miligam 100 mililít máu 0 25 miligam 1 lít khí thở 8 phạt tiền 16 000 000 đồng 18 000 000 đồng đối với điều khiển xe thực hiện hành vi vi phạm c điều khiển xe đường máu hơi thở nồng độ cồn 50 miligam 80 miligam 100 mililít máu 0 25 miligam 0 4 miligam 1 lít khí thở 10 phạt tiền 30 000 000 đồng 40 000 000 đồng đối với điều khiển xe thực hiện hành vi vi phạm a điều khiển xe đường máu hơi thở nồng độ cồn 80 miligam 100 mililít máu 0 4 miligam 1 lít khí thở 6 phạt tiền 2 000 000 đồng 3 000 000 đồng đối với điều khiển xe thực hiện hành vi vi phạm c điều khiển xe đường máu hơi thở nồng độ cồn 50 miligam 100 mililít máu 0 25 miligam 1 lít khí thở 7 phạt tiền 4 000 000 đồng 5 000 000 đồng đối với điều khiển xe thực hiện hành vi vi phạm c điều khiển xe đường máu hơi thở nồng độ cồn 50 miligam 80 miligam 100 mililít máu 0 25 miligam 0 4 miligam 1 lít khí thở 8 phạt tiền 6 000 000 đồng 8 000 000 đồng đối với điều khiển xe thực hiện hành vi vi phạm e điều khiển xe đường máu hơi thở nồng độ cồn 80 miligam 100 mililít máu 0 4 miligam 1 lít khí thở 1 ngăn chặn vi phạm hành chính thẩm quyền phép tạm phương tiện quyết định xử phạt quy định khoản 2 khoản 8 125 luật xử lý vi phạm hành chính sửa đổi bổ sung 2020 đối với hành vi vi phạm quy định khoản nghị định c c khoản 6 b khoản 7 a b khoản 8 khoản 9 7 d q khoản 1 e khoản 3 a c d đ trường hợp vi phạm 16 điều khiển phương tiện g trường hợp vi phạm 16 điều khiển phương tiện khoản 4 8 đ khoản 9 11 e a b khoản 4 khoản 5 a b c khoản 6 16 g a b c khoản 2 17 h b đ khoản 1 c d đ e khoản 2 19 i khoản 1 a khoản 4 khoản 5 khoản 6 khoản 7 khoản 8 khoản 9 21 k đ g h k khoản 5 b e h khoản 8 c i khoản 9 b khoản 10 30 l b khoản 5 33\n",
      "ID: 666342ede485130f03f54351, Similarity Score: 0.6523, Sentence: 82 nghị định 100 2019 nđ cp sửa đổi a khoản 32 2 nghị định 123 2021 nđ cp quy định nồng độ cồn xử phạt điều khiển xe mô tô xe gắn máy kể cả xe máy điện xe tương tự xe mô tô xe tương tự xe gắn máy vi phạm quy tắc giao thông đường bộ 1 ngăn chặn vi phạm hành chính thẩm quyền phép tạm phương tiện quyết định xử phạt quy định khoản 2 khoản 8 125 luật xử lý vi phạm hành chính sửa đổi bổ sung 2020 đối với hành vi vi phạm quy định khoản nghị định a c khoản 6 a c khoản 8 khoản 10 5 c c khoản 6 b khoản 7 a b khoản 8 khoản 9 7 d q khoản 1 e khoản 3 a c d đ trường hợp vi phạm 16 điều khiển phương tiện g trường hợp vi phạm 16 điều khiển phương tiện khoản 4 8 đ khoản 9 11 6 phạt tiền 2 000 000 đồng 3 000 000 đồng đối với điều khiển xe thực hiện hành vi vi phạm a sử dụng chân chống vật quệt xuống đường xe chạy b điều khiển xe đi đường cao tốc trừ xe phục vụ việc quản lý bảo trì đường cao tốc c điều khiển xe đường máu hơi thở nồng độ cồn 50 miligam 100 mililít máu 0 25 miligam 1 lít khí thở 7 phạt tiền 4 000 000 đồng 5 000 000 đồng đối với điều khiển xe thực hiện hành vi vi phạm c điều khiển xe đường máu hơi thở nồng độ cồn 50 miligam 80 miligam 100 mililít máu 0 25 miligam 0 4 miligam 1 lít khí thở 8 phạt tiền 6 000 000 đồng 8 000 000 đồng đối với điều khiển xe thực hiện hành vi vi phạm e điều khiển xe đường máu hơi thở nồng độ cồn 80 miligam 100 mililít máu 0 4 miligam 1 lít khí thở\n",
      "ID: 666342ece485130f03f53ef8, Similarity Score: 0.6516, Sentence: căn cứ i khoản 3 6 nghị định 100 2019 nđ cp quy định 6 xử phạt điều khiển xe mô tô xe gắn máy kể cả xe máy điện xe tương tự xe mô tô xe tương tự xe gắn máy vi phạm quy tắc giao thông đường bộ 3 phạt tiền 400 000 đồng 600 000 đồng đối với điều khiển xe thực hiện hành vi vi phạm i đi khu vực cấm đường biển báo hiệu nội dung cấm đi đối với phương tiện điều khiển trừ hành vi vi phạm quy định khoản 5 b khoản 6 trường hợp xe ưu tiên đi nhiệm vụ khẩn cấp quy định mặt khác căn cứ khoản 4 23 luật xử lý quy phạm hành chính 2012 quy định tiền phạt cụ thể đối với hành vi vi phạm hành chính trung bình khung tiền phạt quy định đối với hành vi tình tiết giảm nhẹ tiền phạt có thể tối thiểu khung tiền phạt tình tiết tiền phạt có thể tiền phạt tối đa khung tiền phạt như vậy đối với hành vi đi xe máy khu vực cấm có thể xử phạt trung bình khung tiền phạt 500 000 đồng ban biên tập thông tin\n",
      "ID: 666342eae485130f03f50c4f, Similarity Score: 0.6466, Sentence: khoản 8 khoản 10 6 nghị định 100 2019 nđ cp quy định xử phạt hành chính điều khiển xe mô tô xe gắn máy kể cả xe máy điện xe tương tự xe mô tô xe tương tự xe gắn máy vi phạm quy tắc giao thông đường bộ g chấp hành yêu cầu kiểm tra nồng độ cồn thi hành công vụ 8 phạt tiền 6 000 000 đồng 8 000 000 đồng đối với điều khiển xe thực hiện hành vi vi phạm a buông hai điều khiển xe chân điều khiển xe điều khiển xe nằm yên xe điều khiển xe thay điều khiển xe chạy điều khiển xe bịt mắt điều khiển xe b điều khiển xe lạng lách đánh võng đường bộ đô thị c điều khiển xe chạy bánh đối với xe hai bánh chạy hai bánh đối với xe bánh d điều khiển xe thành 02 xe trở chạy tốc độ quy định đ tai nạn giao thông dừng nguyên hiện trường trốn trình báo cơ quan thẩm quyền tham gia cấp cứu nạn e điều khiển xe đường máu hơi thở nồng độ cồn 80 miligam 100 mililít máu 0 4 miligam 1 lít khí thở h điều khiển xe đường cơ thể chất ma túy i chấp hành yêu cầu kiểm tra chất ma túy thi hành công vụ 10 phạt tiền điều khiển xe thực hiện hành vi vi phạm áp dụng hình thức xử phạt bổ sung đ thực hiện hành vi quy định c khoản 6 tước quyền sử dụng giấy phép lái xe 10 12 e thực hiện hành vi quy định c khoản 7 tước quyền sử dụng giấy phép lái xe 16 18 g thực hiện hành vi quy định e g h i khoản 8 tước quyền sử dụng giấy phép lái xe 22 24\n",
      "ID: 666342ece485130f03f53d01, Similarity Score: 0.6452, Sentence: căn cứ b khoản 2 21 nghị định 100 2019 nđ cp sửa đổi khoản 11 2 nghị định 123 2021 nđ cp quy định xử phạt hành vi vi phạm quy định điều kiện điều khiển xe cơ giới xử phạt hành vi vi phạm quy định điều kiện điều khiển xe cơ giới 2 phạt tiền 100 000 đồng 200 000 đồng đối với hành vi vi phạm a điều khiển xe mô tô xe gắn máy xe tương tự xe mô tô xe tương tự xe gắn máy giấy chứng nhận bảo hiểm trách nhiệm dân sự chủ xe cơ giới hiệu lực b điều khiển xe mô tô xe gắn máy xe tương tự xe mô tô xe tương tự xe gắn máy giấy đăng ký xe c điều khiển xe mô tô xe tương tự xe mô tô giấy phép lái xe trừ hành vi vi phạm quy định b khoản 5 c khoản 7\n"
     ]
    }
   ],
   "source": [
    "similarities_anwser = cosine_similarity(query_embedding_anwser, embeddings_anwser)\n",
    "\n",
    "top_50_indices_anwser = np.argsort(similarities_anwser[0])[::-1][:50]\n",
    "\n",
    "for idx in top_50_indices_anwser:\n",
    "    similarity_score = similarities_anwser[0][idx]\n",
    "    similar_sentence = sentences_anwser[idx]\n",
    "    doc_id = ids_anwser[idx]\n",
    "    print(f\"ID: {doc_id}, Similarity Score: {similarity_score:.4f}, Sentence: {similar_sentence}\")"
   ],
   "metadata": {
    "collapsed": false,
    "ExecuteTime": {
     "start_time": "2024-06-24T18:47:55.622591Z",
     "end_time": "2024-06-24T18:47:55.669536Z"
    }
   }
  },
  {
   "cell_type": "code",
   "execution_count": 29,
   "outputs": [],
   "source": [
    "df_title = pd.DataFrame({\n",
    "    'doc_id': [ids_title[idx] for idx in top_50_indices_title],\n",
    "    'similarity_score_title': [similarities_title[0][idx] for idx in top_50_indices_title],\n",
    "    'sentence_title': [sentences_title[idx] for idx in top_50_indices_title]\n",
    "})\n",
    "\n",
    "df_anwser = pd.DataFrame({\n",
    "    'doc_id': [ids_anwser[idx] for idx in top_50_indices_anwser],\n",
    "    'similarity_score_anwser': [similarities_anwser[0][idx] for idx in top_50_indices_anwser],\n",
    "})\n",
    "\n",
    "df_merged = pd.merge(df_title, df_anwser, on='doc_id')\n",
    "df_merged['sbert_score'] = df_merged['similarity_score_title'] * df_merged['similarity_score_anwser']\n",
    "\n",
    "df_merged_sorted = df_merged.sort_values(by='sbert_score', ascending=False)\n",
    "top_20_rows = df_merged_sorted.head(20)"
   ],
   "metadata": {
    "collapsed": false,
    "ExecuteTime": {
     "start_time": "2024-06-24T18:47:55.670541Z",
     "end_time": "2024-06-24T18:47:55.741265Z"
    }
   }
  },
  {
   "cell_type": "code",
   "execution_count": 30,
   "outputs": [
    {
     "name": "stdout",
     "output_type": "stream",
     "text": [
      "                      doc_id  similarity_score_title  \\\n",
      "0   666342eee485130f03f569fe                0.956474   \n",
      "10  666342ede485130f03f5542b                0.891302   \n",
      "1   666342ebe485130f03f52554                0.954854   \n",
      "7   666342ece485130f03f53b98                0.906564   \n",
      "3   666342eee485130f03f563e3                0.938399   \n",
      "4   666342ede485130f03f5541a                0.931123   \n",
      "6   666342eae485130f03f51196                0.918222   \n",
      "2   666342ede485130f03f54352                0.953375   \n",
      "5   666342eee485130f03f563f8                0.919719   \n",
      "19  666342eee485130f03f56362                0.861406   \n",
      "9   666342ebe485130f03f52493                0.893614   \n",
      "14  666342ede485130f03f552c0                0.885235   \n",
      "11  666342eae485130f03f5190e                0.889961   \n",
      "12  666342eee485130f03f55949                0.888150   \n",
      "13  666342ece485130f03f53211                0.887127   \n",
      "15  666342efe485130f03f56cf9                0.877481   \n",
      "17  666342eae485130f03f50d35                0.864516   \n",
      "18  666342ebe485130f03f5216b                0.862600   \n",
      "16  666342eae485130f03f51bb9                0.865240   \n",
      "23  666342ece485130f03f538ed                0.821384   \n",
      "\n",
      "                                       sentence_title  \\\n",
      "0   điều khiển xe máy nồng độ cồn phép phạt bao nhiêu   \n",
      "10            vi phạm nồng độ cồn phạt bao nhiêu tiền   \n",
      "1   lỗi vi phạm nồng độ cồn điều khiển xe máy tham...   \n",
      "7   xe máy chấp hành kiểm tra nồng độ cồn phạt bao...   \n",
      "3   lái xe máy vi phạm quy định nồng độ cồn phạt b...   \n",
      "4   điều khiển xe máy nồng độ cồn phạt vi phạm hàn...   \n",
      "6          phạt tiền nồng độ cồn lái xe máy bao nhiêu   \n",
      "2                   phạt nồng độ cồn xe máy bao nhiêu   \n",
      "5               lái xe máy nồng độ cồn bao nhiêu phạt   \n",
      "19               phạt nồng độ cồn phép đối với xe máy   \n",
      "9                nồng độ cồn lái xe bao nhiêu xử phạt   \n",
      "14  xe máy chấp hành kiểm tra nồng độ cồn phạt bao...   \n",
      "11  phạt hành vi vi phạm nồng độ cồn xe đạp điện b...   \n",
      "12  chạy xe máy hơi thở máu nồng độ cồn phạt bao n...   \n",
      "13  vi phạm nồng độ cồn đội nón bảo hiểm xe máy vi...   \n",
      "15  phạt đối với điều khiển xe máy nồng độ cồn quy...   \n",
      "17  điều khiển xe mô tô xe gắn máy nồng độ cồn phạ...   \n",
      "18                  đi xe máy lái phạt bao nhiêu tiền   \n",
      "16      vi phạm nồng độ cồn điều khiển xe máy xử phạt   \n",
      "23               nồng độ cồn cơ thể bao nhiêu xử phạt   \n",
      "\n",
      "    similarity_score_anwser  sbert_score  \n",
      "0                  0.748456     0.715879  \n",
      "10                 0.768670     0.685118  \n",
      "1                  0.706170     0.674290  \n",
      "7                  0.741180     0.671927  \n",
      "3                  0.712697     0.668794  \n",
      "4                  0.715864     0.666558  \n",
      "6                  0.725446     0.666120  \n",
      "2                  0.690663     0.658461  \n",
      "5                  0.708197     0.651342  \n",
      "19                 0.755185     0.650520  \n",
      "9                  0.719219     0.642704  \n",
      "14                 0.719016     0.636499  \n",
      "11                 0.711489     0.633198  \n",
      "12                 0.703374     0.624702  \n",
      "13                 0.697711     0.618958  \n",
      "15                 0.702192     0.616160  \n",
      "17                 0.705116     0.609584  \n",
      "18                 0.693135     0.597898  \n",
      "16                 0.684643     0.592380  \n",
      "23                 0.719639     0.591100  \n"
     ]
    }
   ],
   "source": [
    "print(top_20_rows)"
   ],
   "metadata": {
    "collapsed": false,
    "ExecuteTime": {
     "start_time": "2024-06-24T18:47:55.701450Z",
     "end_time": "2024-06-24T18:47:55.750274Z"
    }
   }
  },
  {
   "cell_type": "code",
   "execution_count": 31,
   "outputs": [
    {
     "name": "stdout",
     "output_type": "stream",
     "text": [
      "                     doc_id  bm25_score  similarity_score_title  \\\n",
      "0  666342ede485130f03f5542b   51.702071                0.891302   \n",
      "1  666342ede485130f03f5541a   50.320222                0.931123   \n",
      "3  666342eae485130f03f51196   49.340779                0.918222   \n",
      "7  666342ebe485130f03f52554   48.086450                0.954854   \n",
      "5  666342ece485130f03f53b98   48.086795                0.906564   \n",
      "\n",
      "                                      sentence_title  similarity_score_anwser  \\\n",
      "0            vi phạm nồng độ cồn phạt bao nhiêu tiền                 0.768670   \n",
      "1  điều khiển xe máy nồng độ cồn phạt vi phạm hàn...                 0.715864   \n",
      "3         phạt tiền nồng độ cồn lái xe máy bao nhiêu                 0.725446   \n",
      "7  lỗi vi phạm nồng độ cồn điều khiển xe máy tham...                 0.706170   \n",
      "5  xe máy chấp hành kiểm tra nồng độ cồn phạt bao...                 0.741180   \n",
      "\n",
      "   sbert_score  final_score  \n",
      "0     0.685118    35.422008  \n",
      "1     0.666558    33.541348  \n",
      "3     0.666120    32.866900  \n",
      "7     0.674290    32.424198  \n",
      "5     0.671927    32.310824  \n"
     ]
    }
   ],
   "source": [
    "df_bm25 = pd.DataFrame({\n",
    "    'doc_id': [doc_dict['id'] for doc_dict in top_n_documents],\n",
    "    'bm25_score': top_n_score\n",
    "})\n",
    "\n",
    "df_bm25_filtered = df_bm25[df_bm25['doc_id'].isin(top_20_rows['doc_id'])]\n",
    "df_final = pd.merge(df_bm25_filtered, top_20_rows, on='doc_id')\n",
    "df_final['final_score'] = df_final['sbert_score'] * df_final['bm25_score']\n",
    "df_final_sorted = df_final.sort_values(by='final_score', ascending=False)\n",
    "print(df_final_sorted.head(5))"
   ],
   "metadata": {
    "collapsed": false,
    "ExecuteTime": {
     "start_time": "2024-06-24T18:47:55.723136Z",
     "end_time": "2024-06-24T18:47:55.750274Z"
    }
   }
  },
  {
   "cell_type": "code",
   "execution_count": 31,
   "outputs": [],
   "source": [],
   "metadata": {
    "collapsed": false,
    "ExecuteTime": {
     "start_time": "2024-06-24T18:47:55.735746Z",
     "end_time": "2024-06-24T18:47:55.750274Z"
    }
   }
  }
 ],
 "metadata": {
  "kernelspec": {
   "display_name": "Python 3",
   "language": "python",
   "name": "python3"
  },
  "language_info": {
   "codemirror_mode": {
    "name": "ipython",
    "version": 2
   },
   "file_extension": ".py",
   "mimetype": "text/x-python",
   "name": "python",
   "nbconvert_exporter": "python",
   "pygments_lexer": "ipython2",
   "version": "2.7.6"
  }
 },
 "nbformat": 4,
 "nbformat_minor": 0
}
