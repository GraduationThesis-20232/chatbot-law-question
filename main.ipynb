{
 "cells": [
  {
   "cell_type": "code",
   "execution_count": 1,
   "metadata": {
    "collapsed": true,
    "ExecuteTime": {
     "start_time": "2024-01-18T01:23:49.263800Z",
     "end_time": "2024-01-18T01:23:53.549057Z"
    }
   },
   "outputs": [],
   "source": [
    "import numpy as np\n",
    "from sentence_transformers import SentenceTransformer\n",
    "from text_untils import *\n",
    "import pickle\n",
    "import pandas as pd\n",
    "import json\n",
    "from sklearn.metrics.pairwise import cosine_similarity"
   ]
  },
  {
   "cell_type": "code",
   "execution_count": 2,
   "outputs": [],
   "source": [
    "with open('output/bm25/texts.pkl', 'rb') as f:\n",
    "    texts = pickle.load(f)\n",
    "\n",
    "with open('output/bm25/bm25plus.pkl', 'rb') as f:\n",
    "    bm25plus = pickle.load(f)"
   ],
   "metadata": {
    "collapsed": false,
    "ExecuteTime": {
     "start_time": "2024-01-18T01:23:53.553072Z",
     "end_time": "2024-01-18T01:23:53.639897Z"
    }
   }
  },
  {
   "cell_type": "code",
   "execution_count": 3,
   "outputs": [],
   "source": [
    "def load_docs_from_file(file_path):\n",
    "    docs = []\n",
    "    with open(file_path, 'r', encoding='utf-8') as file:\n",
    "        for line in file:\n",
    "            try:\n",
    "                doc = json.loads(line)\n",
    "                docs.append(doc)\n",
    "            except json.JSONDecodeError:\n",
    "                continue\n",
    "\n",
    "    return docs\n",
    "\n",
    "docs = load_docs_from_file('output/bm25/docs.jsonl')"
   ],
   "metadata": {
    "collapsed": false,
    "ExecuteTime": {
     "start_time": "2024-01-18T01:23:53.641905Z",
     "end_time": "2024-01-18T01:23:53.698918Z"
    }
   }
  },
  {
   "cell_type": "code",
   "execution_count": 4,
   "outputs": [
    {
     "name": "stdout",
     "output_type": "stream",
     "text": [
      "['tổ_chức', 'thực_hiện', 'trách_nhiệm', 'thông_báo', 'phòng_chống', 'xảy', 'thiên_tai']\n"
     ]
    }
   ],
   "source": [
    "query = 'Tổ chức nào thực hiện trách nhiệm thông báo phòng chống khi xảy ra thiên tai'\n",
    "# original_question = 'Cơ quan có trách nhiệm truyền tin phòng, chống thiên tai'\n",
    "query = clean_text(query)\n",
    "query = word_segment(query)\n",
    "query = remove_stopword(normalize_text(query))\n",
    "\n",
    "query_bm25 = query.split()\n",
    "print(query_bm25)"
   ],
   "metadata": {
    "collapsed": false,
    "ExecuteTime": {
     "start_time": "2024-01-18T01:23:53.701895Z",
     "end_time": "2024-01-18T01:23:53.714283Z"
    }
   }
  },
  {
   "cell_type": "code",
   "execution_count": 5,
   "outputs": [],
   "source": [
    "top_docs = bm25plus.get_top_n(query_bm25, docs, n=100)\n",
    "bm25_scores = bm25plus.get_scores(query_bm25)\n",
    "doc_scores = np.sort(bm25_scores)[::-1][:100]"
   ],
   "metadata": {
    "collapsed": false,
    "ExecuteTime": {
     "start_time": "2024-01-18T01:23:53.716285Z",
     "end_time": "2024-01-18T01:23:53.767515Z"
    }
   }
  },
  {
   "cell_type": "code",
   "execution_count": 6,
   "outputs": [
    {
     "name": "stdout",
     "output_type": "stream",
     "text": [
      "ID: 653a89021e06875841d152d9, Document: quy_định trách_nhiệm tổ_chức thực_hiện kế_hoạch phòng_chống thiên_tai, Score: 44.75947558940982\n",
      "ID: 653a89191e06875841d1533b, Document: trách_nhiệm tổ_chức thực_hiện kế_hoạch phòng_chống thiên_tai huyện quy_định thế_nào, Score: 42.88955544019096\n",
      "ID: 653a893d1e06875841d15435, Document: quy_định trách_nhiệm tổ_chức thực_hiện kế_hoạch phòng_chống thiên_tai huyện quy_định, Score: 42.88955544019096\n",
      "ID: 653a8b391e06875841d15be5, Document: quy_định trách_nhiệm thông_báo cháy rừng xảy, Score: 42.3373308462243\n",
      "ID: 653a9ebe1e06875841d1c26d, Document: cơ_quan trách_nhiệm truyền phòng_chống thiên_tai, Score: 39.863646134737465\n",
      "ID: 653a86321e06875841d13683, Document: ban chỉ_đạo quốc_gia phòng_chống thiên_tai trách_nhiệm thực_hiện ứng_phó sự_cố thiên_tai tìm_kiếm cứu nạn, Score: 39.185296661032226\n",
      "ID: 653a9ef51e06875841d1c4ad, Document: phòng_chống thiên_tai, Score: 39.12280438901149\n",
      "ID: 653a892e1e06875841d153e9, Document: trách_nhiệm tài_chính đối_với quỹ phòng_chống thiên_tai, Score: 39.06218400293126\n",
      "ID: 653a8b4a1e06875841d15c47, Document: phòng_chống thiên_tai ban chỉ_đạo trung_ương trách_nhiệm, Score: 39.06218400293126\n",
      "ID: 653a881b1e06875841d14e17, Document: trách_nhiệm cơ_quan tổ_chức quản_lý sử_dụng vật_tư phương_tiện trang thiết_bị chuyên_dùng phòng_chống thiên_tai, Score: 38.38956377613968\n",
      "ID: 653a892e1e06875841d153eb, Document: trách_nhiệm ubnd tỉnh đối_với quỹ phòng_chống thiên_tai, Score: 38.356919746352986\n",
      "ID: 653a892c1e06875841d153e7, Document: nn ptnt trách_nhiệm đối_với quỹ phòng_chống thiên_tai, Score: 38.356919746352986\n",
      "ID: 653a9ef01e06875841d1c49d, Document: trách_nhiệm ủy_ban nhân_dân liên_quan quỹ phòng_chống thiên_tai, Score: 38.356919746352986\n",
      "ID: 653a9ebf1e06875841d1c283, Document: cơ_cấu tổ_chức nhiệm_vụ ban chỉ_đạo trung_ương phòng_chống thiên_tai, Score: 38.27726671625588\n",
      "ID: 653a9eee1e06875841d1c483, Document: đóng_góp quỹ phòng_chống thiên_tai tổ_chức kinh_tế hạch_toán độc_lập, Score: 38.27726671625588\n",
      "ID: 653a92bc1e06875841d18223, Document: vốn thực_hiện nội_dung lồng_ghép phòng_chống thiên_tai quy_định thế_nào, Score: 37.98320590792679\n",
      "ID: 653a86a31e06875841d13cbf, Document: báo_cáo quyết_toán quỹ phòng_chống thiên_tai tỉnh thực_hiện thế_nào, Score: 37.98320590792679\n",
      "ID: 653a93511e06875841d1871d, Document: trách_nhiệm cục đường thủy_nội_địa việt nam phòng_chống thiên_tai, Score: 37.731514284391245\n",
      "ID: 653a99ff1e06875841d1aa15, Document: thông_báo cơ_quan nhà_nước thẩm_quyền xảy sự_cố ô_nhiễm xử_phạt thế_nào, Score: 37.440949905150354\n",
      "ID: 653a8e961e06875841d16b81, Document: vai_trò cục hàng_hải việt_nam thực_hiện phòng_chống thiên_tai lĩnh_vực hàng_hải, Score: 37.411335834109444\n",
      "ID: 653a87ea1e06875841d14c45, Document: thực_hiện lồng_ghép nội_dung phòng_chống thiên_tai quy_hoạch phát_triển kinh_tế xã_hội, Score: 37.411335834109444\n",
      "ID: 653a86a31e06875841d13cc7, Document: điều_tiết quỹ phòng_chống thiên_tai trung_ương quỹ tỉnh thực_hiện thế_nào, Score: 37.411335834109444\n",
      "ID: 653a86a41e06875841d13cf9, Document: nhiệm_vụ quỹ phòng_chống thiên_tai, Score: 37.393685842014634\n",
      "ID: 653a86a41e06875841d13cfd, Document: tài_chính quỹ phòng_chống thiên_tai, Score: 37.393685842014634\n",
      "ID: 653a870e1e06875841d142cd, Document: trách_nhiệm phục_hồi môi_trường xảy sự_cố, Score: 37.31168932158182\n",
      "ID: 653a8e681e06875841d16acb, Document: hướng_dẫn xử_lý tình_huống thiên_tai xảy lĩnh_vực hàng_hải, Score: 37.242280024007115\n",
      "ID: 653a8ea21e06875841d16bb9, Document: xử_lý tình_huống thiên_tai lĩnh_vực đường thủy_nội_địa xảy, Score: 37.242280024007115\n",
      "ID: 653a89231e06875841d1538f, Document: tổ_chức nhiệm_vụ ban chỉ_huy phòng_chống thiên_tai tìm_kiếm cứu nạn xã, Score: 37.161783939286124\n",
      "ID: 653a8ce91e06875841d16377, Document: tổ_chức ban chỉ_huy phòng_chống thiên_tai tìm_kiếm cứu nạn cấp_bộ thế_nào, Score: 37.161783939286124\n",
      "ID: 653a89231e06875841d15393, Document: tổ_chức nhiệm_vụ ban chỉ_huy phòng_chống thiên_tai tìm_kiếm cứu nạn tỉnh, Score: 37.161783939286124\n",
      "ID: 653a89231e06875841d15391, Document: tổ_chức nhiệm_vụ ban chỉ_huy phòng_chống thiên_tai tìm_kiếm cứu nạn huyện, Score: 37.161783939286124\n",
      "ID: 653a89281e06875841d153b9, Document: cơ_cấu tổ_chức nhiệm_vụ ban chỉ_đạo quốc_gia phòng_chống thiên_tai quy_định thế_nào, Score: 37.161783939286124\n",
      "ID: 653a87081e06875841d14243, Document: biện_pháp tổ_chức di_dời sơ_tán dân thiên_tai xảy địa_bàn thành_phố hồ chí minh thế_nào, Score: 37.08116116048917\n",
      "ID: 653a8d3d1e06875841d1650b, Document: tổ_chức thực_hiện hỗ_trợ kinh_phí địa_phương khắc_phục hậu_quả thiên_tai, Score: 37.03887543339257\n",
      "ID: 653a9e311e06875841d1bfc3, Document: thông_báo cơ_quan nhà_nước thẩm_quyền địa_điểm xảy sự_cố hạt_nhân phạt thế_nào, Score: 36.92574150073134\n",
      "ID: 653a87ea1e06875841d14c47, Document: quy_trình thực_hiện lồng_ghép nội_dung phòng_chống thiên_tai kế_hoạch phát_triển kinh_tế xã_hội, Score: 36.897633527373735\n",
      "ID: 653a8a361e06875841d157cd, Document: lập dự_toán kinh_phí hoạt_động ban chỉ_huy phòng_chống thiên_tai thực_hiện thế_nào, Score: 36.897633527373735\n",
      "ID: 653a9a481e06875841d1ab67, Document: trách_nhiệm ngành cơ_quan tổ_chức trung_ương ứng_phó sự_cố thiên_tai, Score: 36.78718380985703\n",
      "ID: 653a86a41e06875841d13cff, Document: nội_dung chi quỹ phòng_chống thiên_tai, Score: 36.706015084437865\n",
      "ID: 653a87961e06875841d14891, Document: dân_quân tự_vệ nhân_lực phòng_chống thiên_tai, Score: 36.706015084437865\n",
      "ID: 653a9eec1e06875841d1c47d, Document: nguyên_tắc hoạt_động quỹ phòng_chống thiên_tai, Score: 36.706015084437865\n",
      "ID: 653a86a51e06875841d13d25, Document: tài_chính quỹ phòng_chống thiên_tai tỉnh, Score: 36.706015084437865\n",
      "ID: 653a9c341e06875841d1b8c9, Document: nội_dung báo_cáo định_kỳ_công_tác phòng_chống thiên_tai, Score: 36.706015084437865\n",
      "ID: 653a8a7c1e06875841d15943, Document: quỹ phòng_chống thiên_tai cơ_quan quản_lý, Score: 36.706015084437865\n",
      "ID: 653a881b1e06875841d14e19, Document: vật_tư chuyên_dùng phòng_chống thiên_tai bao_gồm, Score: 36.706015084437865\n",
      "ID: 653a85b21e06875841d1308d, Document: phân_cấp công_trình thủy_lợi phòng_chống thiên_tai, Score: 36.706015084437865\n",
      "ID: 653a89301e06875841d153f3, Document: quỹ phòng_chống thiên_tai tỉnh thu, Score: 36.706015084437865\n",
      "ID: 653a893d1e06875841d15437, Document: nội_dung kế_hoạch phòng_chống thiên_tai xã, Score: 36.706015084437865\n",
      "ID: 653a8e3d1e06875841d16a01, Document: kinh_phí phòng_chống thiên_tai lĩnh_vực hàng_hải, Score: 36.706015084437865\n",
      "ID: 653a89421e06875841d1544d, Document: nội_dung biện_pháp phòng_chống thiên_tai tỉnh, Score: 36.706015084437865\n",
      "ID: 653a89421e06875841d1544f, Document: nội_dung kế_hoạch phòng_chống thiên_tai huyện, Score: 36.706015084437865\n",
      "ID: 653a93511e06875841d1871b, Document: công_trình phòng_chống thiên_tai đường thủy_nội_địa, Score: 36.706015084437865\n",
      "ID: 653a8c2a1e06875841d15f69, Document: phân_bổ quỹ phòng_chống thiên_tai tỉnh, Score: 36.706015084437865\n",
      "ID: 653a8c991e06875841d16187, Document: doanh_nghiệp đóng quỹ phòng_chống thiên_tai, Score: 36.706015084437865\n",
      "ID: 653a88951e06875841d15155, Document: sinh_viên đóng quỹ phòng_chống thiên_tai, Score: 36.706015084437865\n",
      "ID: 653a9eef1e06875841d1c49b, Document: công_khai thu_chi quỹ phòng_chống thiên_tai, Score: 36.706015084437865\n",
      "ID: 653a89141e06875841d15323, Document: phương_pháp đánh_giá rủi_ro thiên_tai kế_hoạch phòng_chống thiên_tai tỉnh, Score: 36.698929320223584\n",
      "ID: 653a89241e06875841d153a3, Document: tổ_chức ban chỉ_huy phòng_chống thiên_tai tìm_kiếm cứu nạn cấp_bộ quy_định thế_nào, Score: 36.68502022998934\n",
      "ID: 653a85f61e06875841d1337f, Document: xảy tình_huống khẩn_cấp thiên_tai áp_dụng biện_pháp xử_lý thế_nào, Score: 36.679981251366435\n",
      "ID: 653a8e4f1e06875841d16a53, Document: quy_định thời_gian nộp báo_cáo thiên_tai xảy lĩnh_vực hàng_hải, Score: 36.679981251366435\n",
      "ID: 653a88c11e06875841d1521d, Document: trách_nhiệm phục_hồi môi_trường xảy sự_cố môi_trường, Score: 36.6731584459025\n",
      "ID: 653a89021e06875841d152d5, Document: quy_định trách_nhiệm kinh_phí xây_dựng cập_nhật kế_hoạch phòng_chống thiên_tai ubnd tỉnh, Score: 36.67154271843667\n",
      "ID: 653a89021e06875841d152d7, Document: quy_định trách_nhiệm kinh_phí xây_dựng cập_nhật kế_hoạch phòng_chống thiên_tai ubnd huyện, Score: 36.67154271843667\n",
      "ID: 653a890b1e06875841d152f7, Document: quy_định trách_nhiệm kinh_phí xây_dựng cập_nhật kế_hoạch phòng_chống thiên_tai ubnd xã, Score: 36.67154271843667\n",
      "ID: 653a9bca1e06875841d1b60f, Document: trách_nhiệm cơ_quan thực_hiện báo_cáo thống_kê đánh_giá thiệt_hại thiên_tai, Score: 36.493123001527934\n",
      "ID: 653a9f6e1e06875841d1c61f, Document: trách_nhiệm tổ_chức thực_hiện xác_nhận kế_hoạch bảo_vệ môi_trường, Score: 36.49170198966332\n",
      "ID: 653a86a51e06875841d13d1f, Document: quản_lý thu kế_hoạch thu nộp quỹ phòng_chống thiên_tai tỉnh thực_hiện thế_nào, Score: 36.43365369232098\n",
      "ID: 653a87ea1e06875841d14c3b, Document: vốn thực_hiện lồng_ghép nội_dung phòng_chống thiên_tai quy_hoạch kế_hoạch phát_triển kinh_tế xã_hội, Score: 36.43365369232098\n",
      "ID: 653a868a1e06875841d13a9f, Document: yêu_cầu thực_hiện kế_hoạch hoạt_động phòng_chống thiên_tai tìm_kiếm cứu nạn y_tế 2023, Score: 36.43365369232098\n",
      "ID: 653a89141e06875841d15321, Document: quy_định phạm_vi đánh_giá rủi_ro thiên_tai kế_hoạch phòng_chống thiên_tai tỉnh, Score: 36.273221009495366\n",
      "ID: 653a89131e06875841d1531f, Document: đánh_giá rủi_ro thiên_tai kế_hoạch phòng_chống thiên_tai tỉnh quy_định thế_nào, Score: 36.273221009495366\n",
      "ID: 653a9a251e06875841d1ab0d, Document: tổ_chức nhiệm_vụ ban chỉ_huy phòng_chống thiên_tai tìm_kiếm cứu nạn tỉnh huyện xã, Score: 36.25227336951514\n",
      "ID: 653a91681e06875841d17ad3, Document: trách_nhiệm ủy_ban nhân_dân ban chỉ_huy phòng_chống thiên_tai tìm_kiếm cứu nạn quy_định, Score: 36.21850481774721\n",
      "ID: 653a85e71e06875841d132bf, Document: trách_nhiệm quyết_định miễn đóng quỹ phòng_chống thiên_tai đối_với phụ_nữ nuôi 12, Score: 36.21850481774721\n",
      "ID: 653a87f21e06875841d14ccf, Document: thông_báo khu_vực hạn_chế hoạt_động thực_hiện thế_nào, Score: 36.214552137895474\n",
      "ID: 653a98bf1e06875841d19e0b, Document: bắt_buộc lao_động đóng_góp quỹ phòng_chống thiên_tai, Score: 36.10615385385317\n",
      "ID: 653a893d1e06875841d15433, Document: quy_định nội_dung biện_pháp phòng_chống thiên_tai huyện, Score: 36.10615385385317\n",
      "ID: 653a85e71e06875841d132bd, Document: đối_tượng miễn đóng quỹ phòng_chống thiên_tai, Score: 36.10615385385317\n",
      "ID: 653a87961e06875841d14893, Document: chiến_lược quốc_gia phòng_chống thiên_tai xây_dựng thế_nào, Score: 36.10615385385317\n",
      "ID: 653a89241e06875841d153a1, Document: cơ_quan thường_trực_ban chỉ_đạo quốc_gia phòng_chống thiên_tai, Score: 36.10615385385317\n",
      "ID: 653a89231e06875841d1539d, Document: ban chỉ_đạo quốc_gia phòng_chống thiên_tai thành_lập, Score: 36.10615385385317\n",
      "ID: 653a892b1e06875841d153e1, Document: đối_tượng miễn đóng_góp quỹ phòng_chống thiên_tai, Score: 36.10615385385317\n",
      "ID: 653a86a41e06875841d13d03, Document: công_khai_thông_tin hoạt_động quỹ phòng_chống thiên_tai thế_nào, Score: 36.10615385385317\n",
      "ID: 653a86f31e06875841d14063, Document: trường_hợp_doanh_nghiệp miễn đóng_góp quỹ phòng_chống thiên_tai, Score: 36.10615385385317\n",
      "ID: 653a85d11e06875841d131e9, Document: hành_vi cấm phòng_chống thiên_tai quy_định thế_nào, Score: 36.10615385385317\n",
      "ID: 653a8ce91e06875841d16373, Document: ban chỉ_đạo trung_ương phòng_chống thiên_tai những_ai, Score: 36.10615385385317\n",
      "ID: 653a86a51e06875841d13d21, Document: nội_dung chi quỹ phòng_chống thiên_tai tỉnh, Score: 36.10615385385317\n",
      "ID: 653a8ce91e06875841d16375, Document: nhiệm_vụ ban chỉ_đạo trung_ương phòng_chống thiên_tai, Score: 36.10615385385317\n",
      "ID: 653a86a51e06875841d13d23, Document: thẩm_quyền chi quỹ phòng_chống thiên_tai tỉnh, Score: 36.10615385385317\n",
      "ID: 653a9eec1e06875841d1c47f, Document: thành_lập quỹ phòng_chống thiên_tai quy_định thế_nào, Score: 36.10615385385317\n",
      "ID: 653a8edc1e06875841d16cab, Document: thất_nghiệp miễn đóng quỹ phòng_chống thiên_tai, Score: 36.10615385385317\n",
      "ID: 653a85b21e06875841d1308f, Document: tháo_dỡ công_trình thủy_lợi phòng_chống thiên_tai thực_hiện_trường_hợp, Score: 36.10615385385317\n",
      "ID: 653a8af21e06875841d15aa9, Document: công_ty nước_ngoài đóng qũy phòng_chống thiên_tai, Score: 36.10615385385317\n",
      "ID: 653a87ea1e06875841d14c41, Document: lồng_ghép nội_dung phòng_chống thiên_tai quy_hoạch kế_hoạch, Score: 36.10615385385317\n",
      "ID: 653a89271e06875841d153b5, Document: nhiệm_vụ ban chỉ_đạo quốc_gia phòng_chống thiên_tai, Score: 36.10615385385317\n",
      "ID: 653a89421e06875841d15447, Document: nội_dung kế_hoạch phòng_chống thiên_tai tỉnh nội_dung, Score: 36.10615385385317\n",
      "ID: 653a85e71e06875841d132bb, Document: đóng quỹ phòng_chống thiên_tai lao_động bao_nhiêu, Score: 36.10615385385317\n",
      "ID: 653a92bd1e06875841d18231, Document: quy_trình thực_hiện lồng_ghép nội_dung phòng_chống thiên_tai quy_hoạch kế_hoạch kinh_tế xã_hội quy_định thế_nào, Score: 36.01251044457133\n",
      "ID: 653a868a1e06875841d13a9d, Document: kế_hoạch hoạt_động phòng_chống thiên_tai tìm_kiếm cứu nạn y_tế 2023 kinh_phí thực_hiện thế_nào, Score: 36.01251044457133\n",
      "ID: 653a87cf1e06875841d14ae7, Document: tổ_chức thông_báo báo_động cảnh_báo kịp_thời động_đất sóng_thần_thế_nào, Score: 35.99189419155026\n"
     ]
    }
   ],
   "source": [
    "for doc_dict, score in zip(top_docs, doc_scores):\n",
    "    doc_id = doc_dict['id']\n",
    "    doc_title = doc_dict['title']\n",
    "    print(f\"ID: {doc_id}, Document: {doc_title}, Score: {score}\")"
   ],
   "metadata": {
    "collapsed": false,
    "ExecuteTime": {
     "start_time": "2024-01-18T01:23:53.768520Z",
     "end_time": "2024-01-18T01:23:53.774728Z"
    }
   }
  },
  {
   "cell_type": "code",
   "execution_count": 7,
   "outputs": [
    {
     "name": "stdout",
     "output_type": "stream",
     "text": [
      "ID: 653a89021e06875841d152d9, Document: quy_định trách_nhiệm tổ_chức thực_hiện kế_hoạch phòng_chống thiên_tai, Rescaled Score: 10.0000\n",
      "ID: 653a89191e06875841d1533b, Document: trách_nhiệm tổ_chức thực_hiện kế_hoạch phòng_chống thiên_tai huyện quy_định thế_nào, Rescaled Score: 9.5822\n",
      "ID: 653a893d1e06875841d15435, Document: quy_định trách_nhiệm tổ_chức thực_hiện kế_hoạch phòng_chống thiên_tai huyện quy_định, Rescaled Score: 9.5822\n",
      "ID: 653a8b391e06875841d15be5, Document: quy_định trách_nhiệm thông_báo cháy rừng xảy, Rescaled Score: 9.4589\n",
      "ID: 653a9ebe1e06875841d1c26d, Document: cơ_quan trách_nhiệm truyền phòng_chống thiên_tai, Rescaled Score: 8.9062\n",
      "ID: 653a86321e06875841d13683, Document: ban chỉ_đạo quốc_gia phòng_chống thiên_tai trách_nhiệm thực_hiện ứng_phó sự_cố thiên_tai tìm_kiếm cứu nạn, Rescaled Score: 8.7546\n",
      "ID: 653a9ef51e06875841d1c4ad, Document: phòng_chống thiên_tai, Rescaled Score: 8.7407\n",
      "ID: 653a892e1e06875841d153e9, Document: trách_nhiệm tài_chính đối_với quỹ phòng_chống thiên_tai, Rescaled Score: 8.7271\n",
      "ID: 653a8b4a1e06875841d15c47, Document: phòng_chống thiên_tai ban chỉ_đạo trung_ương trách_nhiệm, Rescaled Score: 8.7271\n",
      "ID: 653a881b1e06875841d14e17, Document: trách_nhiệm cơ_quan tổ_chức quản_lý sử_dụng vật_tư phương_tiện trang thiết_bị chuyên_dùng phòng_chống thiên_tai, Rescaled Score: 8.5769\n",
      "ID: 653a892e1e06875841d153eb, Document: trách_nhiệm ubnd tỉnh đối_với quỹ phòng_chống thiên_tai, Rescaled Score: 8.5696\n",
      "ID: 653a892c1e06875841d153e7, Document: nn ptnt trách_nhiệm đối_với quỹ phòng_chống thiên_tai, Rescaled Score: 8.5696\n",
      "ID: 653a9ef01e06875841d1c49d, Document: trách_nhiệm ủy_ban nhân_dân liên_quan quỹ phòng_chống thiên_tai, Rescaled Score: 8.5696\n",
      "ID: 653a9ebf1e06875841d1c283, Document: cơ_cấu tổ_chức nhiệm_vụ ban chỉ_đạo trung_ương phòng_chống thiên_tai, Rescaled Score: 8.5518\n",
      "ID: 653a9eee1e06875841d1c483, Document: đóng_góp quỹ phòng_chống thiên_tai tổ_chức kinh_tế hạch_toán độc_lập, Rescaled Score: 8.5518\n",
      "ID: 653a92bc1e06875841d18223, Document: vốn thực_hiện nội_dung lồng_ghép phòng_chống thiên_tai quy_định thế_nào, Rescaled Score: 8.4861\n",
      "ID: 653a86a31e06875841d13cbf, Document: báo_cáo quyết_toán quỹ phòng_chống thiên_tai tỉnh thực_hiện thế_nào, Rescaled Score: 8.4861\n",
      "ID: 653a93511e06875841d1871d, Document: trách_nhiệm cục đường thủy_nội_địa việt nam phòng_chống thiên_tai, Rescaled Score: 8.4298\n",
      "ID: 653a99ff1e06875841d1aa15, Document: thông_báo cơ_quan nhà_nước thẩm_quyền xảy sự_cố ô_nhiễm xử_phạt thế_nào, Rescaled Score: 8.3649\n",
      "ID: 653a8e961e06875841d16b81, Document: vai_trò cục hàng_hải việt_nam thực_hiện phòng_chống thiên_tai lĩnh_vực hàng_hải, Rescaled Score: 8.3583\n",
      "ID: 653a87ea1e06875841d14c45, Document: thực_hiện lồng_ghép nội_dung phòng_chống thiên_tai quy_hoạch phát_triển kinh_tế xã_hội, Rescaled Score: 8.3583\n",
      "ID: 653a86a31e06875841d13cc7, Document: điều_tiết quỹ phòng_chống thiên_tai trung_ương quỹ tỉnh thực_hiện thế_nào, Rescaled Score: 8.3583\n",
      "ID: 653a86a41e06875841d13cf9, Document: nhiệm_vụ quỹ phòng_chống thiên_tai, Rescaled Score: 8.3544\n",
      "ID: 653a86a41e06875841d13cfd, Document: tài_chính quỹ phòng_chống thiên_tai, Rescaled Score: 8.3544\n",
      "ID: 653a870e1e06875841d142cd, Document: trách_nhiệm phục_hồi môi_trường xảy sự_cố, Rescaled Score: 8.3360\n",
      "ID: 653a8e681e06875841d16acb, Document: hướng_dẫn xử_lý tình_huống thiên_tai xảy lĩnh_vực hàng_hải, Rescaled Score: 8.3205\n",
      "ID: 653a8ea21e06875841d16bb9, Document: xử_lý tình_huống thiên_tai lĩnh_vực đường thủy_nội_địa xảy, Rescaled Score: 8.3205\n",
      "ID: 653a89231e06875841d1538f, Document: tổ_chức nhiệm_vụ ban chỉ_huy phòng_chống thiên_tai tìm_kiếm cứu nạn xã, Rescaled Score: 8.3026\n",
      "ID: 653a8ce91e06875841d16377, Document: tổ_chức ban chỉ_huy phòng_chống thiên_tai tìm_kiếm cứu nạn cấp_bộ thế_nào, Rescaled Score: 8.3026\n",
      "ID: 653a89231e06875841d15393, Document: tổ_chức nhiệm_vụ ban chỉ_huy phòng_chống thiên_tai tìm_kiếm cứu nạn tỉnh, Rescaled Score: 8.3026\n",
      "ID: 653a89231e06875841d15391, Document: tổ_chức nhiệm_vụ ban chỉ_huy phòng_chống thiên_tai tìm_kiếm cứu nạn huyện, Rescaled Score: 8.3026\n",
      "ID: 653a89281e06875841d153b9, Document: cơ_cấu tổ_chức nhiệm_vụ ban chỉ_đạo quốc_gia phòng_chống thiên_tai quy_định thế_nào, Rescaled Score: 8.3026\n",
      "ID: 653a87081e06875841d14243, Document: biện_pháp tổ_chức di_dời sơ_tán dân thiên_tai xảy địa_bàn thành_phố hồ chí minh thế_nào, Rescaled Score: 8.2845\n",
      "ID: 653a8d3d1e06875841d1650b, Document: tổ_chức thực_hiện hỗ_trợ kinh_phí địa_phương khắc_phục hậu_quả thiên_tai, Rescaled Score: 8.2751\n",
      "ID: 653a9e311e06875841d1bfc3, Document: thông_báo cơ_quan nhà_nước thẩm_quyền địa_điểm xảy sự_cố hạt_nhân phạt thế_nào, Rescaled Score: 8.2498\n",
      "ID: 653a87ea1e06875841d14c47, Document: quy_trình thực_hiện lồng_ghép nội_dung phòng_chống thiên_tai kế_hoạch phát_triển kinh_tế xã_hội, Rescaled Score: 8.2435\n",
      "ID: 653a8a361e06875841d157cd, Document: lập dự_toán kinh_phí hoạt_động ban chỉ_huy phòng_chống thiên_tai thực_hiện thế_nào, Rescaled Score: 8.2435\n",
      "ID: 653a9a481e06875841d1ab67, Document: trách_nhiệm ngành cơ_quan tổ_chức trung_ương ứng_phó sự_cố thiên_tai, Rescaled Score: 8.2189\n",
      "ID: 653a86a41e06875841d13cff, Document: nội_dung chi quỹ phòng_chống thiên_tai, Rescaled Score: 8.2007\n",
      "ID: 653a87961e06875841d14891, Document: dân_quân tự_vệ nhân_lực phòng_chống thiên_tai, Rescaled Score: 8.2007\n",
      "ID: 653a9eec1e06875841d1c47d, Document: nguyên_tắc hoạt_động quỹ phòng_chống thiên_tai, Rescaled Score: 8.2007\n",
      "ID: 653a86a51e06875841d13d25, Document: tài_chính quỹ phòng_chống thiên_tai tỉnh, Rescaled Score: 8.2007\n",
      "ID: 653a9c341e06875841d1b8c9, Document: nội_dung báo_cáo định_kỳ_công_tác phòng_chống thiên_tai, Rescaled Score: 8.2007\n",
      "ID: 653a8a7c1e06875841d15943, Document: quỹ phòng_chống thiên_tai cơ_quan quản_lý, Rescaled Score: 8.2007\n",
      "ID: 653a881b1e06875841d14e19, Document: vật_tư chuyên_dùng phòng_chống thiên_tai bao_gồm, Rescaled Score: 8.2007\n",
      "ID: 653a85b21e06875841d1308d, Document: phân_cấp công_trình thủy_lợi phòng_chống thiên_tai, Rescaled Score: 8.2007\n",
      "ID: 653a89301e06875841d153f3, Document: quỹ phòng_chống thiên_tai tỉnh thu, Rescaled Score: 8.2007\n",
      "ID: 653a893d1e06875841d15437, Document: nội_dung kế_hoạch phòng_chống thiên_tai xã, Rescaled Score: 8.2007\n",
      "ID: 653a8e3d1e06875841d16a01, Document: kinh_phí phòng_chống thiên_tai lĩnh_vực hàng_hải, Rescaled Score: 8.2007\n",
      "ID: 653a89421e06875841d1544d, Document: nội_dung biện_pháp phòng_chống thiên_tai tỉnh, Rescaled Score: 8.2007\n",
      "ID: 653a89421e06875841d1544f, Document: nội_dung kế_hoạch phòng_chống thiên_tai huyện, Rescaled Score: 8.2007\n",
      "ID: 653a93511e06875841d1871b, Document: công_trình phòng_chống thiên_tai đường thủy_nội_địa, Rescaled Score: 8.2007\n",
      "ID: 653a8c2a1e06875841d15f69, Document: phân_bổ quỹ phòng_chống thiên_tai tỉnh, Rescaled Score: 8.2007\n",
      "ID: 653a8c991e06875841d16187, Document: doanh_nghiệp đóng quỹ phòng_chống thiên_tai, Rescaled Score: 8.2007\n",
      "ID: 653a88951e06875841d15155, Document: sinh_viên đóng quỹ phòng_chống thiên_tai, Rescaled Score: 8.2007\n",
      "ID: 653a9eef1e06875841d1c49b, Document: công_khai thu_chi quỹ phòng_chống thiên_tai, Rescaled Score: 8.2007\n",
      "ID: 653a89141e06875841d15323, Document: phương_pháp đánh_giá rủi_ro thiên_tai kế_hoạch phòng_chống thiên_tai tỉnh, Rescaled Score: 8.1991\n",
      "ID: 653a89241e06875841d153a3, Document: tổ_chức ban chỉ_huy phòng_chống thiên_tai tìm_kiếm cứu nạn cấp_bộ quy_định thế_nào, Rescaled Score: 8.1960\n",
      "ID: 653a85f61e06875841d1337f, Document: xảy tình_huống khẩn_cấp thiên_tai áp_dụng biện_pháp xử_lý thế_nào, Rescaled Score: 8.1949\n",
      "ID: 653a8e4f1e06875841d16a53, Document: quy_định thời_gian nộp báo_cáo thiên_tai xảy lĩnh_vực hàng_hải, Rescaled Score: 8.1949\n",
      "ID: 653a88c11e06875841d1521d, Document: trách_nhiệm phục_hồi môi_trường xảy sự_cố môi_trường, Rescaled Score: 8.1934\n",
      "ID: 653a89021e06875841d152d5, Document: quy_định trách_nhiệm kinh_phí xây_dựng cập_nhật kế_hoạch phòng_chống thiên_tai ubnd tỉnh, Rescaled Score: 8.1930\n",
      "ID: 653a89021e06875841d152d7, Document: quy_định trách_nhiệm kinh_phí xây_dựng cập_nhật kế_hoạch phòng_chống thiên_tai ubnd huyện, Rescaled Score: 8.1930\n",
      "ID: 653a890b1e06875841d152f7, Document: quy_định trách_nhiệm kinh_phí xây_dựng cập_nhật kế_hoạch phòng_chống thiên_tai ubnd xã, Rescaled Score: 8.1930\n",
      "ID: 653a9bca1e06875841d1b60f, Document: trách_nhiệm cơ_quan thực_hiện báo_cáo thống_kê đánh_giá thiệt_hại thiên_tai, Rescaled Score: 8.1532\n",
      "ID: 653a9f6e1e06875841d1c61f, Document: trách_nhiệm tổ_chức thực_hiện xác_nhận kế_hoạch bảo_vệ môi_trường, Rescaled Score: 8.1528\n",
      "ID: 653a86a51e06875841d13d1f, Document: quản_lý thu kế_hoạch thu nộp quỹ phòng_chống thiên_tai tỉnh thực_hiện thế_nào, Rescaled Score: 8.1399\n",
      "ID: 653a87ea1e06875841d14c3b, Document: vốn thực_hiện lồng_ghép nội_dung phòng_chống thiên_tai quy_hoạch kế_hoạch phát_triển kinh_tế xã_hội, Rescaled Score: 8.1399\n",
      "ID: 653a868a1e06875841d13a9f, Document: yêu_cầu thực_hiện kế_hoạch hoạt_động phòng_chống thiên_tai tìm_kiếm cứu nạn y_tế 2023, Rescaled Score: 8.1399\n",
      "ID: 653a89141e06875841d15321, Document: quy_định phạm_vi đánh_giá rủi_ro thiên_tai kế_hoạch phòng_chống thiên_tai tỉnh, Rescaled Score: 8.1040\n",
      "ID: 653a89131e06875841d1531f, Document: đánh_giá rủi_ro thiên_tai kế_hoạch phòng_chống thiên_tai tỉnh quy_định thế_nào, Rescaled Score: 8.1040\n",
      "ID: 653a9a251e06875841d1ab0d, Document: tổ_chức nhiệm_vụ ban chỉ_huy phòng_chống thiên_tai tìm_kiếm cứu nạn tỉnh huyện xã, Rescaled Score: 8.0994\n",
      "ID: 653a91681e06875841d17ad3, Document: trách_nhiệm ủy_ban nhân_dân ban chỉ_huy phòng_chống thiên_tai tìm_kiếm cứu nạn quy_định, Rescaled Score: 8.0918\n",
      "ID: 653a85e71e06875841d132bf, Document: trách_nhiệm quyết_định miễn đóng quỹ phòng_chống thiên_tai đối_với phụ_nữ nuôi 12, Rescaled Score: 8.0918\n",
      "ID: 653a87f21e06875841d14ccf, Document: thông_báo khu_vực hạn_chế hoạt_động thực_hiện thế_nào, Rescaled Score: 8.0909\n",
      "ID: 653a98bf1e06875841d19e0b, Document: bắt_buộc lao_động đóng_góp quỹ phòng_chống thiên_tai, Rescaled Score: 8.0667\n",
      "ID: 653a893d1e06875841d15433, Document: quy_định nội_dung biện_pháp phòng_chống thiên_tai huyện, Rescaled Score: 8.0667\n",
      "ID: 653a85e71e06875841d132bd, Document: đối_tượng miễn đóng quỹ phòng_chống thiên_tai, Rescaled Score: 8.0667\n",
      "ID: 653a87961e06875841d14893, Document: chiến_lược quốc_gia phòng_chống thiên_tai xây_dựng thế_nào, Rescaled Score: 8.0667\n",
      "ID: 653a89241e06875841d153a1, Document: cơ_quan thường_trực_ban chỉ_đạo quốc_gia phòng_chống thiên_tai, Rescaled Score: 8.0667\n",
      "ID: 653a89231e06875841d1539d, Document: ban chỉ_đạo quốc_gia phòng_chống thiên_tai thành_lập, Rescaled Score: 8.0667\n",
      "ID: 653a892b1e06875841d153e1, Document: đối_tượng miễn đóng_góp quỹ phòng_chống thiên_tai, Rescaled Score: 8.0667\n",
      "ID: 653a86a41e06875841d13d03, Document: công_khai_thông_tin hoạt_động quỹ phòng_chống thiên_tai thế_nào, Rescaled Score: 8.0667\n",
      "ID: 653a86f31e06875841d14063, Document: trường_hợp_doanh_nghiệp miễn đóng_góp quỹ phòng_chống thiên_tai, Rescaled Score: 8.0667\n",
      "ID: 653a85d11e06875841d131e9, Document: hành_vi cấm phòng_chống thiên_tai quy_định thế_nào, Rescaled Score: 8.0667\n",
      "ID: 653a8ce91e06875841d16373, Document: ban chỉ_đạo trung_ương phòng_chống thiên_tai những_ai, Rescaled Score: 8.0667\n",
      "ID: 653a86a51e06875841d13d21, Document: nội_dung chi quỹ phòng_chống thiên_tai tỉnh, Rescaled Score: 8.0667\n",
      "ID: 653a8ce91e06875841d16375, Document: nhiệm_vụ ban chỉ_đạo trung_ương phòng_chống thiên_tai, Rescaled Score: 8.0667\n",
      "ID: 653a86a51e06875841d13d23, Document: thẩm_quyền chi quỹ phòng_chống thiên_tai tỉnh, Rescaled Score: 8.0667\n",
      "ID: 653a9eec1e06875841d1c47f, Document: thành_lập quỹ phòng_chống thiên_tai quy_định thế_nào, Rescaled Score: 8.0667\n",
      "ID: 653a8edc1e06875841d16cab, Document: thất_nghiệp miễn đóng quỹ phòng_chống thiên_tai, Rescaled Score: 8.0667\n",
      "ID: 653a85b21e06875841d1308f, Document: tháo_dỡ công_trình thủy_lợi phòng_chống thiên_tai thực_hiện_trường_hợp, Rescaled Score: 8.0667\n",
      "ID: 653a8af21e06875841d15aa9, Document: công_ty nước_ngoài đóng qũy phòng_chống thiên_tai, Rescaled Score: 8.0667\n",
      "ID: 653a87ea1e06875841d14c41, Document: lồng_ghép nội_dung phòng_chống thiên_tai quy_hoạch kế_hoạch, Rescaled Score: 8.0667\n",
      "ID: 653a89271e06875841d153b5, Document: nhiệm_vụ ban chỉ_đạo quốc_gia phòng_chống thiên_tai, Rescaled Score: 8.0667\n",
      "ID: 653a89421e06875841d15447, Document: nội_dung kế_hoạch phòng_chống thiên_tai tỉnh nội_dung, Rescaled Score: 8.0667\n",
      "ID: 653a85e71e06875841d132bb, Document: đóng quỹ phòng_chống thiên_tai lao_động bao_nhiêu, Rescaled Score: 8.0667\n",
      "ID: 653a92bd1e06875841d18231, Document: quy_trình thực_hiện lồng_ghép nội_dung phòng_chống thiên_tai quy_hoạch kế_hoạch kinh_tế xã_hội quy_định thế_nào, Rescaled Score: 8.0458\n",
      "ID: 653a868a1e06875841d13a9d, Document: kế_hoạch hoạt_động phòng_chống thiên_tai tìm_kiếm cứu nạn y_tế 2023 kinh_phí thực_hiện thế_nào, Rescaled Score: 8.0458\n",
      "ID: 653a87cf1e06875841d14ae7, Document: tổ_chức thông_báo báo_động cảnh_báo kịp_thời động_đất sóng_thần_thế_nào, Rescaled Score: 8.0412\n"
     ]
    }
   ],
   "source": [
    "target_min = 0\n",
    "target_max = 10\n",
    "\n",
    "rescaled_scores = [score * (target_max / max(doc_scores)) for score in doc_scores]\n",
    "\n",
    "for i, (doc_dict, score) in enumerate(zip(top_docs, rescaled_scores)):\n",
    "    doc_id = doc_dict['id']\n",
    "    doc_title = doc_dict['title']\n",
    "    print(f\"ID: {doc_id}, Document: {doc_title}, Rescaled Score: {score:.4f}\")\n"
   ],
   "metadata": {
    "collapsed": false,
    "ExecuteTime": {
     "start_time": "2024-01-18T01:23:53.774728Z",
     "end_time": "2024-01-18T01:23:53.788890Z"
    }
   }
  },
  {
   "cell_type": "code",
   "execution_count": 8,
   "outputs": [],
   "source": [
    "# doc_scores = rescaled_scores"
   ],
   "metadata": {
    "collapsed": false,
    "ExecuteTime": {
     "start_time": "2024-01-18T01:23:53.786918Z",
     "end_time": "2024-01-18T01:23:53.793886Z"
    }
   }
  },
  {
   "cell_type": "code",
   "execution_count": 9,
   "outputs": [
    {
     "name": "stdout",
     "output_type": "stream",
     "text": [
      "tổ chức thực hiện trách nhiệm thông báo phòng chống xảy thiên tai\n"
     ]
    }
   ],
   "source": [
    "query_sbert = query.replace('_', ' ')\n",
    "print(query_sbert)"
   ],
   "metadata": {
    "collapsed": false,
    "ExecuteTime": {
     "start_time": "2024-01-18T01:23:53.791884Z",
     "end_time": "2024-01-18T01:23:53.845509Z"
    }
   }
  },
  {
   "cell_type": "code",
   "execution_count": 10,
   "outputs": [],
   "source": [
    "df = pd.read_json('data/cleaned/temp.jsonl', lines=True)"
   ],
   "metadata": {
    "collapsed": false,
    "ExecuteTime": {
     "start_time": "2024-01-18T01:23:53.803516Z",
     "end_time": "2024-01-18T01:23:54.179488Z"
    }
   }
  },
  {
   "cell_type": "code",
   "execution_count": 11,
   "outputs": [],
   "source": [
    "doc_ids = [doc_dict['id'] for doc_dict in top_docs]\n",
    "selected_rows = df[df['_id'].isin(doc_ids)]"
   ],
   "metadata": {
    "collapsed": false,
    "ExecuteTime": {
     "start_time": "2024-01-18T01:23:54.181489Z",
     "end_time": "2024-01-18T01:23:54.187507Z"
    }
   }
  },
  {
   "cell_type": "code",
   "execution_count": 12,
   "outputs": [],
   "source": [
    "sentences_title = []\n",
    "ids_title = []\n",
    "\n",
    "for idx in selected_rows.index:\n",
    "    sentences_title.append(selected_rows.at[idx, 'title'])\n",
    "    ids_title.append(selected_rows.at[idx, '_id'])"
   ],
   "metadata": {
    "collapsed": false,
    "ExecuteTime": {
     "start_time": "2024-01-18T01:23:54.189522Z",
     "end_time": "2024-01-18T01:23:54.196531Z"
    }
   }
  },
  {
   "cell_type": "code",
   "execution_count": 13,
   "outputs": [],
   "source": [
    "model_title = SentenceTransformer('keepitreal/vietnamese-sbert')\n",
    "embeddings_title = model_title.encode(sentences_title)"
   ],
   "metadata": {
    "collapsed": false,
    "ExecuteTime": {
     "start_time": "2024-01-18T01:23:54.197529Z",
     "end_time": "2024-01-18T01:23:58.126326Z"
    }
   }
  },
  {
   "cell_type": "code",
   "execution_count": 14,
   "outputs": [],
   "source": [
    "query_embedding_title = model_title.encode([query_sbert], convert_to_tensor=True)\n",
    "query_embedding_title = query_embedding_title.cpu()"
   ],
   "metadata": {
    "collapsed": false,
    "ExecuteTime": {
     "start_time": "2024-01-18T01:23:58.130834Z",
     "end_time": "2024-01-18T01:23:58.155005Z"
    }
   }
  },
  {
   "cell_type": "code",
   "execution_count": 15,
   "outputs": [
    {
     "name": "stdout",
     "output_type": "stream",
     "text": [
      "ID: 653a89231e06875841d15391, Similarity Score: 0.7428, Sentence: tổ chức nhiệm vụ ban chỉ huy phòng chống thiên tai tìm kiếm cứu nạn huyện\n",
      "ID: 653a86321e06875841d13683, Similarity Score: 0.7327, Sentence: ban chỉ đạo quốc gia phòng chống thiên tai trách nhiệm thực hiện ứng phó sự cố thiên tai tìm kiếm cứu nạn\n",
      "ID: 653a89231e06875841d15393, Similarity Score: 0.7191, Sentence: tổ chức nhiệm vụ ban chỉ huy phòng chống thiên tai tìm kiếm cứu nạn tỉnh\n",
      "ID: 653a91681e06875841d17ad3, Similarity Score: 0.7129, Sentence: trách nhiệm ủy ban nhân dân ban chỉ huy phòng chống thiên tai tìm kiếm cứu nạn quy định\n",
      "ID: 653a9ebe1e06875841d1c26d, Similarity Score: 0.7106, Sentence: cơ quan trách nhiệm truyền phòng chống thiên tai\n",
      "ID: 653a89231e06875841d1538f, Similarity Score: 0.7079, Sentence: tổ chức nhiệm vụ ban chỉ huy phòng chống thiên tai tìm kiếm cứu nạn xã\n",
      "ID: 653a9a251e06875841d1ab0d, Similarity Score: 0.7016, Sentence: tổ chức nhiệm vụ ban chỉ huy phòng chống thiên tai tìm kiếm cứu nạn tỉnh huyện xã\n",
      "ID: 653a9c341e06875841d1b8c9, Similarity Score: 0.6894, Sentence: nội dung báo cáo định kỳ công tác phòng chống thiên tai\n",
      "ID: 653a9ebf1e06875841d1c283, Similarity Score: 0.6878, Sentence: cơ cấu tổ chức nhiệm vụ ban chỉ đạo trung ương phòng chống thiên tai\n",
      "ID: 653a89021e06875841d152d9, Similarity Score: 0.6863, Sentence: quy định trách nhiệm tổ chức thực hiện kế hoạch phòng chống thiên tai\n",
      "ID: 653a89241e06875841d153a3, Similarity Score: 0.6809, Sentence: tổ chức ban chỉ huy phòng chống thiên tai tìm kiếm cứu nạn cấp bộ quy định thế nào\n",
      "ID: 653a89271e06875841d153b5, Similarity Score: 0.6744, Sentence: nhiệm vụ ban chỉ đạo quốc gia phòng chống thiên tai\n",
      "ID: 653a8ce91e06875841d16377, Similarity Score: 0.6705, Sentence: tổ chức ban chỉ huy phòng chống thiên tai tìm kiếm cứu nạn cấp bộ thế nào\n",
      "ID: 653a868a1e06875841d13a9f, Similarity Score: 0.6678, Sentence: yêu cầu thực hiện kế hoạch hoạt động phòng chống thiên tai tìm kiếm cứu nạn y tế 2023\n",
      "ID: 653a8ce91e06875841d16375, Similarity Score: 0.6534, Sentence: nhiệm vụ ban chỉ đạo trung ương phòng chống thiên tai\n",
      "ID: 653a89241e06875841d153a1, Similarity Score: 0.6276, Sentence: cơ quan thường trực ban chỉ đạo quốc gia phòng chống thiên tai\n",
      "ID: 653a89231e06875841d1539d, Similarity Score: 0.6172, Sentence: ban chỉ đạo quốc gia phòng chống thiên tai thành lập\n",
      "ID: 653a8b4a1e06875841d15c47, Similarity Score: 0.6172, Sentence: phòng chống thiên tai ban chỉ đạo trung ương trách nhiệm\n",
      "ID: 653a85b21e06875841d1308d, Similarity Score: 0.5900, Sentence: phân cấp công trình thủy lợi phòng chống thiên tai\n",
      "ID: 653a93511e06875841d1871d, Similarity Score: 0.5872, Sentence: trách nhiệm cục đường thủy nội địa việt nam phòng chống thiên tai\n",
      "ID: 653a89281e06875841d153b9, Similarity Score: 0.5785, Sentence: cơ cấu tổ chức nhiệm vụ ban chỉ đạo quốc gia phòng chống thiên tai quy định thế nào\n",
      "ID: 653a89191e06875841d1533b, Similarity Score: 0.5784, Sentence: trách nhiệm tổ chức thực hiện kế hoạch phòng chống thiên tai huyện quy định thế nào\n",
      "ID: 653a8ce91e06875841d16373, Similarity Score: 0.5761, Sentence: ban chỉ đạo trung ương phòng chống thiên tai những ai\n",
      "ID: 653a893d1e06875841d15435, Similarity Score: 0.5760, Sentence: quy định trách nhiệm tổ chức thực hiện kế hoạch phòng chống thiên tai huyện quy định\n",
      "ID: 653a9ef01e06875841d1c49d, Similarity Score: 0.5735, Sentence: trách nhiệm ủy ban nhân dân liên quan quỹ phòng chống thiên tai\n",
      "ID: 653a86a41e06875841d13cf9, Similarity Score: 0.5725, Sentence: nhiệm vụ quỹ phòng chống thiên tai\n",
      "ID: 653a9ef51e06875841d1c4ad, Similarity Score: 0.5568, Sentence: phòng chống thiên tai\n",
      "ID: 653a881b1e06875841d14e19, Similarity Score: 0.5567, Sentence: vật tư chuyên dùng phòng chống thiên tai bao gồm\n",
      "ID: 653a893d1e06875841d15433, Similarity Score: 0.5564, Sentence: quy định nội dung biện pháp phòng chống thiên tai huyện\n",
      "ID: 653a8a361e06875841d157cd, Similarity Score: 0.5529, Sentence: lập dự toán kinh phí hoạt động ban chỉ huy phòng chống thiên tai thực hiện thế nào\n",
      "ID: 653a8b391e06875841d15be5, Similarity Score: 0.5488, Sentence: quy định trách nhiệm thông báo cháy rừng xảy\n",
      "ID: 653a8af21e06875841d15aa9, Similarity Score: 0.5480, Sentence: công ty nước ngoài đóng qũy phòng chống thiên tai\n",
      "ID: 653a9bca1e06875841d1b60f, Similarity Score: 0.5466, Sentence: trách nhiệm cơ quan thực hiện báo cáo thống kê đánh giá thiệt hại thiên tai\n",
      "ID: 653a868a1e06875841d13a9d, Similarity Score: 0.5438, Sentence: kế hoạch hoạt động phòng chống thiên tai tìm kiếm cứu nạn y tế 2023 kinh phí thực hiện thế nào\n",
      "ID: 653a89421e06875841d1544d, Similarity Score: 0.5413, Sentence: nội dung biện pháp phòng chống thiên tai tỉnh\n",
      "ID: 653a86a31e06875841d13cbf, Similarity Score: 0.5404, Sentence: báo cáo quyết toán quỹ phòng chống thiên tai tỉnh thực hiện thế nào\n",
      "ID: 653a881b1e06875841d14e17, Similarity Score: 0.5254, Sentence: trách nhiệm cơ quan tổ chức quản lý sử dụng vật tư phương tiện trang thiết bị chuyên dùng phòng chống thiên tai\n",
      "ID: 653a892e1e06875841d153e9, Similarity Score: 0.5226, Sentence: trách nhiệm tài chính đối với quỹ phòng chống thiên tai\n",
      "ID: 653a89421e06875841d1544f, Similarity Score: 0.5189, Sentence: nội dung kế hoạch phòng chống thiên tai huyện\n",
      "ID: 653a86a41e06875841d13cfd, Similarity Score: 0.5149, Sentence: tài chính quỹ phòng chống thiên tai\n",
      "ID: 653a87961e06875841d14891, Similarity Score: 0.5111, Sentence: dân quân tự vệ nhân lực phòng chống thiên tai\n",
      "ID: 653a92bc1e06875841d18223, Similarity Score: 0.5059, Sentence: vốn thực hiện nội dung lồng ghép phòng chống thiên tai quy định thế nào\n",
      "ID: 653a86a41e06875841d13cff, Similarity Score: 0.5028, Sentence: nội dung chi quỹ phòng chống thiên tai\n",
      "ID: 653a87cf1e06875841d14ae7, Similarity Score: 0.5017, Sentence: tổ chức thông báo báo động cảnh báo kịp thời động đất sóng thần thế nào\n",
      "ID: 653a9eec1e06875841d1c47f, Similarity Score: 0.4973, Sentence: thành lập quỹ phòng chống thiên tai quy định thế nào\n",
      "ID: 653a8c2a1e06875841d15f69, Similarity Score: 0.4968, Sentence: phân bổ quỹ phòng chống thiên tai tỉnh\n",
      "ID: 653a8e3d1e06875841d16a01, Similarity Score: 0.4929, Sentence: kinh phí phòng chống thiên tai lĩnh vực hàng hải\n",
      "ID: 653a86a31e06875841d13cc7, Similarity Score: 0.4919, Sentence: điều tiết quỹ phòng chống thiên tai trung ương quỹ tỉnh thực hiện thế nào\n",
      "ID: 653a8a7c1e06875841d15943, Similarity Score: 0.4905, Sentence: quỹ phòng chống thiên tai cơ quan quản lý\n",
      "ID: 653a87ea1e06875841d14c45, Similarity Score: 0.4870, Sentence: thực hiện lồng ghép nội dung phòng chống thiên tai quy hoạch phát triển kinh tế xã hội\n"
     ]
    }
   ],
   "source": [
    "similarities_title = cosine_similarity(query_embedding_title, embeddings_title)\n",
    "\n",
    "top_50_indices_title = np.argsort(similarities_title[0])[::-1][:50]\n",
    "\n",
    "for idx in top_50_indices_title:\n",
    "    similarity_score = similarities_title[0][idx]\n",
    "    similar_sentence = sentences_title[idx]\n",
    "    doc_id = ids_title[idx]\n",
    "    print(f\"ID: {doc_id}, Similarity Score: {similarity_score:.4f}, Sentence: {similar_sentence}\")"
   ],
   "metadata": {
    "collapsed": false,
    "ExecuteTime": {
     "start_time": "2024-01-18T01:23:58.153012Z",
     "end_time": "2024-01-18T01:23:58.197284Z"
    }
   }
  },
  {
   "cell_type": "code",
   "execution_count": 16,
   "outputs": [],
   "source": [
    "sentences_anwser = []\n",
    "ids_anwser = []\n",
    "\n",
    "for idx in selected_rows.index:\n",
    "    sentences_anwser.append(selected_rows.at[idx, 'answer'])\n",
    "    ids_anwser.append(selected_rows.at[idx, '_id'])"
   ],
   "metadata": {
    "collapsed": false,
    "ExecuteTime": {
     "start_time": "2024-01-18T01:23:58.189747Z",
     "end_time": "2024-01-18T01:23:58.198286Z"
    }
   }
  },
  {
   "cell_type": "code",
   "execution_count": 17,
   "outputs": [],
   "source": [
    "model_anwser = SentenceTransformer('keepitreal/vietnamese-sbert')\n",
    "embeddings_anwser = model_anwser.encode(sentences_anwser)"
   ],
   "metadata": {
    "collapsed": false,
    "ExecuteTime": {
     "start_time": "2024-01-18T01:23:58.198286Z",
     "end_time": "2024-01-18T01:24:01.836585Z"
    }
   }
  },
  {
   "cell_type": "code",
   "execution_count": 18,
   "outputs": [],
   "source": [
    "query_embedding_anwser = model_anwser.encode([query_sbert], convert_to_tensor=True)\n",
    "query_embedding_anwser = query_embedding_anwser.cpu()"
   ],
   "metadata": {
    "collapsed": false,
    "ExecuteTime": {
     "start_time": "2024-01-18T01:24:01.838783Z",
     "end_time": "2024-01-18T01:24:01.857631Z"
    }
   }
  },
  {
   "cell_type": "code",
   "execution_count": 19,
   "outputs": [
    {
     "name": "stdout",
     "output_type": "stream",
     "text": [
      "ID: 653a86a41e06875841d13cff, Similarity Score: 0.5955, Sentence: quỹ phòng chống thiên tai chi nội dung hỗ trợ hoạt động dự án khắc phục hậu quả phòng chống thiên tai hoạt động cảnh báo tuyên truyền thiên tai\n",
      "ID: 653a9ebe1e06875841d1c26d, Similarity Score: 0.5901, Sentence: cơ quan trách nhiệm truyền phòng chống thiên tai quy định 3 nghị định 66 2014 nđ cp hướng dẫn luật phòng chống thiên tai đài truyền hình việt nam đài tiếng nói việt nam trách nhiệm phát văn bản chỉ đạo ứng phó thiên tai thủ tướng chính phủ ban chỉ đạo trung ương phòng chống thiên tai ủy ban quốcgia tìm kiếm cứu nạn sóng truyền hình phát thanh ủy ban nhân dân trách nhiệm chỉ đạo tổ chức phổ biến kịp thời chính xác văn bản chỉ đạo chỉ huy ứng phó thiên tai thủ tướng chính phủ ban chỉ đạo trung ương phòng chống thiên tai ủy ban quốc gia tìm kiếm cứu nạn ban chỉ huy phòng chống thiên tai tìm kiếm cứu nạn địa bàn cơ quan ngang cơ quan chính phủ trách nhiệm chỉ đạo hệ thống thông tin chuyên ngành phát thông tin liên quan phòng chống thiên tai lĩnh vực quản lý quy định cơ quan trách nhiệm truyền phòng chống thiên tai vấn đề tham khảo nghị định 66 2014 nđ cp\n",
      "ID: 653a9ef51e06875841d1c4ad, Similarity Score: 0.5884, Sentence: căn cứ pháp lý 3 luật phòng chống thiên tai 2013 phòng chống thiên tai quá trình hệ thống bao gồm hoạt động phòng ngừa ứng phó khắc phục hậu quả thiên tai\n",
      "ID: 653a91681e06875841d17ad3, Similarity Score: 0.5881, Sentence: trách nhiệm ủy ban nhân dân ban chỉ huy phòng chống thiên tai tìm kiếm cứu nạn quy định khoản 2 28 nghị định 114 2018 nđ cp quản lý an toàn đập hồ chứa nước thủ tướng chính phủ ban hành nội dung tổ chức cứu hộ đập hồ chứa nước địa bàn tham gia cứu hộ đập hồ chứa nước địa phương quy định pháp luật quyết định thẩm quyền biện pháp xử lý khẩn cấp khắc phục hậu quả quy định pháp luật phòng chống thiên tai trường hợp xảy lũ ngập lụt sự cố đập thiệt hại hạ du đập địa bàn trường hợp khả năng thẩm quyền báo cáo kịp thời ban chỉ huy phòng chống thiên tai tìm kiếm cứu nạn ban chỉ đạo trung ương phòng chống thiên tai hỗ trợ xử lý nội dung trả lời trách nhiệm ủy ban nhân dân ban chỉ huy phòng chống thiên tai tìm kiếm cứu nạn thông tin vấn đề có thể tham khảo nghị định 114 2018 nđ cp\n",
      "ID: 653a89231e06875841d1539d, Similarity Score: 0.5532, Sentence: căn cứ khoản 1 25 nghị định 66 2021 nđ cp quy định ban chỉ đạo quốc gia phòng chống thiên tai thủ tướng chính phủ thành lập nhiệm vụ điều phối liên ngành giúp chính phủ thủ tướng chính phủ tổ chức chỉ đạo điều hành công tác phòng ngừa ứng phó khắc phục hậu quả thiên tai phạm vi ban chỉ đạo quốc gia phòng chống thiên tai sử dụng con dấu thực hiện nhiệm vụ ban thành viên ban hoạt động chế độ kiêm nhiệm\n",
      "ID: 653a8b4a1e06875841d15c47, Similarity Score: 0.5519, Sentence: quy định khoản 1 33 quyết định 03 2020 qđ ttg quy định trách nhiệm ban chỉ đạo trung ương phòng chống thiên tai tổ chức tiếp nhận xử lý báo động đất dự báo cảnh báo thiên tai chức năng nhiệm vụ giao chỉ đạo văn phòng thường trực ban chỉ đạo trung ương phòng chống thiên tai cập nhật cung cấp thông tin thực tế thiệt hại thiên tai cơ quan dự báo cảnh báo hằng cung cấp tổng cục khí tượng thủy văn trực thuộc tài nguyên môi trường thông tin tổng hợp thiên tai tình hình thiệt hại thiên tai cơ sở điều chỉnh bổ sung phân cấp độ rủi ro thiên tai phối hợp tài nguyên môi trường viện hàn lâm khoa học công nghệ việt nam đánh giá hiệu quả dự báo cảnh báo thiên tai kịp thời sử dụng kiến nghị điều chỉnh bổ sung nội dung phù hợp hoàn thiện hoạt động dự báo cảnh báo truyền thiên tai ban biên tập phản hồi thông tin\n",
      "ID: 653a893d1e06875841d15433, Similarity Score: 0.5512, Sentence: nội dung biện pháp phòng chống thiên tai huyện quy định 14 thông tư 02 2021 tt bnnptnt cụ thể nội dung biện pháp phòng chống thiên tai phù hợp loại hình thiên tai cấp độ rủi ro thiên tai xảy địa bàn chú ý đối tượng tổn thương xây dựng công trình phòng chống thiên tai địa phương phân cấp tổ chức thông tin tuyên truyền nâng nhận thức cộng đồng phòng chống thiên tai tổ chức xác định khu vực nguy hiểm loại hình thiên tai địa bàn xây dựng phương án ứng phó cấp độ rủi ro thiên tai loại hình thiên tai cụ thể địa phương xây dựng kế hoạch tổ chức thường trực công tác phòng chống thiên tai hằng xây dựng kế hoạch tổ chức tập huấn huấn luyện diễn tập kỹ năng phòng chống thiên tai biện pháp cơ bản phòng chống thiên tai huyện chi tiết phụ lục iv ban hành kèm thông tư\n",
      "ID: 653a86a51e06875841d13d23, Similarity Score: 0.5458, Sentence: thẩm quyền chi quỹ phòng chống thiên tai tỉnh ủy ban nhân dân tỉnh ban chỉ huy phòng chống thiên tai tìm kiếm cứu nạn tỉnh trách nhiệm tổng hợp thiệt hại nhu cầu hỗ trợ ủy ban nhân dân huyện cơ quan tổ chức liên quan tổ chức kiểm tra rà soát đề xuất trình chủ tịch ủy ban nhân dân tỉnh quyết định\n",
      "ID: 653a893d1e06875841d15435, Similarity Score: 0.5276, Sentence: trách nhiệm tổ chức thực hiện kế hoạch phòng chống thiên tai huyện quy định 16 thông tư 02 2021 tt bnnptnt cụ thể xác định nội dung nhiệm vụ cụ thể trách nhiệm tổ chức cá nhân thực hiện kiểm tra theo dõi thực hiện kế hoạch phòng chống thiên tai huyện nội dung tổ chức thực hiện nhiệm vụ cụ thể tiến độ thực hiện kế hoạch phòng chống thiên tai nguồn lực đảm bảo thực hiện nhiệm vụ giao kế hoạch phòng chống thiên tai lập kế hoạch thực hiện hằng thực hiện mục tiêu đề kế hoạch 05 rà soát đánh giá điều chỉnh kế hoạch phòng chống thiên tai 05\n",
      "ID: 653a89241e06875841d153a3, Similarity Score: 0.5273, Sentence: căn cứ khoản 4 26 nghị định 66 2021 nđ cp quy định tổ chức ban chỉ huy phòng chống thiên tai tìm kiếm cứu nạn cấp bộ a ban chỉ huy phòng chống thiên tai tìm kiếm cứu nạn cơ quan ngang cơ quan chính phủ lãnh đạo trưởng ban b căn cứ yêu cầu nhiệm vụ bộ trưởng thủ trưởng cơ quan ngang cơ quan trực thuộc chính phủ giao cơ quan chuyên môn tham mưu giúp bộ trưởng thủ trưởng cơ quan thực hiện nhiệm vụ quản lý phòng chống thiên tai phạm vi quản lý kiêm nhiệm vụ văn phòng thường trực ban chỉ huy phòng chống thiên tai tìm kiếm cứu nạn c ban chỉ huy phòng chống thiên tai tìm kiếm cứu nạn cấp bộ sử dụng con dấu sử dụng con dấu văn phòng thường trực con dấu kinh phí tài khoản hoạt động\n",
      "ID: 653a89191e06875841d1533b, Similarity Score: 0.5231, Sentence: 16 thông tư 02 2021 tt bnnptnt quy định trách nhiệm tổ chức thực hiện kế hoạch phòng chống thiên tai huyện xác định nội dung nhiệm vụ cụ thể trách nhiệm tổ chức cá nhân thực hiện kiểm tra theo dõi thực hiện kế hoạch phòng chống thiên tai huyện 1 nội dung tổ chức thực hiện nhiệm vụ cụ thể tiến độ thực hiện kế hoạch phòng chống thiên tai nguồn lực đảm bảo thực hiện nhiệm vụ giao kế hoạch phòng chống thiên tai 2 lập kế hoạch thực hiện hằng thực hiện mục tiêu đề kế hoạch 05 rà soát đánh giá điều chỉnh kế hoạch phòng chống thiên tai 05\n",
      "ID: 653a881b1e06875841d14e17, Similarity Score: 0.5231, Sentence: 6 quyết định quy định trách nhiệm cơ quan tổ chức 1 cơ quan trung ương địa phương a ban hành tiêu chuẩn định sử dụng vật tư phương tiện trang thiết bị chuyên dùng phòng chống thiên tai cơ quan tổ chức phạm vi quản lý quy định pháp luật quản lý sử dụng tài sản công b chủ động bố trí kinh phí phê duyệt tổ chức thực hiện kế hoạch mua sắm vật tư phương tiện trang thiết bị chuyên dùng phòng chống thiên tai cơ quan tổ chức phạm vi quản lý phù hợp chức năng nhiệm vụ giao quy định pháp luật c chỉ đạo theo dõi tổng hợp hiện trạng vật tư phương tiện trang thiết bị chuyên dùng phòng chống thiên tai cơ quan tổ chức phạm vi quản lý phục vụ công tác chỉ đạo điều hành phòng chống thiên tai hàng báo cáo ban chỉ huy phòng chống thiên tai tìm kiếm cứu nạn d hàng ban chỉ huy phòng chống thiên tai tìm kiếm cứu nạn tỉnh ngành báo cáo tổng hợp hiện trạng vật tư phương tiện trang thiết bị chuyên dùng phòng chống thiên tai cơ quan tổ chức phạm vi quản lý gửi ban chỉ đạo quốc gia phòng chống thiên tai ủy ban quốc gia ứng phó sự cố thiên tai tìm kiếm cứu nạn tổng hợp 2 văn phòng thường trực ban chỉ đạo quốc gia phòng chống thiên tai tổng hợp hiện trạng vật tư phương tiện trang thiết bị chuyên dùng phòng chống thiên tai ngành địa phương 31 3 hàng phục vụ công tác chỉ đạo điều hành phòng chống thiên tai ban chỉ đạo quốc gia phòng chống thiên tai 3 nông nghiệp phát triển nông thôn cơ quan thường trực ban chỉ đạo quốc gia phòng chống thiên tai a tổng hợp đề xuất ngành địa phương báo cáo thủ tướng chính phủ điều chỉnh bổ sung danh mục vật tư phương tiện trang thiết bị chuyên dùng phòng chống thiên tai b ban hành tiêu chuẩn định sử dụng bố trí kinh phí phê duyệt tổ chức thực hiện kế hoạch mua sắm vật tư phương tiện trang thiết bị chuyên dùng phòng chống thiên tai phục vụ công tác chỉ đạo điều hành ban chỉ đạo quốc gia phòng chống thiên tai phù hợp chức năng nhiệm vụ ban chỉ đạo quy định pháp luật 4 cơ quan phân công nhiệm vụ thường trực công tác phòng chống thiên tai tìm kiếm cứu nạn ngành địa phương tổ chức xây dựng kế hoạch mua sắm vật tư phương tiện trang thiết bị chuyên dùng phòng chống thiên tai phục vụ hoạt động phòng chống thiên tai trình thẩm quyền phê duyệt quy định pháp luật\n",
      "ID: 653a89021e06875841d152d9, Similarity Score: 0.5168, Sentence: trách nhiệm tổ chức thực hiện kế hoạch phòng chống thiên tai quy định 21 thông tư 02 2021 tt bnnptnt cụ thể ủy ban nhân dân xã xác định nội dung nhiệm vụ cụ thể tổ chức thực hiện kế hoạch phòng chống thiên tai tổ chức rà soát điều chỉnh kế hoạch phòng chống thiên tai 05 lập kế hoạch thực hiện hằng thực hiện mục tiêu đề kế hoạch 05 xác định trách nhiệm cụ thể thành viên ban chỉ huy phòng chống thiên tai tìm kiếm cứu nạn xã tổ chức cá nhân liên quan thực hiện nhiệm vụ kế hoạch phòng chống thiên tai xã\n",
      "ID: 653a86321e06875841d13683, Similarity Score: 0.5122, Sentence: như vậy thực hiện ứng phó sự cố thiên tai tìm kiếm cứu nạn thủ tướng chính phủ chỉ đạo ban chỉ đạo quốc gia phòng chống thiên tai trách nhiệm phối hợp ứng phó sự cố thiên tai tìm kiếm cứu nạn thống nhất biện pháp huy động lực lượng phương tiện vật tư trang thiết bị ứng phó tình huống thiên tai nhất là khu vực chia cắt sự cố thiên tai biển tổ chức đào tạo tập huấn nâng năng lực lực lượng xung kích phòng chống thiên tai xã chủ trì phối hợp ủy ban quốc gia ứng phó sự cố thiên tai tìm kiếm cứu nạn chỉ đạo hướng dẫn nâng năng lực văn phòng thường trực ban chỉ huy phòng thủ dân sự phòng chống thiên tai tìm kiếm cứu nạn\n",
      "ID: 653a86a41e06875841d13d03, Similarity Score: 0.4965, Sentence: công khai thông tin hoạt động quỹ phòng chống thiên tai cung cấp tổ chức cá nhân quy định pháp luật công bố trang thông tin điện tử trụ sở cơ quan quản lý quỹ trung ương thông tin cơ bản quỹ trung ương kế hoạch hoạt động báo cáo tài chính báo cáo quyết toán báo cáo kết quả thực hiện\n",
      "ID: 653a8ce91e06875841d16377, Similarity Score: 0.4945, Sentence: quy định khoản 4 19 nghị định 160 2018 nđ cp tổ chức ban chỉ huy phòng chống thiên tai tìm kiếm cứu nạn cấp bộ ban chỉ huy phòng chống thiên tai tìm kiếm cứu nạn nông nghiệp phát triển nông thôn giao thông vận tải xây dựng công thương thông tin truyền thông y tế giáo dục đào tạo lao động thương binh xã hội bộ trưởng trưởng ban ban chỉ huy phòng chống thiên tai tìm kiếm cứu nạn cơ quan ngang cơ quan chính phủ quy định khoản 1 2 trừ quy định a khoản 01 lãnh đạo cấp bộ trưởng ban căn cứ yêu cầu nhiệm vụ bộ trưởng thủ trưởng cơ quan ngang cơ quan chính phủ giao cơ quan chuyên môn tham mưu giúp bộ trưởng thủ trưởng cơ quan thực hiện nhiệm vụ quản lý phòng chống thiên tai phạm vi quản lý kiêm nhiệm vụ văn phòng thường trực ban chỉ huy phòng chống thiên tai tìm kiếm cứu nạn ban chỉ huy phòng chống thiên tai tìm kiếm cứu nạn cấp bộ sử dụng con dấu sử dụng con dấu văn phòng thường trực con dấu kinh phí tài khoản hoạt động quy định tổ chức ban chỉ huy phòng chống thiên tai tìm kiếm cứu nạn cấp bộ\n",
      "ID: 653a89281e06875841d153b9, Similarity Score: 0.4851, Sentence: căn cứ 25 nghị định 66 2021 nđ cp quy định cơ cấu tổ chức nhiệm vụ ban chỉ đạo quốc gia phòng chống thiên tai 1 ban chỉ đạo quốc gia phòng chống thiên tai thủ tướng chính phủ thành lập nhiệm vụ điều phối liên ngành giúp chính phủ thủ tướng chính phủ tổ chức chỉ đạo điều hành công tác phòng ngừa ứng phó khắc phục hậu quả thiên tai phạm vi ban chỉ đạo quốc gia phòng chống thiên tai sử dụng con dấu thực hiện nhiệm vụ ban thành viên ban hoạt động chế độ kiêm nhiệm 2 ban chỉ đạo quốc gia phòng chống thiên tai thành viên a thủ tướng chính phủ phó thủ tướng chính phủ trưởng ban cụ thể thủ tướng chính phủ quyết định b bộ trưởng nông nghiệp phát triển nông thôn phó trưởng ban thường trực phó trưởng ban thủ tướng chính phủ quyết định c ủy viên đại diện lãnh đạo cơ quan ngang cơ quan trực thuộc chính phủ đại diện lãnh đạo đài truyền hình việt nam đài tiếng nói việt nam thông tấn xã việt nam chánh văn phòng ủy ban quốc gia ứng phó sự cố thiên tai tìm kiếm cứu nạn d căn cứ yêu cầu công tác trưởng ban ban chỉ đạo quốc gia phòng chống thiên tai mời đại diện lãnh đạo cơ quan tổ chức liên quan ủy ban trung ương mặt trận tổ quốc việt nam trung ương hội liên hiệp phụ nữ việt nam trung ương đoàn thanh niên cộng sản hồ chí minh trung ương hội chữ thập đỏ việt nam cơ quan tổ chức liên quan tham gia ban chỉ đạo quốc gia phòng chống thiên tai 3 nông nghiệp phát triển nông thôn cơ quan thường trực ban chỉ đạo quốc gia phòng chống thiên tai sử dụng bộ máy tổng cục phòng chống thiên tai bố trí nhân lực trang thiết bị điều kiện cần thiết thực hiện nhiệm vụ văn phòng thường trực ban chỉ đạo quốc gia phòng chống thiên tai văn phòng thường trực ban chỉ đạo quốc gia phòng chống thiên tai con dấu kinh phí tài khoản kho bạc nhà nước hoạt động trưởng ban ban chỉ đạo quốc gia phòng chống thiên tai quy định chức năng nhiệm vụ quy chế hoạt động văn phòng thường trực ban chỉ đạo 4 nhiệm vụ ban chỉ đạo quốc gia phòng chống thiên tai a chỉ đạo đôn đốc xây dựng thực hiện chiến lược kế hoạch quốc gia chính sách pháp luật phòng chống thiên tai b chủ trì hướng dẫn xây dựng phương án ứng phó thiên tai c chỉ đạo điều phối ứng phó khắc phục hậu quả thiên tai phạm vi toàn quốc chỉ đạo ứng phó rủi ro thiên tai cấp độ 3 tham mưu chỉ đạo ứng phó rủi ro thiên tai cấp độ 4 5 điều phối hỗ trợ chỉ đạo địa phương ứng phó rủi ro thiên tai cấp độ 1 2 diễn biến phức tạp nguy cơ hậu quả nghiêm trọng d căn cứ diễn biến thiên tai yêu cầu thực tế quyết định biện pháp cấp bách huy động nguồn lực cơ quan ngang cơ quan chính phủ tổ chức cá nhân ứng phó khắc phục hậu quả thiên tai quy định luật phòng chống thiên tai nghị định đ chỉ đạo công tác thống kê thiệt hại nhu cầu hỗ trợ khẩn cấp phục hồi tái thiết địa phương ngành e tổng hợp xem xét đề xuất chính phủ thủ tướng chính phủ quyết định biện pháp sử dụng ngân sách trung ương nguồn lực hợp pháp phục vụ hoạt động ứng phó khẩn cấp khắc phục hậu quả thiên tai phạm vi g kiểm tra đôn đốc hướng dẫn ngành địa phương thực hiện hoạt động phòng chống thiên tai quy định pháp luật h chỉ đạo tổ chức huấn luyện đào tạo diễn tập tập huấn lực lượng tham gia hoạt động phòng chống thiên tai chỉ đạo triển khai tổ chức thực hiện giải pháp nâng năng lực dân sự hoạt động ứng phó thiên tai i chỉ đạo tổ chức thực hiện tăng cường cơ sở vật chất trang thiết bị vật tư phương tiện chuyên dùng xây dựng hệ thống cơ sở dữ liệu phục vụ hỗ trợ tham mưu quyết định chỉ đạo điều hành phòng chống thiên tai k tổ chức kêu gọi tiếp nhận triển khai khoản hỗ trợ khẩn cấp quốc tế tình huống khẩn cấp thiên tai l tổ chức hướng dẫn kiểm tra đôn đốc tổng hợp kết quả triển khai thực hiện nguồn lực hỗ trợ báo cáo thủ tướng chính phủ m chỉ đạo tổ chức xây dựng tài liệu hướng dẫn tập huấn phổ biến thông tin truyền thông qua nền tảng mạng xã hội nâng nhận thức cộng đồng phòng chống thiên tai hàng n hướng dẫn hoạt động lực lượng xung kích phòng chống thiên tai cơ sở o tham mưu thủ tướng chính phủ thành lập ban chỉ đạo tiền phương trực tiếp chỉ đạo điều hành hiện trường khu vực ảnh hưởng thiên tai tình huống đặc biệt p chủ trì xây dựng công bố sách trắng phòng chống thiên tai hàng q chỉ đạo xây dựng kế hoạch hoạt động kinh phí đảm bảo thực hiện nhiệm vụ hàng\n",
      "ID: 653a8b391e06875841d15be5, Similarity Score: 0.4843, Sentence: khoản 3 9 thông tư 25 2019 tt bnnptnt quy định trách nhiệm thông báo cháy rừng xảy chủ rừng kiểm lâm địa bàn trách nhiệm thông báo phát hiện vụ cháy rừng hạt kiểm lâm hạt kiểm lâm cập nhật thông báo chi cục kiểm lâm tỉnh chi cục kiểm lâm tỉnh cập nhật thông báo cục kiểm lâm nội dung thông báo thời gian địa điểm cháy rừng loài cháy diễn biến quy mô đám cháy nhận định tình huống khẩn cấp công tác tổ chức chữa cháy rừng thông báo thực hiện hình thức văn bản điện thoại nhắn thư điện tử phần mềm báo cáo lực lượng kiểm lâm phương tiện thông tin có thể ban biên tập thông tin\n",
      "ID: 653a86a41e06875841d13cf9, Similarity Score: 0.4819, Sentence: quỹ phòng chống thiên tai nhiệm vụ hỗ trợ hoạt động phòng chống thiên tai ngân sách nhà nước đầu tư đáp ứng yêu cầu tiếp nhận quản lý sử dụng tài chính thực hiện chế độ báo cáo kế toán quy định nghị định quy định pháp luật liên quan chấp hành thanh tra kiểm tra kiểm toán cơ quan nhà nước thẩm quyền quy định pháp luật công bố công khai quy chế hoạt động kết quả hoạt động quỹ phòng chống thiên tai báo cáo tình hình thực hiện quỹ quy định nghị định quy định pháp luật liên quan\n",
      "ID: 653a93511e06875841d1871d, Similarity Score: 0.4781, Sentence: trách nhiệm cục đường thủy nội địa việt nam phòng chống thiên tai quy định 4 thông tư 12 2018 tt bgtvt quy định công tác phòng chống thiên tai lĩnh vực đường thủy nội địa bộ trưởng giao thông vận tải ban hành hiệu lực 15 05 2018 trách nhiệm cục đường thủy nội địa việt nam phòng chống thiên tai 1 xây dựng tổ chức thực hiện kế hoạch phòng chống thiên tai hoạt động giao thông đường thủy nội địa quốc gia hàng phù hợp chức năng nhiệm vụ cục đường thủy nội địa việt nam quy định pháp luật phòng chống thiên tai 2 hướng dẫn chỉ đạo đôn đốc kiểm tra đơn vị trực thuộc lập thực hiện kế hoạch phòng chống thiên tai phạm vi quản lý 3 tổ chức trực phòng chống thiên tai quy định kịp thời thu nhận phổ biến thông tin triển khai biện pháp thực hiện chỉ thị hướng dẫn phòng chống thiên tai 4 tổng hợp thiệt hại thiên tai đề xuất biện pháp khắc phục báo cáo thẩm quyền quy định công tác phòng chống thiên tai tìm kiếm cứu nạn 5 tổng kết công tác phòng chống thiên tai hàng tư vấn trách nhiệm cục đường thủy nội địa việt nam phòng chống thiên tai thông tin chi tiết tham khảo thông tư 12 2018 tt bgtvt mong tư vấn chúng tôi giúp giải đáp vướng mắc chào thân ái chúc sức khỏe\n",
      "ID: 653a89421e06875841d1544d, Similarity Score: 0.4722, Sentence: nội dung biện pháp phòng chống thiên tai tỉnh quy định 8 thông tư 02 2021 tt bnnptnt cụ thể xác định nội dung biện pháp phòng chống thiên tai phù hợp cấp độ rủi ro thiên tai thiên tai cụ thể giảm thiểu rủi ro thiên tai chú ý khu vực nguy hiểm đối tượng tổn thương cụ thể biện pháp phòng ngừa giảm thiểu biện pháp công trình biện pháp phi công trình biện pháp ứng phó biện pháp khắc phục hậu quả thiên tai tập trung xây dựng kế hoạch quản lý lũ tổng hợp lưu vực sông tỉnh kế hoạch phòng chống bão siêu bão kế hoạch phòng chống lũ quét sạt lở đất kế hoạch phòng chống hạn hán xâm nhập mặn kế hoạch phòng chống sạt lở bờ sông mưa lũ dòng chảy sạt lở bờ biển\n",
      "ID: 653a9a251e06875841d1ab0d, Similarity Score: 0.4682, Sentence: quy định 8 nghị định 30 2017 nđ cp quy định tổ chức hoạt động ứng phó sự cố thiên tai tìm kiếm cứu nạn 1 cơ quan quân sự chủ trì tham mưu ủy ban nhân dân công tác ứng phó sự cố thiên tai tìm kiếm cứu nạn chỉ đạo quốc phòng chỉ huy quân sự tỉnh thành phố trực thuộc trung ương biên chế cán bộ chuyên trách thực hiện công tác ứng phó sự cố thiên tai tìm kiếm cứu nạn 2 cơ quan cảnh sát phòng cháy chữa cháy cứu nạn cứu hộ chủ trì tham mưu ủy ban nhân dân công tác ứng phó sự cố cháy cao tầng khu đô thị khu công nghiệp khu dân cư 3 tổ chức nhiệm vụ ban chỉ huy phòng chống thiên tai tìm kiếm cứu nạn tỉnh huyện xã thực hiện quy định 20 21 22 nghị định 66 2014 nđ cp 04 7 2014 chính phủ quy định chi tiết hướng dẫn thi hành một số luật phòng chống thiên tai quy định nghị định tư vấn ban biên tập thư ký luật tổ chức nhiệm vụ ban chỉ huy phòng chống thiên tai tìm kiếm cứu nạn tỉnh huyện xã tham khảo chi tiết nghị định 30 2017 nđ cp nắm quy định\n",
      "ID: 653a9ebf1e06875841d1c283, Similarity Score: 0.4633, Sentence: cơ cấu tổ chức nhiệm vụ ban chỉ đạo trung ương phòng chống thiên tai quy định 18 nghị định 66 2014 nđ cp hướng dẫn luật phòng chống thiên tai 1 ban chỉ đạo trung ương phòng chống thiên tai thủ tướng chính phủ thành lập nhiệm vụ điều phối liên ngành giúp chính phủ thủ tướng chính phủ tổ chức chỉ đạo điều hành công tác phòng ngừa ứng phó khắc phục hậu quả thiên tai phạm vi ban chỉ đạo trung ương phòng chống thiên tai sử dụng dấu quốc huy thực hiện nhiệm vụ ban thành viên ban hoạt động chế độ kiêm nhiệm 2 ban chỉ đạo trung ương phòng chống thiên tai thành viên a bộ trưởng nông nghiệp phát triển nông thôn trưởng ban b thứ trưởng nông nghiệp phát triển nông thôn phó trưởng ban thường trực c phó chủ nhiệm văn phòng chính phủ phó trưởng ban d phó chủ tịch thường trực ủy ban quốc gia tìm kiếm cứu nạn phó trưởng ban đ ủy viên ban đại diện lãnh đạo cơ quan ngang cơ quan chính phủ nông nghiệp phát triển nông thôn tài nguyên môi trường quốc phòng công an thông tin truyền thông công thương giao thông vận tải xây dựng giáo dục đào tạo y tế văn hóa thể thao du lịch ngoại giao lao động thương binh xã hội khoa học công nghệ kế hoạch đầu tư tài chính đài truyền hình việt nam đài tiếng nói việt nam đại diện lãnh đạo một số đơn vị nông nghiệp phát triển nông thôn tài nguyên môi trường quốc phòng ủy banquốc gia tìm kiếm cứu nạn viện hàn lâm khoa học công nghệ việt nam e căn cứ yêu cầu công tác trưởng ban ban chỉ đạo trung ương phòng chống thiên tai mời đại diện lãnh đạo tổ chức ủy ban trung ương mặt trận tổ quốc việt nam trung ương hội liên hiệp phụ nữ việt nam trung ương đoàn thanh niên cộng sản hồ chí minh trung ương hội chữ thập đỏ việt nam tổ chức liên quan tham gia ban chỉ đạo trung ương phòng chống thiên tai 3 nông nghiệp phát triển nông thôn cơ quan thường trực ban chỉ đạo trung ương phòng chống thiên tai thực hiện nhiệm vụ quản lý nhà nước phòng chống thiên tai thành lập bộ phận chuyên trách nhiệm vụ văn phòng thường trực ban chỉ đạo trung ương phòng chống thiên tai văn phòng thường trực ban chỉ đạo trung ương phòng chống thiên tai con dấu kinh phí tài khoản kho bạc nhà nước hoạt động bộ trưởng nông nghiệp phát triển nông thôn quy định chức năng nhiệm vụ văn phòng thường trực ban chỉ đạo trung ương phòng chống thiên tai 4 nhiệm vụ ban chỉ đạo trung ương phòng chống thiên tai a hướng dẫn xây dựng đôn đốc thực hiện chiến lược kế hoạch quốc gia chính sách pháp luật phòng chống thiên tai b hướng dẫn xây dựng phương án ứng phó thiên tai c chỉ đạo điều phối ứng phó khắc phục hậu quả thiên tai phạm vi toàn quốc chỉ đạo ứng phó thiên tai cấp độ 3 4 điều phối hỗ trợ địa phương ứng phó thiên tai cấp độ 1 2 d quyết định biện pháp cấp bách huy động nguồn lực cơ quan ngang cơ quan chính phủ tổ chức cá nhân ứng phó khắc phục hậu quả thiên tai quy định luật phòng chống thiên tai nghị định đ chỉ đạo thống kê số liệu thiệt hại nhu cầu cứu trợ địa phương cơ quan ngang cơ quan chính phủ đề xuất chính phủ thủ tướng chính phủ quyết định biện pháp nguồn lực khắc phục hậu quả thiên tai phạm vi e kiểm tra đôn đốc ngành địa phương thực hiện hoạt động phòng chống thiên tai quy định cơ cấu tổ chức nhiệm vụ ban chỉ đạo trung ương phòng chống thiên tai vấn đề tham khảo nghị định 66 2014 nđ cp\n",
      "ID: 653a87961e06875841d14891, Similarity Score: 0.4611, Sentence: căn cứ khoản 3 1 luật phòng chống thiên tai luật đê điều sửa đổi 2020 quy định nhân lực phòng chống thiên tai 1 nhân lực phòng chống thiên tai bao gồm a tổ chức hộ gia đình cá nhân địa bàn lực lượng tại chỗ thực hiện hoạt động phòng chống thiên tai b dân quân tự vệ lực lượng tại chỗ thực hiện nhiệm vụ phòng chống thiên tai phương án ứng phó thiên tai địa phương điều động thẩm quyền c quân đội nhân dân công an nhân dân trách nhiệm thực hiện nhiệm vụ phòng chống thiên tai lực lượng nòng cốt công tác sơ tán phương tiện tài sản cứu hộ cứu nạn bảo đảm an ninh trật tự an toàn xã hội điều động thẩm quyền d tổ chức cá nhân tình nguyện tham gia hỗ trợ hoạt động phòng chống thiên tai thực hiện nhiệm vụ phòng chống thiên tai chỉ huy thẩm quyền đ người làm công tác phòng chống thiên tai cơ quan nhà nước thực hiện nhiệm vụ phòng chống thiên tai 2 lực lượng xung kích phòng chống thiên tai xã thành lập xã hoạt động kiêm nhiệm chủ tịch ủy ban nhân dân xã quyết định cơ sở nhân lực quy định a b khoản 1 bao gồm dân quân thôn ấp làng buôn bon phum sóc tổ dân phố khu phố khối phố khóm tiểu khu dân quân xã tổ chức địa phương thực hiện nhiệm vụ phòng chống thiên tai phương án ứng phó thiên tai địa phương 3 chính phủ quy định chế độ chính sách đối với lực lượng xung kích phòng chống thiên tai xã quy định khoản 2 như vậy dân quân tự vệ nhân lực phòng chống bão phương án ứng phó thiên tai địa phương điều động thẩm quyền\n",
      "ID: 653a89021e06875841d152d7, Similarity Score: 0.4606, Sentence: trách nhiệm kinh phí xây dựng cập nhật kế hoạch phòng chống thiên tai ubnd huyện quy định khoản 2 22 thông tư 02 2021 tt bnnptnt cụ thể chỉ đạo phòng chuyên môn giao quản lý nhà nước phòng chống thiên tai chủ trì phối hợp phòng ban liên quan tổ chức thực hiện thu thập phân tích số liệu dự thảo tham mưu trình ủy ban nhân dân huyện phê duyệt kế hoạch phòng chống thiên tai 05 kế hoạch thực hiện hằng chủ trì phối hợp phòng ban liên quan xây dựng phương án ứng phó loại hình thiên tai cụ thể địa bàn đôn đốc kiểm tra xây dựng kế hoạch phòng chống thiên tai xã phạm vi quản lý xây dựng kế hoạch tổ chức thường trực công tác phòng chống thiên tai hằng chủ trì tổ chức xác định khu vực nguy hiểm loại hình thiên tai địa bàn phối hợp ban chỉ huy quân sự huyện phòng ban liên quan xây dựng kế hoạch tổ chức tập huấn huấn luyện diễn tập kỹ năng phòng chống thiên tai chỉ đạo phòng ban đơn vị liên quan chức năng nhiệm vụ phối hợp phòng chuyên môn giao quản lý nhà nước công tác phòng chống thiên tai xây dựng thực hiện cập nhật điều chỉnh kế hoạch phòng chống thiên tai địa phương\n",
      "ID: 653a85f61e06875841d1337f, Similarity Score: 0.4583, Sentence: căn cứ khoản 4 12 nghị định 66 2021 nđ cp quy định tình huống khẩn cấp thiên tai chủ tịch ủy ban nhân dân tỉnh bộ trưởng thủ trưởng cơ quan ngang trách nhiệm huy động nguồn lực ứng phó tình huống khẩn cấp biện pháp huy động lực lượng phương tiện nguồn lực cứu hộ cứu nạn tổ chức cấp cứu kịp thời nạn nhanh chóng sơ tán di dời nhân dân nguy hiểm bố trí đảm bảo hậu cần nhân dân sơ tán tổ chức tiếp nhận cấp cứu khám chữa bệnh cấp phát thuốc miễn phí nhân dân huy động cơ sở khám chữa bệnh tham gia cứu chữa nạn cấp phát miễn phí lương thực thực phẩm nhu yếu phẩm thiết yếu giúp nhân dân xử lý môi trường phòng chống dịch bệnh cung cấp nước sạch ổn định đời sống nhân dân quá trình ứng phó khắc phục hậu quả thiên tai huy động nguồn lực xử lý khẩn cấp sự cố công trình phòng chống thiên tai sự cố công trình xây dựng thiên tai biện pháp cần thiết trường hợp khả năng ứng phó ngành địa phương chủ tịch ủy ban nhân dân tỉnh bộ trưởng thủ trưởng cơ quan ngang báo cáo ban chỉ đạo quốc gia phòng chống thiên tai trình thủ tướng chính phủ xem xét hỗ trợ thẩm quyền\n",
      "ID: 653a87cf1e06875841d14ae7, Similarity Score: 0.4555, Sentence: tiết a tiểu mục 2 mục iii kế hoạch quốc gia ứng phó thảm họa động đất sóng thần kèm quyết định 645 qđ ttg 2022 quy định tổ chức thông báo báo động cảnh báo kịp thời động đất sóng thần a tổ chức thông báo báo động cảnh báo kịp thời ngành tổ chức kinh tế xã hội nhân dân địa phương động đất sóng thần quy định truyền cảnh báo báo động phương tiện thông tin đại chúng hệ thống thông tin mạng viễn thông tăng cường kết nối thông tin nắm bắt kịp thời diễn biến hậu quả động đất cảnh báo nguy cơ sóng thần đánh giá kịp thời quy mô diễn biến sự cố thảm họa động đất sóng thần xác định kịch bản ứng phó hiệu quả triển khai lực lượng phương tiện quan sát giám sát lực lượng giúp dân sơ tán cứu hộ cứu nạn khắc phục hậu quả\n",
      "ID: 653a8ce91e06875841d16375, Similarity Score: 0.4410, Sentence: quy định khoản 4 18 nghị định 160 2018 nđ cp nhiệm vụ ban chỉ đạo trung ương phòng chống thiên tai hướng dẫn xây dựng đôn đốc thực hiện chiến lược kế hoạch quốc gia chính sách pháp luật phòng chống thiên tai chủ trì hướng dẫn xây dựng phương án ứng phó thiên tai chỉ đạo điều phối ứng phó khắc phục hậu quả thiên tai phạm vi toàn quốc chỉ đạo ứng phó rủi ro thiên tai cấp độ 3 tham mưu chỉ đạo ứng phó rủi ro thiên tai cấp độ 4 5 điều phối hỗ trợ chỉ đạo địa phương ứng phó rủi ro thiên tai cấp độ 1 2 diễn biến phức tạp nguy cơ hậu quả nghiêm trọng căn cứ diễn biến thiên tai yêu cầu thực tế quyết định biện pháp cấp bách huy động nguồn lực cơ quan ngang cơ quan chính phủ tổ chức cá nhân ứng phó khắc phục hậu quả thiên tai quy định luật phòng chống thiên tai nghị định chỉ đạo công tác tổng hợp thiệt hại nhu cầu hỗ trợ khẩn cấp phục hồi tái thiết địa phương ngành đề xuất chính phủ thủ tướng chính phủ quyết định biện pháp sử dụng dự phòng ngân sách trung ương biện pháp nguồn lực hợp phục vụ hoạt động ứng phó khẩn cấp khắc phục hậu quả thiên tai phạm vi kiểm tra đôn đốc hướng dẫn ngành địa phương thực hiện hoạt động phòng chống thiên tai quy định pháp luật chỉ đạo tổ chức huấn luyện đào tạo diễn tập tập huấn lực lượng tham gia hoạt động phòng chống thiên tai chỉ đạo triển khai tổ chức thực hiện giải pháp nâng năng lực dân sự hoạt động ứng phó thiên tai chỉ đạo tổ chức thực hiện tăng cường cơ sở vật chất trang thiết bị vật tư phương tiện chuyên dùng xây dựng hệ thống cơ sở dữ liệu phục vụ hỗ trợ tham mưu quyết định chỉ đạo điều hành phòng chống thiên tai tổ chức kêu gọi tiếp nhận triển khai khoản hỗ trợ khẩn cấp tình huống khẩn cấp thiên tai đầu mối chỉ đạo điều phối công tác tiếp nhận phân phối cứu trợ khắc phục hậu quả thiên tai tổ chức hướng dẫn kiểm tra đôn đốc tổng hợp kết quả triển khai thực hiện nguồn lực hỗ trợ báo cáo thủ tướng chính phủ chỉ đạo tổ chức xây dựng tài liệu hướng dẫn tập huấn phổ biến truyền thông nâng nhận thức cộng đồng phòng chống thiên tai hàng hướng dẫn hoạt động lực lượng xung kích phòng chống thiên tai cơ sở quy định nhiệm vụ ban chỉ đạo trung ương phòng chống thiên tai\n",
      "ID: 653a89021e06875841d152d5, Similarity Score: 0.4350, Sentence: trách nhiệm kinh phí xây dựng cập nhật kế hoạch phòng chống thiên tai ubnd tỉnh quy định khoản 1 22 thông tư 02 2021 tt bnnptnt cụ thể chỉ đạo sở nông nghiệp phát triển nông thôn chủ trì phối hợp sở đơn vị liên quan tổ chức thực hiện thu thập phân tích số liệu dự thảo tham mưu trình ủy ban nhân dân tỉnh phê duyệt kế hoạch phòng chống thiên tai 05 kế hoạch thực hiện hằng chủ trì phối hợp đơn vị liên quan xây dựng bản đồ rủi ro thiên tai địa phương mô tả mức độ rủi ro thiên tai đối với loại hình thiên tai cụ thể ủy ban nhân dân tỉnh chỉ đạo sở cơ quan chức năng nhiệm vụ phối hợp sở nông nghiệp phát triển nông thôn xây dựng rà soát đề xuất điều chỉnh kế hoạch phòng chống thiên tai địa phương\n",
      "ID: 653a93511e06875841d1871b, Similarity Score: 0.4349, Sentence: khái niệm công trình phòng chống thiên tai đường thủy nội địa quy định khoản 1 3 thông tư 12 2018 tt bgtvt quy định công tác phòng chống thiên tai lĩnh vực đường thủy nội địa bộ trưởng giao thông vận tải ban hành hiệu lực 15 05 2018 công trình phòng chống thiên tai đường thủy nội địa kết cấu hạ tầng giao thông đường thủy nội địa xây dựng kiên cố tạm thời hạn chế nhẹ tác động thiên tai hoạt động giao thông đường thủy nội địa phục vụ việc dự báo cảnh báo chỉ huy chỉ đạo công tác phòng chống thiên tai đường thủy nội địa tư vấn khái niệm công trình phòng chống thiên tai đường thủy nội địa thông tin chi tiết tham khảo thông tư 12 2018 tt bgtvt mong tư vấn chúng tôi giúp giải đáp vướng mắc chào thân ái chúc sức khỏe\n",
      "ID: 653a8a361e06875841d157cd, Similarity Score: 0.4338, Sentence: lập dự toán kinh phí hoạt động ban chỉ huy phòng chống thiên tai tìm kiếm cứu nạn quy định khoản 1 5 thông tư 85 2020 tt btc cụ thể hàng thời gian lập dự toán ngân sách nhà nước cơ quan đơn vị giao nhiệm vụ ban chỉ đạo trung ương phòng chống thiên tai văn phòng thường trực ban chỉ đạo trung ương phòng chống thiên tai ban chỉ huy trách nhiệm lập dự toán nội dung chi chi quy định 3 4 thông tư tổng hợp dự toán chi thường xuyên cơ quan ngang cơ quan chính phủ ủy ban nhân dân gửi cơ quan tài chính trình thẩm quyền xem xét phê duyệt quy định luật ngân sách nhà nước văn bản hướng dẫn đối với ban chỉ đạo trung ương phòng chống thiên tai nông nghiệp phát triển nông thôn trách nhiệm tổng hợp kinh phí hoạt động ban chỉ đạo trung ương phòng chống thiên tai văn phòng thường trực ban chỉ đạo trung ương phòng chống thiên tai dự toán ngân sách nhà nước nông nghiệp phát triển nông thôn gửi tài chính tổng hợp báo cáo thẩm quyền quy định đối với ban chỉ huy cơ quan ngang cơ quan chính phủ trách nhiệm tổng hợp kinh phí hoạt động ban chỉ huy văn phòng thường trực cơ quan chuyên môn nhiệm vụ văn phòng thường trực ban chỉ huy dự toán ngân sách nhà nước cơ quan ngang cơ quan chính phủ gửi tài chính tổng hợp báo cáo thẩm quyền quy định đối với ban chỉ huy tỉnh huyện xã đối với kinh phí ban chỉ huy tỉnh cơ quan đơn vị giao thực hiện nhiệm vụ ban chỉ huy tỉnh lập dự toán kinh phí hoạt động phòng chống thiên tai nhiệm vụ giao gửi sở tài chính tổng hợp trình thẩm quyền quyết định đối với kinh phí ban chỉ huy huyện xã cơ quan đơn vị giao thực hiện nhiệm vụ thường trực ban chỉ huy huyện bộ phận thường trực ban chỉ huy xã lập dự toán kinh phí hoạt động phòng chống thiên tai tìm kiếm cứu nạn nhiệm vụ giao tổng hợp dự toán cơ quan đơn vị gửi cơ quan tài chính xem xét trình thẩm quyền quyết định ban biên tập phản hồi thông tin\n",
      "ID: 653a87ea1e06875841d14c41, Similarity Score: 0.4319, Sentence: căn cứ 2 thông tư 10 2021 tt bkhđt lồng ghép nội dung phòng chống thiên tai quy hoạch kế hoạch lựa chọn thực hiện biện pháp phòng chống thiên tai xác định kế hoạch phòng chống thiên tai kế hoạch thích ứng biến đổi khí hậu biện pháp phòng chống thiên tai thẩm quyền phê duyệt thực hiện nội dung quy hoạch kế hoạch nâng hiệu quả đầu tư thúc đẩy phát triển kinh tế xã hội\n",
      "ID: 653a92bd1e06875841d18231, Similarity Score: 0.4298, Sentence: quy trình thực hiện lồng ghép nội dung phòng chống thiên tai quy hoạch kế hoạch phát triển ngành kinh tế xã hội quy định 4 thông tư 05 2016 tt bkhđt hướng dẫn lồng ghép nội dung phòng chống thiên tai quy hoạch kế hoạch phát triển ngành kinh tế xã hội kế hoạch đầu tư ban hành nội dung rà soát đánh giá thực hiện nội dung phòng chống thiên tai thực hiện quy hoạch kế hoạch giai đoạn rà soát nghiên cứu văn bản pháp lý chương trình kế hoạch liên quan phòng chống thiên tai thích ứng biến đổi khí hậu rà soát nghiên cứu báo cáo dự báo xu thế thiên tai biến đổi khí hậu có thể tác động phát triển ngành kinh tế xã hội đánh giá tình hình thiên tai thiệt hại thiên tai đối với kinh tế xã hội môi trường kỳkế hoạch quy hoạch căn cứ báo cáo tổng kết công tác phòng chống thiên tai hàng 5 ngành địa phương dự báo xác định thiên tai xảy bao gồm tần suất cường độ số liệu thiệt hại thiên tai xác định thiên tai nguy hiểm thường xuyên xảy tác hại nặng nề tiến hành phân tích đánh giá mức độ thiệt hại thiên tai lĩnh vực phân tích tình trạng khả năng chống thiên tai đối tượng tổn thương tương lai kinh tế xã hội môi trường tình trạng tổn thương giới tính nam nữ thu nhập giàu nghèo độ cao tuổi trẻ trình độ nhận thức mật độ dân số tổn thương bao gồm nghèo trẻ em già cô đơn nữ chủ hộ khuyết tật dân tộc thiểu số cư trú khu vực tổn thương thiên tai đảo ven biển trũng ngập lụt lũ quét sạt lở đất dọc bờ sông kênh rạch nghề nghiệp tổn thương thiên tai nghề khai thác đánh bắt thủy hải sản sông biển nuôi trồng thủy hải sản sông rạch đầm bãi nghề vận tải đường thủy địa điểm du lịch hộ nghề nghiệp ổn định thường xuyên di chuyển kiếm việc làm xác định nguyên nhân bao gồm nguyên nhân khách quan nguyên nhân chủ quan thiệt hại lĩnh vực kinh tế xã hội môi trường chính xác thông tin dự báo cảnh báo khí tượng thủy văn kịp thời khả năng tiếp nhận thông tin dự báo cảnh báo cơ sở dân đặc biệt đối tượng tổn thương chủ động triển khai phương án phòng chống thiên tai phù hợp quy hoạch liên quan phòng chống thiên tai tiêu chuẩn quy chuẩn kỹ thuật an toàn phòng chống thiên tai công trình sẵn sàng trang thiết bị thông tin liên lạc cứu hộ cứu nạn tuân thủ quy định an toàn quản lý phương tiện tham gia giao thông thiên tai sẵn địa điểm trú bão an toàn tàu thuyền cấp cứu khu vực trọng yếu thiên tai công tác cứu hộ cứu nạn đối với con người tàu thuyền công trình ảnh hưởng trực tiếp thiên tai tình hình thực hiện phương châm “ bốn tại chỗ ” chỉ huy tại chỗ lực lượng tại chỗ phương tiện vật tư tại chỗ hậu cần tại chỗ năng lực kiểm tra giám sát chính quyền địa phương xác định giải pháp phòng chống thiên tai ưu tiên phù hợp loại hình thiên tai thường xuyên xảy giám sát đánh giá thực hiện lồng ghép nội dung đánh giá kết quả lồng ghép mức độ lồng ghép nội dung phòng chống thiên tai bao gồm biện pháp công trình phi công trình thích ứng biến đổi khí hậu chỉ tiêu phát triển kinh tế xã hội đề kế hoạch nguồn lực thực tế huy động đầu tư phòng chống thiên tai ứng phó biến đổi khí hậu hiệu quả đầu tư chương trình đề án dự án phòng chống thiên tai biến đổi khí hậu lĩnh vực địa phương quản lý so sánh thiệt hại vật chất thiên tai biến đổi khí hậu tổng sản phẩm địa bàn grdp giá trị sản xuất địa phương ngành thực hiện lồng ghép tác động thiên tai biến đổi khí hậu đối với vấn đề xã hội thiệt hại tài sản vấn đề gia đình ảnh hưởng thiên tai tình hình đói nghèo sinh kế dân tình hình dịch bệnh dịch vụ y tế mức độ ảnh hưởng học hành học sinh mức độ đóng góp dân khôi phục trường học bệnh xá hư hỏng chuyển biến thực hiện lồng ghép tác động tiêu cực môi trường thiên tai biến đổi khí hậu thực hiện lồng ghép nhận thức cộng đồng phòng chống thiên tai biến đổi khí hậu số lượng quy hoạch chương trình dự án lồng ghép lồng ghép nội dung phòng chống thiên tai biến đổi khí hậu thời gian thực hiện đánh giá kết quả lồng ghép đối với quy hoạch thực hiện 1 4 kỳ quy hoạch kết thúc kỳ quy hoạch đánh giá đối với kế hoạch đánh giá 01 tổng kết kết hợp đánh giá kết quả thực hiện kế hoạch xây dựng kế hoạch kết thúc kế hoạch 5 đánh giá kết hợp đánh giá kết quả thực hiện kế hoạch 5 chuẩn bị xây dựng kế hoạch 5 nội dung trả lời quy trình thực hiện lồng ghép nội dung phòng chống thiên tai quy hoạch kế hoạch phát triển ngành kinh tế xã hội có thể tìm hiểu thông tin vấn đề thông tư 05 2016 tt bkhđt\n",
      "ID: 653a89241e06875841d153a1, Similarity Score: 0.4290, Sentence: căn cứ khoản 3 25 nghị định 66 2021 nđ cp quy định nông nghiệp phát triển nông thôn cơ quan thường trực ban chỉ đạo quốc gia phòng chống thiên tai sử dụng bộ máy tổng cục phòng chống thiên tai bố trí nhân lực trang thiết bị điều kiện cần thiết thực hiện nhiệm vụ văn phòng thường trực ban chỉ đạo quốc gia phòng chống thiên tai văn phòng thường trực ban chỉ đạo quốc gia phòng chống thiên tai con dấu kinh phí tài khoản kho bạc nhà nước hoạt động trưởng ban ban chỉ đạo quốc gia phòng chống thiên tai quy định chức năng nhiệm vụ quy chế hoạt động văn phòng thường trực ban chỉ đạo\n",
      "ID: 653a8ce91e06875841d16373, Similarity Score: 0.4274, Sentence: quy định khoản 2 18 nghị định 160 2018 nđ cp ban chỉ đạo trung ương phòng chống thiên tai thành viên phó thủ tướng chính phủ trưởng ban phó trưởng ban phó trưởng ban thường trực bộ trưởng nông nghiệp phát triển nông thôn 01 lãnh đạo quốc phòng tổng cục trưởng tổng cục phòng chống thiên tai ủy viên bộ trưởng công thương giao thông vận tải thông tin truyền thông xây dựng lao động thương binh xã hội tài chính kế hoạch đầu tư đại diện lãnh đạo một số cơ quan ngang cơ quan chính phủ tổng giám đốc đài truyền hình việt nam tổng giám đốc đài tiếng nói việt nam tổng giám đốc thông tấn xã việt nam tổng cục trưởng tổng cục phòng chống thiên tai chánh văn phòng ủy ban quốc gia ứng phó sự cố thiên tai tìm kiếm cứu nạn căn cứ yêu cầu công tác trưởng ban ban chỉ đạo trung ương phòng chống thiên tai quyết định mời đại diện lãnh đạo cơ quan tổ chức liên quan ủy ban trung ương mặt trận tổ quốc việt nam trung ương hội liên hiệp phụ nữ việt nam trung ương đoàn thanh niên cộng sản hồ chí minh trung ương hội chữ thập đỏ việt nam cơ quan tổ chức liên quan tham gia ban chỉ đạo trung ương phòng chống thiên tai quy định ban chỉ đạo trung ương phòng chống thiên tai\n",
      "ID: 653a8ea21e06875841d16bb9, Similarity Score: 0.4273, Sentence: 16 thông tư 12 2018 tt bgtvt quy định công tác phòng chống thiên tai lĩnh vực đường thủy nội địa bộ trưởng giao thông vận tải ban hành quy định xử lý tình huống thiên tai xảy 1 thiên tai xảy lãnh đạo cơ quan đơn vị quản lý thực hiện nhiệm vụ phòng chống thiên tai giao thông đường thủy nội địa doanh nghiệp chủ động điều hành bộ máy thực hiện kế hoạch chuẩn bị phương án thích hợp xử lý sự cố đảm bảo hiệu quả 2 tuân thủ nguyên tắc 4 tại chỗ lực lượng phương tiện hậu cần chỉ huy phối hợp chặt chẽ lực lượng phòng chống thiên tai địa phương hiệp đồng thực hiện 3 trường hợp xảy sự cố nghiêm trọng khả năng nhân lực vật tư trang thiết bị đơn vị nhanh chóng báo cáo chỉ đạo huy động thông báo cơ quan đơn vị liên quan chi viện hỗ trợ hạn chế thiệt hại thiên tai 4 huy động lực lượng xung kích trang thiết bị phương tiện vận tải triển khai cứu tài sản phương tiện công trình xảy thiên tai 5 bảo đảm thông tin thông suốt chỉ đạo điều hành trực tiếp cơ quan đơn vị đối với đơn vị tổng hợp báo cáo diễn biến sự cố thiên tai thiệt hại cơ quan đơn vị quy định nội dung tư vấn\n",
      "ID: 653a89231e06875841d15391, Similarity Score: 0.4180, Sentence: căn cứ 28 nghị định 66 2021 nđ cp quy định tổ chức nhiệm vụ ban chỉ huy phòng chống thiên tai tìm kiếm cứu nạn huyện 1 ban chỉ huy phòng chống thiên tai tìm kiếm cứu nạn huyện chủ tịch ủy ban nhân dân huyện thành lập chức năng tham mưu giúp ủy ban nhân dân huyện kiểm tra đôn đốc chỉ huy điều hành công tác phòng chống thiên tai tìm kiếm cứu nạn phạm vi địa phương ban chỉ huy phòng chống thiên tai tìm kiếm cứu nạn huyện con dấu tài khoản kinh phí hoạt động 2 thành viên ban chỉ huy phòng chống thiên tai tìm kiếm cứu nạn huyện a chủ tịch ủy ban nhân dân huyện trưởng ban b phó chủ tịch ủy ban nhân dân huyện phó trưởng ban thường trực c trưởng phòng thủ trưởng cơ quan giao nhiệm vụ quản lý nhà nước phòng chống thiên tai chỉ huy trưởng ban chỉ huy quân sự huyện trưởng công an huyện phó trưởng ban d ủy viên trưởng đại diện lãnh đạo phòng cơ quan đơn vị liên quan công tác phòng chống thiên tai tìm kiếm cứu nạn địa phương lãnh đạo mặt trận tổ quốc hội phụ nữ chữ thập đỏ đoàn thanh niên cộng sản hồ chí minh tổ chức đoàn thể xã hội huyện tham gia ban chỉ huy phòng chống thiên tai tìm kiếm cứu nạn 3 căn cứ điều kiện cụ thể địa phương chủ tịch ủy ban nhân dân huyện quyết định giao trách nhiệm phòng chức năng ủy ban nhân dân huyện nhiệm vụ văn phòng thường trực ban chỉ huy phòng chống thiên tai tìm kiếm cứu nạn 4 nhiệm vụ ban chỉ huy phòng chống thiên tai tìm kiếm cứu nạn huyện a tham mưu giúp ủy ban nhân dân huyện thực hiện nhiệm vụ phòng chống thiên tai quy định khoản 1 43 luật phòng chống thiên tai b chỉ đạo đôn đốc xây dựng trình phê duyệt kế hoạch phương án ứng phó thiên tai địa phương c chỉ huy tổ chức ứng phó thiên tai tìm kiếm cứu nạn thiên tai phạm vi huyện d kiểm tra đôn đốc cơ quan đơn vị địa phương thực hiện nhiệm vụ phòng chống thiên tai đ giúp ủy ban nhân dân huyện chỉ đạo kiểm tra tổng hợp báo cáo công tác thống kê đánh giá thiệt hại khắc phục hậu quả phục hồi tái thiết thiên tai e tổ chức tập huấn lực lượng tham gia hoạt động phòng chống thiên tai tìm kiếm cứu nạn g tổ chức phổ biến tuyên truyền hoạt động nâng nhận thức cộng đồng phòng chống thiên tai h thực hiện nội dung quỹ phòng chống thiên tai quy định\n",
      "ID: 653a89271e06875841d153b5, Similarity Score: 0.4169, Sentence: căn cứ khoản 4 25 nghị định 66 2021 nđ cp quy định nhiệm vụ ban chỉ đạo quốc gia phòng chống thiên tai a chỉ đạo đôn đốc xây dựng thực hiện chiến lược kế hoạch quốc gia chính sách pháp luật phòng chống thiên tai b chủ trì hướng dẫn xây dựng phương án ứng phó thiên tai c chỉ đạo điều phối ứng phó khắc phục hậu quả thiên tai phạm vi toàn quốc chỉ đạo ứng phó rủi ro thiên tai cấp độ 3 tham mưu chỉ đạo ứng phó rủi ro thiên tai cấp độ 4 5 điều phối hỗ trợ chỉ đạo địa phương ứng phó rủi ro thiên tai cấp độ 1 2 diễn biến phức tạp nguy cơ hậu quả nghiêm trọng d căn cứ diễn biến thiên tai yêu cầu thực tế quyết định biện pháp cấp bách huy động nguồn lực cơ quan ngang cơ quan chính phủ tổ chức cá nhân ứng phó khắc phục hậu quả thiên tai quy định luật phòng chống thiên tai nghị định đ chỉ đạo công tác thống kê thiệt hại nhu cầu hỗ trợ khẩn cấp phục hồi tái thiết địa phương ngành e tổng hợp xem xét đề xuất chính phủ thủ tướng chính phủ quyết định biện pháp sử dụng ngân sách trung ương nguồn lực hợp pháp phục vụ hoạt động ứng phó khẩn cấp khắc phục hậu quả thiên tai phạm vi g kiểm tra đôn đốc hướng dẫn ngành địa phương thực hiện hoạt động phòng chống thiên tai quy định pháp luật h chỉ đạo tổ chức huấn luyện đào tạo diễn tập tập huấn lực lượng tham gia hoạt động phòng chống thiên tai chỉ đạo triển khai tổ chức thực hiện giải pháp nâng năng lực dân sự hoạt động ứng phó thiên tai i chỉ đạo tổ chức thực hiện tăng cường cơ sở vật chất trang thiết bị vật tư phương tiện chuyên dùng xây dựng hệ thống cơ sở dữ liệu phục vụ hỗ trợ tham mưu quyết định chỉ đạo điều hành phòng chống thiên tai k tổ chức kêu gọi tiếp nhận triển khai khoản hỗ trợ khẩn cấp quốc tế tình huống khẩn cấp thiên tai l tổ chức hướng dẫn kiểm tra đôn đốc tổng hợp kết quả triển khai thực hiện nguồn lực hỗ trợ báo cáo thủ tướng chính phủ m chỉ đạo tổ chức xây dựng tài liệu hướng dẫn tập huấn phổ biến thông tin truyền thông qua nền tảng mạng xã hội nâng nhận thức cộng đồng phòng chống thiên tai hàng n hướng dẫn hoạt động lực lượng xung kích phòng chống thiên tai cơ sở o tham mưu thủ tướng chính phủ thành lập ban chỉ đạo tiền phương trực tiếp chỉ đạo điều hành hiện trường khu vực ảnh hưởng thiên tai tình huống đặc biệt p chủ trì xây dựng công bố sách trắng phòng chống thiên tai hàng q chỉ đạo xây dựng kế hoạch hoạt động kinh phí đảm bảo thực hiện nhiệm vụ hàng\n",
      "ID: 653a87961e06875841d14893, Similarity Score: 0.4154, Sentence: 14 luật phòng chống thiên tai 2013 chiến lược quốc gia phòng chống thiên tai 1 chiến lược quốc gia phòng chống thiên tai xây dựng chu kỳ 10 tầm 20 cập nhật điều chỉnh định kỳ 05 biến động thiên tai 2 chiến lược quốc gia phòng chống thiên tai xác định mục tiêu nhiệm vụ giải pháp chương trình đề án dự án trọng điểm tổ chức thực hiện phòng chống thiên tai phạm vi 3 chiến lược quốc gia phòng chống thiên tai xây dựng cơ sở a chủ trương đường lối đảng chính sách pháp luật nhà nước phòng chống thiên tai phát triển kinh tế xã hội b thực tiễn hoạt động phòng chống thiên tai quốc gia c kết quả xác định đánh giá phân vùng rủi ro thiên tai diễn biến thiên tai biến đổi khí hậu d nguồn lực hoạt động phòng chống thiên tai đ nhu cầu khả năng thích ứng cộng đồng thiên tai 4 nông nghiệp phát triển nông thôn chủ trì phối hợp cơ quan ngang cơ quan chính phủ địa phương xây dựng trình thủ tướng chính phủ phê duyệt chiến lược quốc gia phòng chống thiên tai\n",
      "ID: 653a86a31e06875841d13cc7, Similarity Score: 0.4134, Sentence: cơ quan quản lý quỹ trung ương tổng hợp nhu cầu cứu trợ hỗ trợ địa phương thông qua báo cáo quỹ tỉnh đề xuất chủ tịch hội đồng quản lý quỹ trung ương xem xét hỗ trợ kinh phí quỹ trung ương địa phương khắc phục hậu quả thiên tai\n",
      "ID: 653a8d3d1e06875841d1650b, Similarity Score: 0.4093, Sentence: tổ chức thực hiện hỗ trợ kinh phí địa phương khắc phục hậu quả thiên tai quy định 6 quyết định 01 2016 qđ ttg cơ chế quy trình hỗ trợ kinh phí địa phương khắc phục hậu quả thiên tai thủ tướng chính phủ ban hành cụ thể 1 nông nghiệp phát triển nông thôn a chỉ đạo ủy ban nhân dân tỉnh thành phố trực thuộc trung ương tổng hợp thống kê đánh giá thiệt hại kiểm tra kết quả đánh giá thiệt hại thiên tai báo cáo thủ tướng chính phủ nông nghiệp phát triển nông thôn b tổng hợp đánh giá thiệt hại thiên tai phạm vi báo cáo thủ tướng chính phủ công bố số liệu thiệt hại thiên tai 2 ban chỉ đạo trung ương phòng chống thiên tai tổng hợp tình hình thiệt hại xác định thiệt hại thiên tai trách nhiệm khắc phục hậu quả thiên tai địa phương nhu cầu cứu trợ hỗ trợ địa phương nguồn lực địa phương sử dụng khắc phục hậu quả thiên tai đề xuất thủ tướng chính phủ quyết định sử dụng dự phòng ngân sách trung ương hỗ trợ địa phương 3 tài chính a theo dõi tổng hợp tình hình sử dụng dự phòng địa phương dự phòng ngân sách trung ương thực hiện bổ sung kinh phí kịp thời địa phương quyết định thủ tướng chính phủ b chủ trì phối hợp cơ quan liên quan tổ chức kiểm tra tình hình phân bổ sử dụng kinh phí khắc phục hậu quả thiên tai địa phương tổng hợp kết quả thực hiện báo cáo thủ tướng chính phủ 4 kế hoạch đầu tư lao động thương binh xã hội ngành liên quan phạm vi chức năng quyền hạn trách nhiệm tổ chức kiểm tra kết quả thống kê đánh giá thiệt hại phạm vi quản lý đề xuất phương án khắc phục hậu quả thiên tai quy định pháp luật phòng chống thiên tai 5 chủ tịch ủy ban nhân dân tỉnh thành phố trực thuộc trung ương a tổng hợp báo cáo đánh giá tình hình thiệt hại thiên tai địa bàn báo cáo ban chỉ đạo trung ương phòng chống thiên tai ngành liên quan báo cáo sử dụng dự phòng ngân sách địa phương quy định khoản 1 3 quyết định b chủ động sử dụng ngân sách địa phương dự phòng ngân sách địa phương quỹ phòng chống thiên tai huy động tài chính hợp pháp khắc phục hậu quả thiên tai xảy ổn định đời sống nhân dân khôi phục sản xuất c chậm 30 thông báo bổ sung kinh phí tài chính báo cáo văn bản gửi ban chỉ đạo trung ương phòng chống thiên tai tài chính kế hoạch đầu tư lao động thương binh xã hội tiếp nhận phân bổ kinh phí hỗ trợ khắc phục hậu quả thiên tai kinh phí hỗ trợ ngân sách trung ương d thực hiện phân bổ quản lý sử dụng kinh phí hỗ trợ đảm bảo mục đích đối tượng hiệu quả trường hợp kinh phí ngân sách trung ương hỗ trợ sử dụng đối tượng nội dung quyết định thủ tướng chính phủ thực hiện thu hồi ngân sách trung ương ban biên tập phản hồi thông tin\n",
      "ID: 653a890b1e06875841d152f7, Similarity Score: 0.4052, Sentence: trách nhiệm kinh phí xây dựng cập nhật kế hoạch phòng chống thiên tai ubnd xã quy định khoản 3 22 thông tư 02 2021 tt bnnptnt cụ thể chỉ đạo công chức giao quản lý nhà nước công tác phòng chống thiên tai chủ trì phối hợp tổ chức cá nhân liên quan thực hiện thu thập phân tích số liệu xây dựng dự thảo kế hoạch tham mưu trình ủy ban nhân dân xã phê duyệt kế hoạch phòng chống thiên tai 05 kế hoạch thực hiện hằng phối hợp công chức tài chính kế toán tham mưu đề xuất nhu cầu nguồn lực kinh phí thực hiện kế hoạch chỉ đạo công chức cơ quan chức năng nhiệm vụ phối hợp xây dựng cập nhật điều chỉnh kế hoạch phòng chống thiên tai địa phương\n",
      "ID: 653a9c341e06875841d1b8c9, Similarity Score: 0.4049, Sentence: nội dung báo cáo định kỳ công tác phòng chống thiên tai hướng dẫn khoản 3 8 thông tư liên tịch 43 2015 ttlt bnnptnt bkhđt hướng dẫn thống kê đánh giá thiệt hại thiên tai bộ trưởng nông nghiệp phát triển nông thôn kế hoạch đầu tư ban hành báo cáo định kỳ công tác phòng chống thiên tai báo cáo sơ kết sáu báo cáo tổng kết bao gồm a tóm tắt tình hình thiên tai xảy địa bàn nêu xuất hiện bao nhiêu đợt thiên tai xuất hiện thiên tai b công tác chỉ huy ứng phó nêu chỉ huy triển khai phòng ngừa ứng phó khắc phục hậu quả kết quả c thống kê đánh giá thiệt hại trình bày thống kê đánh giá chỉ tiêu thiệt hại thời gian báo cáo định kỳ giáo dục y tế nông nghiệp thủy lợi giao thông một số chỉ tiêu ước tổng giá trị thiệt hại phần biểu thống kê biểu mẫu 07 tkth 08 tkth phụ lục i ước giá trị thiệt hại tiền đối với chỉ tiêu tiền d đánh giá công tác phòng chống thiên tai nội dung nội dung tồn tại bài học kinh nghiệm đ công tác triển khai nhiệm vụ thời gian nêu nhiệm vụ chủ yếu triển khai giai đoạn 06 tiếp theo kỳ báo cáo e đề xuất kiến nghị trả lời ban biên tập thư ký luật nội dung báo cáo định kỳ công tác phòng chống thiên tai quy định thông tư liên tịch 43 2015 ttlt bnnptnt bkhđt vui lòng tham khảo văn bản có thể\n",
      "ID: 653a8a7c1e06875841d15943, Similarity Score: 0.3999, Sentence: khoản 1 10 luật phòng chống thiên tai 2013 quy định quỹ phòng chống thiên tai quỹ phòng chống thiên tai quỹ thành lập tỉnh ủy ban nhân dân tỉnh quản lý quỹ phòng chống thiên tai bao gồm ngân sách nhà nước nguồn gốc ngân sách nhà nước như vậy quy định hiện hành quỹ phòng chống thiên tai ủy ban nhân dân tỉnh quản lý\n",
      "ID: 653a8e961e06875841d16b81, Similarity Score: 0.3982, Sentence: 4 thông tư 10 2019 tt bgtvt quy định phòng chống thiên tai lĩnh vực hàng hải bộ trưởng giao thông vận tải ban hành hiệu lực 01 05 2019 quy định vai trò cục hàng hải việt nam 1 xây dựng tổ chức thực hiện phương án ứng phó thiên tai lĩnh vực hàng hải hàng phù hợp chức năng nhiệm vụ cục hàng hải việt nam quy định pháp luật phòng chống thiên tai 2 chỉ đạo hướng dẫn đôn đốc kiểm tra đơn vị trực thuộc tổ chức cá nhân hoạt động lĩnh vực hàng hải xây dựng thực hiện phương án ứng phó thiên tai phù hợp chức năng nhiệm vụ đơn vị 3 tổ chức thường trực phòng chống thiên tai quy định kịp thời thu nhận phổ biến thông tin triển khai biện pháp thực hiện chỉ thị hướng dẫn phòng chống thiên tai 4 tổng hợp thiệt hại thiên tai đề xuất biện pháp khắc phục báo cáo thẩm quyền quy định công tác phòng chống thiên tai 5 tổng kết công tác phòng chống thiên tai hàng 6 quyết định khen thưởng tổ chức cá nhân thành tích công tác phòng chống thiên tai chi khen thưởng đơn vị sử dụng kinh phí cơ quan đơn vị quy định hiện hành nội dung tư vấn\n",
      "ID: 653a868a1e06875841d13a9d, Similarity Score: 0.3971, Sentence: phụ lục 1 ban hành kèm quyết định 1342 qđ byt 2023 quy định ngân sách kinh phí sử dụng thực hiện kế hoạch hoạt động phòng chống thiên tai tìm kiếm cứu nạn y tế 2023 quy định nêu kinh phí chi thực hiện kế hoạch hoạt động phòng chống thiên tai tìm kiếm cứu nạn y tế 2023 5 tỷ đồng khoản cụ thể hoạt động tổ chức tập huấn đội hỗ trợ y tế khẩn cấp emt tỉnh thành phố trực thuộc trung ương kinh phí 100 triệu đồng hoạt động tổ chức huấn luyện diễn tập cán bộ quân dân y tham gia ứng phó sự cố thiên tai dịch bệnh kinh phí 350 triệu đồng nội dung chi công tác phí kiểm tra giám sát địa phương đơn vị công tác phòng chống thiên tai thảm họa tìm kiếm cứu nạn kinh phí 300 triệu đồng nội dung chi trả tiếp nhận vận chuyển xuất giao nhận hàng hóa phòng chống thiên tai thảm họa kiểm nghiệm chất lượng hàng hóa kinh phí 70 triệu đồng nội dung chi bảo quản hàng hóa phòng chống thiên tai thảm họa kinh phí 800 triệu đồng nội dung chi đoàn tham gia hội thảo tập huấn diễn tập nước ngoài khuôn khổ dự án arch kinh phí 150 triệu đồng kinh phí chi truyền thông công tác phòng chống thiên tai tìm kiếm cứu nạn kinh phí 350 triệu đồng kinh phí mua sắm hóa chất phục vụ công tác ứng phó sự cố thiên tai tìm kiếm cứu nạn chloramin b 2 8 tỷ đồng kinh phí khoản chi văn phòng phẩm thông tin liên lạc phô tô tài liệu bảo trì phần mềm kế toán 80 triệu đồng\n",
      "ID: 653a9a481e06875841d1ab67, Similarity Score: 0.3920, Sentence: quy định khoản 17 29 nghị định 30 2017 nđ cp quy định tổ chức hoạt động ứng phó sự cố thiên tai tìm kiếm cứu nạn ngành cơ quan tổ chức trung ương a phối hợp ủy ban quốc gia ứng phó sự cố thiên tai tìm kiếm cứu nạn ngành cơ quan liên quan ban hành trình thẩm quyền văn bản pháp luật ứng phó sự cố thiên tai tìm kiếm cứu nạn lĩnh vực phân công b tổ chức tuyên truyền giáo dục cán bộ công chức viên chức lao động quyền nội dung biện pháp ứng phó sự cố thiên tai tìm kiếm cứu nạn c chỉ đạo cơ quan đơn vị ngành tổ chức thực hiện kế hoạch biện pháp ứng phó sự cố thiên tai tìm kiếm cứu nạn lĩnh vực phân công phụ trách đồng thời chỉ đạo kịp thời tổ chức lực lượng phương tiện nhiệm vụ ứng phó sự cố thiên tai tìm kiếm cứu nạn lệnh điều động thẩm quyền d phối hợp ủy ban quốc gia ứng phó sự cố thiên tai tìm kiếm cứu nạn thanh tra kiểm tra sơ kết tổng kết thực hiện công tác ứng phó sự cố thiên tai tìm kiếm cứu nạn tư vấn ban biên tập thư ký luật trách nhiệm ngành cơ quan tổ chức trung ương ứng phó sự cố thiên tai tham khảo chi tiết nghị định 30 2017 nđ cp nắm quy định\n",
      "ID: 653a89231e06875841d1538f, Similarity Score: 0.3916, Sentence: căn cứ 29 nghị định 66 2021 nđ cp quy định tổ chức nhiệm vụ ban chỉ huy phòng chống thiên tai tìm kiếm cứu nạn xã 1 ban chỉ huy phòng chống thiên tai tìm kiếm cứu nạn xã chủ tịch ủy ban nhân dân xã thành lập tham mưu giúp ủy ban nhân dân xã kiểm tra đôn đốc chỉ huy điều hành công tác phòng chống thiên tai tìm kiếm cứu nạn phạm vi địa phương 2 thành viên ban chỉ huy phòng chống thiên tai tìm kiếm cứu nạn xã a chủ tịch ủy ban nhân dân xã trưởng ban b phó chủ tịch ủy ban nhân dân xã phó trưởng ban thường trực c trưởng công an xã phó trưởng ban chỉ huy trưởng ban chỉ huy quân sự xã phó trưởng ban phụ trách cứu hộ cứu nạn lực lượng xung kích phòng chống thiên tai xã d ủy viên công chức xã trưởng tổ chức chính trị đoàn thể xã đ công chức xã nhiệm vụ quản lý nhà nước phòng chống thiên tai kiêm ủy viên thường trực ban chỉ huy phòng chống thiên tai tìm kiếm cứu nạn 3 ban chỉ huy phòng chống thiên tai tìm kiếm cứu nạn xã trụ sở ủy ban nhân dân xã ban sử dụng con dấu ủy ban nhân dân xã sử dụng một số cán bộ chuyên môn ủy ban nhân dân xã làm bộ phận thường trực kinh phí hoạt động căn cứ điều kiện cụ thể địa phương trưởng ban chỉ huy phòng chống thiên tai tìm kiếm cứu nạn xã quyết định thành phần nhiệm vụ bộ phận thường trực 4 nhiệm vụ ban chỉ huy phòng chống thiên tai tìm kiếm cứu nạn xã a tham mưu giúp ủy ban nhân dân xã thực hiện nhiệm vụ phòng chống thiên tai quy định khoản 2 43 luật phòng chống thiên tai b thực hiện truyền phát chỉ đạo chỉ huy ứng phó thiên tai cộng đồng c chỉ huy ứng phó thiên tai tìm kiếm cứu nạn thiên tai phạm vi xã d chỉ đạo đôn đốc xây dựng phê duyệt kế hoạch phương án ứng phó thiên tai địa phương đ kiểm tra đôn đốc tổ chức cá nhân địa phương thực hiện nhiệm vụ phòng chống thiên tai e chủ trì tham mưu giúp ủy ban nhân dân xã thành lập tổ chức đào tạo tập huấn duy trì lực lượng xung kích phòng chống thiên tai xã nòng cốt lực lượng dân quân tự vệ tham gia hội chữ thập đỏ đoàn thanh niên tổ chức đoàn thể địa phương g thực hiện nội dung quỹ phòng chống thiên tai quy định h tổ chức phổ biến tuyên truyền nâng nhận thức cộng đồng phòng chống thiên tai hàng\n",
      "ID: 653a881b1e06875841d14e19, Similarity Score: 0.3910, Sentence: mục c phụ lục danh mục vật tư phương tiện trang thiết bị chuyên dùng phòng chống thiên tai ban hành kèm kèm quyết định 20 2021 qđ ttg quy định danh mục vật tư 1 bộ dụng cụ chuyên dùng phục vụ cán bộ công tác hiện trường đáp ứng yêu cầu hoạt động an toàn thiên tai xảy ba lô chống túi ngủ quần áo chuyên dùng mũ giày dép đèn pin túi cấp cứu lưu động 2 thang dây chuyên dùng phục vụ di chuyển vị trí hiện trường đáp ứng yêu cầu an toàn thiên tai xảy 3 túi trữ nước ngọt chuyên dùng phục vụ cán bộ công tác hiện trường 4 vật tư chuyên dùng phục vụ xử lý khẩn cấp sự cố đê điều hồ đập 1 vật tư phương tiện trang thiết bị chuyên dùng phòng chống thiên tai vật tư phương tiện trang thiết bị cấu tạo tính chất công năng đặc biệt trực tiếp sử dụng thực hiện nhiệm vụ phòng chống thiên tai cơ quan tổ chức 2 danh mục vật tư phương tiện trang thiết bị chuyên dùng phòng chống thiên tai quy định chi tiết phụ lục kèm quyết định\n",
      "ID: 653a89231e06875841d15393, Similarity Score: 0.3903, Sentence: căn cứ 27 nghị định 66 2021 nđ cp quy định tổ chức nhiệm vụ ban chỉ huy phòng chống thiên tai tìm kiếm cứu nạn tỉnh 1 ban chỉ huy phòng chống thiên tai tìm kiếm cứu nạn tỉnh chủ tịch ủy ban nhân dân tỉnh thành lập giúp ủy ban nhân dân tỉnh chỉ huy điều hành hoạt động phòng chống thiên tai tìm kiếm cứu nạn địa phương ban chỉ huy phòng chống thiên tai tìm kiếm cứu nạn con dấu kinh phí tài khoản hoạt động 2 ban chỉ huy phòng chống thiên tai tìm kiếm cứu nạn tỉnh thành viên a chủ tịch ủy ban nhân dân tỉnh trưởng ban b phó chủ tịch ủy ban nhân dân tỉnh phó trưởng ban thường trực c giám đốc sở nông nghiệp phát triển nông thôn chỉ huy trưởng chỉ huy quân sự tỉnh chỉ huy trưởng chỉ huy bộ đội biên phòng tỉnh giám đốc công an tỉnh phó trưởng ban d ủy viên giám đốc đại diện lãnh đạo sở ngành liên quan công tác phòng chống thiên tai tìm kiếm cứu nạn mặt trận tổ quốc hội phụ nữ hội chữ thập đỏ đoàn thanh niên cộng sản hồ chí minh tổ chức đoàn thể xã hội tỉnh tham gia thành viên ban chỉ huy phòng chống thiên tai tìm kiếm cứu nạn tỉnh 3 sở nông nghiệp phát triển nông thôn cơ quan thường trực phòng chống thiên tai chỉ huy quân sự chỉ huy bộ đội biên phòng cơ quan thường trực tìm kiếm cứu nạn ban chỉ huy phòng chống thiên tai tìm kiếm cứu nạn tỉnh cụ thể ủy ban nhân dân tỉnh quyết định chủ tịch ủy ban nhân dân tỉnh quyết định thành lập bộ phận chuyên trách sở nông nghiệp phát triển nông thôn nhiệm vụ văn phòng thường trực ban chỉ huy phòng chống thiên tai tìm kiếm cứu nạn 4 nhiệm vụ ban chỉ huy phòng chống thiên tai tìm kiếm cứu nạn tỉnh a tham mưu giúp ủy ban nhân dân tỉnh thực hiện nhiệm vụ phòng chống thiên tai quy định khoản 1 43 luật phòng chống thiên tai b chỉ đạo đôn đốc xây dựng trình phê duyệt kế hoạch phương án ứng phó thiên tai c chỉ huy ứng phó thiên tai tìm kiếm cứu nạn thiên tai phạm vi địa phương d kiểm tra đôn đốc sở cơ quan địa phương thực hiện nhiệm vụ phòng chống thiên tai đ giúp ủy ban nhân dân tỉnh chỉ đạo kiểm tra đôn đốc tổng hợp báo cáo thống kê đánh giá thiệt hại xác định nhu cầu hỗ trợ triển khai công tác khắc phục hậu quả phục hồi tái thiết thiên tai e thực hiện nội dung quỹ phòng chống thiên tai quy định g tổ chức huấn luyện đào tạo diễn tập tập huấn lực lượng tham gia hoạt động phòng chống thiên tai tìm kiếm cứu nạn h tổ chức phổ biến tuyên truyền nâng nhận thức cộng đồng phòng chống thiên tai i chỉ đạo triển khai tổ chức thực hiện giải pháp nâng năng lực dân sự hoạt động ứng phó thiên tai k tập trung nhân lực trang thiết bị xây dựng công cụ hỗ trợ văn phòng thường trực ban chỉ huy phòng chống thiên tai tìm kiếm cứu nạn tỉnh kết nối trực tuyến cơ quan phòng chống thiên tai trung ương địa phương phục vụ công tác chỉ đạo chỉ huy điều hành phòng chống thiên tai\n"
     ]
    }
   ],
   "source": [
    "similarities_anwser = cosine_similarity(query_embedding_anwser, embeddings_anwser)\n",
    "\n",
    "top_50_indices_anwser = np.argsort(similarities_anwser[0])[::-1][:50]\n",
    "\n",
    "for idx in top_50_indices_anwser:\n",
    "    similarity_score = similarities_anwser[0][idx]\n",
    "    similar_sentence = sentences_anwser[idx]\n",
    "    doc_id = ids_anwser[idx]\n",
    "    print(f\"ID: {doc_id}, Similarity Score: {similarity_score:.4f}, Sentence: {similar_sentence}\")"
   ],
   "metadata": {
    "collapsed": false,
    "ExecuteTime": {
     "start_time": "2024-01-18T01:24:01.859632Z",
     "end_time": "2024-01-18T01:24:01.896668Z"
    }
   }
  },
  {
   "cell_type": "code",
   "execution_count": 20,
   "outputs": [],
   "source": [
    "df_title = pd.DataFrame({\n",
    "    'doc_id': [ids_title[idx] for idx in top_50_indices_title],\n",
    "    'similarity_score_title': [similarities_title[0][idx] for idx in top_50_indices_title],\n",
    "    'sentence_title': [sentences_title[idx] for idx in top_50_indices_title]\n",
    "})\n",
    "\n",
    "df_anwser = pd.DataFrame({\n",
    "    'doc_id': [ids_anwser[idx] for idx in top_50_indices_anwser],\n",
    "    'similarity_score_anwser': [similarities_anwser[0][idx] for idx in top_50_indices_anwser],\n",
    "})\n",
    "\n",
    "df_merged = pd.merge(df_title, df_anwser, on='doc_id')\n",
    "df_merged['sbert_score'] = df_merged['similarity_score_title'] * df_merged['similarity_score_anwser']\n",
    "\n",
    "df_merged_sorted = df_merged.sort_values(by='sbert_score', ascending=False)\n",
    "top_20_rows = df_merged_sorted.head(20)"
   ],
   "metadata": {
    "collapsed": false,
    "ExecuteTime": {
     "start_time": "2024-01-18T01:24:01.900668Z",
     "end_time": "2024-01-18T01:24:01.905371Z"
    }
   }
  },
  {
   "cell_type": "code",
   "execution_count": 21,
   "outputs": [
    {
     "name": "stdout",
     "output_type": "stream",
     "text": [
      "                      doc_id  similarity_score_title  \\\n",
      "4   653a9ebe1e06875841d1c26d                0.710572   \n",
      "3   653a91681e06875841d17ad3                0.712936   \n",
      "1   653a86321e06875841d13683                0.732691   \n",
      "10  653a89241e06875841d153a3                0.680922   \n",
      "9   653a89021e06875841d152d9                0.686280   \n",
      "15  653a89231e06875841d1539d                0.617235   \n",
      "16  653a8b4a1e06875841d15c47                0.617159   \n",
      "12  653a8ce91e06875841d16377                0.670515   \n",
      "6   653a9a251e06875841d1ab0d                0.701596   \n",
      "23  653a9ef51e06875841d1c4ad                0.556785   \n",
      "8   653a9ebf1e06875841d1c283                0.687837   \n",
      "0   653a89231e06875841d15391                0.742775   \n",
      "25  653a893d1e06875841d15433                0.556394   \n",
      "21  653a893d1e06875841d15435                0.575992   \n",
      "19  653a89191e06875841d1533b                0.578379   \n",
      "32  653a86a41e06875841d13cff                0.502798   \n",
      "13  653a8ce91e06875841d16375                0.653442   \n",
      "11  653a89271e06875841d153b5                0.674444   \n",
      "17  653a93511e06875841d1871d                0.587156   \n",
      "2   653a89231e06875841d15393                0.719131   \n",
      "\n",
      "                                       sentence_title  \\\n",
      "4    cơ quan trách nhiệm truyền phòng chống thiên tai   \n",
      "3   trách nhiệm ủy ban nhân dân ban chỉ huy phòng ...   \n",
      "1   ban chỉ đạo quốc gia phòng chống thiên tai trá...   \n",
      "10  tổ chức ban chỉ huy phòng chống thiên tai tìm ...   \n",
      "9   quy định trách nhiệm tổ chức thực hiện kế hoạc...   \n",
      "15  ban chỉ đạo quốc gia phòng chống thiên tai thà...   \n",
      "16  phòng chống thiên tai ban chỉ đạo trung ương t...   \n",
      "12  tổ chức ban chỉ huy phòng chống thiên tai tìm ...   \n",
      "6   tổ chức nhiệm vụ ban chỉ huy phòng chống thiên...   \n",
      "23                              phòng chống thiên tai   \n",
      "8   cơ cấu tổ chức nhiệm vụ ban chỉ đạo trung ương...   \n",
      "0   tổ chức nhiệm vụ ban chỉ huy phòng chống thiên...   \n",
      "25  quy định nội dung biện pháp phòng chống thiên ...   \n",
      "21  quy định trách nhiệm tổ chức thực hiện kế hoạc...   \n",
      "19  trách nhiệm tổ chức thực hiện kế hoạch phòng c...   \n",
      "32             nội dung chi quỹ phòng chống thiên tai   \n",
      "13  nhiệm vụ ban chỉ đạo trung ương phòng chống th...   \n",
      "11  nhiệm vụ ban chỉ đạo quốc gia phòng chống thiê...   \n",
      "17  trách nhiệm cục đường thủy nội địa việt nam ph...   \n",
      "2   tổ chức nhiệm vụ ban chỉ huy phòng chống thiên...   \n",
      "\n",
      "    similarity_score_anwser  sbert_score  \n",
      "4                  0.590104     0.419312  \n",
      "3                  0.588054     0.419245  \n",
      "1                  0.512179     0.375269  \n",
      "10                 0.527333     0.359073  \n",
      "9                  0.516808     0.354675  \n",
      "15                 0.553198     0.341453  \n",
      "16                 0.551889     0.340603  \n",
      "12                 0.494506     0.331573  \n",
      "6                  0.468229     0.328508  \n",
      "23                 0.588398     0.327611  \n",
      "8                  0.463322     0.318690  \n",
      "0                  0.418014     0.310490  \n",
      "25                 0.551183     0.306675  \n",
      "21                 0.527569     0.303875  \n",
      "19                 0.523126     0.302565  \n",
      "32                 0.595549     0.299441  \n",
      "13                 0.441001     0.288169  \n",
      "11                 0.416870     0.281155  \n",
      "17                 0.478105     0.280722  \n",
      "2                  0.390338     0.280704  \n"
     ]
    }
   ],
   "source": [
    "print(top_20_rows)"
   ],
   "metadata": {
    "collapsed": false,
    "ExecuteTime": {
     "start_time": "2024-01-18T01:24:01.907370Z",
     "end_time": "2024-01-18T01:24:01.962842Z"
    }
   }
  },
  {
   "cell_type": "code",
   "execution_count": 22,
   "outputs": [
    {
     "name": "stdout",
     "output_type": "stream",
     "text": [
      "                      doc_id  bm25_score  similarity_score_title  \\\n",
      "3   653a9ebe1e06875841d1c26d   39.863646                0.710572   \n",
      "0   653a89021e06875841d152d9   44.759476                0.686280   \n",
      "15  653a91681e06875841d17ad3   36.218505                0.712936   \n",
      "4   653a86321e06875841d13683   39.185297                0.732691   \n",
      "6   653a8b4a1e06875841d15c47   39.062184                0.617159   \n",
      "\n",
      "                                       sentence_title  \\\n",
      "3    cơ quan trách nhiệm truyền phòng chống thiên tai   \n",
      "0   quy định trách nhiệm tổ chức thực hiện kế hoạc...   \n",
      "15  trách nhiệm ủy ban nhân dân ban chỉ huy phòng ...   \n",
      "4   ban chỉ đạo quốc gia phòng chống thiên tai trá...   \n",
      "6   phòng chống thiên tai ban chỉ đạo trung ương t...   \n",
      "\n",
      "    similarity_score_anwser  sbert_score  final_score  \n",
      "3                  0.590104     0.419312    16.715287  \n",
      "0                  0.516808     0.354675    15.875076  \n",
      "15                 0.588054     0.419245    15.184434  \n",
      "4                  0.512179     0.375269    14.705027  \n",
      "6                  0.551889     0.340603    13.304712  \n"
     ]
    }
   ],
   "source": [
    "df_bm25 = pd.DataFrame({\n",
    "    'doc_id': [doc_dict['id'] for doc_dict in top_docs],\n",
    "    'bm25_score': doc_scores\n",
    "})\n",
    "\n",
    "df_bm25_filtered = df_bm25[df_bm25['doc_id'].isin(top_20_rows['doc_id'])]\n",
    "df_final = pd.merge(df_bm25_filtered, top_20_rows, on='doc_id')\n",
    "df_final['final_score'] = df_final['sbert_score'] * df_final['bm25_score']\n",
    "df_final_sorted = df_final.sort_values(by='final_score', ascending=False)\n",
    "print(df_final_sorted.head(5))"
   ],
   "metadata": {
    "collapsed": false,
    "ExecuteTime": {
     "start_time": "2024-01-18T01:24:01.942995Z",
     "end_time": "2024-01-18T01:24:01.962842Z"
    }
   }
  },
  {
   "cell_type": "code",
   "execution_count": 22,
   "outputs": [],
   "source": [],
   "metadata": {
    "collapsed": false,
    "ExecuteTime": {
     "start_time": "2024-01-18T01:24:01.951840Z",
     "end_time": "2024-01-18T01:24:01.962842Z"
    }
   }
  }
 ],
 "metadata": {
  "kernelspec": {
   "display_name": "Python 3",
   "language": "python",
   "name": "python3"
  },
  "language_info": {
   "codemirror_mode": {
    "name": "ipython",
    "version": 2
   },
   "file_extension": ".py",
   "mimetype": "text/x-python",
   "name": "python",
   "nbconvert_exporter": "python",
   "pygments_lexer": "ipython2",
   "version": "2.7.6"
  }
 },
 "nbformat": 4,
 "nbformat_minor": 0
}
