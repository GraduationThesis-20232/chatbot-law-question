{
 "cells": [
  {
   "cell_type": "markdown",
   "source": [
    "## 1. Get all questions"
   ],
   "metadata": {
    "collapsed": false
   }
  },
  {
   "cell_type": "code",
   "execution_count": 1,
   "outputs": [],
   "source": [
    "from pymongo import MongoClient\n",
    "import pandas as pd\n",
    "import numpy as np\n",
    "from text_untils import *\n",
    "import json"
   ],
   "metadata": {
    "collapsed": false,
    "ExecuteTime": {
     "start_time": "2024-06-10T18:45:33.370832Z",
     "end_time": "2024-06-10T18:45:34.477010Z"
    }
   }
  },
  {
   "cell_type": "code",
   "execution_count": 2,
   "metadata": {
    "ExecuteTime": {
     "start_time": "2024-06-10T18:45:34.480201Z",
     "end_time": "2024-06-10T18:45:34.483018Z"
    }
   },
   "outputs": [],
   "source": [
    "def getCollection(database, collection):\n",
    "    client = MongoClient('mongodb://localhost:27017/')\n",
    "    db = client[database]\n",
    "    cl = db[collection]\n",
    "\n",
    "    pipeline = [\n",
    "        {\n",
    "            \"$match\": {\n",
    "                \"title\": {\"$nin\": [None, \"\"]},\n",
    "            }\n",
    "        }\n",
    "    ]\n",
    "    docs = list(cl.aggregate(pipeline))\n",
    "    # client.close()\n",
    "    return docs"
   ]
  },
  {
   "cell_type": "code",
   "execution_count": 3,
   "metadata": {
    "ExecuteTime": {
     "start_time": "2024-06-10T18:45:34.485013Z",
     "end_time": "2024-06-10T18:45:35.246061Z"
    }
   },
   "outputs": [],
   "source": [
    "documents = getCollection('lawlaboratory', 'temp')"
   ]
  },
  {
   "cell_type": "code",
   "execution_count": 4,
   "metadata": {
    "ExecuteTime": {
     "start_time": "2024-06-10T18:45:35.275080Z",
     "end_time": "2024-06-10T18:45:35.298228Z"
    }
   },
   "outputs": [
    {
     "data": {
      "text/plain": "                            _id  \\\n15940  666342eae485130f03f513b4   \n15784  666342ede485130f03f54ca5   \n26793  666342eee485130f03f5579b   \n3199   666342ede485130f03f54333   \n8189   666342eee485130f03f55715   \n\n                                                   title  \\\n15940  Quyền vận tải biển nội địa theo Luật Hàng hải ...   \n15784  Quyền bảo vệ của các quốc gia ven biển được qu...   \n26793  Đơn giản hóa thủ tục kéo dài thời hạn tạm giữ ...   \n3199   Các hạng mục công trình tại trạm dừng nghỉ đườ...   \n8189     Khai báo tai nạn lao động hàng hải như thế nào?   \n\n                                             description date_answer  \\\n15940  Hoạt động hàng hải là một trong những ngành qu...  2018-07-25   \n15784  Quyền bảo vệ của các quốc gia ven biển được qu...  2018-05-24   \n26793  Đơn giản hóa thủ tục kéo dài thời hạn tạm giữ ...  2017-09-27   \n3199   Các hạng mục công trình tại trạm dừng nghỉ đườ...  2018-08-10   \n8189   Chào Ban biên tập, tôi là Thanh Minh, hiện tôi...  2019-02-20   \n\n                    field                                         source_url  \\\n15940  Giao thông vận tải  https://thuvienphapluat.vn/hoi-dap-phap-luat/3...   \n15784  Giao thông vận tải  https://thuvienphapluat.vn/hoi-dap-phap-luat/3...   \n26793  Giao thông vận tải  https://thuvienphapluat.vn/hoi-dap-phap-luat/3...   \n3199   Giao thông vận tải  https://thuvienphapluat.vn/hoi-dap-phap-luat/3...   \n8189   Giao thông vận tải  https://thuvienphapluat.vn/hoi-dap-phap-luat/4...   \n\n                                              conclusion reference quote  \n15940  [Quyền vận tải biển nội địa được quy định tại ...       NaN   NaN  \n15784  [Căn cứ theo Điều 25 Công ước về Luật biển năm...       NaN   NaN  \n26793  [Đơn giản hóa thủ tục kéo dài thời hạn tạm giữ...       NaN   NaN  \n3199   [Các hạng mục công trình tại trạm dừng nghỉ đư...       NaN   NaN  \n8189   [Việc khai báo tai nạn lao động hàng hải được ...       NaN   NaN  ",
      "text/html": "<div>\n<style scoped>\n    .dataframe tbody tr th:only-of-type {\n        vertical-align: middle;\n    }\n\n    .dataframe tbody tr th {\n        vertical-align: top;\n    }\n\n    .dataframe thead th {\n        text-align: right;\n    }\n</style>\n<table border=\"1\" class=\"dataframe\">\n  <thead>\n    <tr style=\"text-align: right;\">\n      <th></th>\n      <th>_id</th>\n      <th>title</th>\n      <th>description</th>\n      <th>date_answer</th>\n      <th>field</th>\n      <th>source_url</th>\n      <th>conclusion</th>\n      <th>reference</th>\n      <th>quote</th>\n    </tr>\n  </thead>\n  <tbody>\n    <tr>\n      <th>15940</th>\n      <td>666342eae485130f03f513b4</td>\n      <td>Quyền vận tải biển nội địa theo Luật Hàng hải ...</td>\n      <td>Hoạt động hàng hải là một trong những ngành qu...</td>\n      <td>2018-07-25</td>\n      <td>Giao thông vận tải</td>\n      <td>https://thuvienphapluat.vn/hoi-dap-phap-luat/3...</td>\n      <td>[Quyền vận tải biển nội địa được quy định tại ...</td>\n      <td>NaN</td>\n      <td>NaN</td>\n    </tr>\n    <tr>\n      <th>15784</th>\n      <td>666342ede485130f03f54ca5</td>\n      <td>Quyền bảo vệ của các quốc gia ven biển được qu...</td>\n      <td>Quyền bảo vệ của các quốc gia ven biển được qu...</td>\n      <td>2018-05-24</td>\n      <td>Giao thông vận tải</td>\n      <td>https://thuvienphapluat.vn/hoi-dap-phap-luat/3...</td>\n      <td>[Căn cứ theo Điều 25 Công ước về Luật biển năm...</td>\n      <td>NaN</td>\n      <td>NaN</td>\n    </tr>\n    <tr>\n      <th>26793</th>\n      <td>666342eee485130f03f5579b</td>\n      <td>Đơn giản hóa thủ tục kéo dài thời hạn tạm giữ ...</td>\n      <td>Đơn giản hóa thủ tục kéo dài thời hạn tạm giữ ...</td>\n      <td>2017-09-27</td>\n      <td>Giao thông vận tải</td>\n      <td>https://thuvienphapluat.vn/hoi-dap-phap-luat/3...</td>\n      <td>[Đơn giản hóa thủ tục kéo dài thời hạn tạm giữ...</td>\n      <td>NaN</td>\n      <td>NaN</td>\n    </tr>\n    <tr>\n      <th>3199</th>\n      <td>666342ede485130f03f54333</td>\n      <td>Các hạng mục công trình tại trạm dừng nghỉ đườ...</td>\n      <td>Các hạng mục công trình tại trạm dừng nghỉ đườ...</td>\n      <td>2018-08-10</td>\n      <td>Giao thông vận tải</td>\n      <td>https://thuvienphapluat.vn/hoi-dap-phap-luat/3...</td>\n      <td>[Các hạng mục công trình tại trạm dừng nghỉ đư...</td>\n      <td>NaN</td>\n      <td>NaN</td>\n    </tr>\n    <tr>\n      <th>8189</th>\n      <td>666342eee485130f03f55715</td>\n      <td>Khai báo tai nạn lao động hàng hải như thế nào?</td>\n      <td>Chào Ban biên tập, tôi là Thanh Minh, hiện tôi...</td>\n      <td>2019-02-20</td>\n      <td>Giao thông vận tải</td>\n      <td>https://thuvienphapluat.vn/hoi-dap-phap-luat/4...</td>\n      <td>[Việc khai báo tai nạn lao động hàng hải được ...</td>\n      <td>NaN</td>\n      <td>NaN</td>\n    </tr>\n  </tbody>\n</table>\n</div>"
     },
     "execution_count": 4,
     "metadata": {},
     "output_type": "execute_result"
    }
   ],
   "source": [
    "df = pd.DataFrame(documents)\n",
    "df.sample(5)"
   ]
  },
  {
   "cell_type": "code",
   "execution_count": 5,
   "metadata": {
    "ExecuteTime": {
     "start_time": "2024-06-10T18:45:35.298228Z",
     "end_time": "2024-06-10T18:45:35.325113Z"
    }
   },
   "outputs": [
    {
     "name": "stdout",
     "output_type": "stream",
     "text": [
      "<class 'pandas.core.frame.DataFrame'>\n",
      "RangeIndex: 27716 entries, 0 to 27715\n",
      "Data columns (total 9 columns):\n",
      " #   Column       Non-Null Count  Dtype \n",
      "---  ------       --------------  ----- \n",
      " 0   _id          27716 non-null  object\n",
      " 1   title        27716 non-null  object\n",
      " 2   description  20796 non-null  object\n",
      " 3   date_answer  27716 non-null  object\n",
      " 4   field        27716 non-null  object\n",
      " 5   source_url   27716 non-null  object\n",
      " 6   conclusion   27716 non-null  object\n",
      " 7   reference    6920 non-null   object\n",
      " 8   quote        6920 non-null   object\n",
      "dtypes: object(9)\n",
      "memory usage: 1.9+ MB\n"
     ]
    }
   ],
   "source": [
    "df.shape\n",
    "df.info()"
   ]
  },
  {
   "cell_type": "markdown",
   "source": [
    "## 2. Data cleaning"
   ],
   "metadata": {
    "collapsed": false
   }
  },
  {
   "cell_type": "code",
   "execution_count": 6,
   "metadata": {
    "ExecuteTime": {
     "start_time": "2024-06-10T18:45:35.327100Z",
     "end_time": "2024-06-10T18:45:35.406809Z"
    }
   },
   "outputs": [],
   "source": [
    "df = df.dropna(subset=['title'])\n",
    "df = df[df['title'] != '']"
   ]
  },
  {
   "cell_type": "code",
   "execution_count": 7,
   "metadata": {
    "ExecuteTime": {
     "start_time": "2024-06-10T18:45:35.353811Z",
     "end_time": "2024-06-10T18:45:35.533057Z"
    }
   },
   "outputs": [],
   "source": [
    "def dropEmpty(row):\n",
    "    if isinstance(row['conclusion'], list) and not row['conclusion'] and pd.isna(row['quote']):\n",
    "        return True\n",
    "    return False\n",
    "\n",
    "df = df[~df.apply(dropEmpty, axis=1)]\n",
    "\n",
    "df = df.reset_index(drop=True)"
   ]
  },
  {
   "cell_type": "code",
   "execution_count": 8,
   "metadata": {
    "ExecuteTime": {
     "start_time": "2024-06-10T18:45:35.532056Z",
     "end_time": "2024-06-10T18:45:35.557326Z"
    }
   },
   "outputs": [
    {
     "name": "stdout",
     "output_type": "stream",
     "text": [
      "<class 'pandas.core.frame.DataFrame'>\n",
      "RangeIndex: 27411 entries, 0 to 27410\n",
      "Data columns (total 9 columns):\n",
      " #   Column       Non-Null Count  Dtype \n",
      "---  ------       --------------  ----- \n",
      " 0   _id          27411 non-null  object\n",
      " 1   title        27411 non-null  object\n",
      " 2   description  20491 non-null  object\n",
      " 3   date_answer  27411 non-null  object\n",
      " 4   field        27411 non-null  object\n",
      " 5   source_url   27411 non-null  object\n",
      " 6   conclusion   27411 non-null  object\n",
      " 7   reference    6920 non-null   object\n",
      " 8   quote        6920 non-null   object\n",
      "dtypes: object(9)\n",
      "memory usage: 1.9+ MB\n"
     ]
    }
   ],
   "source": [
    "df.info()"
   ]
  },
  {
   "cell_type": "code",
   "execution_count": 9,
   "outputs": [],
   "source": [
    "viet_characters = \"ÀÁẢÃẠĂẰẮẲẴẶÂẦẤẨẪẬàáảãạăằắẳẵặâầấẩẫậĐđÈÉẺẼẸÊỀẾỂỄỆèéẻẽẹêềếểễệÌÍỈĨỊìíỉĩịÒÓỎÕỌÔỒỐỔỖỘƠỜỚỞỠỢòóỏõọôồốổỗộơờớởỡợÙÚỦŨỤƯỪỨỬỮỰùúủũụưừứửữựỲÝỶỸỴỳýỷỹỵ\"\n",
    "\n",
    "def contains_vietnamese_characters(title, vietnamese_chars):\n",
    "    return any(char in vietnamese_chars for char in title)\n",
    "\n",
    "df = df[df['title'].apply(lambda x: contains_vietnamese_characters(x, viet_characters))]"
   ],
   "metadata": {
    "collapsed": false,
    "ExecuteTime": {
     "start_time": "2024-06-10T18:45:35.559315Z",
     "end_time": "2024-06-10T18:45:35.611885Z"
    }
   }
  },
  {
   "cell_type": "code",
   "execution_count": 10,
   "outputs": [],
   "source": [
    "def process_quote(quote):\n",
    "    if pd.isna(quote):\n",
    "        return np.nan\n",
    "    if 'content' in quote and not quote['content']:\n",
    "        return np.nan\n",
    "    return quote\n",
    "\n",
    "df['quote'] = df['quote'].apply(process_quote)"
   ],
   "metadata": {
    "collapsed": false,
    "ExecuteTime": {
     "start_time": "2024-06-10T18:45:35.630402Z",
     "end_time": "2024-06-10T18:45:35.632942Z"
    }
   }
  },
  {
   "cell_type": "code",
   "execution_count": 11,
   "outputs": [
    {
     "data": {
      "text/plain": "(27279, 9)"
     },
     "execution_count": 11,
     "metadata": {},
     "output_type": "execute_result"
    }
   ],
   "source": [
    "def dropEmptyAnswer(row):\n",
    "    if isinstance(row['conclusion'], list) and not row['conclusion'] and pd.isna(row['quote']):\n",
    "        return True\n",
    "    return False\n",
    "\n",
    "df = df[~df.apply(dropEmptyAnswer, axis=1)]\n",
    "\n",
    "df = df.reset_index(drop=True)\n",
    "df.shape"
   ],
   "metadata": {
    "collapsed": false,
    "ExecuteTime": {
     "start_time": "2024-06-10T18:45:35.634952Z",
     "end_time": "2024-06-10T18:45:35.836156Z"
    }
   }
  },
  {
   "cell_type": "code",
   "execution_count": 12,
   "outputs": [],
   "source": [
    "def clean_conclusionArray(conclusion):\n",
    "    words_to_remove = [\"tải về\", \"mẫu đơn\", \"hình từ internet\", \"hình ảnh internet\", \"hình internet\", \"trân trọng\"]\n",
    "    if isinstance(conclusion, list):\n",
    "        cleaned_conclusion1 = [word for word in conclusion if isinstance(word, str) and not any(remove_word in word.lower() for remove_word in words_to_remove)]\n",
    "        cleaned_conclusion2 = [x for x in cleaned_conclusion1 if x]\n",
    "        return cleaned_conclusion2\n",
    "    return conclusion\n",
    "\n",
    "df['conclusion'] = df['conclusion'].apply(clean_conclusionArray)"
   ],
   "metadata": {
    "collapsed": false,
    "ExecuteTime": {
     "start_time": "2024-06-10T18:45:35.837155Z",
     "end_time": "2024-06-10T18:45:37.559715Z"
    }
   }
  },
  {
   "cell_type": "code",
   "execution_count": 13,
   "outputs": [],
   "source": [
    "def clean_title(title):\n",
    "    for i, char in enumerate(title):\n",
    "        if char.isupper():\n",
    "            return title[i:]\n",
    "    return title\n",
    "\n",
    "df['title'] = df['title'].apply(clean_title)"
   ],
   "metadata": {
    "collapsed": false,
    "ExecuteTime": {
     "start_time": "2024-06-10T18:45:37.560719Z",
     "end_time": "2024-06-10T18:45:37.578330Z"
    }
   }
  },
  {
   "cell_type": "code",
   "execution_count": 14,
   "outputs": [],
   "source": [
    "from transformers import AutoTokenizer\n",
    "tokenizer = AutoTokenizer.from_pretrained('bkai-foundation-models/vietnamese-bi-encoder')\n",
    "\n",
    "def count_tokens(text):\n",
    "    tokens = tokenizer.tokenize(text)\n",
    "    return len(tokens)"
   ],
   "metadata": {
    "collapsed": false,
    "ExecuteTime": {
     "start_time": "2024-06-10T18:45:37.581387Z",
     "end_time": "2024-06-10T18:45:41.302933Z"
    }
   }
  },
  {
   "cell_type": "code",
   "execution_count": 15,
   "outputs": [],
   "source": [
    "df['token_count'] = df['title'].apply(count_tokens)\n",
    "df = df[df['token_count'] > 3].drop(columns=['token_count'])"
   ],
   "metadata": {
    "collapsed": false,
    "ExecuteTime": {
     "start_time": "2024-06-10T18:45:41.338047Z",
     "end_time": "2024-06-10T18:45:42.390569Z"
    }
   }
  },
  {
   "cell_type": "code",
   "execution_count": 16,
   "outputs": [],
   "source": [
    "df['date_answer'] = pd.to_datetime(df['date_answer'])\n",
    "\n",
    "df.sort_values(by='date_answer', ascending=False, inplace=True)\n",
    "df.drop_duplicates(subset='title', keep='first', inplace=True)\n",
    "\n",
    "df['date_answer'] = df['date_answer'].dt.strftime('%Y-%m-%d')"
   ],
   "metadata": {
    "collapsed": false,
    "ExecuteTime": {
     "start_time": "2024-06-10T18:45:42.393576Z",
     "end_time": "2024-06-10T18:45:42.445367Z"
    }
   }
  },
  {
   "cell_type": "code",
   "execution_count": 17,
   "outputs": [
    {
     "data": {
      "text/plain": "(27262, 9)"
     },
     "execution_count": 17,
     "metadata": {},
     "output_type": "execute_result"
    }
   ],
   "source": [
    "df.reset_index(drop=True, inplace=True)\n",
    "df.shape"
   ],
   "metadata": {
    "collapsed": false,
    "ExecuteTime": {
     "start_time": "2024-06-10T18:45:42.447371Z",
     "end_time": "2024-06-10T18:45:42.453037Z"
    }
   }
  },
  {
   "cell_type": "code",
   "execution_count": 18,
   "metadata": {
    "ExecuteTime": {
     "start_time": "2024-06-10T18:45:42.451046Z",
     "end_time": "2024-06-10T18:45:43.960596Z"
    }
   },
   "outputs": [],
   "source": [
    "df.to_json('data/backup/temp.json', orient='records', lines=True, force_ascii=False, date_format='iso', default_handler=str)"
   ]
  },
  {
   "cell_type": "code",
   "execution_count": 19,
   "metadata": {
    "ExecuteTime": {
     "start_time": "2024-06-10T18:45:43.965607Z",
     "end_time": "2024-06-10T18:45:44.133950Z"
    }
   },
   "outputs": [],
   "source": [
    "def merge_quote(quote):\n",
    "    if isinstance(quote, dict):\n",
    "        name = quote.get('name', ' ')\n",
    "        content = '\\n'.join(quote.get('content', []))\n",
    "\n",
    "        if name is None:\n",
    "            name = ' '\n",
    "        if content is None:\n",
    "            content = ' '\n",
    "\n",
    "        return f\"{name}: \\n {content}\"\n",
    "    else:\n",
    "        return None\n",
    "\n",
    "\n",
    "df['conclusion'] = df.apply(lambda row: merge_quote(row['quote']) if row['conclusion'] == [] else row['conclusion'], axis=1)"
   ]
  },
  {
   "cell_type": "code",
   "execution_count": 20,
   "metadata": {
    "ExecuteTime": {
     "start_time": "2024-06-10T18:45:44.134949Z",
     "end_time": "2024-06-10T18:45:44.145422Z"
    }
   },
   "outputs": [],
   "source": [
    "df = df.drop(['date_answer', 'field', 'description', 'source_url'], axis=1)"
   ]
  },
  {
   "cell_type": "code",
   "execution_count": 21,
   "metadata": {
    "ExecuteTime": {
     "start_time": "2024-06-10T18:45:44.146422Z",
     "end_time": "2024-06-10T18:45:44.157354Z"
    }
   },
   "outputs": [
    {
     "data": {
      "text/plain": "                            _id  \\\n4976   666342ece485130f03f54025   \n12282  666342ebe485130f03f522b5   \n9156   666342eae485130f03f50fc1   \n25684  666342ede485130f03f5495b   \n5261   666342efe485130f03f56ba2   \n\n                                                   title  \\\n4976   Quy chuẩn tính năng chấm điểm và thông báo lỗi...   \n12282  CSGT có quyền yêu cầu dừng xe đang lưu thông đ...   \n9156   Bản vẽ kỹ thuật của gương dùng cho xe ô tô phả...   \n25684  Ô tô khi lưu thông trong hầm đường bộ không bậ...   \n5261   Phối hợp trong công tác đào tạo, huấn luyện ng...   \n\n                                              conclusion  \\\n4976    : \\n Với bài tập sa hình PMGV phải cho phép c...   \n12282  [Căn cứ theo quy định tại Khoản 2 Điều 12 Thôn...   \n9156   [Căn cứ tiết 3.2.1.1 Mục 3 Quy chuẩn kỹ thuật ...   \n25684  [Các phương tiện lưu thông trong hầm đường bộ ...   \n5261   [Căn cứ Điều 7 Thông tư liên tịch 63/2016/TTLT...   \n\n                                               reference  \\\n4976   Tại Điểm c Tiểu tiết 2.2.3.4 Tiết 2.2.3 Tiểu m...   \n12282                                                NaN   \n9156                                                 NaN   \n25684                                                NaN   \n5261   Căn cứ Điều 7 Thông tư liên tịch 63/2016/TTLT-...   \n\n                                                   quote  \n4976   {'content': ['Với bài tập sa hình PMGV phải ch...  \n12282                                                NaN  \n9156                                                 NaN  \n25684                                                NaN  \n5261                                                 NaN  ",
      "text/html": "<div>\n<style scoped>\n    .dataframe tbody tr th:only-of-type {\n        vertical-align: middle;\n    }\n\n    .dataframe tbody tr th {\n        vertical-align: top;\n    }\n\n    .dataframe thead th {\n        text-align: right;\n    }\n</style>\n<table border=\"1\" class=\"dataframe\">\n  <thead>\n    <tr style=\"text-align: right;\">\n      <th></th>\n      <th>_id</th>\n      <th>title</th>\n      <th>conclusion</th>\n      <th>reference</th>\n      <th>quote</th>\n    </tr>\n  </thead>\n  <tbody>\n    <tr>\n      <th>4976</th>\n      <td>666342ece485130f03f54025</td>\n      <td>Quy chuẩn tính năng chấm điểm và thông báo lỗi...</td>\n      <td>: \\n Với bài tập sa hình PMGV phải cho phép c...</td>\n      <td>Tại Điểm c Tiểu tiết 2.2.3.4 Tiết 2.2.3 Tiểu m...</td>\n      <td>{'content': ['Với bài tập sa hình PMGV phải ch...</td>\n    </tr>\n    <tr>\n      <th>12282</th>\n      <td>666342ebe485130f03f522b5</td>\n      <td>CSGT có quyền yêu cầu dừng xe đang lưu thông đ...</td>\n      <td>[Căn cứ theo quy định tại Khoản 2 Điều 12 Thôn...</td>\n      <td>NaN</td>\n      <td>NaN</td>\n    </tr>\n    <tr>\n      <th>9156</th>\n      <td>666342eae485130f03f50fc1</td>\n      <td>Bản vẽ kỹ thuật của gương dùng cho xe ô tô phả...</td>\n      <td>[Căn cứ tiết 3.2.1.1 Mục 3 Quy chuẩn kỹ thuật ...</td>\n      <td>NaN</td>\n      <td>NaN</td>\n    </tr>\n    <tr>\n      <th>25684</th>\n      <td>666342ede485130f03f5495b</td>\n      <td>Ô tô khi lưu thông trong hầm đường bộ không bậ...</td>\n      <td>[Các phương tiện lưu thông trong hầm đường bộ ...</td>\n      <td>NaN</td>\n      <td>NaN</td>\n    </tr>\n    <tr>\n      <th>5261</th>\n      <td>666342efe485130f03f56ba2</td>\n      <td>Phối hợp trong công tác đào tạo, huấn luyện ng...</td>\n      <td>[Căn cứ Điều 7 Thông tư liên tịch 63/2016/TTLT...</td>\n      <td>Căn cứ Điều 7 Thông tư liên tịch 63/2016/TTLT-...</td>\n      <td>NaN</td>\n    </tr>\n  </tbody>\n</table>\n</div>"
     },
     "execution_count": 21,
     "metadata": {},
     "output_type": "execute_result"
    }
   ],
   "source": [
    "df.sample(5)"
   ]
  },
  {
   "cell_type": "code",
   "execution_count": 22,
   "metadata": {
    "ExecuteTime": {
     "start_time": "2024-06-10T18:45:44.158353Z",
     "end_time": "2024-06-10T18:45:44.190449Z"
    }
   },
   "outputs": [
    {
     "name": "stdout",
     "output_type": "stream",
     "text": [
      "'Trường hợp được xem là vi phạm thời gian lái xe khi tham gia giao thông?': Như vậy, vi phạm thời gian lái xe khi tham gia giao thông được xác định như sau:\n",
      "- Vi phạm thời gian lái xe liên tục được xác định như sau:\n",
      "+ Khi có thời gian lái xe của một người vượt quá 4 giờ nhưng không dừng, đỗ xe >= 15 phút (áp dụng đối với xe tuyến cố định, xe hợp đồng, xe du lịch, xe buýt liên tỉnh và xe vận tải hàng hoá); >= 5 phút (áp dụng đối với xe buýt nội tỉnh, xe taxi) hoặc không đổi lái xe.\n",
      "+ Đối với các đơn vị có truyền thông tin bật/tắt động cơ xe là một điều kiện tính toán, trong trường hợp phương tiện vẫn di chuyển nhưng không có dữ liệu thì vẫn tính thời gian lái xe liên tục.\n",
      "- Vi phạm thời gian lái xe trong ngày: được xác định khi tổng thời gian lái xe của một người trong ngày vượt quá 10 giờ.\n"
     ]
    }
   ],
   "source": [
    "def printConclustion(df, target_title):\n",
    "    conclusion_value = df.loc[df['title'] == target_title, 'conclusion'].values[0]\n",
    "\n",
    "    if isinstance(conclusion_value, list):\n",
    "        conclusion_value = '\\n'.join(conclusion_value)\n",
    "\n",
    "    if conclusion_value and isinstance(conclusion_value, str):\n",
    "        print(f\"'{target_title}': {conclusion_value}\")\n",
    "    else:\n",
    "        print(f\"'{target_title}'\")\n",
    "\n",
    "printConclustion(df, \"Trường hợp được xem là vi phạm thời gian lái xe khi tham gia giao thông?\")"
   ]
  },
  {
   "cell_type": "code",
   "execution_count": 23,
   "outputs": [],
   "source": [
    "def create_answer(row):\n",
    "    conclusion_value = row['conclusion']\n",
    "\n",
    "    if isinstance(conclusion_value, list):\n",
    "        conclusion_value = ' '.join(conclusion_value)\n",
    "    elif pd.isna(conclusion_value):\n",
    "        conclusion_value = ''\n",
    "\n",
    "    quote_value= ''\n",
    "    if not pd.isna(row['quote']):\n",
    "        reference = row['reference'] if not pd.isna(row['reference']) else ''\n",
    "        merged_quote = merge_quote(row['quote'])\n",
    "        quote_value = f\"{reference} {merged_quote}\"\n",
    "\n",
    "    conclusion_tokens = count_tokens(conclusion_value)\n",
    "    quote_tokens = count_tokens(quote_value)\n",
    "\n",
    "    if conclusion_tokens >= quote_tokens:\n",
    "        return conclusion_value\n",
    "    else:\n",
    "        return quote_value\n",
    "\n",
    "df['answer'] = df.apply(create_answer, axis=1)"
   ],
   "metadata": {
    "collapsed": false,
    "ExecuteTime": {
     "start_time": "2024-06-10T18:45:44.171446Z",
     "end_time": "2024-06-10T18:46:02.409014Z"
    }
   }
  },
  {
   "cell_type": "code",
   "execution_count": 24,
   "metadata": {
    "ExecuteTime": {
     "start_time": "2024-06-10T18:46:02.410018Z",
     "end_time": "2024-06-10T18:46:10.324758Z"
    }
   },
   "outputs": [],
   "source": [
    "df['title'] = df['title'].apply(clean_text)\n",
    "df['answer'] = df['answer'].apply(clean_text)"
   ]
  },
  {
   "cell_type": "code",
   "execution_count": 25,
   "metadata": {
    "ExecuteTime": {
     "start_time": "2024-06-10T18:46:10.327060Z",
     "end_time": "2024-06-10T18:48:18.005244Z"
    }
   },
   "outputs": [],
   "source": [
    "df['title'] = df['title'].apply(word_segment)\n",
    "df['answer'] = df['answer'].apply(word_segment)"
   ]
  },
  {
   "cell_type": "code",
   "execution_count": 26,
   "metadata": {
    "ExecuteTime": {
     "start_time": "2024-06-10T18:48:18.007244Z",
     "end_time": "2024-06-10T18:48:18.661045Z"
    }
   },
   "outputs": [],
   "source": [
    "df['title'] = df['title'].apply(normalize_text)\n",
    "df['answer'] = df['answer'].apply(normalize_text)"
   ]
  },
  {
   "cell_type": "code",
   "execution_count": 27,
   "metadata": {
    "ExecuteTime": {
     "start_time": "2024-06-10T18:48:18.663053Z",
     "end_time": "2024-06-10T18:49:46.818931Z"
    }
   },
   "outputs": [],
   "source": [
    "df['title'] = df['title'].apply(remove_stopword)\n",
    "df['answer'] = df['answer'].apply(remove_stopword)"
   ]
  },
  {
   "cell_type": "code",
   "execution_count": 28,
   "metadata": {
    "ExecuteTime": {
     "start_time": "2024-06-10T18:49:46.819928Z",
     "end_time": "2024-06-10T18:49:46.823398Z"
    }
   },
   "outputs": [],
   "source": [
    "# df['title'] = df['title'].apply(strip_answer_string)\n",
    "# df['conclusion'] = df['conclusion'].apply(strip_answer_string)"
   ]
  },
  {
   "cell_type": "code",
   "execution_count": 29,
   "outputs": [],
   "source": [
    "df['title'] = df['title'].str.replace('_', ' ')\n",
    "df['answer'] = df['answer'].str.replace('_', ' ')"
   ],
   "metadata": {
    "collapsed": false,
    "ExecuteTime": {
     "start_time": "2024-06-10T18:49:46.824863Z",
     "end_time": "2024-06-10T18:49:46.957966Z"
    }
   }
  },
  {
   "cell_type": "code",
   "execution_count": 30,
   "outputs": [
    {
     "data": {
      "text/plain": "0"
     },
     "execution_count": 30,
     "metadata": {},
     "output_type": "execute_result"
    }
   ],
   "source": [
    "df = df.drop_duplicates(subset='title', keep = 'first')\n",
    "df.duplicated(subset='title').sum()"
   ],
   "metadata": {
    "collapsed": false,
    "ExecuteTime": {
     "start_time": "2024-06-10T18:49:46.958968Z",
     "end_time": "2024-06-10T18:49:46.976824Z"
    }
   }
  },
  {
   "cell_type": "code",
   "execution_count": 31,
   "metadata": {
    "ExecuteTime": {
     "start_time": "2024-06-10T18:49:46.977823Z",
     "end_time": "2024-06-10T18:49:48.753003Z"
    }
   },
   "outputs": [],
   "source": [
    "df.to_json('data/cleaned/temp.json', orient='records', lines=True, force_ascii=False, date_format='iso', default_handler=str)"
   ]
  }
 ],
 "metadata": {
  "kernelspec": {
   "display_name": "Python 3 (ipykernel)",
   "language": "python",
   "name": "python3"
  },
  "language_info": {
   "codemirror_mode": {
    "name": "ipython",
    "version": 3
   },
   "file_extension": ".py",
   "mimetype": "text/x-python",
   "name": "python",
   "nbconvert_exporter": "python",
   "pygments_lexer": "ipython3",
   "version": "3.11.4"
  }
 },
 "nbformat": 4,
 "nbformat_minor": 1
}
