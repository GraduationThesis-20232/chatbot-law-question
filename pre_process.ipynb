{
 "cells": [
  {
   "cell_type": "code",
   "execution_count": 1,
   "metadata": {
    "ExecuteTime": {
     "start_time": "2024-01-11T01:29:22.504403Z",
     "end_time": "2024-01-11T01:29:24.705599Z"
    }
   },
   "outputs": [],
   "source": [
    "from pymongo import MongoClient\n",
    "import pandas as pd\n",
    "import numpy as np\n",
    "from text_untils import *\n",
    "import json"
   ]
  },
  {
   "cell_type": "code",
   "execution_count": 2,
   "metadata": {
    "ExecuteTime": {
     "start_time": "2024-01-11T01:29:24.711599Z",
     "end_time": "2024-01-11T01:29:24.712603Z"
    }
   },
   "outputs": [],
   "source": [
    "## 1. Get all questions"
   ]
  },
  {
   "cell_type": "code",
   "execution_count": 3,
   "metadata": {
    "ExecuteTime": {
     "start_time": "2024-01-11T01:29:24.711599Z",
     "end_time": "2024-01-11T01:29:24.718458Z"
    }
   },
   "outputs": [],
   "source": [
    "def getCollection(database, collection):\n",
    "    client = MongoClient('mongodb://localhost:27017/')\n",
    "    db = client[database]\n",
    "    cl = db[collection]\n",
    "\n",
    "    pipeline = [\n",
    "        {\n",
    "            \"$match\": {\n",
    "                \"title\": {\"$nin\": [None, \"\"]},\n",
    "            }\n",
    "        }\n",
    "    ]\n",
    "    docs = list(cl.aggregate(pipeline))\n",
    "    # client.close()\n",
    "    return docs"
   ]
  },
  {
   "cell_type": "code",
   "execution_count": 4,
   "metadata": {
    "ExecuteTime": {
     "start_time": "2024-01-11T01:29:24.719467Z",
     "end_time": "2024-01-11T01:29:25.375780Z"
    }
   },
   "outputs": [],
   "source": [
    "documents = getCollection('lawlaboratory', 'temp')"
   ]
  },
  {
   "cell_type": "code",
   "execution_count": 5,
   "metadata": {
    "ExecuteTime": {
     "start_time": "2024-01-11T01:29:25.375780Z",
     "end_time": "2024-01-11T01:29:25.434004Z"
    }
   },
   "outputs": [
    {
     "data": {
      "text/plain": "                            _id  \\\n7357   653a8e291e06875841d16985   \n6935   653a8d701e06875841d16639   \n13999  653a98af1e06875841d19d69   \n11231  653a93741e06875841d187c9   \n9010   653a90ca1e06875841d1766f   \n\n                                                   title date_answer  \\\n7357   Bồi thường về đất đối với những người đang có ...  2019-04-03   \n6935        Lấy ý kiến về quy hoạch năng lượng nguyên tử  2019-05-30   \n13999    Quy định về nhận ca trực vận hành hệ thống điện  2017-06-27   \n11231  Nhiệm vụ quy hoạch lưu vực sông được quy định ...  2018-03-21   \n9010   Hoàn thuế bảo vệ môi trường trong những trường...  2018-11-17   \n\n             field reference quote  \\\n7357   Thu hồi đất       NaN   NaN   \n6935                     NaN   NaN   \n13999                    NaN   NaN   \n11231                    NaN   NaN   \n9010                     NaN   NaN   \n\n                                              conclusion  \\\n7357   [Việc bồi thường về đất đối với những người đa...   \n6935   [Căn cứ Điều 20 Nghị định 41/2019/NĐ-CP quy đị...   \n13999  [Nhận ca trực vận hành hệ thống điện được quy ...   \n11231  [Nhiệm vụ quy hoạch lưu vực sông được quy định...   \n9010   [Tại Điều 8 Thông tư 152/2011/TT-BTC quy định ...   \n\n                                             description  \n7357   Tôi muốn hỏi Ban biên tập một câu như sau: Việ...  \n6935   Xin chào, Ban biên tập vui lòng tư vấn giúp tô...  \n13999  Nhận ca trực vận hành hệ thống điện được quy đ...  \n11231  Nhiệm vụ quy hoạch lưu vực sông được quy định ...  \n9010   Chào anh chị, theo tôi được biết thuế bảo vệ m...  ",
      "text/html": "<div>\n<style scoped>\n    .dataframe tbody tr th:only-of-type {\n        vertical-align: middle;\n    }\n\n    .dataframe tbody tr th {\n        vertical-align: top;\n    }\n\n    .dataframe thead th {\n        text-align: right;\n    }\n</style>\n<table border=\"1\" class=\"dataframe\">\n  <thead>\n    <tr style=\"text-align: right;\">\n      <th></th>\n      <th>_id</th>\n      <th>title</th>\n      <th>date_answer</th>\n      <th>field</th>\n      <th>reference</th>\n      <th>quote</th>\n      <th>conclusion</th>\n      <th>description</th>\n    </tr>\n  </thead>\n  <tbody>\n    <tr>\n      <th>7357</th>\n      <td>653a8e291e06875841d16985</td>\n      <td>Bồi thường về đất đối với những người đang có ...</td>\n      <td>2019-04-03</td>\n      <td>Thu hồi đất</td>\n      <td>NaN</td>\n      <td>NaN</td>\n      <td>[Việc bồi thường về đất đối với những người đa...</td>\n      <td>Tôi muốn hỏi Ban biên tập một câu như sau: Việ...</td>\n    </tr>\n    <tr>\n      <th>6935</th>\n      <td>653a8d701e06875841d16639</td>\n      <td>Lấy ý kiến về quy hoạch năng lượng nguyên tử</td>\n      <td>2019-05-30</td>\n      <td></td>\n      <td>NaN</td>\n      <td>NaN</td>\n      <td>[Căn cứ Điều 20 Nghị định 41/2019/NĐ-CP quy đị...</td>\n      <td>Xin chào, Ban biên tập vui lòng tư vấn giúp tô...</td>\n    </tr>\n    <tr>\n      <th>13999</th>\n      <td>653a98af1e06875841d19d69</td>\n      <td>Quy định về nhận ca trực vận hành hệ thống điện</td>\n      <td>2017-06-27</td>\n      <td></td>\n      <td>NaN</td>\n      <td>NaN</td>\n      <td>[Nhận ca trực vận hành hệ thống điện được quy ...</td>\n      <td>Nhận ca trực vận hành hệ thống điện được quy đ...</td>\n    </tr>\n    <tr>\n      <th>11231</th>\n      <td>653a93741e06875841d187c9</td>\n      <td>Nhiệm vụ quy hoạch lưu vực sông được quy định ...</td>\n      <td>2018-03-21</td>\n      <td></td>\n      <td>NaN</td>\n      <td>NaN</td>\n      <td>[Nhiệm vụ quy hoạch lưu vực sông được quy định...</td>\n      <td>Nhiệm vụ quy hoạch lưu vực sông được quy định ...</td>\n    </tr>\n    <tr>\n      <th>9010</th>\n      <td>653a90ca1e06875841d1766f</td>\n      <td>Hoàn thuế bảo vệ môi trường trong những trường...</td>\n      <td>2018-11-17</td>\n      <td></td>\n      <td>NaN</td>\n      <td>NaN</td>\n      <td>[Tại Điều 8 Thông tư 152/2011/TT-BTC quy định ...</td>\n      <td>Chào anh chị, theo tôi được biết thuế bảo vệ m...</td>\n    </tr>\n  </tbody>\n</table>\n</div>"
     },
     "execution_count": 5,
     "metadata": {},
     "output_type": "execute_result"
    }
   ],
   "source": [
    "df = pd.DataFrame(documents)\n",
    "df.sample(5)"
   ]
  },
  {
   "cell_type": "code",
   "execution_count": 6,
   "metadata": {
    "ExecuteTime": {
     "start_time": "2024-01-11T01:29:25.430012Z",
     "end_time": "2024-01-11T01:29:25.489696Z"
    }
   },
   "outputs": [
    {
     "name": "stdout",
     "output_type": "stream",
     "text": [
      "<class 'pandas.core.frame.DataFrame'>\n",
      "RangeIndex: 20136 entries, 0 to 20135\n",
      "Data columns (total 8 columns):\n",
      " #   Column       Non-Null Count  Dtype \n",
      "---  ------       --------------  ----- \n",
      " 0   _id          20136 non-null  object\n",
      " 1   title        20136 non-null  object\n",
      " 2   date_answer  20136 non-null  object\n",
      " 3   field        20136 non-null  object\n",
      " 4   reference    4156 non-null   object\n",
      " 5   quote        4156 non-null   object\n",
      " 6   conclusion   20136 non-null  object\n",
      " 7   description  15980 non-null  object\n",
      "dtypes: object(8)\n",
      "memory usage: 1.2+ MB\n"
     ]
    }
   ],
   "source": [
    "df.shape\n",
    "df.info()"
   ]
  },
  {
   "cell_type": "code",
   "execution_count": 7,
   "metadata": {
    "ExecuteTime": {
     "start_time": "2024-01-11T01:29:25.463689Z",
     "end_time": "2024-01-11T01:29:25.489696Z"
    }
   },
   "outputs": [],
   "source": [
    "## 2. Data cleaning"
   ]
  },
  {
   "cell_type": "code",
   "execution_count": 8,
   "metadata": {
    "ExecuteTime": {
     "start_time": "2024-01-11T01:29:25.467690Z",
     "end_time": "2024-01-11T01:29:25.587547Z"
    }
   },
   "outputs": [],
   "source": [
    "df = df.dropna(subset=['title'])\n",
    "df = df[df['title'] != '']"
   ]
  },
  {
   "cell_type": "code",
   "execution_count": 9,
   "metadata": {
    "ExecuteTime": {
     "start_time": "2024-01-11T01:29:25.504554Z",
     "end_time": "2024-01-11T01:29:25.654717Z"
    }
   },
   "outputs": [],
   "source": [
    "def dropEmpty(row):\n",
    "    if isinstance(row['conclusion'], list) and not row['conclusion'] and pd.isna(row['quote']):\n",
    "        return True\n",
    "    return False\n",
    "\n",
    "df = df[~df.apply(dropEmpty, axis=1)]\n",
    "\n",
    "df = df.reset_index(drop=True)"
   ]
  },
  {
   "cell_type": "code",
   "execution_count": 10,
   "metadata": {
    "ExecuteTime": {
     "start_time": "2024-01-11T01:29:25.648440Z",
     "end_time": "2024-01-11T01:29:25.657713Z"
    }
   },
   "outputs": [
    {
     "name": "stdout",
     "output_type": "stream",
     "text": [
      "<class 'pandas.core.frame.DataFrame'>\n",
      "RangeIndex: 20105 entries, 0 to 20104\n",
      "Data columns (total 8 columns):\n",
      " #   Column       Non-Null Count  Dtype \n",
      "---  ------       --------------  ----- \n",
      " 0   _id          20105 non-null  object\n",
      " 1   title        20105 non-null  object\n",
      " 2   date_answer  20105 non-null  object\n",
      " 3   field        20105 non-null  object\n",
      " 4   reference    4156 non-null   object\n",
      " 5   quote        4156 non-null   object\n",
      " 6   conclusion   20105 non-null  object\n",
      " 7   description  15949 non-null  object\n",
      "dtypes: object(8)\n",
      "memory usage: 1.2+ MB\n"
     ]
    }
   ],
   "source": [
    "df.info()"
   ]
  },
  {
   "cell_type": "code",
   "execution_count": 11,
   "metadata": {
    "ExecuteTime": {
     "start_time": "2024-01-11T01:29:25.660712Z",
     "end_time": "2024-01-11T01:29:25.690519Z"
    }
   },
   "outputs": [],
   "source": [
    "# df.to_json('data/backup/temp.json', orient='records', lines=True, force_ascii=False, date_format='iso', default_handler=str)"
   ]
  },
  {
   "cell_type": "code",
   "execution_count": 12,
   "metadata": {
    "ExecuteTime": {
     "start_time": "2024-01-11T01:29:25.672518Z",
     "end_time": "2024-01-11T01:29:25.796966Z"
    }
   },
   "outputs": [],
   "source": [
    "def merge_quote(quote):\n",
    "    if isinstance(quote, dict):\n",
    "        name = quote.get('name', ' ')\n",
    "        content = '\\n'.join(quote.get('content', []))\n",
    "\n",
    "        if name is None:\n",
    "            name = ' '\n",
    "        if content is None:\n",
    "            content = ' '\n",
    "\n",
    "        return f\"{name}: \\n {content}\"\n",
    "    else:\n",
    "        return None\n",
    "\n",
    "\n",
    "df['conclusion'] = df.apply(lambda row: merge_quote(row['quote']) if row['conclusion'] == [] else row['conclusion'], axis=1)"
   ]
  },
  {
   "cell_type": "code",
   "execution_count": 13,
   "metadata": {
    "ExecuteTime": {
     "start_time": "2024-01-11T01:29:25.795979Z",
     "end_time": "2024-01-11T01:29:25.809226Z"
    }
   },
   "outputs": [],
   "source": [
    "df = df.drop(['date_answer', 'field', 'description', 'reference', 'quote'], axis=1)"
   ]
  },
  {
   "cell_type": "code",
   "execution_count": 14,
   "metadata": {
    "ExecuteTime": {
     "start_time": "2024-01-11T01:29:25.805226Z",
     "end_time": "2024-01-11T01:29:25.822287Z"
    }
   },
   "outputs": [
    {
     "data": {
      "text/plain": "                            _id  \\\n6612   653a8cf21e06875841d163c7   \n5982   653a8c041e06875841d15edb   \n11039  653a93371e06875841d1865d   \n11341  653a93a71e06875841d188b9   \n19773  653aa03e1e06875841d1caa5   \n\n                                                   title  \\\n6612   05 căn cứ tính tiền cấp quyền khai thác khoáng...   \n5982   Tiêu chí đánh giá hạ tầng kỹ thuật công nghệ t...   \n11039  Nguyên tắc thực hiện khởi động đen và khôi phụ...   \n11341           Nguyên tắc lập quy hoạch tài nguyên nước   \n19773          Có được đền bù thiệt hại về đất hay không   \n\n                                              conclusion  \n6612   [Theo Điều 5 Nghị định 67/2019/NĐ-CP (Có hiệu ...  \n5982   [Căn cứ Mục 1 Phụ lục 3 Quyết định 2899/QĐ-BTN...  \n11039  [Nguyên tắc thực hiện khởi động đen và khôi ph...  \n11341  [Theo quy định tại Điều 16 Luật tài nguyên nướ...  \n19773  [Chào bạn, Theo nội dung bạn trình bày thì đất...  ",
      "text/html": "<div>\n<style scoped>\n    .dataframe tbody tr th:only-of-type {\n        vertical-align: middle;\n    }\n\n    .dataframe tbody tr th {\n        vertical-align: top;\n    }\n\n    .dataframe thead th {\n        text-align: right;\n    }\n</style>\n<table border=\"1\" class=\"dataframe\">\n  <thead>\n    <tr style=\"text-align: right;\">\n      <th></th>\n      <th>_id</th>\n      <th>title</th>\n      <th>conclusion</th>\n    </tr>\n  </thead>\n  <tbody>\n    <tr>\n      <th>6612</th>\n      <td>653a8cf21e06875841d163c7</td>\n      <td>05 căn cứ tính tiền cấp quyền khai thác khoáng...</td>\n      <td>[Theo Điều 5 Nghị định 67/2019/NĐ-CP (Có hiệu ...</td>\n    </tr>\n    <tr>\n      <th>5982</th>\n      <td>653a8c041e06875841d15edb</td>\n      <td>Tiêu chí đánh giá hạ tầng kỹ thuật công nghệ t...</td>\n      <td>[Căn cứ Mục 1 Phụ lục 3 Quyết định 2899/QĐ-BTN...</td>\n    </tr>\n    <tr>\n      <th>11039</th>\n      <td>653a93371e06875841d1865d</td>\n      <td>Nguyên tắc thực hiện khởi động đen và khôi phụ...</td>\n      <td>[Nguyên tắc thực hiện khởi động đen và khôi ph...</td>\n    </tr>\n    <tr>\n      <th>11341</th>\n      <td>653a93a71e06875841d188b9</td>\n      <td>Nguyên tắc lập quy hoạch tài nguyên nước</td>\n      <td>[Theo quy định tại Điều 16 Luật tài nguyên nướ...</td>\n    </tr>\n    <tr>\n      <th>19773</th>\n      <td>653aa03e1e06875841d1caa5</td>\n      <td>Có được đền bù thiệt hại về đất hay không</td>\n      <td>[Chào bạn, Theo nội dung bạn trình bày thì đất...</td>\n    </tr>\n  </tbody>\n</table>\n</div>"
     },
     "execution_count": 14,
     "metadata": {},
     "output_type": "execute_result"
    }
   ],
   "source": [
    "df.sample(5)"
   ]
  },
  {
   "cell_type": "code",
   "execution_count": 15,
   "metadata": {
    "ExecuteTime": {
     "start_time": "2024-01-11T01:29:25.822287Z",
     "end_time": "2024-01-11T01:29:25.853510Z"
    }
   },
   "outputs": [
    {
     "name": "stdout",
     "output_type": "stream",
     "text": [
      "'Khi nào phải đăng ký biến động đất đai?': Căn cứ theo khoản 4 Điều 95 Luật Đất đai 2013 thì đăng ký biến động được thực hiện đối với trường hợp đã được cấp Giấy chứng nhận hoặc đã đăng ký mà có thay đổi sau đây:\n",
      "- Người sử dụng đất, chủ sở hữu tài sản gắn liền với đất thực hiện các quyền chuyển đổi, chuyển nhượng, cho thuê, cho thuê lại, thừa kế, tặng cho quyền sử dụng đất, tài sản gắn liền với đất; thế chấp, góp vốn bằng quyền sử dụng đất, tài sản gắn liền với đất;\n",
      "- Người sử dụng đất, chủ sở hữu tài sản gắn liền với đất được phép đổi tên;\n",
      "- Có thay đổi về hình dạng, kích thước, diện tích, số hiệu, địa chỉ thửa đất;\n",
      "- Có thay đổi về tài sản gắn liền với đất so với nội dung đã đăng ký;\n",
      "- Chuyển mục đích sử dụng đất;\n",
      "- Có thay đổi thời hạn sử dụng đất;\n",
      "- Chuyển từ hình thức Nhà nước cho thuê đất thu tiền thuê đất hàng năm sang hình thức thuê đất thu tiền một lần cho cả thời gian thuê; từ hình thức Nhà nước giao đất không thu tiền sử dụng đất sang hình thức thuê đất; từ thuê đất sang giao đất có thu tiền sử dụng đất theo quy định của Luật Đất đai 2013.\n",
      "- Chuyển quyền sử dụng đất, quyền sở hữu nhà ở và tài sản khác gắn liền với đất của vợ hoặc của chồng thành quyền sử dụng đất chung, quyền sở hữu tài sản chung của vợ và chồng;\n",
      "- Chia tách quyền sử dụng đất, quyền sở hữu nhà ở và tài sản khác gắn liền với đất của tổ chức hoặc của hộ gia đình hoặc của vợ và chồng hoặc của nhóm người sử dụng đất chung, nhóm chủ sở hữu tài sản chung gắn liền với đất;\n",
      "- Thay đổi quyền sử dụng đất, quyền sở hữu tài sản gắn liền với đất theo:\n",
      "+ Kết quả hòa giải thành về tranh chấp đất đai được Uỷ ban nhân dân cấp có thẩm quyền công nhận;\n",
      "+ Thỏa thuận trong hợp đồng thế chấp để xử lý nợ;\n",
      "+ Quyết định của cơ quan nhà nước có thẩm quyền về giải quyết tranh chấp đất đai, khiếu nại, tố cáo về đất đai, quyết định hoặc bản án của Tòa án nhân dân, quyết định thi hành án của cơ quan thi hành án đã được thi hành;\n",
      "+ Văn bản công nhận kết quả đấu giá quyền sử dụng đất phù hợp với pháp luật;\n",
      "- Xác lập, thay đổi hoặc chấm dứt quyền sử dụng hạn chế thửa đất liền kề;\n",
      "- Có thay đổi về những hạn chế quyền của người sử dụng đất.\n",
      "\n",
      "Công ty thay đổi trụ sở chính có cần đăng ký biến động đất đai điều chỉnh giấy chứng nhận quyền sử dụng đất? (Hình từ Internet).\n"
     ]
    }
   ],
   "source": [
    "def printConclustion(df, target_title):\n",
    "    conclusion_value = df.loc[df['title'] == target_title, 'conclusion'].values[0]\n",
    "\n",
    "    if isinstance(conclusion_value, list):\n",
    "        conclusion_value = '\\n'.join(conclusion_value)\n",
    "\n",
    "    if conclusion_value and isinstance(conclusion_value, str):\n",
    "        print(f\"'{target_title}': {conclusion_value}\")\n",
    "    else:\n",
    "        print(f\"'{target_title}'\")\n",
    "\n",
    "printConclustion(df, \"Khi nào phải đăng ký biến động đất đai?\")"
   ]
  },
  {
   "cell_type": "code",
   "execution_count": 16,
   "outputs": [],
   "source": [
    "def clean_conclusionArray(conclusion):\n",
    "    words_to_remove = [\"tải về\", \"mẫu đơn\", \"hình từ internet\", \"hình ảnh internet\", \"hình internet\", \"trân trọng\"]\n",
    "    if isinstance(conclusion, list):\n",
    "        cleaned_conclusion1 = [word for word in conclusion if isinstance(word, str) and not any(remove_word in word.lower() for remove_word in words_to_remove)]\n",
    "        cleaned_conclusion2 = [x for x in cleaned_conclusion1 if x is not None and x != '']\n",
    "        return cleaned_conclusion2\n",
    "    return conclusion\n",
    "\n",
    "df['conclusion'] = df['conclusion'].apply(clean_conclusionArray)"
   ],
   "metadata": {
    "collapsed": false,
    "ExecuteTime": {
     "start_time": "2024-01-11T01:29:25.835508Z",
     "end_time": "2024-01-11T01:29:27.332613Z"
    }
   }
  },
  {
   "cell_type": "code",
   "execution_count": 17,
   "metadata": {
    "ExecuteTime": {
     "start_time": "2024-01-11T01:29:27.360796Z",
     "end_time": "2024-01-11T01:29:27.370791Z"
    }
   },
   "outputs": [],
   "source": [
    "def array_to_string(conclusion_array):\n",
    "    return ' '.join(conclusion_array)\n",
    "\n",
    "df['conclusion'] = df['conclusion'].apply(array_to_string)"
   ]
  },
  {
   "cell_type": "code",
   "execution_count": 18,
   "metadata": {
    "ExecuteTime": {
     "start_time": "2024-01-11T01:29:27.407787Z",
     "end_time": "2024-01-11T01:29:33.412471Z"
    }
   },
   "outputs": [],
   "source": [
    "df['title'] = df['title'].apply(clean_text)\n",
    "df['conclusion'] = df['conclusion'].apply(clean_text)"
   ]
  },
  {
   "cell_type": "code",
   "execution_count": 19,
   "metadata": {
    "ExecuteTime": {
     "start_time": "2024-01-11T01:29:33.413483Z",
     "end_time": "2024-01-11T01:29:33.459011Z"
    }
   },
   "outputs": [],
   "source": [
    "row_to_save = df.iloc[1]\n",
    "\n",
    "df_to_save = pd.DataFrame([row_to_save])\n",
    "\n",
    "df_to_save.to_csv('output.txt', mode='a', index=False, header=None, sep='\\n')"
   ]
  },
  {
   "cell_type": "code",
   "execution_count": 20,
   "metadata": {
    "ExecuteTime": {
     "start_time": "2024-01-11T01:29:33.450008Z",
     "end_time": "2024-01-11T01:31:04.850885Z"
    }
   },
   "outputs": [],
   "source": [
    "df['title'] = df['title'].apply(word_segment)\n",
    "df['conclusion'] = df['conclusion'].apply(word_segment)"
   ]
  },
  {
   "cell_type": "code",
   "execution_count": 21,
   "outputs": [],
   "source": [
    "row_to_save = df.iloc[1]\n",
    "df_to_save = pd.DataFrame([row_to_save])\n",
    "df_to_save.to_csv('output.txt', mode='a', index=False, header=None, sep='\\n')"
   ],
   "metadata": {
    "collapsed": false,
    "ExecuteTime": {
     "start_time": "2024-01-11T01:31:04.851896Z",
     "end_time": "2024-01-11T01:31:04.889686Z"
    }
   }
  },
  {
   "cell_type": "code",
   "execution_count": 22,
   "metadata": {
    "ExecuteTime": {
     "start_time": "2024-01-11T01:31:04.890690Z",
     "end_time": "2024-01-11T01:31:05.300220Z"
    }
   },
   "outputs": [],
   "source": [
    "df['title'] = df['title'].apply(normalize_text)\n",
    "df['conclusion'] = df['conclusion'].apply(normalize_text)"
   ]
  },
  {
   "cell_type": "code",
   "execution_count": 23,
   "outputs": [],
   "source": [
    "row_to_save = df.iloc[1]\n",
    "df_to_save = pd.DataFrame([row_to_save])\n",
    "df_to_save.to_csv('output.txt', mode='a', index=False, header=None, sep='\\n')"
   ],
   "metadata": {
    "collapsed": false,
    "ExecuteTime": {
     "start_time": "2024-01-11T01:31:05.303245Z",
     "end_time": "2024-01-11T01:31:05.306677Z"
    }
   }
  },
  {
   "cell_type": "code",
   "execution_count": 24,
   "metadata": {
    "ExecuteTime": {
     "start_time": "2024-01-11T01:31:05.308736Z",
     "end_time": "2024-01-11T01:32:09.414296Z"
    }
   },
   "outputs": [],
   "source": [
    "df['title'] = df['title'].apply(remove_stopword)\n",
    "df['conclusion'] = df['conclusion'].apply(remove_stopword)"
   ]
  },
  {
   "cell_type": "code",
   "execution_count": 25,
   "outputs": [],
   "source": [
    "row_to_save = df.iloc[1]\n",
    "df_to_save = pd.DataFrame([row_to_save])\n",
    "df_to_save.to_csv('output.txt', mode='a', index=False, header=None, sep='\\n')"
   ],
   "metadata": {
    "collapsed": false,
    "ExecuteTime": {
     "start_time": "2024-01-11T01:32:09.416299Z",
     "end_time": "2024-01-11T01:32:09.421383Z"
    }
   }
  },
  {
   "cell_type": "code",
   "execution_count": 26,
   "metadata": {
    "ExecuteTime": {
     "start_time": "2024-01-11T01:32:09.422381Z",
     "end_time": "2024-01-11T01:32:09.460831Z"
    }
   },
   "outputs": [],
   "source": [
    "# df['title'] = df['title'].apply(strip_answer_string)\n",
    "# df['conclusion'] = df['conclusion'].apply(strip_answer_string)"
   ]
  },
  {
   "cell_type": "code",
   "execution_count": 27,
   "outputs": [],
   "source": [
    "df['answer'] = df['conclusion']\n",
    "df = df.drop('conclusion', axis=1)"
   ],
   "metadata": {
    "collapsed": false,
    "ExecuteTime": {
     "start_time": "2024-01-11T01:32:09.455839Z",
     "end_time": "2024-01-11T01:32:09.470043Z"
    }
   }
  },
  {
   "cell_type": "code",
   "execution_count": 28,
   "outputs": [],
   "source": [
    "df['title'] = df['title'].str.replace('_', ' ')\n",
    "df['answer'] = df['answer'].str.replace('_', ' ')"
   ],
   "metadata": {
    "collapsed": false,
    "ExecuteTime": {
     "start_time": "2024-01-11T01:32:09.472044Z",
     "end_time": "2024-01-11T01:32:09.530557Z"
    }
   }
  },
  {
   "cell_type": "code",
   "execution_count": 29,
   "outputs": [
    {
     "data": {
      "text/plain": "0"
     },
     "execution_count": 29,
     "metadata": {},
     "output_type": "execute_result"
    }
   ],
   "source": [
    "df = df.drop_duplicates(subset='title', keep = 'first')\n",
    "df.duplicated(subset='title').sum()"
   ],
   "metadata": {
    "collapsed": false,
    "ExecuteTime": {
     "start_time": "2024-01-11T01:32:09.539554Z",
     "end_time": "2024-01-11T01:32:09.550755Z"
    }
   }
  },
  {
   "cell_type": "code",
   "execution_count": 30,
   "metadata": {
    "ExecuteTime": {
     "start_time": "2024-01-11T01:32:09.568754Z",
     "end_time": "2024-01-11T01:32:10.116993Z"
    }
   },
   "outputs": [],
   "source": [
    "df.to_json('data/cleaned/temp.jsonl', orient='records', lines=True, force_ascii=False, date_format='iso', default_handler=str)"
   ]
  },
  {
   "cell_type": "code",
   "execution_count": 31,
   "metadata": {
    "ExecuteTime": {
     "start_time": "2024-01-11T01:32:10.117984Z",
     "end_time": "2024-01-11T01:32:10.726871Z"
    }
   },
   "outputs": [],
   "source": [
    "json_objects = []\n",
    "\n",
    "with open('./data/backup/temp.json', 'r', encoding='utf-8') as file:\n",
    "    for line in file:\n",
    "        # Load each line as a JSON object\n",
    "        try:\n",
    "            json_object = json.loads(line)\n",
    "            json_objects.append(json_object)\n",
    "        except json.JSONDecodeError as e:\n",
    "            print(f\"Error decoding JSON: {e}\")\n",
    "\n",
    "df_backup = pd.json_normalize(json_objects)"
   ]
  },
  {
   "cell_type": "code",
   "execution_count": 32,
   "metadata": {
    "ExecuteTime": {
     "start_time": "2024-01-11T01:32:10.728882Z",
     "end_time": "2024-01-11T01:32:10.739800Z"
    }
   },
   "outputs": [
    {
     "data": {
      "text/plain": "                            _id  \\\n18645  653a9ebc1e06875841d1c253   \n5995   653a8c231e06875841d15f4b   \n16674  653a9b321e06875841d1b2df   \n3530   653a87e31e06875841d14bd5   \n8639   653a90411e06875841d17403   \n\n                                                   title date_answer  \\\n18645  Tính toán, xác định các khoảng cách phục vụ xá...  2016-11-12   \n5995                                 Điểm tiêu đo là gì?  2019-11-22   \n16674  Trách nhiệm của cơ quan Cảnh sát phòng cháy và...  2017-02-17   \n3530   Phải làm Kiểm soát viên chính thị trường bao n...  2022-05-19   \n8639   Điều kiện tiến hành phiên họp chính thức của h...  2018-12-22   \n\n                                field  \\\n18645                                   \n5995                                    \n16674                                   \n3530                                    \n8639   Đánh giá môi trường chiến lược   \n\n                                               reference  \\\n18645                                               None   \n5995                                                None   \n16674                                               None   \n3530   Theo Khoản 5 Điều 5 Thông tư 02/2022/TT-BCT qu...   \n8639                                                None   \n\n                                              conclusion  \\\n18645  [Theo quy định hiện hành tại Thông tư 29/2016/...   \n5995   [Điểm tiêu đo được quy định tại Khoản 4 Điều 3...   \n16674  [Theo quy định tại Khoản 6 Điều 16 Nghị định 7...   \n3530   [Theo Khoản 5 Điều 5 Thông tư 02/2022/TT-BCT q...   \n8639   [Điều kiện tiến hành phiên họp chính thức của ...   \n\n                                             description quote.content  \\\n18645  Tính toán, xác định các khoảng cách phục vụ xá...          None   \n5995   Ban biên tập cho tôi hỏi: Theo quy định từ Bộ ...          None   \n16674  Trách nhiệm của cơ quan Cảnh sát phòng cháy và...          None   \n3530                                                None            []   \n8639   Ban biên tập có nhận được thăc mắc của bạn Ngu...          None   \n\n      quote.name  \n18645       None  \n5995        None  \n16674       None  \n3530        None  \n8639        None  ",
      "text/html": "<div>\n<style scoped>\n    .dataframe tbody tr th:only-of-type {\n        vertical-align: middle;\n    }\n\n    .dataframe tbody tr th {\n        vertical-align: top;\n    }\n\n    .dataframe thead th {\n        text-align: right;\n    }\n</style>\n<table border=\"1\" class=\"dataframe\">\n  <thead>\n    <tr style=\"text-align: right;\">\n      <th></th>\n      <th>_id</th>\n      <th>title</th>\n      <th>date_answer</th>\n      <th>field</th>\n      <th>reference</th>\n      <th>conclusion</th>\n      <th>description</th>\n      <th>quote.content</th>\n      <th>quote.name</th>\n    </tr>\n  </thead>\n  <tbody>\n    <tr>\n      <th>18645</th>\n      <td>653a9ebc1e06875841d1c253</td>\n      <td>Tính toán, xác định các khoảng cách phục vụ xá...</td>\n      <td>2016-11-12</td>\n      <td></td>\n      <td>None</td>\n      <td>[Theo quy định hiện hành tại Thông tư 29/2016/...</td>\n      <td>Tính toán, xác định các khoảng cách phục vụ xá...</td>\n      <td>None</td>\n      <td>None</td>\n    </tr>\n    <tr>\n      <th>5995</th>\n      <td>653a8c231e06875841d15f4b</td>\n      <td>Điểm tiêu đo là gì?</td>\n      <td>2019-11-22</td>\n      <td></td>\n      <td>None</td>\n      <td>[Điểm tiêu đo được quy định tại Khoản 4 Điều 3...</td>\n      <td>Ban biên tập cho tôi hỏi: Theo quy định từ Bộ ...</td>\n      <td>None</td>\n      <td>None</td>\n    </tr>\n    <tr>\n      <th>16674</th>\n      <td>653a9b321e06875841d1b2df</td>\n      <td>Trách nhiệm của cơ quan Cảnh sát phòng cháy và...</td>\n      <td>2017-02-17</td>\n      <td></td>\n      <td>None</td>\n      <td>[Theo quy định tại Khoản 6 Điều 16 Nghị định 7...</td>\n      <td>Trách nhiệm của cơ quan Cảnh sát phòng cháy và...</td>\n      <td>None</td>\n      <td>None</td>\n    </tr>\n    <tr>\n      <th>3530</th>\n      <td>653a87e31e06875841d14bd5</td>\n      <td>Phải làm Kiểm soát viên chính thị trường bao n...</td>\n      <td>2022-05-19</td>\n      <td></td>\n      <td>Theo Khoản 5 Điều 5 Thông tư 02/2022/TT-BCT qu...</td>\n      <td>[Theo Khoản 5 Điều 5 Thông tư 02/2022/TT-BCT q...</td>\n      <td>None</td>\n      <td>[]</td>\n      <td>None</td>\n    </tr>\n    <tr>\n      <th>8639</th>\n      <td>653a90411e06875841d17403</td>\n      <td>Điều kiện tiến hành phiên họp chính thức của h...</td>\n      <td>2018-12-22</td>\n      <td>Đánh giá môi trường chiến lược</td>\n      <td>None</td>\n      <td>[Điều kiện tiến hành phiên họp chính thức của ...</td>\n      <td>Ban biên tập có nhận được thăc mắc của bạn Ngu...</td>\n      <td>None</td>\n      <td>None</td>\n    </tr>\n  </tbody>\n</table>\n</div>"
     },
     "execution_count": 32,
     "metadata": {},
     "output_type": "execute_result"
    }
   ],
   "source": [
    "df_backup.sample(5)"
   ]
  },
  {
   "cell_type": "code",
   "execution_count": 33,
   "metadata": {
    "ExecuteTime": {
     "start_time": "2024-01-11T01:32:10.740807Z",
     "end_time": "2024-01-11T01:32:10.774304Z"
    }
   },
   "outputs": [
    {
     "name": "stdout",
     "output_type": "stream",
     "text": [
      "<class 'pandas.core.frame.DataFrame'>\n",
      "RangeIndex: 20022 entries, 0 to 20021\n",
      "Data columns (total 9 columns):\n",
      " #   Column         Non-Null Count  Dtype \n",
      "---  ------         --------------  ----- \n",
      " 0   _id            20022 non-null  object\n",
      " 1   title          20022 non-null  object\n",
      " 2   date_answer    20022 non-null  object\n",
      " 3   field          20022 non-null  object\n",
      " 4   reference      4119 non-null   object\n",
      " 5   conclusion     20022 non-null  object\n",
      " 6   description    15903 non-null  object\n",
      " 7   quote.content  4119 non-null   object\n",
      " 8   quote.name     1820 non-null   object\n",
      "dtypes: object(9)\n",
      "memory usage: 1.4+ MB\n"
     ]
    }
   ],
   "source": [
    "df_backup.info()"
   ]
  },
  {
   "cell_type": "code",
   "execution_count": 34,
   "metadata": {
    "ExecuteTime": {
     "start_time": "2024-01-11T01:32:10.763305Z",
     "end_time": "2024-01-11T01:32:12.069894Z"
    }
   },
   "outputs": [],
   "source": [
    "def clean_conclusionArray(conclusion):\n",
    "    words_to_remove = [\"tải về\", \"mẫu đơn\", \"hình từ internet\", \"hình ảnh internet\", \"hình internet\", \"trân trọng\"]\n",
    "    if isinstance(conclusion, list):\n",
    "        cleaned_conclusion1 = [word for word in conclusion if isinstance(word, str) and not any(remove_word in word.lower() for remove_word in words_to_remove)]\n",
    "        cleaned_conclusion2 = [x for x in cleaned_conclusion1 if x is not None and x != '']\n",
    "        return cleaned_conclusion2\n",
    "    return conclusion\n",
    "\n",
    "df_backup['conclusion'] = df_backup['conclusion'].apply(clean_conclusionArray)"
   ]
  },
  {
   "cell_type": "code",
   "execution_count": 36,
   "metadata": {
    "ExecuteTime": {
     "start_time": "2024-01-11T01:32:30.317618Z",
     "end_time": "2024-01-11T01:32:30.322618Z"
    }
   },
   "outputs": [],
   "source": [
    "# df_backup = df_backup.drop(['quote'], axis=1)"
   ]
  },
  {
   "cell_type": "code",
   "execution_count": 37,
   "metadata": {
    "ExecuteTime": {
     "start_time": "2024-01-11T01:32:31.026567Z",
     "end_time": "2024-01-11T01:32:32.246354Z"
    }
   },
   "outputs": [],
   "source": [
    "df_backup.to_json('data/backup/temp.json', orient='records', lines=True, force_ascii=False, date_format='iso', default_handler=str)"
   ]
  },
  {
   "cell_type": "code",
   "execution_count": null,
   "metadata": {
    "ExecuteTime": {
     "start_time": "2024-01-09T19:03:11.735422Z",
     "end_time": "2024-01-09T19:03:11.737433Z"
    }
   },
   "outputs": [],
   "source": []
  }
 ],
 "metadata": {
  "kernelspec": {
   "display_name": "Python 3 (ipykernel)",
   "language": "python",
   "name": "python3"
  },
  "language_info": {
   "codemirror_mode": {
    "name": "ipython",
    "version": 3
   },
   "file_extension": ".py",
   "mimetype": "text/x-python",
   "name": "python",
   "nbconvert_exporter": "python",
   "pygments_lexer": "ipython3",
   "version": "3.11.4"
  }
 },
 "nbformat": 4,
 "nbformat_minor": 1
}
