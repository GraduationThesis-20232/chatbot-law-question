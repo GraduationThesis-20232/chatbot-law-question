{
 "cells": [
  {
   "cell_type": "code",
   "execution_count": 40,
   "metadata": {
    "collapsed": true,
    "ExecuteTime": {
     "start_time": "2024-06-26T16:46:18.646815Z",
     "end_time": "2024-06-26T16:46:19.044373Z"
    }
   },
   "outputs": [],
   "source": [
    "import numpy as np\n",
    "from sentence_transformers import SentenceTransformer\n",
    "from text_untils import *\n",
    "import pickle\n",
    "import pandas as pd\n",
    "import json\n",
    "from sklearn.metrics.pairwise import cosine_similarity"
   ]
  },
  {
   "cell_type": "code",
   "execution_count": 41,
   "outputs": [],
   "source": [
    "with open('output/bm25/bm25_65k_questions_new/bm25plus.pkl', 'rb') as f:\n",
    "    bm25plus = pickle.load(f)"
   ],
   "metadata": {
    "collapsed": false,
    "ExecuteTime": {
     "start_time": "2024-06-26T16:46:18.659813Z",
     "end_time": "2024-06-26T16:46:19.047374Z"
    }
   }
  },
  {
   "cell_type": "code",
   "execution_count": 42,
   "outputs": [],
   "source": [
    "def load_docs_from_file(file_path):\n",
    "    docs = []\n",
    "    with open(file_path, 'r', encoding='utf-8') as file:\n",
    "        for line in file:\n",
    "            try:\n",
    "                doc = json.loads(line)\n",
    "                docs.append(doc)\n",
    "            except json.JSONDecodeError:\n",
    "                continue\n",
    "\n",
    "    return docs\n",
    "\n",
    "docs = load_docs_from_file('output/bm25/bm25_65k_questions_new/docs.jsonl')"
   ],
   "metadata": {
    "collapsed": false,
    "ExecuteTime": {
     "start_time": "2024-06-26T16:46:19.063372Z",
     "end_time": "2024-06-26T16:46:19.337611Z"
    }
   }
  },
  {
   "cell_type": "code",
   "execution_count": 43,
   "outputs": [
    {
     "name": "stdout",
     "output_type": "stream",
     "text": [
      "['đi', 'xe_máy', 'vi_phạm', 'nồng_độ', 'cồn', 'phạt', 'bao_nhiêu', 'tiền']\n"
     ]
    }
   ],
   "source": [
    "query = \"Đi xe máy vi phạm nồng độ cồn bị phạt bao nhiêu tiền?\"\n",
    "query = clean_text(query)\n",
    "query = word_segment(query)\n",
    "query = remove_stopword(normalize_text(query))\n",
    "\n",
    "query_bm25 = query.split()\n",
    "print(query_bm25)"
   ],
   "metadata": {
    "collapsed": false,
    "ExecuteTime": {
     "start_time": "2024-06-26T16:46:19.382607Z",
     "end_time": "2024-06-26T16:46:19.392561Z"
    }
   }
  },
  {
   "cell_type": "markdown",
   "source": [
    "# **BM25**"
   ],
   "metadata": {
    "collapsed": false
   }
  },
  {
   "cell_type": "code",
   "execution_count": 44,
   "outputs": [],
   "source": [
    "bm25_scores = bm25plus.get_scores(query_bm25)\n",
    "top_n_indices = np.argsort(bm25_scores)[::-1][:50]\n",
    "top_n_score = bm25_scores[top_n_indices]\n",
    "\n",
    "topn_docs_bm25 = [docs[idx] for idx in top_n_indices]"
   ],
   "metadata": {
    "collapsed": false,
    "ExecuteTime": {
     "start_time": "2024-06-26T16:46:19.398553Z",
     "end_time": "2024-06-26T16:46:19.507169Z"
    }
   }
  },
  {
   "cell_type": "code",
   "execution_count": 45,
   "outputs": [
    {
     "name": "stdout",
     "output_type": "stream",
     "text": [
      "ID: 6663569fc2f544363eec84dc, Document: đi xe_máy vi_phạm nồng_độ cồn có_thể phạt bao_nhiêu tiền, Score: 65.59116414126893\n",
      "ID: 6663569fc2f544363eec84dd, Document: đi xe_máy vi_phạm nồng_độ cồn nộp phạt, Score: 64.08573026612979\n",
      "ID: 6663569fc2f544363eec84de, Document: đi xe_máy ký biên_bản phạt vi_phạm nồng_độ cồn phạt, Score: 62.16723513997646\n",
      "ID: 6663569ec2f544363eec719e, Document: điều_khiển xe_máy nồng_độ cồn phạt vi_phạm hành_chính bao_nhiêu tiền, Score: 62.09109636324652\n",
      "ID: 6663569dc2f544363eec60d6, Document: phạt nồng_độ cồn xe_máy bao_nhiêu, Score: 61.92960124677894\n",
      "ID: 6663569dc2f544363eec5f6b, Document: vi_phạm nồng_độ cồn tạm xe_máy bao_nhiêu, Score: 60.84051108308686\n",
      "ID: 6663569dc2f544363eec5f6a, Document: phạt nồng_độ cồn xe_máy 2024 bao_nhiêu, Score: 60.09489709656561\n",
      "ID: 6663568cc2f544363eec07a4, Document: phạt nồng_độ cồn xe_máy 2024 bao_nhiêu, Score: 60.09489709656561\n",
      "ID: 6663569ac2f544363eec2d7d, Document: vi_phạm nồng_độ cồn xe_máy bao_lâu, Score: 60.01817518251619\n",
      "ID: 6663569dc2f544363eec60d5, Document: nồng_độ cồn bao_nhiêu xe_máy, Score: 59.94493872722974\n",
      "ID: 6663569fc2f544363eec841d, Document: đi xe_máy vi_phạm nồng_độ cồn bao_nhiêu tước lái_xe 2024, Score: 59.931945808730504\n",
      "ID: 6663561bc2f544363eea95c7, Document: giao xe_máy nồng_độ cồn điều_khiển phạt bao_nhiêu tiền, Score: 59.92317692602929\n",
      "ID: 6663569cc2f544363eec42d8, Document: lỗi vi_phạm nồng_độ cồn điều_khiển xe_máy tham_gia giao_thông phạt bao_nhiêu tiền, Score: 59.32038936454665\n",
      "ID: 6663569fc2f544363eec817d, Document: vi_phạm nồng_độ cồn tạm xe_máy bao_lâu, Score: 58.31042830730586\n",
      "ID: 6663569bc2f544363eec2eaf, Document: hiện_nay phạt vi_phạm nồng_độ cồn, Score: 57.864084869229046\n",
      "ID: 66635739c2f544363eee90b5, Document: dắt xe_máy đi sử_dụng rượu_bia xử_phạt vi_phạm nồng_độ cồn, Score: 57.82224349429597\n",
      "ID: 6663569ac2f544363eec2d7c, Document: lái xe_máy vi_phạm lỗi nồng_độ cồn tạm xe_máy, Score: 57.67186030118533\n",
      "ID: 6663569dc2f544363eec5a30, Document: phạt nồng_độ cồn xe_máy 2024 thế_nào, Score: 57.56481432078461\n",
      "ID: 6663569cc2f544363eec476c, Document: phạt đối_với đi xe_đạp vi_phạm nồng_độ cồn 2023, Score: 57.425786446180936\n",
      "ID: 6663569ac2f544363eec29d3, Document: điều_khiển xe_máy chấp_hành yêu_cầu kiểm_tra nồng_độ cồn phạt bao_nhiêu tiền, Score: 57.2346046607374\n",
      "ID: 66635735c2f544363eee5474, Document: phạt nồng_độ cồn xe_máy 2024 0 1 phạt bao_nhiêu, Score: 57.19021178293177\n",
      "ID: 6663569dc2f544363eec513d, Document: phạt nồng_độ cồn đối_với điều_khiển xe_máy 2024 bao_nhiêu, Score: 57.07091807727711\n",
      "ID: 66635737c2f544363eee7511, Document: lỗi vi_phạm nồng_độ cồn điều_khiển xe_máy tham_gia giao_thông phạt bao_nhiêu tiền quy_định 2023, Score: 57.05217587665237\n",
      "ID: 6663568dc2f544363eec166a, Document: lái xe_máy vi_phạm nồng_độ cồn tai_nạn giao_thông chết phạt bao_nhiêu tù, Score: 56.89478188877672\n",
      "ID: 6663569bc2f544363eec2eb0, Document: vi_phạm nồng_độ cồn nộp tiền phạt hình_thức trả_góp, Score: 56.57276312038787\n",
      "ID: 6663569fc2f544363eec817c, Document: lái_xe_máy nồng_độ cồn bao_nhiêu phạt, Score: 55.96681315637081\n",
      "ID: 6663569bc2f544363eec3692, Document: phạt hành_vi vi_phạm nồng_độ cồn xe_đạp điện bao_nhiêu, Score: 55.95390170135286\n",
      "ID: 6663569bc2f544363eec2eb1, Document: có_thể nộp tiền phạt vi_phạm nồng_độ cồn thông_qua hình_thức, Score: 55.339584930502596\n",
      "ID: 66635739c2f544363eee90b7, Document: phạt tiền hình_thức xử_phạt bổ_sung điều_khiển xe_máy vi_phạm_quy_định nồng_độ cồn, Score: 55.235614957714574\n",
      "ID: 6663568cc2f544363eec07a3, Document: nồng_độ cồn phép lái xe_máy bao_nhiêu 2024, Score: 55.15447474784102\n",
      "ID: 6663569dc2f544363eec5947, Document: phạt lỗi nồng_độ cồn xe_máy xe ô_tô 2023, Score: 54.83752064755994\n",
      "ID: 667aa98f1766e2648847164a, Document: phạt nồng_độ cồn ô_tô 2024 bao_nhiêu, Score: 54.52815850110385\n",
      "ID: 6663569dc2f544363eec5948, Document: vi_phạm nồng_độ cồn tạm phương_tiện, Score: 54.05538709210806\n",
      "ID: 6663569fc2f544363eec7bbd, Document: vi_phạm nồng_độ cồn tạm xe, Score: 54.05538709210806\n",
      "ID: 6663569ec2f544363eec71b0, Document: vi_phạm nồng_độ cồn tạm xe, Score: 54.05538709210806\n",
      "ID: 66635778c2f544363eeff8df, Document: yêu_cầu vi_phạm thổi nồng_độ cồn, Score: 54.05538709210806\n",
      "ID: 6663568cc2f544363eec07a5, Document: lỗi nồng_độ cồn xe_máy giam xe, Score: 54.00909095901449\n",
      "ID: 6663568bc2f544363eebf584, Document: nồng_độ cồn điều_khiển xe_máy giam bao_lâu, Score: 54.00909095901449\n",
      "ID: 66635757c2f544363eef40ba, Document: vi_phạm nồng_độ cồn dịp tết_âm_lịch có_thể nộp phạt, Score: 53.72050427163569\n",
      "ID: 6663561bc2f544363eea95c8, Document: giao xe_máy nồng_độ cồn điều_khiển tai_nạn chết phạt tù, Score: 53.70044761785073\n",
      "ID: 66635689c2f544363eebd207, Document: nồng_độ cồn, Score: 53.55663235456161\n",
      "ID: 6663569fc2f544363eec7bb6, Document: đi xe_máy đèn_đỏ phạt bao_nhiêu tiền, Score: 53.388104121287256\n",
      "ID: 6663569ac2f544363eec269b, Document: chấp_hành hiệu_lệnh kiểm_tra nồng_độ cồn phạt bao_nhiêu, Score: 53.2687122127664\n",
      "ID: 6663569ec2f544363eec719f, Document: điều_khiển xe_máy nồng_độ cồn tạm xe lái, Score: 52.781973918771236\n",
      "ID: 6663569cc2f544363eec4679, Document: công_an xã xử_phạt vi_phạm nồng_độ cồn, Score: 52.743689711844105\n",
      "ID: 6663569bc2f544363eec354d, Document: thời_hiệu xử_phạt vi_phạm nồng_độ cồn bao_lâu, Score: 52.743689711844105\n",
      "ID: 6663569ec2f544363eec6808, Document: tài_xế lái xe_máy chấp_hành yêu_cầu thổi nồng_độ cồn phạt thế_nào, Score: 52.68271685138275\n",
      "ID: 6663569ac2f544363eec29d2, Document: điều_khiển xe_máy uống mấy lon bia phạt hành_chính nồng_độ cồn, Score: 52.68271685138275\n",
      "ID: 66635689c2f544363eebd208, Document: vi_phạm nồng_độ cồn dịp tết 2024 có_thể nộp phạt, Score: 52.64529639299815\n",
      "ID: 6663569bc2f544363eec3691, Document: đi xe_đạp điện thổi nồng_độ cồn, Score: 52.639845601651636\n"
     ]
    }
   ],
   "source": [
    "for doc_dict, score in zip(topn_docs_bm25, top_n_score):\n",
    "    doc_id = doc_dict['id']\n",
    "    doc_title = doc_dict['title']\n",
    "    print(f\"ID: {doc_id}, Document: {doc_title}, Score: {score}\")"
   ],
   "metadata": {
    "collapsed": false,
    "ExecuteTime": {
     "start_time": "2024-06-26T16:46:19.512168Z",
     "end_time": "2024-06-26T16:46:19.522303Z"
    }
   }
  },
  {
   "cell_type": "code",
   "execution_count": 46,
   "outputs": [
    {
     "name": "stdout",
     "output_type": "stream",
     "text": [
      "ID: 6663569fc2f544363eec84dc, Document: đi xe_máy vi_phạm nồng_độ cồn có_thể phạt bao_nhiêu tiền, Rescaled Score: 1.0000\n",
      "ID: 6663569fc2f544363eec84dd, Document: đi xe_máy vi_phạm nồng_độ cồn nộp phạt, Rescaled Score: 0.9770\n",
      "ID: 6663569fc2f544363eec84de, Document: đi xe_máy ký biên_bản phạt vi_phạm nồng_độ cồn phạt, Rescaled Score: 0.9478\n",
      "ID: 6663569ec2f544363eec719e, Document: điều_khiển xe_máy nồng_độ cồn phạt vi_phạm hành_chính bao_nhiêu tiền, Rescaled Score: 0.9466\n",
      "ID: 6663569dc2f544363eec60d6, Document: phạt nồng_độ cồn xe_máy bao_nhiêu, Rescaled Score: 0.9442\n",
      "ID: 6663569dc2f544363eec5f6b, Document: vi_phạm nồng_độ cồn tạm xe_máy bao_nhiêu, Rescaled Score: 0.9276\n",
      "ID: 6663569dc2f544363eec5f6a, Document: phạt nồng_độ cồn xe_máy 2024 bao_nhiêu, Rescaled Score: 0.9162\n",
      "ID: 6663568cc2f544363eec07a4, Document: phạt nồng_độ cồn xe_máy 2024 bao_nhiêu, Rescaled Score: 0.9162\n",
      "ID: 6663569ac2f544363eec2d7d, Document: vi_phạm nồng_độ cồn xe_máy bao_lâu, Rescaled Score: 0.9150\n",
      "ID: 6663569dc2f544363eec60d5, Document: nồng_độ cồn bao_nhiêu xe_máy, Rescaled Score: 0.9139\n",
      "ID: 6663569fc2f544363eec841d, Document: đi xe_máy vi_phạm nồng_độ cồn bao_nhiêu tước lái_xe 2024, Rescaled Score: 0.9137\n",
      "ID: 6663561bc2f544363eea95c7, Document: giao xe_máy nồng_độ cồn điều_khiển phạt bao_nhiêu tiền, Rescaled Score: 0.9136\n",
      "ID: 6663569cc2f544363eec42d8, Document: lỗi vi_phạm nồng_độ cồn điều_khiển xe_máy tham_gia giao_thông phạt bao_nhiêu tiền, Rescaled Score: 0.9044\n",
      "ID: 6663569fc2f544363eec817d, Document: vi_phạm nồng_độ cồn tạm xe_máy bao_lâu, Rescaled Score: 0.8890\n",
      "ID: 6663569bc2f544363eec2eaf, Document: hiện_nay phạt vi_phạm nồng_độ cồn, Rescaled Score: 0.8822\n",
      "ID: 66635739c2f544363eee90b5, Document: dắt xe_máy đi sử_dụng rượu_bia xử_phạt vi_phạm nồng_độ cồn, Rescaled Score: 0.8816\n",
      "ID: 6663569ac2f544363eec2d7c, Document: lái xe_máy vi_phạm lỗi nồng_độ cồn tạm xe_máy, Rescaled Score: 0.8793\n",
      "ID: 6663569dc2f544363eec5a30, Document: phạt nồng_độ cồn xe_máy 2024 thế_nào, Rescaled Score: 0.8776\n",
      "ID: 6663569cc2f544363eec476c, Document: phạt đối_với đi xe_đạp vi_phạm nồng_độ cồn 2023, Rescaled Score: 0.8755\n",
      "ID: 6663569ac2f544363eec29d3, Document: điều_khiển xe_máy chấp_hành yêu_cầu kiểm_tra nồng_độ cồn phạt bao_nhiêu tiền, Rescaled Score: 0.8726\n",
      "ID: 66635735c2f544363eee5474, Document: phạt nồng_độ cồn xe_máy 2024 0 1 phạt bao_nhiêu, Rescaled Score: 0.8719\n",
      "ID: 6663569dc2f544363eec513d, Document: phạt nồng_độ cồn đối_với điều_khiển xe_máy 2024 bao_nhiêu, Rescaled Score: 0.8701\n",
      "ID: 66635737c2f544363eee7511, Document: lỗi vi_phạm nồng_độ cồn điều_khiển xe_máy tham_gia giao_thông phạt bao_nhiêu tiền quy_định 2023, Rescaled Score: 0.8698\n",
      "ID: 6663568dc2f544363eec166a, Document: lái xe_máy vi_phạm nồng_độ cồn tai_nạn giao_thông chết phạt bao_nhiêu tù, Rescaled Score: 0.8674\n",
      "ID: 6663569bc2f544363eec2eb0, Document: vi_phạm nồng_độ cồn nộp tiền phạt hình_thức trả_góp, Rescaled Score: 0.8625\n",
      "ID: 6663569fc2f544363eec817c, Document: lái_xe_máy nồng_độ cồn bao_nhiêu phạt, Rescaled Score: 0.8533\n",
      "ID: 6663569bc2f544363eec3692, Document: phạt hành_vi vi_phạm nồng_độ cồn xe_đạp điện bao_nhiêu, Rescaled Score: 0.8531\n",
      "ID: 6663569bc2f544363eec2eb1, Document: có_thể nộp tiền phạt vi_phạm nồng_độ cồn thông_qua hình_thức, Rescaled Score: 0.8437\n",
      "ID: 66635739c2f544363eee90b7, Document: phạt tiền hình_thức xử_phạt bổ_sung điều_khiển xe_máy vi_phạm_quy_định nồng_độ cồn, Rescaled Score: 0.8421\n",
      "ID: 6663568cc2f544363eec07a3, Document: nồng_độ cồn phép lái xe_máy bao_nhiêu 2024, Rescaled Score: 0.8409\n",
      "ID: 6663569dc2f544363eec5947, Document: phạt lỗi nồng_độ cồn xe_máy xe ô_tô 2023, Rescaled Score: 0.8361\n",
      "ID: 667aa98f1766e2648847164a, Document: phạt nồng_độ cồn ô_tô 2024 bao_nhiêu, Rescaled Score: 0.8313\n",
      "ID: 6663569dc2f544363eec5948, Document: vi_phạm nồng_độ cồn tạm phương_tiện, Rescaled Score: 0.8241\n",
      "ID: 6663569fc2f544363eec7bbd, Document: vi_phạm nồng_độ cồn tạm xe, Rescaled Score: 0.8241\n",
      "ID: 6663569ec2f544363eec71b0, Document: vi_phạm nồng_độ cồn tạm xe, Rescaled Score: 0.8241\n",
      "ID: 66635778c2f544363eeff8df, Document: yêu_cầu vi_phạm thổi nồng_độ cồn, Rescaled Score: 0.8241\n",
      "ID: 6663568cc2f544363eec07a5, Document: lỗi nồng_độ cồn xe_máy giam xe, Rescaled Score: 0.8234\n",
      "ID: 6663568bc2f544363eebf584, Document: nồng_độ cồn điều_khiển xe_máy giam bao_lâu, Rescaled Score: 0.8234\n",
      "ID: 66635757c2f544363eef40ba, Document: vi_phạm nồng_độ cồn dịp tết_âm_lịch có_thể nộp phạt, Rescaled Score: 0.8190\n",
      "ID: 6663561bc2f544363eea95c8, Document: giao xe_máy nồng_độ cồn điều_khiển tai_nạn chết phạt tù, Rescaled Score: 0.8187\n",
      "ID: 66635689c2f544363eebd207, Document: nồng_độ cồn, Rescaled Score: 0.8165\n",
      "ID: 6663569fc2f544363eec7bb6, Document: đi xe_máy đèn_đỏ phạt bao_nhiêu tiền, Rescaled Score: 0.8140\n",
      "ID: 6663569ac2f544363eec269b, Document: chấp_hành hiệu_lệnh kiểm_tra nồng_độ cồn phạt bao_nhiêu, Rescaled Score: 0.8121\n",
      "ID: 6663569ec2f544363eec719f, Document: điều_khiển xe_máy nồng_độ cồn tạm xe lái, Rescaled Score: 0.8047\n",
      "ID: 6663569cc2f544363eec4679, Document: công_an xã xử_phạt vi_phạm nồng_độ cồn, Rescaled Score: 0.8041\n",
      "ID: 6663569bc2f544363eec354d, Document: thời_hiệu xử_phạt vi_phạm nồng_độ cồn bao_lâu, Rescaled Score: 0.8041\n",
      "ID: 6663569ec2f544363eec6808, Document: tài_xế lái xe_máy chấp_hành yêu_cầu thổi nồng_độ cồn phạt thế_nào, Rescaled Score: 0.8032\n",
      "ID: 6663569ac2f544363eec29d2, Document: điều_khiển xe_máy uống mấy lon bia phạt hành_chính nồng_độ cồn, Rescaled Score: 0.8032\n",
      "ID: 66635689c2f544363eebd208, Document: vi_phạm nồng_độ cồn dịp tết 2024 có_thể nộp phạt, Rescaled Score: 0.8026\n",
      "ID: 6663569bc2f544363eec3691, Document: đi xe_đạp điện thổi nồng_độ cồn, Rescaled Score: 0.8025\n"
     ]
    }
   ],
   "source": [
    "max_score = max(top_n_score)\n",
    "rescaled_scores = [1*score/max_score for score in top_n_score]\n",
    "\n",
    "final_top_docs_bm25 = []\n",
    "for (doc_dict, score) in zip(topn_docs_bm25, rescaled_scores):\n",
    "    doc_id = doc_dict['id']\n",
    "    doc_title = doc_dict['title']\n",
    "    print(f\"ID: {doc_id}, Document: {doc_title}, Rescaled Score: {score:.4f}\")\n",
    "    final_top_docs_bm25.append({'id': doc_id, 'title': doc_title, 'bm25_score': score})"
   ],
   "metadata": {
    "collapsed": false,
    "ExecuteTime": {
     "start_time": "2024-06-26T16:46:19.522303Z",
     "end_time": "2024-06-26T16:46:19.536766Z"
    }
   }
  },
  {
   "cell_type": "markdown",
   "source": [
    "# **bi-encoder**"
   ],
   "metadata": {
    "collapsed": false
   }
  },
  {
   "cell_type": "code",
   "execution_count": 47,
   "outputs": [],
   "source": [
    "from transformers import AutoTokenizer, AutoModel\n",
    "import torch\n",
    "import faiss"
   ],
   "metadata": {
    "collapsed": false,
    "ExecuteTime": {
     "start_time": "2024-06-26T16:46:19.543806Z",
     "end_time": "2024-06-26T16:46:19.581469Z"
    }
   }
  },
  {
   "cell_type": "code",
   "execution_count": 48,
   "outputs": [],
   "source": [
    "def mean_pooling(model_output, attention_mask):\n",
    "    token_embeddings = model_output[0] #First element of model_output contains all token embeddings\n",
    "    input_mask_expanded = attention_mask.unsqueeze(-1).expand(token_embeddings.size()).float()\n",
    "    return torch.sum(token_embeddings * input_mask_expanded, 1) / torch.clamp(input_mask_expanded.sum(1), min=1e-9)"
   ],
   "metadata": {
    "collapsed": false,
    "ExecuteTime": {
     "start_time": "2024-06-26T16:46:19.554806Z",
     "end_time": "2024-06-26T16:46:19.598480Z"
    }
   }
  },
  {
   "cell_type": "code",
   "execution_count": 49,
   "outputs": [],
   "source": [
    "tokenizer = AutoTokenizer.from_pretrained('bkai-foundation-models/vietnamese-bi-encoder')\n",
    "model_bi_encoder = AutoModel.from_pretrained('bkai-foundation-models/vietnamese-bi-encoder')"
   ],
   "metadata": {
    "collapsed": false,
    "ExecuteTime": {
     "start_time": "2024-06-26T16:46:19.567472Z",
     "end_time": "2024-06-26T16:46:21.086136Z"
    }
   }
  },
  {
   "cell_type": "code",
   "execution_count": 50,
   "outputs": [],
   "source": [
    "index = faiss.read_index('output/sbert/embeddings_65k_index.index')\n",
    "\n",
    "encoded_query = tokenizer([query], padding=True, truncation=True, return_tensors='pt', max_length=256)\n",
    "\n",
    "with torch.no_grad():\n",
    "    model_output_query = model_bi_encoder(**encoded_query)\n",
    "\n",
    "embeddings_query = mean_pooling(model_output_query, encoded_query['attention_mask'])\n",
    "embeddings_query = embeddings_query.cpu().numpy()\n",
    "faiss.normalize_L2(embeddings_query)"
   ],
   "metadata": {
    "collapsed": false,
    "ExecuteTime": {
     "start_time": "2024-06-26T16:46:21.090140Z",
     "end_time": "2024-06-26T16:46:21.232890Z"
    }
   }
  },
  {
   "cell_type": "code",
   "execution_count": 51,
   "outputs": [],
   "source": [
    "k = 50\n",
    "distances_bi_encoder, indices = index.search(embeddings_query, k)"
   ],
   "metadata": {
    "collapsed": false,
    "ExecuteTime": {
     "start_time": "2024-06-26T16:46:21.229891Z",
     "end_time": "2024-06-26T16:46:21.245463Z"
    }
   }
  },
  {
   "cell_type": "code",
   "execution_count": 52,
   "outputs": [],
   "source": [
    "topn_doc_bi_encoder = [docs[idx] for idx in indices[0]]"
   ],
   "metadata": {
    "collapsed": false,
    "ExecuteTime": {
     "start_time": "2024-06-26T16:46:21.246469Z",
     "end_time": "2024-06-26T16:46:21.253244Z"
    }
   }
  },
  {
   "cell_type": "code",
   "execution_count": 53,
   "outputs": [
    {
     "name": "stdout",
     "output_type": "stream",
     "text": [
      "6663569ec2f544363eec719e, Document: điều_khiển xe_máy nồng_độ cồn phạt vi_phạm hành_chính bao_nhiêu tiền, Distance: 0.9253\n",
      "6663569fc2f544363eec817c, Document: lái_xe_máy nồng_độ cồn bao_nhiêu phạt, Distance: 0.8950\n",
      "6663569cc2f544363eec42d8, Document: lỗi vi_phạm nồng_độ cồn điều_khiển xe_máy tham_gia giao_thông phạt bao_nhiêu tiền, Distance: 0.8805\n",
      "6663569ac2f544363eec2d7c, Document: lái xe_máy vi_phạm lỗi nồng_độ cồn tạm xe_máy, Distance: 0.8306\n",
      "6663568cc2f544363eec06a4, Document: điều_khiển xe_máy sử_dụng rượu_bia tham_gia giao_thông phạt bao_nhiêu tiền, Distance: 0.8256\n",
      "6663569bc2f544363eec3ccf, Document: lỗi đi xe_máy đèn_đỏ phạt bao_nhiêu tiền, Distance: 0.8003\n",
      "6663569ec2f544363eec715f, Document: điều_khiển xe_máy đèn_đỏ phạt bao_nhiêu tiền, Distance: 0.7882\n",
      "6663569fc2f544363eec7bb6, Document: đi xe_máy đèn_đỏ phạt bao_nhiêu tiền, Distance: 0.7694\n",
      "6663569dc2f544363eec60d6, Document: phạt nồng_độ cồn xe_máy bao_nhiêu, Distance: 0.7687\n",
      "6663569dc2f544363eec60d5, Document: nồng_độ cồn bao_nhiêu xe_máy, Distance: 0.7686\n",
      "6663569ac2f544363eec258f, Document: điều_khiển xe_máy xe ô_tô nồng_độ cồn tạm xe, Distance: 0.7680\n",
      "6663561bc2f544363eea95c7, Document: giao xe_máy nồng_độ cồn điều_khiển phạt bao_nhiêu tiền, Distance: 0.7615\n",
      "6663569dc2f544363eec601d, Document: giấy_phép lái_xe đi xe_máy phạt bao_nhiêu, Distance: 0.7551\n",
      "6663568cc2f544363eec07a5, Document: lỗi nồng_độ cồn xe_máy giam xe, Distance: 0.7482\n",
      "6663569fc2f544363eec84dc, Document: đi xe_máy vi_phạm nồng_độ cồn có_thể phạt bao_nhiêu tiền, Distance: 0.7422\n",
      "66635778c2f544363eeff9e8, Document: phạt bao_nhiêu tiền điều_khiển xe_máy giấy_phép lái_xe, Distance: 0.7399\n",
      "6663569ec2f544363eec6808, Document: tài_xế lái xe_máy chấp_hành yêu_cầu thổi nồng_độ cồn phạt thế_nào, Distance: 0.7330\n",
      "6663569ac2f544363eec2d7d, Document: vi_phạm nồng_độ cồn xe_máy bao_lâu, Distance: 0.7325\n",
      "667aa98f1766e264884715ea, Document: lái_xe_máy tước giấy_phép lái_xe phạt bao nhiên tiền, Distance: 0.7315\n",
      "6663569dc2f544363eec5f6b, Document: vi_phạm nồng_độ cồn tạm xe_máy bao_nhiêu, Distance: 0.7314\n",
      "6663569ec2f544363eec6af1, Document: lái xe_máy phạt bao_nhiêu tiền, Distance: 0.7266\n",
      "6663569bc2f544363eec3787, Document: xe_gắn_máy đèn_đỏ xử_phạt hành_chính thế_nào, Distance: 0.7240\n",
      "6663569cc2f544363eec47be, Document: điều_khiển xe_máy đi đường cấm phạt bao_nhiêu tiền, Distance: 0.7216\n",
      "6663569ac2f544363eec1e91, Document: lái xe_máy chạy tốc_độ xử_phạt thế_nào, Distance: 0.7215\n",
      "6663569fc2f544363eec817d, Document: vi_phạm nồng_độ cồn tạm xe_máy bao_lâu, Distance: 0.7170\n",
      "6663569cc2f544363eec3edb, Document: lái xe_máy phạt bao_nhiêu tiền, Distance: 0.7085\n",
      "6663569cc2f544363eec3efc, Document: điều_khiển xe_máy đi ngược chiều phạt bao_nhiêu tiền, Distance: 0.7051\n",
      "6663569dc2f544363eec629f, Document: lắp_đèn trợ xe_máy phạt bao_nhiêu tiền, Distance: 0.7023\n",
      "6663569ac2f544363eec2ab9, Document: điều_khiển xe mô_tô xe gắn_máy nồng_độ cồn phạt bao_nhiêu, Distance: 0.7020\n",
      "6663569cc2f544363eec4b84, Document: điều_khiển xe_máy tham_gia giao_thông lái_xe phạt bao_nhiêu, Distance: 0.7001\n",
      "6663569ac2f544363eec1f8d, Document: cavet xe_máy tham_gia giao_thông phạt bao_nhiêu tiền, Distance: 0.6972\n",
      "6663569dc2f544363eec5f6a, Document: phạt nồng_độ cồn xe_máy 2024 bao_nhiêu, Distance: 0.6952\n",
      "66635738c2f544363eee7a5b, Document: lỗi chở hàng cồng_kềnh xe_máy phạt bao_nhiêu, Distance: 0.6938\n",
      "6663569fc2f544363eec841d, Document: đi xe_máy vi_phạm nồng_độ cồn bao_nhiêu tước lái_xe 2024, Distance: 0.6933\n",
      "6663569ec2f544363eec719f, Document: điều_khiển xe_máy nồng_độ cồn tạm xe lái, Distance: 0.6879\n",
      "6663569fc2f544363eec876e, Document: chở xe_máy tham_gia giao_thông đội mũ bảo_hiểm_phạt bao_nhiêu tiền, Distance: 0.6824\n",
      "6663569cc2f544363eec3e66, Document: lỗi đi xe_máy vỉa_hè phạt bao_nhiêu, Distance: 0.6806\n",
      "6663569ac2f544363eec29d2, Document: điều_khiển xe_máy uống mấy lon bia phạt hành_chính nồng_độ cồn, Distance: 0.6805\n",
      "667aa98f1766e264884715b8, Document: nẹt pô xe_máy xử_phạt bao_nhiêu tiền, Distance: 0.6785\n",
      "66635777c2f544363eefe3d6, Document: xe_máy phanh phạt bao_nhiêu tiền, Distance: 0.6784\n",
      "6663569dc2f544363eec513d, Document: phạt nồng_độ cồn đối_với điều_khiển xe_máy 2024 bao_nhiêu, Distance: 0.6766\n",
      "6663569bc2f544363eec3c3f, Document: điều_khiển xe_máy bảo_hiểm xe_máy phạt bao_nhiêu tiền, Distance: 0.6757\n",
      "6663569ec2f544363eec69c2, Document: lái_xe_máy tham_gia giao_thông tước giấy_phép lái_xe xử_phạt thế_nào, Distance: 0.6740\n",
      "6663569ac2f544363eec2c75, Document: phạt lái xe_máy 2023 bao_nhiêu, Distance: 0.6721\n",
      "6663569ec2f544363eec7305, Document: chạy tốc_độ bao_nhiêu tước lái xe_máy, Distance: 0.6685\n",
      "6663569dc2f544363eec561d, Document: phạt lỗi lái xe_máy tham_gia giao_thông bao_nhiêu, Distance: 0.6650\n",
      "66635739c2f544363eee90b5, Document: dắt xe_máy đi sử_dụng rượu_bia xử_phạt vi_phạm nồng_độ cồn, Distance: 0.6648\n",
      "6663569dc2f544363eec60a1, Document: đi xe_máy tai_nạn giao_thông chạy phạt bao_nhiêu tiền, Distance: 0.6644\n",
      "66635735c2f544363eee4bb7, Document: lỗi xi_nhan báo_hiệu điều_khiển xe_máy tham_gia giao_thông phạt bao_nhiêu tiền, Distance: 0.6640\n",
      "6663569bc2f544363eec3692, Document: phạt hành_vi vi_phạm nồng_độ cồn xe_đạp điện bao_nhiêu, Distance: 0.6619\n"
     ]
    }
   ],
   "source": [
    "final_top_docs_bi_encoder = []\n",
    "for distance, doc_dict in zip(distances_bi_encoder[0], topn_doc_bi_encoder):\n",
    "    doc_id = doc_dict['id']\n",
    "    doc_title = doc_dict['title']\n",
    "    print(f\"{doc_id}, Document: {doc_title}, Distance: {distance:.4f}\")\n",
    "    final_top_docs_bi_encoder.append({'id': doc_id, 'title': doc_title, 'bi_encoder_score': distance})"
   ],
   "metadata": {
    "collapsed": false,
    "ExecuteTime": {
     "start_time": "2024-06-26T16:46:21.259247Z",
     "end_time": "2024-06-26T16:46:21.287210Z"
    }
   }
  },
  {
   "cell_type": "markdown",
   "source": [
    "### Combined Bi-encoder and BM25"
   ],
   "metadata": {
    "collapsed": false
   }
  },
  {
   "cell_type": "code",
   "execution_count": 54,
   "outputs": [],
   "source": [
    "final_ensemble = {}"
   ],
   "metadata": {
    "collapsed": false,
    "ExecuteTime": {
     "start_time": "2024-06-26T16:46:21.273780Z",
     "end_time": "2024-06-26T16:46:21.287210Z"
    }
   }
  },
  {
   "cell_type": "code",
   "execution_count": 55,
   "outputs": [],
   "source": [
    "from collections import defaultdict\n",
    "combined_retrieval_scores = defaultdict(lambda: {'bm25_score': 0, 'bi_encoder_score': 0})"
   ],
   "metadata": {
    "collapsed": false,
    "ExecuteTime": {
     "start_time": "2024-06-26T16:46:21.276782Z",
     "end_time": "2024-06-26T16:46:21.287210Z"
    }
   }
  },
  {
   "cell_type": "code",
   "execution_count": 56,
   "outputs": [],
   "source": [
    "for doc in final_top_docs_bm25:\n",
    "    combined_retrieval_scores[doc['id']]['bm25_score'] = doc['bm25_score']"
   ],
   "metadata": {
    "collapsed": false,
    "ExecuteTime": {
     "start_time": "2024-06-26T16:46:21.287210Z",
     "end_time": "2024-06-26T16:46:21.293688Z"
    }
   }
  },
  {
   "cell_type": "code",
   "execution_count": 57,
   "outputs": [],
   "source": [
    "for doc in final_top_docs_bi_encoder:\n",
    "    combined_retrieval_scores[doc['id']]['bi_encoder_score'] = doc['bi_encoder_score']"
   ],
   "metadata": {
    "collapsed": false,
    "ExecuteTime": {
     "start_time": "2024-06-26T16:46:21.295687Z",
     "end_time": "2024-06-26T16:46:21.302696Z"
    }
   }
  },
  {
   "cell_type": "code",
   "execution_count": 58,
   "outputs": [],
   "source": [
    "import math\n",
    "final_retrieval_scores = []\n",
    "for doc_id, scores in combined_retrieval_scores.items():\n",
    "    if scores['bm25_score'] > 0 and scores['bi_encoder_score'] > 0:\n",
    "        combined_score = math.sqrt(scores['bm25_score'] * scores['bi_encoder_score'])\n",
    "        final_retrieval_scores.append({'id': doc_id, 'retrieval_score': combined_score})\n",
    "\n",
    "        if doc_id not in final_ensemble:\n",
    "            final_ensemble[doc_id] = {'id': doc_id}\n",
    "        final_ensemble[doc_id]['bm25_score'] = scores['bm25_score']\n",
    "\n",
    "        if doc_id not in final_ensemble:\n",
    "            final_ensemble[doc_id] = {'id': doc_id}\n",
    "        final_ensemble[doc_id]['bi_encoder_score'] = scores['bi_encoder_score']"
   ],
   "metadata": {
    "collapsed": false,
    "ExecuteTime": {
     "start_time": "2024-06-26T16:46:21.305695Z",
     "end_time": "2024-06-26T16:46:21.312210Z"
    }
   }
  },
  {
   "cell_type": "code",
   "execution_count": 59,
   "outputs": [],
   "source": [
    "final_scores_retrieval = sorted(final_retrieval_scores, key=lambda x: x['retrieval_score'], reverse=True)\n",
    "top_20_scores_retrieval = final_scores_retrieval[:20]"
   ],
   "metadata": {
    "collapsed": false,
    "ExecuteTime": {
     "start_time": "2024-06-26T16:46:21.313210Z",
     "end_time": "2024-06-26T16:46:21.380725Z"
    }
   }
  },
  {
   "cell_type": "code",
   "execution_count": 60,
   "outputs": [
    {
     "name": "stdout",
     "output_type": "stream",
     "text": [
      "ID: 6663569ec2f544363eec719e,  Combined Score: 0.9359\n",
      "ID: 6663569cc2f544363eec42d8,  Combined Score: 0.8924\n",
      "ID: 6663569fc2f544363eec817c,  Combined Score: 0.8739\n",
      "ID: 6663569fc2f544363eec84dc,  Combined Score: 0.8615\n",
      "ID: 6663569ac2f544363eec2d7c,  Combined Score: 0.8546\n",
      "ID: 6663569dc2f544363eec60d6,  Combined Score: 0.8519\n",
      "ID: 6663569dc2f544363eec60d5,  Combined Score: 0.8381\n",
      "ID: 6663561bc2f544363eea95c7,  Combined Score: 0.8341\n",
      "ID: 6663569dc2f544363eec5f6b,  Combined Score: 0.8237\n",
      "ID: 6663569ac2f544363eec2d7d,  Combined Score: 0.8187\n",
      "ID: 6663569fc2f544363eec817d,  Combined Score: 0.7984\n",
      "ID: 6663569dc2f544363eec5f6a,  Combined Score: 0.7981\n",
      "ID: 6663569fc2f544363eec841d,  Combined Score: 0.7959\n",
      "ID: 6663569fc2f544363eec7bb6,  Combined Score: 0.7914\n",
      "ID: 6663568cc2f544363eec07a5,  Combined Score: 0.7849\n",
      "ID: 6663569ec2f544363eec6808,  Combined Score: 0.7673\n",
      "ID: 6663569dc2f544363eec513d,  Combined Score: 0.7673\n",
      "ID: 66635739c2f544363eee90b5,  Combined Score: 0.7656\n",
      "ID: 6663569bc2f544363eec3692,  Combined Score: 0.7514\n",
      "ID: 6663569ec2f544363eec719f,  Combined Score: 0.7440\n"
     ]
    }
   ],
   "source": [
    "for doc in top_20_scores_retrieval:\n",
    "    print(f\"ID: {doc['id']},  Combined Score: {doc['retrieval_score']:.4f}\")"
   ],
   "metadata": {
    "collapsed": false,
    "ExecuteTime": {
     "start_time": "2024-06-26T16:46:21.323725Z",
     "end_time": "2024-06-26T16:46:21.380725Z"
    }
   }
  },
  {
   "cell_type": "markdown",
   "source": [
    "# **cross-encoder**"
   ],
   "metadata": {
    "collapsed": false
   }
  },
  {
   "cell_type": "code",
   "execution_count": 61,
   "outputs": [],
   "source": [
    "from sentence_transformers import CrossEncoder\n",
    "model_cross_encoder = CrossEncoder('cross-encoder/ms-marco-MiniLM-L-6-v2', max_length=512, default_activation_function=torch.nn.Sigmoid(), device='cuda')"
   ],
   "metadata": {
    "collapsed": false,
    "ExecuteTime": {
     "start_time": "2024-06-26T16:46:21.331725Z",
     "end_time": "2024-06-26T16:46:23.324909Z"
    }
   }
  },
  {
   "cell_type": "code",
   "execution_count": 62,
   "outputs": [],
   "source": [
    "from pymongo import MongoClient\n",
    "from bson import ObjectId\n",
    "import pandas as pd\n",
    "\n",
    "def get_selected_rows_from_mongodb(database_name, collection_name, top_docs):\n",
    "    client = MongoClient('mongodb://localhost:27017/')\n",
    "    db = client[database_name]\n",
    "    collection = db[collection_name]\n",
    "\n",
    "    doc_ids = [ObjectId(doc_dict['id']) for doc_dict in top_docs]\n",
    "\n",
    "    cursor = collection.find({'_id': {'$in': doc_ids}}, {\n",
    "        'title': 1,\n",
    "        'reference': 1,\n",
    "        'quote': 1,\n",
    "        'conclusion': 1\n",
    "    })\n",
    "    data = list(cursor)\n",
    "    df = pd.DataFrame(data)\n",
    "\n",
    "    # client.close()\n",
    "    return df"
   ],
   "metadata": {
    "collapsed": false,
    "ExecuteTime": {
     "start_time": "2024-06-26T16:46:23.324031Z",
     "end_time": "2024-06-26T16:46:23.340907Z"
    }
   }
  },
  {
   "cell_type": "code",
   "execution_count": 63,
   "outputs": [],
   "source": [
    "selected_rows = get_selected_rows_from_mongodb('lawlaboratory', 'questions_cleaned', top_20_scores_retrieval)"
   ],
   "metadata": {
    "collapsed": false,
    "ExecuteTime": {
     "start_time": "2024-06-26T16:46:23.327919Z",
     "end_time": "2024-06-26T16:46:23.393896Z"
    }
   }
  },
  {
   "cell_type": "code",
   "execution_count": 64,
   "outputs": [
    {
     "data": {
      "text/plain": "                         _id  \\\n0   6663561bc2f544363eea95c7   \n1   6663568cc2f544363eec07a5   \n2   6663569ac2f544363eec2d7c   \n3   6663569ac2f544363eec2d7d   \n4   6663569bc2f544363eec3692   \n5   6663569cc2f544363eec42d8   \n6   6663569dc2f544363eec513d   \n7   6663569dc2f544363eec5f6a   \n8   6663569dc2f544363eec5f6b   \n9   6663569dc2f544363eec60d5   \n10  6663569dc2f544363eec60d6   \n11  6663569ec2f544363eec6808   \n12  6663569ec2f544363eec719e   \n13  6663569ec2f544363eec719f   \n14  6663569fc2f544363eec7bb6   \n15  6663569fc2f544363eec817c   \n16  6663569fc2f544363eec817d   \n17  6663569fc2f544363eec841d   \n18  6663569fc2f544363eec84dc   \n19  66635739c2f544363eee90b5   \n\n                                                title  \\\n0   Giao xe máy cho người có nồng độ cồn trong ngư...   \n1         Lỗi nồng độ cồn xe máy có bị giam xe không?   \n2   Người lái xe máy vi phạm lỗi nồng độ cồn có bị...   \n3   Người vi phạm nồng độ cồn bị giữ xe máy trong ...   \n4   Mức phạt với hành vi vi phạm nồng độ cồn của x...   \n5   Lỗi vi phạm về nồng độ cồn khi điều khiển xe m...   \n6   Mức phạt nồng độ cồn đối với người điều khiển ...   \n7   Mức phạt nồng độ cồn xe máy năm 2024 là bao nh...   \n8   Vi phạm nồng độ cồn bị tạm giữ xe máy bao nhiê...   \n9            Nồng độ cồn bao nhiêu thì bị giữ xe máy?   \n10  Mức phạt nồng độ cồn xe máy thấp nhất là bao n...   \n11  Tài xế lái xe máy không chấp hành yêu cầu thổi...   \n12  Điều khiển xe máy có nồng độ cồn bị phạt vi ph...   \n13  Điều khiển xe máy có nồng độ cồn bị tạm giữ xe...   \n14  Người đi xe máy vượt đèn đỏ bị phạt bao nhiêu ...   \n15  Lái xe máy với nồng độ cồn bao nhiêu thì bị phạt?   \n16  Vi phạm nồng độ cồn bị tạm giữ xe máy trong ba...   \n17  Người đi xe máy vi phạm nồng độ cồn bao nhiêu ...   \n18  Người đi xe máy vi phạm nồng độ cồn nhiều lần ...   \n19  Dắt bộ xe máy đi về sau khi sử dụng rượu bia b...   \n\n                                           conclusion  \\\n0   [Nếu bạn giao xe máy của bạn cho đồng nghiệp n...   \n1   [Theo đó, người điều khiển xe trên đường mà tr...   \n2   [Với quy định này, người lái xe máy vi phạm lỗ...   \n3   [Theo đó, thời hạn tạm giữ xe vi phạm nồng độ ...   \n4   [Như vậy, mức phạt đối với người điều khiển xe...   \n5   [Theo đó, khi xử phạt sẽ dựa trên nồng độ cồn ...   \n6   [Như vậy, người điều khiển xe máy mà trong máu...   \n7   [Như vậy, mức phạt nồng độ cồn hiện nay được q...   \n8   [Như vậy, thời hạn tạm giữ xe đối với hành vi ...   \n9   [Theo đó, người điều khiển có thể bị tạm giữ x...   \n10  [Như vậy, mức phạt nồng độ cồn xe máy thấp nhấ...   \n11  [Theo đó, tài xế lái xe máy không chấp hành yê...   \n12  [Theo đó, khi điểu khiển xe máy tham gia giao ...   \n13  [Theo đó, khi điều khiển xe máy tham gia giao ...   \n14  [Theo đó, đi xe máy vượt đèn đỏ là hành vi vi ...   \n15  [Theo đó, với nồng độ cồn khác nhau khi lái xe...   \n16  [Thông qua căn cứ trên, trường hợp người lái x...   \n17  [Như vậy, tùy từng trường hợp mà người đi xe m...   \n18  [Theo đó, người đi xe máy mà trong máu hoặc hơ...   \n19  [Như vậy, người dắt bộ xe máy đi về không thuộ...   \n\n                                            reference  \\\n0   Tại khoản 5 Điều 30 Nghị định 100/2019/NĐ-CP đ...   \n1   Căn cứ khoản 1 Điều 82 Nghị định 100/2019/NĐ-C...   \n2   Căn cứ theo khoản 1 Điều 82 Nghị định 100/2019...   \n3   Căn cứ theo khoản 8 Điều 125 Luật Xử lý vi phạ...   \n4   Căn cứ tại điểm q khoản 1, điểm e khoản 3, điể...   \n5   Căn cứ theo khoản 6, 7, 8 Điều 6 Nghị định 100...   \n6   Căn cứ điểm c khoản 6; điểm c khoản 7; điểm e ...   \n7   Tại khoản 6 Điều 6 Nghị định 100/2019/NĐ-CP sử...   \n8   Tại khoản 1 Điều 82 Nghị định 100/2019/NĐ-CP đ...   \n9   Tại Điều 82 Nghị định 100/2019/NĐ-CP được sửa ...   \n10  Tại khoản 6 Điều 6 Nghị định 100/2019/NĐ-CP sử...   \n11  Căn cứ theo khoản 8, 10 Điều 6 Nghị định 100/2...   \n12  Theo Điều 6 Nghị định 100/2019/NĐ-CP quy định ...   \n13  Theo Điều 82 Nghị định 100/2019/NĐ-CP được sửa...   \n14  Căn cứ theo điểm b khoản 3 Điều 10 Luật Giao t...   \n15  Căn cứ theo Điều 6 Nghị định 100/2019/NĐ-CP qu...   \n16  Căn cứ theo khoản 1 Điều 82 Nghị định 100/2019...   \n17  Căn cứ theo điểm c khoản 6, điểm c khoản 7, đi...   \n18  Căn cứ theo điểm e khoản 8, điểm g khoản 10 Đi...   \n19  Căn cứ theo khoản 6 Điều 5 Luật Phòng, chống t...   \n\n                                                quote  \n0   {'name': 'đ) Giao xe hoặc để cho người không đ...  \n1   {'name': 'b) Điểm b, điểm c khoản 6; điểm c kh...  \n2   {'name': 'Tạm giữ phương tiện, giấy tờ có liên...  \n3   {'name': 'Tạm giữ tang vật, phương tiện, giấy ...  \n4   {'name': 'Xử phạt người điều khiển xe đạp, xe ...  \n5   {'name': 'Xử phạt người điều khiển xe mô tô, x...  \n6   {'name': 'Xử phạt người điều khiển xe mô tô, x...  \n7   {'name': 'Xử phạt người điều khiển xe mô tô, x...  \n8   {'name': 'Tạm giữ tang vật, phương tiện, giấy ...  \n9   {'name': 'Xử phạt người điều khiển xe mô tô, x...  \n10  {'name': 'Điều 6. Xử phạt người điều khiển xe ...  \n11  {'name': 'Xử phạt người điều khiển xe mô tô, x...  \n12  {'name': 'Xử phạt người điều khiển xe mô tô, x...  \n13  {'name': 'b) Điểm b, điểm c khoản 6; điểm c kh...  \n14  {'name': 'c) Thực hiện hành vi quy định tại đi...  \n15  {'name': 'Xử phạt người điều khiển xe mô tô, x...  \n16  {'name': 'Tạm giữ tang vật, phương tiện, giấy ...  \n17  {'name': 'Xử phạt người điều khiển xe mô tô, x...  \n18  {'name': 'Tình tiết tăng nặng', 'content': ['8...  \n19  {'name': 'Giải thích từ ngữ', 'content': ['..'...  ",
      "text/html": "<div>\n<style scoped>\n    .dataframe tbody tr th:only-of-type {\n        vertical-align: middle;\n    }\n\n    .dataframe tbody tr th {\n        vertical-align: top;\n    }\n\n    .dataframe thead th {\n        text-align: right;\n    }\n</style>\n<table border=\"1\" class=\"dataframe\">\n  <thead>\n    <tr style=\"text-align: right;\">\n      <th></th>\n      <th>_id</th>\n      <th>title</th>\n      <th>conclusion</th>\n      <th>reference</th>\n      <th>quote</th>\n    </tr>\n  </thead>\n  <tbody>\n    <tr>\n      <th>0</th>\n      <td>6663561bc2f544363eea95c7</td>\n      <td>Giao xe máy cho người có nồng độ cồn trong ngư...</td>\n      <td>[Nếu bạn giao xe máy của bạn cho đồng nghiệp n...</td>\n      <td>Tại khoản 5 Điều 30 Nghị định 100/2019/NĐ-CP đ...</td>\n      <td>{'name': 'đ) Giao xe hoặc để cho người không đ...</td>\n    </tr>\n    <tr>\n      <th>1</th>\n      <td>6663568cc2f544363eec07a5</td>\n      <td>Lỗi nồng độ cồn xe máy có bị giam xe không?</td>\n      <td>[Theo đó, người điều khiển xe trên đường mà tr...</td>\n      <td>Căn cứ khoản 1 Điều 82 Nghị định 100/2019/NĐ-C...</td>\n      <td>{'name': 'b) Điểm b, điểm c khoản 6; điểm c kh...</td>\n    </tr>\n    <tr>\n      <th>2</th>\n      <td>6663569ac2f544363eec2d7c</td>\n      <td>Người lái xe máy vi phạm lỗi nồng độ cồn có bị...</td>\n      <td>[Với quy định này, người lái xe máy vi phạm lỗ...</td>\n      <td>Căn cứ theo khoản 1 Điều 82 Nghị định 100/2019...</td>\n      <td>{'name': 'Tạm giữ phương tiện, giấy tờ có liên...</td>\n    </tr>\n    <tr>\n      <th>3</th>\n      <td>6663569ac2f544363eec2d7d</td>\n      <td>Người vi phạm nồng độ cồn bị giữ xe máy trong ...</td>\n      <td>[Theo đó, thời hạn tạm giữ xe vi phạm nồng độ ...</td>\n      <td>Căn cứ theo khoản 8 Điều 125 Luật Xử lý vi phạ...</td>\n      <td>{'name': 'Tạm giữ tang vật, phương tiện, giấy ...</td>\n    </tr>\n    <tr>\n      <th>4</th>\n      <td>6663569bc2f544363eec3692</td>\n      <td>Mức phạt với hành vi vi phạm nồng độ cồn của x...</td>\n      <td>[Như vậy, mức phạt đối với người điều khiển xe...</td>\n      <td>Căn cứ tại điểm q khoản 1, điểm e khoản 3, điể...</td>\n      <td>{'name': 'Xử phạt người điều khiển xe đạp, xe ...</td>\n    </tr>\n    <tr>\n      <th>5</th>\n      <td>6663569cc2f544363eec42d8</td>\n      <td>Lỗi vi phạm về nồng độ cồn khi điều khiển xe m...</td>\n      <td>[Theo đó, khi xử phạt sẽ dựa trên nồng độ cồn ...</td>\n      <td>Căn cứ theo khoản 6, 7, 8 Điều 6 Nghị định 100...</td>\n      <td>{'name': 'Xử phạt người điều khiển xe mô tô, x...</td>\n    </tr>\n    <tr>\n      <th>6</th>\n      <td>6663569dc2f544363eec513d</td>\n      <td>Mức phạt nồng độ cồn đối với người điều khiển ...</td>\n      <td>[Như vậy, người điều khiển xe máy mà trong máu...</td>\n      <td>Căn cứ điểm c khoản 6; điểm c khoản 7; điểm e ...</td>\n      <td>{'name': 'Xử phạt người điều khiển xe mô tô, x...</td>\n    </tr>\n    <tr>\n      <th>7</th>\n      <td>6663569dc2f544363eec5f6a</td>\n      <td>Mức phạt nồng độ cồn xe máy năm 2024 là bao nh...</td>\n      <td>[Như vậy, mức phạt nồng độ cồn hiện nay được q...</td>\n      <td>Tại khoản 6 Điều 6 Nghị định 100/2019/NĐ-CP sử...</td>\n      <td>{'name': 'Xử phạt người điều khiển xe mô tô, x...</td>\n    </tr>\n    <tr>\n      <th>8</th>\n      <td>6663569dc2f544363eec5f6b</td>\n      <td>Vi phạm nồng độ cồn bị tạm giữ xe máy bao nhiê...</td>\n      <td>[Như vậy, thời hạn tạm giữ xe đối với hành vi ...</td>\n      <td>Tại khoản 1 Điều 82 Nghị định 100/2019/NĐ-CP đ...</td>\n      <td>{'name': 'Tạm giữ tang vật, phương tiện, giấy ...</td>\n    </tr>\n    <tr>\n      <th>9</th>\n      <td>6663569dc2f544363eec60d5</td>\n      <td>Nồng độ cồn bao nhiêu thì bị giữ xe máy?</td>\n      <td>[Theo đó, người điều khiển có thể bị tạm giữ x...</td>\n      <td>Tại Điều 82 Nghị định 100/2019/NĐ-CP được sửa ...</td>\n      <td>{'name': 'Xử phạt người điều khiển xe mô tô, x...</td>\n    </tr>\n    <tr>\n      <th>10</th>\n      <td>6663569dc2f544363eec60d6</td>\n      <td>Mức phạt nồng độ cồn xe máy thấp nhất là bao n...</td>\n      <td>[Như vậy, mức phạt nồng độ cồn xe máy thấp nhấ...</td>\n      <td>Tại khoản 6 Điều 6 Nghị định 100/2019/NĐ-CP sử...</td>\n      <td>{'name': 'Điều 6. Xử phạt người điều khiển xe ...</td>\n    </tr>\n    <tr>\n      <th>11</th>\n      <td>6663569ec2f544363eec6808</td>\n      <td>Tài xế lái xe máy không chấp hành yêu cầu thổi...</td>\n      <td>[Theo đó, tài xế lái xe máy không chấp hành yê...</td>\n      <td>Căn cứ theo khoản 8, 10 Điều 6 Nghị định 100/2...</td>\n      <td>{'name': 'Xử phạt người điều khiển xe mô tô, x...</td>\n    </tr>\n    <tr>\n      <th>12</th>\n      <td>6663569ec2f544363eec719e</td>\n      <td>Điều khiển xe máy có nồng độ cồn bị phạt vi ph...</td>\n      <td>[Theo đó, khi điểu khiển xe máy tham gia giao ...</td>\n      <td>Theo Điều 6 Nghị định 100/2019/NĐ-CP quy định ...</td>\n      <td>{'name': 'Xử phạt người điều khiển xe mô tô, x...</td>\n    </tr>\n    <tr>\n      <th>13</th>\n      <td>6663569ec2f544363eec719f</td>\n      <td>Điều khiển xe máy có nồng độ cồn bị tạm giữ xe...</td>\n      <td>[Theo đó, khi điều khiển xe máy tham gia giao ...</td>\n      <td>Theo Điều 82 Nghị định 100/2019/NĐ-CP được sửa...</td>\n      <td>{'name': 'b) Điểm b, điểm c khoản 6; điểm c kh...</td>\n    </tr>\n    <tr>\n      <th>14</th>\n      <td>6663569fc2f544363eec7bb6</td>\n      <td>Người đi xe máy vượt đèn đỏ bị phạt bao nhiêu ...</td>\n      <td>[Theo đó, đi xe máy vượt đèn đỏ là hành vi vi ...</td>\n      <td>Căn cứ theo điểm b khoản 3 Điều 10 Luật Giao t...</td>\n      <td>{'name': 'c) Thực hiện hành vi quy định tại đi...</td>\n    </tr>\n    <tr>\n      <th>15</th>\n      <td>6663569fc2f544363eec817c</td>\n      <td>Lái xe máy với nồng độ cồn bao nhiêu thì bị phạt?</td>\n      <td>[Theo đó, với nồng độ cồn khác nhau khi lái xe...</td>\n      <td>Căn cứ theo Điều 6 Nghị định 100/2019/NĐ-CP qu...</td>\n      <td>{'name': 'Xử phạt người điều khiển xe mô tô, x...</td>\n    </tr>\n    <tr>\n      <th>16</th>\n      <td>6663569fc2f544363eec817d</td>\n      <td>Vi phạm nồng độ cồn bị tạm giữ xe máy trong ba...</td>\n      <td>[Thông qua căn cứ trên, trường hợp người lái x...</td>\n      <td>Căn cứ theo khoản 1 Điều 82 Nghị định 100/2019...</td>\n      <td>{'name': 'Tạm giữ tang vật, phương tiện, giấy ...</td>\n    </tr>\n    <tr>\n      <th>17</th>\n      <td>6663569fc2f544363eec841d</td>\n      <td>Người đi xe máy vi phạm nồng độ cồn bao nhiêu ...</td>\n      <td>[Như vậy, tùy từng trường hợp mà người đi xe m...</td>\n      <td>Căn cứ theo điểm c khoản 6, điểm c khoản 7, đi...</td>\n      <td>{'name': 'Xử phạt người điều khiển xe mô tô, x...</td>\n    </tr>\n    <tr>\n      <th>18</th>\n      <td>6663569fc2f544363eec84dc</td>\n      <td>Người đi xe máy vi phạm nồng độ cồn nhiều lần ...</td>\n      <td>[Theo đó, người đi xe máy mà trong máu hoặc hơ...</td>\n      <td>Căn cứ theo điểm e khoản 8, điểm g khoản 10 Đi...</td>\n      <td>{'name': 'Tình tiết tăng nặng', 'content': ['8...</td>\n    </tr>\n    <tr>\n      <th>19</th>\n      <td>66635739c2f544363eee90b5</td>\n      <td>Dắt bộ xe máy đi về sau khi sử dụng rượu bia b...</td>\n      <td>[Như vậy, người dắt bộ xe máy đi về không thuộ...</td>\n      <td>Căn cứ theo khoản 6 Điều 5 Luật Phòng, chống t...</td>\n      <td>{'name': 'Giải thích từ ngữ', 'content': ['..'...</td>\n    </tr>\n  </tbody>\n</table>\n</div>"
     },
     "execution_count": 64,
     "metadata": {},
     "output_type": "execute_result"
    }
   ],
   "source": [
    "selected_rows"
   ],
   "metadata": {
    "collapsed": false,
    "ExecuteTime": {
     "start_time": "2024-06-26T16:46:23.391955Z",
     "end_time": "2024-06-26T16:46:23.425393Z"
    }
   }
  },
  {
   "cell_type": "code",
   "execution_count": 65,
   "outputs": [],
   "source": [
    "def merge_quote(quote):\n",
    "    if isinstance(quote, dict):\n",
    "        name = quote.get('name', ' ')\n",
    "        content = ' '.join(quote.get('content', []))\n",
    "\n",
    "        if name is None:\n",
    "            name = ' '\n",
    "        if content is None:\n",
    "            content = ' '\n",
    "\n",
    "        return f\"{name}. {content}\"\n",
    "    else:\n",
    "        return None\n",
    "\n",
    "selected_rows['conclusion'] = selected_rows.apply(lambda row: merge_quote(row['quote']) if row['conclusion'] == [] else row['conclusion'], axis=1)"
   ],
   "metadata": {
    "collapsed": false,
    "ExecuteTime": {
     "start_time": "2024-06-26T16:46:23.405334Z",
     "end_time": "2024-06-26T16:46:23.436395Z"
    }
   }
  },
  {
   "cell_type": "code",
   "execution_count": 66,
   "outputs": [],
   "source": [
    "def count_tokens(text):\n",
    "    tokens = tokenizer.tokenize(text)\n",
    "    return len(tokens)"
   ],
   "metadata": {
    "collapsed": false,
    "ExecuteTime": {
     "start_time": "2024-06-26T16:46:23.409342Z",
     "end_time": "2024-06-26T16:46:23.437387Z"
    }
   }
  },
  {
   "cell_type": "code",
   "execution_count": 67,
   "outputs": [],
   "source": [
    "def create_answer(row):\n",
    "    conclusion_value = row['conclusion']\n",
    "\n",
    "    if isinstance(conclusion_value, list):\n",
    "        conclusion_value = ' '.join(conclusion_value)\n",
    "    elif pd.isna(conclusion_value):\n",
    "        conclusion_value = ''\n",
    "\n",
    "    quote_value= ''\n",
    "    if not pd.isna(row['quote']):\n",
    "        reference = row['reference'] if not pd.isna(row['reference']) else ''\n",
    "        merged_quote = merge_quote(row['quote'])\n",
    "        quote_value = f\"{reference} {merged_quote}\"\n",
    "\n",
    "    conclusion_tokens = count_tokens(conclusion_value)\n",
    "    quote_tokens = count_tokens(quote_value)\n",
    "\n",
    "    if conclusion_tokens >= quote_tokens:\n",
    "        return conclusion_value\n",
    "    else:\n",
    "        return quote_value\n",
    "\n",
    "selected_rows['answer'] = selected_rows.apply(create_answer, axis=1)"
   ],
   "metadata": {
    "collapsed": false,
    "ExecuteTime": {
     "start_time": "2024-06-26T16:46:23.418164Z",
     "end_time": "2024-06-26T16:46:23.468730Z"
    }
   }
  },
  {
   "cell_type": "code",
   "execution_count": 68,
   "outputs": [],
   "source": [
    "answers = selected_rows['answer'].tolist()"
   ],
   "metadata": {
    "collapsed": false,
    "ExecuteTime": {
     "start_time": "2024-06-26T16:46:23.461196Z",
     "end_time": "2024-06-26T16:46:23.468730Z"
    }
   }
  },
  {
   "cell_type": "code",
   "execution_count": 69,
   "outputs": [],
   "source": [
    "query_answer_pairs = [(query, answer) for answer in answers]"
   ],
   "metadata": {
    "collapsed": false,
    "ExecuteTime": {
     "start_time": "2024-06-26T16:46:23.464749Z",
     "end_time": "2024-06-26T16:46:23.482671Z"
    }
   }
  },
  {
   "cell_type": "code",
   "execution_count": 70,
   "outputs": [
    {
     "data": {
      "text/plain": "Batches:   0%|          | 0/1 [00:00<?, ?it/s]",
      "application/vnd.jupyter.widget-view+json": {
       "version_major": 2,
       "version_minor": 0,
       "model_id": "2a105d8f2a8f440ebf9f3e86021a794e"
      }
     },
     "metadata": {},
     "output_type": "display_data"
    }
   ],
   "source": [
    "scores = model_cross_encoder.predict(query_answer_pairs, show_progress_bar=True)"
   ],
   "metadata": {
    "collapsed": false,
    "ExecuteTime": {
     "start_time": "2024-06-26T16:46:23.473611Z",
     "end_time": "2024-06-26T16:46:25.917697Z"
    }
   }
  },
  {
   "cell_type": "code",
   "execution_count": 71,
   "outputs": [
    {
     "name": "stdout",
     "output_type": "stream",
     "text": [
      "ID: 6663561bc2f544363eea95c7, Title: Giao xe máy cho người có nồng độ cồn trong người điều khiển bị phạt bao nhiêu tiền?, Answer_Score: 0.9837\n",
      "ID: 6663568cc2f544363eec07a5, Title: Lỗi nồng độ cồn xe máy có bị giam xe không?, Answer_Score: 0.5825\n",
      "ID: 6663569ac2f544363eec2d7c, Title: Người lái xe máy vi phạm lỗi nồng độ cồn có bị tạm giữ xe máy không?, Answer_Score: 0.7106\n",
      "ID: 6663569ac2f544363eec2d7d, Title: Người vi phạm nồng độ cồn bị giữ xe máy trong bao lâu?, Answer_Score: 0.8239\n",
      "ID: 6663569bc2f544363eec3692, Title: Mức phạt với hành vi vi phạm nồng độ cồn của xe đạp điện là bao nhiêu?, Answer_Score: 0.9919\n",
      "ID: 6663569cc2f544363eec42d8, Title: Lỗi vi phạm về nồng độ cồn khi điều khiển xe máy tham gia giao thông phạt bao nhiêu tiền?, Answer_Score: 0.9949\n",
      "ID: 6663569dc2f544363eec513d, Title: Mức phạt nồng độ cồn đối với người điều khiển xe máy năm 2024 là bao nhiêu?, Answer_Score: 0.9920\n",
      "ID: 6663569dc2f544363eec5f6a, Title: Mức phạt nồng độ cồn xe máy năm 2024 là bao nhiêu?, Answer_Score: 0.9977\n",
      "ID: 6663569dc2f544363eec5f6b, Title: Vi phạm nồng độ cồn bị tạm giữ xe máy bao nhiêu lâu?, Answer_Score: 0.6108\n",
      "ID: 6663569dc2f544363eec60d5, Title: Nồng độ cồn bao nhiêu thì bị giữ xe máy?, Answer_Score: 0.9960\n",
      "ID: 6663569dc2f544363eec60d6, Title: Mức phạt nồng độ cồn xe máy thấp nhất là bao nhiêu?, Answer_Score: 0.9974\n",
      "ID: 6663569ec2f544363eec6808, Title: Tài xế lái xe máy không chấp hành yêu cầu thổi nồng độ cồn sẽ phạt như thế nào?, Answer_Score: 0.8859\n",
      "ID: 6663569ec2f544363eec719e, Title: Điều khiển xe máy có nồng độ cồn bị phạt vi phạm hành chính bao nhiêu tiền?, Answer_Score: 0.9965\n",
      "ID: 6663569ec2f544363eec719f, Title: Điều khiển xe máy có nồng độ cồn bị tạm giữ xe và bằng lái có đúng không?, Answer_Score: 0.7652\n",
      "ID: 6663569fc2f544363eec7bb6, Title: Người đi xe máy vượt đèn đỏ bị phạt bao nhiêu tiền?, Answer_Score: 0.5991\n",
      "ID: 6663569fc2f544363eec817c, Title: Lái xe máy với nồng độ cồn bao nhiêu thì bị phạt?, Answer_Score: 0.9958\n",
      "ID: 6663569fc2f544363eec817d, Title: Vi phạm nồng độ cồn bị tạm giữ xe máy trong bao lâu?, Answer_Score: 0.5688\n",
      "ID: 6663569fc2f544363eec841d, Title: Người đi xe máy vi phạm nồng độ cồn bao nhiêu thì bị tước bằng lái xe năm 2024?, Answer_Score: 0.9933\n",
      "ID: 6663569fc2f544363eec84dc, Title: Người đi xe máy vi phạm nồng độ cồn nhiều lần có thể bị phạt cao nhất bao nhiêu tiền?, Answer_Score: 0.9909\n",
      "ID: 66635739c2f544363eee90b5, Title: Dắt bộ xe máy đi về sau khi sử dụng rượu bia bị có bị xử phạt vi phạm nồng độ cồn không?, Answer_Score: 0.9885\n"
     ]
    }
   ],
   "source": [
    "final_top_docs_cross_encoder = []\n",
    "for index, row in selected_rows.iterrows():\n",
    "    doc_id = row['_id']\n",
    "    title = row['title']\n",
    "    score = scores[index]\n",
    "    print(f\"ID: {doc_id}, Title: {title}, Answer_Score: {score:.4f}\")\n",
    "    final_top_docs_cross_encoder.append({'id': doc_id, 'title': title, 'cross_encoder_score': score})"
   ],
   "metadata": {
    "collapsed": false,
    "ExecuteTime": {
     "start_time": "2024-06-26T16:46:25.916694Z",
     "end_time": "2024-06-26T16:46:25.979998Z"
    }
   }
  },
  {
   "cell_type": "markdown",
   "source": [
    "# Ensemble"
   ],
   "metadata": {
    "collapsed": false
   }
  },
  {
   "cell_type": "code",
   "execution_count": 72,
   "outputs": [],
   "source": [
    "for record in final_top_docs_cross_encoder:\n",
    "    doc_id = str(record['id'])\n",
    "    if doc_id not in final_ensemble:\n",
    "        final_ensemble[doc_id] = {'id': doc_id}\n",
    "    final_ensemble[doc_id]['cross_encoder_score'] = record['cross_encoder_score']"
   ],
   "metadata": {
    "collapsed": false,
    "ExecuteTime": {
     "start_time": "2024-06-26T16:46:25.955913Z",
     "end_time": "2024-06-26T16:46:25.979998Z"
    }
   }
  },
  {
   "cell_type": "code",
   "execution_count": 73,
   "outputs": [],
   "source": [
    "alpha = 0.6\n",
    "def calculate_ensemble_score(bm25_score, bi_encoder_score, cross_encoder_score):\n",
    "    return (1-alpha) * bm25_score + alpha * math.sqrt(bi_encoder_score * cross_encoder_score)"
   ],
   "metadata": {
    "collapsed": false,
    "ExecuteTime": {
     "start_time": "2024-06-26T16:46:25.960903Z",
     "end_time": "2024-06-26T16:46:25.980993Z"
    }
   }
  },
  {
   "cell_type": "code",
   "execution_count": 74,
   "outputs": [],
   "source": [
    "final_combined_scores = {}"
   ],
   "metadata": {
    "collapsed": false,
    "ExecuteTime": {
     "start_time": "2024-06-26T16:46:25.969949Z",
     "end_time": "2024-06-26T16:46:25.986996Z"
    }
   }
  },
  {
   "cell_type": "code",
   "execution_count": 75,
   "outputs": [
    {
     "name": "stdout",
     "output_type": "stream",
     "text": [
      "ID: 6663569fc2f544363eec84dc, BM25: 1.0, Bi-encoder: 0.7421891689300537, Cross-encoder: 0.9909096360206604\n",
      "ID: 6663569ec2f544363eec719e, BM25: 0.9466381207919402, Bi-encoder: 0.9253069162368774, Cross-encoder: 0.9964761137962341\n",
      "ID: 6663569dc2f544363eec60d6, BM25: 0.9441759733581829, Bi-encoder: 0.7686600685119629, Cross-encoder: 0.9974090456962585\n",
      "ID: 6663569dc2f544363eec5f6b, BM25: 0.9275717526837881, Bi-encoder: 0.7314245104789734, Cross-encoder: 0.6107956767082214\n",
      "ID: 6663569dc2f544363eec5f6a, BM25: 0.9162041546805668, Bi-encoder: 0.6951665878295898, Cross-encoder: 0.9977487921714783\n",
      "ID: 6663569ac2f544363eec2d7d, BM25: 0.9150344557576421, Bi-encoder: 0.732483983039856, Cross-encoder: 0.8238816261291504\n",
      "ID: 6663569dc2f544363eec60d5, BM25: 0.9139178959855253, Bi-encoder: 0.7686067819595337, Cross-encoder: 0.9959509372711182\n",
      "ID: 6663569fc2f544363eec841d, BM25: 0.9137198065222669, Bi-encoder: 0.6933384537696838, Cross-encoder: 0.9933494925498962\n",
      "ID: 6663561bc2f544363eea95c7, BM25: 0.9135861165227676, Bi-encoder: 0.761540412902832, Cross-encoder: 0.9836817979812622\n",
      "ID: 6663569cc2f544363eec42d8, BM25: 0.9043960439059076, Bi-encoder: 0.8805090188980103, Cross-encoder: 0.9948599338531494\n",
      "ID: 6663569fc2f544363eec817d, BM25: 0.8889982221037888, Bi-encoder: 0.7169914245605469, Cross-encoder: 0.5687867999076843\n",
      "ID: 66635739c2f544363eee90b5, BM25: 0.8815553779432788, Bi-encoder: 0.6648126840591431, Cross-encoder: 0.988471269607544\n",
      "ID: 6663569ac2f544363eec2d7c, BM25: 0.8792626424036756, Bi-encoder: 0.8306228518486023, Cross-encoder: 0.7106451392173767\n",
      "ID: 6663569dc2f544363eec513d, BM25: 0.8701007037222105, Bi-encoder: 0.6765778660774231, Cross-encoder: 0.991974413394928\n",
      "ID: 6663569fc2f544363eec817c, BM25: 0.8532675687205461, Bi-encoder: 0.8950110673904419, Cross-encoder: 0.9957711100578308\n",
      "ID: 6663569bc2f544363eec3692, BM25: 0.853070721245936, Bi-encoder: 0.6618512868881226, Cross-encoder: 0.9918671250343323\n",
      "ID: 6663568cc2f544363eec07a5, BM25: 0.8234202223136458, Bi-encoder: 0.74815833568573, Cross-encoder: 0.5825207233428955\n",
      "ID: 6663569fc2f544363eec7bb6, BM25: 0.8139526843326188, Bi-encoder: 0.7694392800331116, Cross-encoder: 0.599128246307373\n",
      "ID: 6663569ec2f544363eec719f, BM25: 0.8047116499577669, Bi-encoder: 0.6879281997680664, Cross-encoder: 0.7652032971382141\n",
      "ID: 6663569ec2f544363eec6808, BM25: 0.8031983810794359, Bi-encoder: 0.733032763004303, Cross-encoder: 0.8859258890151978\n",
      "ID: 6663569ac2f544363eec29d2, BM25: 0.8031983810794359, Bi-encoder: 0.6805011034011841, Cross-encoder: None\n"
     ]
    }
   ],
   "source": [
    "for doc_id, scores in final_ensemble.items():\n",
    "    cross_encoder_score = scores.get('cross_encoder_score', None)\n",
    "    bm25_score = scores.get('bm25_score', None)\n",
    "    bi_encoder_score = scores.get('bi_encoder_score', None)\n",
    "    print(f\"ID: {doc_id}, BM25: {bm25_score}, Bi-encoder: {bi_encoder_score}, Cross-encoder: {cross_encoder_score}\")\n",
    "\n",
    "    if cross_encoder_score is not None and bm25_score is not None and bi_encoder_score is not None:\n",
    "        final_combined_scores[doc_id] = calculate_ensemble_score(bm25_score, bi_encoder_score, cross_encoder_score)"
   ],
   "metadata": {
    "collapsed": false,
    "ExecuteTime": {
     "start_time": "2024-06-26T16:46:25.984994Z",
     "end_time": "2024-06-26T16:46:26.001809Z"
    }
   }
  },
  {
   "cell_type": "code",
   "execution_count": 78,
   "outputs": [],
   "source": [
    "final_combined_scores = sorted(final_combined_scores.items(), key=lambda x: x[1], reverse=True)"
   ],
   "metadata": {
    "collapsed": false,
    "ExecuteTime": {
     "start_time": "2024-06-26T16:48:54.275047Z",
     "end_time": "2024-06-26T16:48:54.280050Z"
    }
   }
  },
  {
   "cell_type": "code",
   "execution_count": 79,
   "outputs": [
    {
     "data": {
      "text/plain": "[('6663569ec2f544363eec719e', 0.9547946827352146),\n ('6663569cc2f544363eec42d8', 0.9233222365926965),\n ('6663569fc2f544363eec84dc', 0.9145476304408656),\n ('6663569fc2f544363eec817c', 0.9077356832613825),\n ('6663569dc2f544363eec60d6', 0.903028038441285),\n ('6663569dc2f544363eec60d5', 0.8905224632260362),\n ('6663561bc2f544363eea95c7', 0.8847424848531726),\n ('6663569dc2f544363eec5f6a', 0.8661781487314923),\n ('6663569fc2f544363eec841d', 0.8634255255113963),\n ('6663569dc2f544363eec513d', 0.8395819982490089),\n ('66635739c2f544363eee90b5', 0.8390102340070982),\n ('6663569ac2f544363eec2d7d', 0.8321176722540172),\n ('6663569bc2f544363eec3692', 0.8273647547565525),\n ('6663569ac2f544363eec2d7c', 0.8126824013686896),\n ('6663569ec2f544363eec6808', 0.8047962280147691),\n ('6663569dc2f544363eec5f6b', 0.772065280454064),\n ('6663569ec2f544363eec719f', 0.7572072647332523),\n ('6663569fc2f544363eec817d', 0.7387617729115047),\n ('6663569fc2f544363eec7bb6', 0.7329597829456506),\n ('6663568cc2f544363eec07a5', 0.7254670530631413)]"
     },
     "execution_count": 79,
     "metadata": {},
     "output_type": "execute_result"
    }
   ],
   "source": [
    "final_combined_scores"
   ],
   "metadata": {
    "collapsed": false,
    "ExecuteTime": {
     "start_time": "2024-06-26T16:48:59.878709Z",
     "end_time": "2024-06-26T16:48:59.939605Z"
    }
   }
  },
  {
   "cell_type": "code",
   "execution_count": 12,
   "outputs": [],
   "source": [
    "with open(\"output/log.txt\", 'r') as file:\n",
    "    lines = file.readlines()"
   ],
   "metadata": {
    "collapsed": false,
    "ExecuteTime": {
     "start_time": "2024-06-26T22:19:54.137648Z",
     "end_time": "2024-06-26T22:19:54.142679Z"
    }
   }
  },
  {
   "cell_type": "code",
   "execution_count": 13,
   "outputs": [],
   "source": [
    "timestamps_list = [list(map(float, line.strip().split(','))) for line in lines]"
   ],
   "metadata": {
    "collapsed": false,
    "ExecuteTime": {
     "start_time": "2024-06-26T22:19:54.779346Z",
     "end_time": "2024-06-26T22:19:54.792995Z"
    }
   }
  },
  {
   "cell_type": "code",
   "execution_count": 14,
   "outputs": [],
   "source": [
    "durations = {\n",
    "    \"bm25_duration\": [],\n",
    "    \"bi_encoder_duration\": [],\n",
    "    \"cross_encoder_duration\": [],\n",
    "    \"ensemble_duration\": [],\n",
    "    \"fetch_answer_duration\": [],\n",
    "    \"system_duration\": []\n",
    "}\n",
    "\n",
    "for timestamps in timestamps_list:\n",
    "    durations[\"bm25_duration\"].append(timestamps[0])\n",
    "    durations[\"bi_encoder_duration\"].append(timestamps[1] - timestamps[0])\n",
    "    durations[\"cross_encoder_duration\"].append(timestamps[2] - timestamps[1])\n",
    "    durations[\"ensemble_duration\"].append(timestamps[3] - timestamps[2])\n",
    "    durations[\"fetch_answer_duration\"].append(timestamps[4] - timestamps[3])\n",
    "    durations[\"system_duration\"].append(timestamps[4])\n",
    "\n",
    "average_durations = {key: sum(values)/len(values) for key, values in durations.items()}"
   ],
   "metadata": {
    "collapsed": false,
    "ExecuteTime": {
     "start_time": "2024-06-26T22:19:55.381301Z",
     "end_time": "2024-06-26T22:19:55.387324Z"
    }
   }
  },
  {
   "cell_type": "code",
   "execution_count": 17,
   "outputs": [
    {
     "name": "stdout",
     "output_type": "stream",
     "text": [
      "Average bm25 duration: 0.082932 seconds\n",
      "Average bi encoder duration: 0.071993 seconds\n",
      "Average cross encoder duration: 0.241936 seconds\n",
      "Average ensemble duration: 0.000033 seconds\n",
      "Average fetch answer duration: 0.033574 seconds\n",
      "Average system duration: 0.430469 seconds\n"
     ]
    }
   ],
   "source": [
    "for process, avg_duration in average_durations.items():\n",
    "    print(f\"Average {process.replace('_', ' ')}: {avg_duration:.6f} seconds\")"
   ],
   "metadata": {
    "collapsed": false,
    "ExecuteTime": {
     "start_time": "2024-06-26T22:20:19.663524Z",
     "end_time": "2024-06-26T22:20:19.679080Z"
    }
   }
  },
  {
   "cell_type": "code",
   "execution_count": null,
   "outputs": [],
   "source": [],
   "metadata": {
    "collapsed": false
   }
  }
 ],
 "metadata": {
  "kernelspec": {
   "display_name": "Python 3",
   "language": "python",
   "name": "python3"
  },
  "language_info": {
   "codemirror_mode": {
    "name": "ipython",
    "version": 2
   },
   "file_extension": ".py",
   "mimetype": "text/x-python",
   "name": "python",
   "nbconvert_exporter": "python",
   "pygments_lexer": "ipython2",
   "version": "2.7.6"
  }
 },
 "nbformat": 4,
 "nbformat_minor": 0
}
