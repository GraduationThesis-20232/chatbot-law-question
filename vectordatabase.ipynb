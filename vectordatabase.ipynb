{
 "cells": [
  {
   "cell_type": "code",
   "execution_count": 22,
   "metadata": {
    "collapsed": true,
    "ExecuteTime": {
     "start_time": "2024-05-26T17:29:56.262611Z",
     "end_time": "2024-05-26T17:29:56.492876Z"
    }
   },
   "outputs": [
    {
     "name": "stdout",
     "output_type": "stream",
     "text": [
      "VnCoreNLP model folder E:\\Desktop\\Python\\GraduationResearch2\\output/vncorenlp already exists! Please load VnCoreNLP from this folder!\n"
     ]
    }
   ],
   "source": [
    "import py_vncorenlp\n",
    "py_vncorenlp.download_model(save_dir='E:\\Desktop\\Python\\GraduationResearch2\\output/vncorenlp')\n",
    "# import os\n",
    "# os.environ['JAVA_HOME'] = 'C:\\Program Files\\Java\\jdk-18.0.1.1'\n",
    "rdrsegmenter = py_vncorenlp.VnCoreNLP(annotators=[\"wseg\"], save_dir='E:\\Desktop\\Python\\GraduationResearch2\\output/vncorenlp')"
   ]
  },
  {
   "cell_type": "code",
   "execution_count": 23,
   "outputs": [
    {
     "name": "stdout",
     "output_type": "stream",
     "text": [
      "['Tổ_chức nào thực_hiện trách_nhiệm thông_báo phòng_chống khi xảy ra thiên_tai']\n"
     ]
    }
   ],
   "source": [
    "text = rdrsegmenter.word_segment('Tổ chức nào thực hiện trách nhiệm thông báo phòng chống khi xảy ra thiên tai')\n",
    "print(text)"
   ],
   "metadata": {
    "collapsed": false,
    "ExecuteTime": {
     "start_time": "2024-05-26T17:29:56.489877Z",
     "end_time": "2024-05-26T17:29:56.685246Z"
    }
   }
  },
  {
   "cell_type": "code",
   "execution_count": 24,
   "outputs": [
    {
     "name": "stdout",
     "output_type": "stream",
     "text": [
      "Tổ_chức nào thực_hiện trách_nhiệm thông_báo phòng_chống khi xảy ra thiên_tai\n"
     ]
    }
   ],
   "source": [
    "from text_untils import *\n",
    "print(word_segment('Tổ chức nào thực hiện trách nhiệm thông báo phòng chống khi xảy ra thiên tai'))"
   ],
   "metadata": {
    "collapsed": false,
    "ExecuteTime": {
     "start_time": "2024-05-26T17:29:56.686247Z",
     "end_time": "2024-05-26T17:29:56.694110Z"
    }
   }
  },
  {
   "cell_type": "code",
   "execution_count": 1,
   "outputs": [],
   "source": [
    "import numpy as np\n",
    "from sklearn.metrics.pairwise import cosine_similarity\n",
    "from sentence_transformers import SentenceTransformer\n",
    "from transformers import AutoTokenizer, AutoModel\n",
    "from torch.nn.functional import cosine_similarity\n",
    "import json\n",
    "import pandas as pd\n",
    "import torch\n",
    "from text_untils import *\n",
    "import faiss\n",
    "import numpy as np"
   ],
   "metadata": {
    "collapsed": false,
    "ExecuteTime": {
     "start_time": "2024-06-26T10:02:07.528053Z",
     "end_time": "2024-06-26T10:02:20.720981Z"
    }
   }
  },
  {
   "cell_type": "code",
   "execution_count": 17,
   "outputs": [],
   "source": [
    "json_objects = []\n",
    "\n",
    "with open(\"./data/cleaned/temp.json\", 'r', encoding='utf-8') as file:\n",
    "    for line in file:\n",
    "        # Load each line as a JSON object\n",
    "        try:\n",
    "            json_object = json.loads(line)\n",
    "            json_objects.append(json_object)\n",
    "        except json.JSONDecodeError as e:\n",
    "            print(f\"Error decoding JSON: {e}\")\n",
    "\n",
    "df = pd.json_normalize(json_objects)"
   ],
   "metadata": {
    "collapsed": false,
    "ExecuteTime": {
     "start_time": "2024-05-26T17:36:38.635184Z",
     "end_time": "2024-05-26T17:36:38.894974Z"
    }
   }
  },
  {
   "cell_type": "code",
   "execution_count": 18,
   "outputs": [],
   "source": [
    "_ids = df['_id'].values\n",
    "id_to_index = {i: _id for i, _id in enumerate(_ids)}\n",
    "np.save('output/sbert/id_to_index.npy', id_to_index)"
   ],
   "metadata": {
    "collapsed": false,
    "ExecuteTime": {
     "start_time": "2024-05-26T17:36:38.897960Z",
     "end_time": "2024-05-26T17:36:38.911359Z"
    }
   }
  },
  {
   "cell_type": "code",
   "execution_count": 19,
   "outputs": [],
   "source": [
    "df['title'] = df['title'].apply(word_segment)\n",
    "sentences = df['title'].tolist()\n",
    "sentences = sentences[:1000]"
   ],
   "metadata": {
    "collapsed": false,
    "ExecuteTime": {
     "start_time": "2024-05-26T17:36:39.038620Z",
     "end_time": "2024-05-26T17:36:42.712810Z"
    }
   }
  },
  {
   "cell_type": "code",
   "execution_count": 5,
   "outputs": [],
   "source": [
    "def mean_pooling(model_output, attention_mask):\n",
    "    token_embeddings = model_output[0] #First element of model_output contains all token embeddings\n",
    "    input_mask_expanded = attention_mask.unsqueeze(-1).expand(token_embeddings.size()).float()\n",
    "    return torch.sum(token_embeddings * input_mask_expanded, 1) / torch.clamp(input_mask_expanded.sum(1), min=1e-9)"
   ],
   "metadata": {
    "collapsed": false,
    "ExecuteTime": {
     "start_time": "2024-06-26T10:04:08.315122Z",
     "end_time": "2024-06-26T10:04:08.318116Z"
    }
   }
  },
  {
   "cell_type": "code",
   "execution_count": 3,
   "outputs": [],
   "source": [
    "tokenizer = AutoTokenizer.from_pretrained('bkai-foundation-models/vietnamese-bi-encoder')\n",
    "model = AutoModel.from_pretrained('bkai-foundation-models/vietnamese-bi-encoder')\n",
    "model = model.to('cuda')"
   ],
   "metadata": {
    "collapsed": false,
    "ExecuteTime": {
     "start_time": "2024-06-26T10:03:38.046794Z",
     "end_time": "2024-06-26T10:03:41.421158Z"
    }
   }
  },
  {
   "cell_type": "code",
   "execution_count": 22,
   "outputs": [
    {
     "name": "stderr",
     "output_type": "stream",
     "text": [
      "Asking to truncate to max_length but no maximum length is provided and the model has no predefined maximum length. Default to no truncation.\n"
     ]
    }
   ],
   "source": [
    "encoded_input = tokenizer(sentences, padding=True, truncation=True, return_tensors='pt')\n",
    "encoded_input = {key: value.to('cuda') for key, value in encoded_input.items()}"
   ],
   "metadata": {
    "collapsed": false,
    "ExecuteTime": {
     "start_time": "2024-05-26T17:36:44.935868Z",
     "end_time": "2024-05-26T17:36:45.158027Z"
    }
   }
  },
  {
   "cell_type": "code",
   "execution_count": 23,
   "outputs": [],
   "source": [
    "with torch.no_grad():\n",
    "    model_output = model(**encoded_input)"
   ],
   "metadata": {
    "collapsed": false,
    "ExecuteTime": {
     "start_time": "2024-05-26T17:36:45.161027Z",
     "end_time": "2024-05-26T17:36:45.215328Z"
    }
   }
  },
  {
   "cell_type": "code",
   "execution_count": 24,
   "outputs": [],
   "source": [
    "embeddings = mean_pooling(model_output, encoded_input['attention_mask'])\n",
    "embeddings = embeddings.cpu().numpy()"
   ],
   "metadata": {
    "collapsed": false,
    "ExecuteTime": {
     "start_time": "2024-05-26T17:36:45.182333Z",
     "end_time": "2024-05-26T17:36:48.639911Z"
    }
   }
  },
  {
   "cell_type": "code",
   "execution_count": 25,
   "outputs": [
    {
     "name": "stdout",
     "output_type": "stream",
     "text": [
      "Number of vectors in index: 1000\n"
     ]
    }
   ],
   "source": [
    "embedding_size = embeddings.shape[1]\n",
    "\n",
    "index = faiss.IndexFlatIP(embedding_size)\n",
    "index.add(embeddings)\n",
    "\n",
    "print(f\"Number of vectors in index: {index.ntotal}\")\n",
    "\n",
    "# faiss.write_index(index, 'output/sbert/vector_db.bin')"
   ],
   "metadata": {
    "collapsed": false,
    "ExecuteTime": {
     "start_time": "2024-05-26T17:36:48.642913Z",
     "end_time": "2024-05-26T17:36:48.649976Z"
    }
   }
  },
  {
   "cell_type": "code",
   "execution_count": 18,
   "outputs": [],
   "source": [
    "index = faiss.read_index('output/sbert/embeddings_65k_index.index')\n",
    "\n",
    "encoded_query = tokenizer([\"Đi xe máy vi phạm nồng độ cồn bị phạt bao nhiêu tiền?\"], padding=True, truncation=True, return_tensors='pt')\n",
    "encoded_query = {key: value.to('cuda') for key, value in encoded_query.items()}\n",
    "\n",
    "with torch.no_grad():\n",
    "    model_output_query = model(**encoded_query)\n",
    "\n",
    "embeddings_query = mean_pooling(model_output_query, encoded_query['attention_mask'])\n",
    "embeddings_query = embeddings_query.cpu().numpy()\n",
    "faiss.normalize_L2(embeddings_query)"
   ],
   "metadata": {
    "collapsed": false,
    "ExecuteTime": {
     "start_time": "2024-06-26T10:09:38.303924Z",
     "end_time": "2024-06-26T10:09:38.440869Z"
    }
   }
  },
  {
   "cell_type": "code",
   "execution_count": 23,
   "outputs": [
    {
     "name": "stdout",
     "output_type": "stream",
     "text": [
      "Indices of nearest neighbors: [[28821  7849 22104 13842 42528 10532 15779 18704  4318 15166]]\n",
      "Distances of nearest neighbors: [[0.7380183  0.72621274 0.70202106 0.67678547 0.6631115  0.6554582\n",
      "  0.65165067 0.64501715 0.6448065  0.64217424]]\n"
     ]
    }
   ],
   "source": [
    "k = 10\n",
    "distances, indices = index.search(embeddings_query, k)\n",
    "\n",
    "print(f\"Indices of nearest neighbors: {indices}\")\n",
    "print(f\"Distances of nearest neighbors: {distances}\")"
   ],
   "metadata": {
    "collapsed": false,
    "ExecuteTime": {
     "start_time": "2024-06-26T10:12:11.950674Z",
     "end_time": "2024-06-26T10:12:11.993663Z"
    }
   }
  },
  {
   "cell_type": "code",
   "execution_count": 24,
   "outputs": [],
   "source": [
    "id_to_index = np.load('output/sbert/id_to_index.npy', allow_pickle=True).item()\n",
    "\n",
    "similar_ids = [id_to_index[_id] for _id in indices[0]]"
   ],
   "metadata": {
    "collapsed": false,
    "ExecuteTime": {
     "start_time": "2024-06-26T10:12:12.369625Z",
     "end_time": "2024-06-26T10:12:12.388618Z"
    }
   }
  },
  {
   "cell_type": "code",
   "execution_count": 25,
   "outputs": [
    {
     "name": "stdout",
     "output_type": "stream",
     "text": [
      "['6663569fc2f544363eec817c', '6663569dc2f544363eec60d5', '6663569ec2f544363eec719e', '6663569ac2f544363eec2d7c', '6663569ac2f544363eec2a7a', '6663569bc2f544363eec3692', '6663569cc2f544363eec42d8', '6663569ac2f544363eec258f', '6663568cc2f544363eec07a5', '6663568cc2f544363eec06a4']\n"
     ]
    }
   ],
   "source": [
    "print(similar_ids)"
   ],
   "metadata": {
    "collapsed": false,
    "ExecuteTime": {
     "start_time": "2024-06-26T10:12:12.870232Z",
     "end_time": "2024-06-26T10:12:12.893261Z"
    }
   }
  },
  {
   "cell_type": "code",
   "execution_count": 27,
   "outputs": [],
   "source": [
    "def load_docs_from_file(file_path):\n",
    "    docs = []\n",
    "    with open(file_path, 'r', encoding='utf-8') as file:\n",
    "        for line in file:\n",
    "            try:\n",
    "                doc = json.loads(line)\n",
    "                docs.append(doc)\n",
    "            except json.JSONDecodeError:\n",
    "                continue\n",
    "\n",
    "    return docs\n",
    "\n",
    "docs = load_docs_from_file('output/bm25/bm25_65k_questions_new/docs.jsonl')"
   ],
   "metadata": {
    "collapsed": false,
    "ExecuteTime": {
     "start_time": "2024-06-26T10:15:53.584000Z",
     "end_time": "2024-06-26T10:15:53.759170Z"
    }
   }
  },
  {
   "cell_type": "code",
   "execution_count": 30,
   "outputs": [
    {
     "name": "stdout",
     "output_type": "stream",
     "text": [
      "[{'id': '6663569fc2f544363eec817c', 'title': 'lái_xe_máy nồng_độ cồn bao_nhiêu phạt'}, {'id': '6663569dc2f544363eec60d5', 'title': 'nồng_độ cồn bao_nhiêu xe_máy'}, {'id': '6663569ec2f544363eec719e', 'title': 'điều_khiển xe_máy nồng_độ cồn phạt vi_phạm hành_chính bao_nhiêu tiền'}, {'id': '6663569ac2f544363eec2d7c', 'title': 'lái xe_máy vi_phạm lỗi nồng_độ cồn tạm xe_máy'}, {'id': '6663569ac2f544363eec2a7a', 'title': 'nồng_độ cồn bao_nhiêu tạm xe'}, {'id': '6663569bc2f544363eec3692', 'title': 'phạt hành_vi vi_phạm nồng_độ cồn xe_đạp điện bao_nhiêu'}, {'id': '6663569cc2f544363eec42d8', 'title': 'lỗi vi_phạm nồng_độ cồn điều_khiển xe_máy tham_gia giao_thông phạt bao_nhiêu tiền'}, {'id': '6663569ac2f544363eec258f', 'title': 'điều_khiển xe_máy xe ô_tô nồng_độ cồn tạm xe'}, {'id': '6663568cc2f544363eec07a5', 'title': 'lỗi nồng_độ cồn xe_máy giam xe'}, {'id': '6663568cc2f544363eec06a4', 'title': 'điều_khiển xe_máy sử_dụng rượu_bia tham_gia giao_thông phạt bao_nhiêu tiền'}]\n"
     ]
    }
   ],
   "source": [
    "top_n_documents = [docs[idx] for idx in indices[0]]\n",
    "print(top_n_documents)"
   ],
   "metadata": {
    "collapsed": false,
    "ExecuteTime": {
     "start_time": "2024-06-26T10:17:12.949688Z",
     "end_time": "2024-06-26T10:17:12.973372Z"
    }
   }
  },
  {
   "cell_type": "code",
   "execution_count": null,
   "outputs": [],
   "source": [],
   "metadata": {
    "collapsed": false
   }
  }
 ],
 "metadata": {
  "kernelspec": {
   "display_name": "Python 3",
   "language": "python",
   "name": "python3"
  },
  "language_info": {
   "codemirror_mode": {
    "name": "ipython",
    "version": 2
   },
   "file_extension": ".py",
   "mimetype": "text/x-python",
   "name": "python",
   "nbconvert_exporter": "python",
   "pygments_lexer": "ipython2",
   "version": "2.7.6"
  }
 },
 "nbformat": 4,
 "nbformat_minor": 0
}
